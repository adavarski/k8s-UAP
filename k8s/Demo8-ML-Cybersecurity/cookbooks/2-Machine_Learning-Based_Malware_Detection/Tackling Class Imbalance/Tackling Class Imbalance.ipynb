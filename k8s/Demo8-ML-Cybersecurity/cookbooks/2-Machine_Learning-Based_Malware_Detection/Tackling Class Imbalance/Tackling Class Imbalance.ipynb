{
 "cells": [
  {
   "cell_type": "code",
   "execution_count": 2,
   "metadata": {},
   "outputs": [],
   "source": [
    "from sklearn import tree\n",
    "from sklearn.metrics import balanced_accuracy_score\n",
    "import numpy as np\n",
    "import scipy.sparse\n",
    "import collections\n",
    "\n",
    "X_train = scipy.sparse.load_npz(\"training_data.npz\")\n",
    "y_train = np.load(\"training_labels.npy\")\n",
    "X_test = scipy.sparse.load_npz(\"test_data.npz\")\n",
    "y_test = np.load(\"test_labels.npy\")"
   ]
  },
  {
   "cell_type": "code",
   "execution_count": 4,
   "metadata": {},
   "outputs": [
    {
     "name": "stdout",
     "output_type": "stream",
     "text": [
      "Counter({0: 120, 1: 11})\n",
      "0.8290229885057472\n"
     ]
    }
   ],
   "source": [
    "dt = tree.DecisionTreeClassifier()\n",
    "dt.fit(X_train, y_train)\n",
    "dt_pred = dt.predict(X_test)\n",
    "print(collections.Counter(dt_pred))\n",
    "print(balanced_accuracy_score(y_test, dt_pred))"
   ]
  },
  {
   "cell_type": "code",
   "execution_count": 5,
   "metadata": {},
   "outputs": [
    {
     "name": "stdout",
     "output_type": "stream",
     "text": [
      "Counter({0: 114, 1: 17})\n",
      "0.9913793103448276\n"
     ]
    }
   ],
   "source": [
    "dt_weighted = tree.DecisionTreeClassifier(class_weight=\"balanced\")\n",
    "dt_weighted.fit(X_train, y_train)\n",
    "dt_weighted_pred = dt_weighted.predict(X_test)\n",
    "print(collections.Counter(dt_weighted_pred))\n",
    "print(balanced_accuracy_score(y_test, dt_weighted_pred))"
   ]
  },
  {
   "cell_type": "code",
   "execution_count": 6,
   "metadata": {},
   "outputs": [],
   "source": [
    "from sklearn.utils import resample\n",
    "\n",
    "X_train_np = X_train.toarray()\n",
    "class_0_indices = [i for i, x in enumerate(y_train == 0) if x]\n",
    "class_1_indices = [i for i, x in enumerate(y_train == 1) if x]\n",
    "size_class_0 = sum(y_train == 0)\n",
    "X_train_class_0 = X_train_np[class_0_indices, :]\n",
    "y_train_class_0 = [0] * size_class_0\n",
    "X_train_class_1 = X_train_np[class_1_indices, :]"
   ]
  },
  {
   "cell_type": "code",
   "execution_count": 7,
   "metadata": {},
   "outputs": [],
   "source": [
    "X_train_class_1_resampled = resample(\n",
    "    X_train_class_1, replace=True, n_samples=size_class_0\n",
    ")\n",
    "y_train_class_1_resampled = [1] * size_class_0"
   ]
  },
  {
   "cell_type": "code",
   "execution_count": 8,
   "metadata": {},
   "outputs": [],
   "source": [
    "X_train_resampled = np.concatenate([X_train_class_0, X_train_class_1_resampled])\n",
    "y_train_resampled = y_train_class_0 + y_train_class_1_resampled"
   ]
  },
  {
   "cell_type": "code",
   "execution_count": 9,
   "metadata": {},
   "outputs": [],
   "source": [
    "from scipy import sparse\n",
    "\n",
    "X_train_resampled = sparse.csr_matrix(X_train_resampled)"
   ]
  },
  {
   "cell_type": "code",
   "execution_count": 10,
   "metadata": {},
   "outputs": [
    {
     "name": "stdout",
     "output_type": "stream",
     "text": [
      "Counter({0: 114, 1: 17})\n",
      "0.9913793103448276\n"
     ]
    }
   ],
   "source": [
    "dt_resampled = tree.DecisionTreeClassifier()\n",
    "dt_resampled.fit(X_train_resampled, y_train_resampled)\n",
    "dt_resampled_pred = dt_resampled.predict(X_test)\n",
    "print(collections.Counter(dt_resampled_pred))\n",
    "print(balanced_accuracy_score(y_test, dt_resampled_pred))"
   ]
  },
  {
   "cell_type": "code",
   "execution_count": 11,
   "metadata": {},
   "outputs": [],
   "source": [
    "X_train_np = X_train.toarray()\n",
    "class_0_indices = [i for i, x in enumerate(y_train == 0) if x]\n",
    "class_1_indices = [i for i, x in enumerate(y_train == 1) if x]\n",
    "size_class_1 = sum(y_train == 1)\n",
    "X_train_class_1 = X_train_np[class_1_indices, :]\n",
    "y_train_class_1 = [1] * size_class_1\n",
    "X_train_class_0 = X_train_np[class_0_indices, :]\n",
    "X_train_class_0_downsampled = resample(\n",
    "    X_train_class_0, replace=False, n_samples=size_class_1\n",
    ")\n",
    "y_train_class_0_downsampled = [0] * size_class_1"
   ]
  },
  {
   "cell_type": "code",
   "execution_count": 12,
   "metadata": {},
   "outputs": [],
   "source": [
    "X_train_downsampled = np.concatenate([X_train_class_1, X_train_class_0_downsampled])\n",
    "y_train_downsampled = y_train_class_1 + y_train_class_0_downsampled"
   ]
  },
  {
   "cell_type": "code",
   "execution_count": 13,
   "metadata": {},
   "outputs": [],
   "source": [
    "X_train_downsampled = sparse.csr_matrix(X_train_downsampled)"
   ]
  },
  {
   "cell_type": "code",
   "execution_count": 14,
   "metadata": {},
   "outputs": [
    {
     "name": "stdout",
     "output_type": "stream",
     "text": [
      "Counter({0: 105, 1: 26})\n",
      "0.9525862068965517\n"
     ]
    }
   ],
   "source": [
    "dt_downsampled = tree.DecisionTreeClassifier()\n",
    "dt_downsampled.fit(X_train_downsampled, y_train_downsampled)\n",
    "dt_downsampled_pred = dt_downsampled.predict(X_test)\n",
    "print(collections.Counter(dt_downsampled_pred))\n",
    "print(balanced_accuracy_score(y_test, dt_downsampled_pred))"
   ]
  },
  {
   "cell_type": "code",
   "execution_count": 15,
   "metadata": {
    "scrolled": true
   },
   "outputs": [
    {
     "name": "stderr",
     "output_type": "stream",
     "text": [
      "Using TensorFlow backend.\n",
      "c:\\users\\etsukerman\\appdata\\local\\programs\\python\\python36\\lib\\site-packages\\tensorflow\\python\\framework\\dtypes.py:516: FutureWarning: Passing (type, 1) or '1type' as a synonym of type is deprecated; in a future version of numpy, it will be understood as (type, (1,)) / '(1,)type'.\n",
      "  _np_qint8 = np.dtype([(\"qint8\", np.int8, 1)])\n",
      "c:\\users\\etsukerman\\appdata\\local\\programs\\python\\python36\\lib\\site-packages\\tensorflow\\python\\framework\\dtypes.py:517: FutureWarning: Passing (type, 1) or '1type' as a synonym of type is deprecated; in a future version of numpy, it will be understood as (type, (1,)) / '(1,)type'.\n",
      "  _np_quint8 = np.dtype([(\"quint8\", np.uint8, 1)])\n",
      "c:\\users\\etsukerman\\appdata\\local\\programs\\python\\python36\\lib\\site-packages\\tensorflow\\python\\framework\\dtypes.py:518: FutureWarning: Passing (type, 1) or '1type' as a synonym of type is deprecated; in a future version of numpy, it will be understood as (type, (1,)) / '(1,)type'.\n",
      "  _np_qint16 = np.dtype([(\"qint16\", np.int16, 1)])\n",
      "c:\\users\\etsukerman\\appdata\\local\\programs\\python\\python36\\lib\\site-packages\\tensorflow\\python\\framework\\dtypes.py:519: FutureWarning: Passing (type, 1) or '1type' as a synonym of type is deprecated; in a future version of numpy, it will be understood as (type, (1,)) / '(1,)type'.\n",
      "  _np_quint16 = np.dtype([(\"quint16\", np.uint16, 1)])\n",
      "c:\\users\\etsukerman\\appdata\\local\\programs\\python\\python36\\lib\\site-packages\\tensorflow\\python\\framework\\dtypes.py:520: FutureWarning: Passing (type, 1) or '1type' as a synonym of type is deprecated; in a future version of numpy, it will be understood as (type, (1,)) / '(1,)type'.\n",
      "  _np_qint32 = np.dtype([(\"qint32\", np.int32, 1)])\n",
      "c:\\users\\etsukerman\\appdata\\local\\programs\\python\\python36\\lib\\site-packages\\tensorflow\\python\\framework\\dtypes.py:525: FutureWarning: Passing (type, 1) or '1type' as a synonym of type is deprecated; in a future version of numpy, it will be understood as (type, (1,)) / '(1,)type'.\n",
      "  np_resource = np.dtype([(\"resource\", np.ubyte, 1)])\n",
      "c:\\users\\etsukerman\\appdata\\local\\programs\\python\\python36\\lib\\site-packages\\tensorboard\\compat\\tensorflow_stub\\dtypes.py:541: FutureWarning: Passing (type, 1) or '1type' as a synonym of type is deprecated; in a future version of numpy, it will be understood as (type, (1,)) / '(1,)type'.\n",
      "  _np_qint8 = np.dtype([(\"qint8\", np.int8, 1)])\n",
      "c:\\users\\etsukerman\\appdata\\local\\programs\\python\\python36\\lib\\site-packages\\tensorboard\\compat\\tensorflow_stub\\dtypes.py:542: FutureWarning: Passing (type, 1) or '1type' as a synonym of type is deprecated; in a future version of numpy, it will be understood as (type, (1,)) / '(1,)type'.\n",
      "  _np_quint8 = np.dtype([(\"quint8\", np.uint8, 1)])\n",
      "c:\\users\\etsukerman\\appdata\\local\\programs\\python\\python36\\lib\\site-packages\\tensorboard\\compat\\tensorflow_stub\\dtypes.py:543: FutureWarning: Passing (type, 1) or '1type' as a synonym of type is deprecated; in a future version of numpy, it will be understood as (type, (1,)) / '(1,)type'.\n",
      "  _np_qint16 = np.dtype([(\"qint16\", np.int16, 1)])\n",
      "c:\\users\\etsukerman\\appdata\\local\\programs\\python\\python36\\lib\\site-packages\\tensorboard\\compat\\tensorflow_stub\\dtypes.py:544: FutureWarning: Passing (type, 1) or '1type' as a synonym of type is deprecated; in a future version of numpy, it will be understood as (type, (1,)) / '(1,)type'.\n",
      "  _np_quint16 = np.dtype([(\"quint16\", np.uint16, 1)])\n",
      "c:\\users\\etsukerman\\appdata\\local\\programs\\python\\python36\\lib\\site-packages\\tensorboard\\compat\\tensorflow_stub\\dtypes.py:545: FutureWarning: Passing (type, 1) or '1type' as a synonym of type is deprecated; in a future version of numpy, it will be understood as (type, (1,)) / '(1,)type'.\n",
      "  _np_qint32 = np.dtype([(\"qint32\", np.int32, 1)])\n",
      "c:\\users\\etsukerman\\appdata\\local\\programs\\python\\python36\\lib\\site-packages\\tensorboard\\compat\\tensorflow_stub\\dtypes.py:550: FutureWarning: Passing (type, 1) or '1type' as a synonym of type is deprecated; in a future version of numpy, it will be understood as (type, (1,)) / '(1,)type'.\n",
      "  np_resource = np.dtype([(\"resource\", np.ubyte, 1)])\n"
     ]
    },
    {
     "name": "stdout",
     "output_type": "stream",
     "text": [
      "Counter({0: 110, 1: 21})\n",
      "0.9741379310344828\n"
     ]
    }
   ],
   "source": [
    "from imblearn.ensemble import BalancedBaggingClassifier\n",
    "\n",
    "balanced_clf = BalancedBaggingClassifier(\n",
    "    base_estimator=tree.DecisionTreeClassifier(),\n",
    "    sampling_strategy=\"auto\",\n",
    "    replacement=True,\n",
    ")\n",
    "balanced_clf.fit(X_train, y_train)\n",
    "balanced_clf_pred = balanced_clf.predict(X_test)\n",
    "print(collections.Counter(balanced_clf_pred))\n",
    "print(balanced_accuracy_score(y_test, balanced_clf_pred))"
   ]
  },
  {
   "cell_type": "code",
   "execution_count": null,
   "metadata": {},
   "outputs": [],
   "source": []
  }
 ],
 "metadata": {
  "kernelspec": {
   "display_name": "Python 3",
   "language": "python",
   "name": "python3"
  },
  "language_info": {
   "codemirror_mode": {
    "name": "ipython",
    "version": 3
   },
   "file_extension": ".py",
   "mimetype": "text/x-python",
   "name": "python",
   "nbconvert_exporter": "python",
   "pygments_lexer": "ipython3",
   "version": "3.6.8"
  }
 },
 "nbformat": 4,
 "nbformat_minor": 4
}
