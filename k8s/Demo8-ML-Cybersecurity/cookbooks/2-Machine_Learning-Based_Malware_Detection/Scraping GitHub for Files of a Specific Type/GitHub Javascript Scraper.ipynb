{
 "cells": [
  {
   "cell_type": "code",
   "execution_count": 5,
   "metadata": {},
   "outputs": [
    {
     "name": "stdout",
     "output_type": "stream",
     "text": [
      "freeCodeCamp\n",
      "vue\n",
      "react\n",
      "bootstrap\n",
      "javascript\n"
     ]
    }
   ],
   "source": [
    "import os\n",
    "from github import Github\n",
    "import base64\n",
    "\n",
    "username = \"emmanueltsukerman@gmail.com\"\n",
    "password = \"BxvcLP8pWm1q7wSTAoNk\"\n",
    "target_dir = \"C:\\\\Users\\\\ETsukerman\\\\Desktop\\\\MLforCSCookbook\\\\Chapter02\\\\Javascript\"\n",
    "g = Github(username, password)\n",
    "repositories = g.search_repositories(query=\"language:javascript\")\n",
    "n = 5\n",
    "i = 0\n",
    "for repo in repositories:\n",
    "    reponame = repo.name\n",
    "    target_dir_of_repo = target_dir + \"\\\\\" + reponame\n",
    "    print(reponame)\n",
    "    try:\n",
    "        os.mkdir(target_dir_of_repo)\n",
    "        i += 1\n",
    "        contents = repo.get_contents(\"\")\n",
    "        while len(contents) > 1:\n",
    "            file_content = contents.pop(0)\n",
    "            if file_content.type == \"dir\":\n",
    "                contents.extend(repo.get_contents(file_content.path))\n",
    "            else:\n",
    "                st = str(file_content)\n",
    "                filename = st.split('\"')[1].split('\"')[0]\n",
    "                extension = filename.split(\".\")[-1]\n",
    "                if extension == \"js\":\n",
    "                    filecontents = repo.get_contents(file_content.path)\n",
    "                    file_data = base64.b64decode(filecontents.content)\n",
    "                    filename = filename.split(\"/\")[-1]\n",
    "                    file_out = open(target_dir_of_repo + \"/\" + filename, \"wb\")\n",
    "                    file_out.write(file_data)\n",
    "    except:\n",
    "        pass\n",
    "    if i == n:\n",
    "        break"
   ]
  },
  {
   "cell_type": "code",
   "execution_count": null,
   "metadata": {},
   "outputs": [],
   "source": []
  }
 ],
 "metadata": {
  "kernelspec": {
   "display_name": "Python 3",
   "language": "python",
   "name": "python3"
  },
  "language_info": {
   "codemirror_mode": {
    "name": "ipython",
    "version": 3
   },
   "file_extension": ".py",
   "mimetype": "text/x-python",
   "name": "python",
   "nbconvert_exporter": "python",
   "pygments_lexer": "ipython3",
   "version": "3.6.8"
  }
 },
 "nbformat": 4,
 "nbformat_minor": 4
}
