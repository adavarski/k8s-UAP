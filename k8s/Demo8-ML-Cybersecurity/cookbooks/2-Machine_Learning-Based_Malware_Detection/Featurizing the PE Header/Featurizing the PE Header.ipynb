{
 "cells": [
  {
   "cell_type": "code",
   "execution_count": 2,
   "metadata": {},
   "outputs": [],
   "source": [
    "import pefile\n",
    "from os import listdir\n",
    "from os.path import isfile, join\n",
    "\n",
    "directories = [\"Benign PE Samples\", \"Malicious PE Samples\"]"
   ]
  },
  {
   "cell_type": "code",
   "execution_count": 4,
   "metadata": {},
   "outputs": [],
   "source": [
    "def get_section_names(pe):\n",
    "    \"\"\"Gets a list of section names from a PE file.\"\"\"\n",
    "    list_of_section_names = []\n",
    "    for sec in pe.sections:\n",
    "        normalized_name = sec.Name.decode().replace(\"\\x00\", \"\").lower()\n",
    "        list_of_section_names.append(normalized_name)\n",
    "    return list_of_section_names"
   ]
  },
  {
   "cell_type": "code",
   "execution_count": 6,
   "metadata": {},
   "outputs": [],
   "source": [
    "def preprocess_imports(list_of_DLLs):\n",
    "    \"\"\"Normalize the naming of the imports of a PE file.\"\"\"\n",
    "    return [x.decode().split(\".\")[0].lower() for x in list_of_DLLs]\n",
    "\n",
    "\n",
    "def get_imports(pe):\n",
    "    \"\"\"Get a list of the imports of a PE file.\"\"\"\n",
    "    list_of_imports = []\n",
    "    for entry in pe.DIRECTORY_ENTRY_IMPORT:\n",
    "        list_of_imports.append(entry.dll)\n",
    "    return preprocess_imports(list_of_imports)"
   ]
  },
  {
   "cell_type": "code",
   "execution_count": 8,
   "metadata": {},
   "outputs": [
    {
     "name": "stdout",
     "output_type": "stream",
     "text": [
      "'DOS Header magic not found.'\n",
      "Unable to obtain imports from Benign PE Samples/adamuninstall.exe\n",
      "'DOS Header magic not found.'\n",
      "Unable to obtain imports from Benign PE Samples/ADSchemaAnalyzer.exe\n",
      "'DOS Header magic not found.'\n",
      "Unable to obtain imports from Benign PE Samples/appcmd.exe\n",
      "'PE' object has no attribute 'DIRECTORY_ENTRY_IMPORT'\n",
      "Unable to obtain imports from Benign PE Samples/AppVStreamingUX.exe\n",
      "'DOS Header magic not found.'\n",
      "Unable to obtain imports from Benign PE Samples/aspnetca.exe\n",
      "'DOS Header magic not found.'\n",
      "Unable to obtain imports from Benign PE Samples/bash.exe\n",
      "'DOS Header magic not found.'\n",
      "Unable to obtain imports from Benign PE Samples/BootExpCfg.exe\n",
      "'DOS Header magic not found.'\n",
      "Unable to obtain imports from Benign PE Samples/c2wtshost.exe\n",
      "'DOS Header magic not found.'\n",
      "Unable to obtain imports from Benign PE Samples/CCG.exe\n",
      "'DOS Header magic not found.'\n",
      "Unable to obtain imports from Benign PE Samples/CExecSvc.exe\n",
      "'DOS Header magic not found.'\n",
      "Unable to obtain imports from Benign PE Samples/cmak.exe\n",
      "'DOS Header magic not found.'\n",
      "Unable to obtain imports from Benign PE Samples/csvde.exe\n",
      "'DOS Header magic not found.'\n",
      "Unable to obtain imports from Benign PE Samples/dcdiag.exe\n",
      "'DOS Header magic not found.'\n",
      "Unable to obtain imports from Benign PE Samples/dplaysvr.exe\n",
      "'DOS Header magic not found.'\n",
      "Unable to obtain imports from Benign PE Samples/dpnsvr.exe\n",
      "'DOS Header magic not found.'\n",
      "Unable to obtain imports from Benign PE Samples/dsacls.exe\n",
      "'DOS Header magic not found.'\n",
      "Unable to obtain imports from Benign PE Samples/dsamain.exe\n",
      "'DOS Header magic not found.'\n",
      "Unable to obtain imports from Benign PE Samples/dsdbutil.exe\n",
      "'DOS Header magic not found.'\n",
      "Unable to obtain imports from Benign PE Samples/dsmgmt.exe\n",
      "'DOS Header magic not found.'\n",
      "Unable to obtain imports from Benign PE Samples/eshell.exe\n",
      "'DOS Header magic not found.'\n",
      "Unable to obtain imports from Benign PE Samples/evntcmd.exe\n",
      "'DOS Header magic not found.'\n",
      "Unable to obtain imports from Benign PE Samples/evntwin.exe\n",
      "'DOS Header magic not found.'\n",
      "Unable to obtain imports from Benign PE Samples/hcsdiag.exe\n",
      "'DOS Header magic not found.'\n",
      "Unable to obtain imports from Benign PE Samples/hvc.exe\n",
      "'DOS Header magic not found.'\n",
      "Unable to obtain imports from Benign PE Samples/hvsimgr.exe\n",
      "'DOS Header magic not found.'\n",
      "Unable to obtain imports from Benign PE Samples/hvsirdpclient.exe\n",
      "'DOS Header magic not found.'\n",
      "Unable to obtain imports from Benign PE Samples/hvsirpcd.exe\n",
      "'DOS Header magic not found.'\n",
      "Unable to obtain imports from Benign PE Samples/iisreset.exe\n",
      "'DOS Header magic not found.'\n",
      "Unable to obtain imports from Benign PE Samples/iisrstas.exe\n",
      "'DOS Header magic not found.'\n",
      "Unable to obtain imports from Benign PE Samples/iissetup.exe\n",
      "'DOS Header magic not found.'\n",
      "Unable to obtain imports from Benign PE Samples/inetinfo.exe\n",
      "'DOS Header magic not found.'\n",
      "Unable to obtain imports from Benign PE Samples/InetMgr.exe\n",
      "'DOS Header magic not found.'\n",
      "Unable to obtain imports from Benign PE Samples/InetMgr6.exe\n",
      "'DOS Header magic not found.'\n",
      "Unable to obtain imports from Benign PE Samples/InspectVhdDialog.exe\n",
      "'DOS Header magic not found.'\n",
      "Unable to obtain imports from Benign PE Samples/InspectVhdDialog6.2.exe\n",
      "'DOS Header magic not found.'\n",
      "Unable to obtain imports from Benign PE Samples/InspectVhdDialog6.3.exe\n",
      "'DOS Header magic not found.'\n",
      "Unable to obtain imports from Benign PE Samples/ldifde.exe\n",
      "'DOS Header magic not found.'\n",
      "Unable to obtain imports from Benign PE Samples/ldp.exe\n",
      "'DOS Header magic not found.'\n",
      "Unable to obtain imports from Benign PE Samples/LogCollector.exe\n",
      "'DOS Header magic not found.'\n",
      "Unable to obtain imports from Benign PE Samples/lpq.exe\n",
      "'DOS Header magic not found.'\n",
      "Unable to obtain imports from Benign PE Samples/lpr.exe\n",
      "'DOS Header magic not found.'\n",
      "Unable to obtain imports from Benign PE Samples/LxRun.exe\n",
      "'utf-8' codec can't decode byte 0xd2 in position 6: invalid continuation byte\n",
      "Unable to obtain imports from Malicious PE Samples/Build.exe\n",
      "'PE' object has no attribute 'DIRECTORY_ENTRY_IMPORT'\n",
      "Unable to obtain imports from Malicious PE Samples/malware.exe\n",
      "'utf-8' codec can't decode byte 0xff in position 1: invalid start byte\n",
      "Unable to obtain imports from Malicious PE Samples/wirelesskeyview.exe\n"
     ]
    }
   ],
   "source": [
    "imports_corpus = []\n",
    "num_sections = []\n",
    "section_names = []\n",
    "for dataset_path in directories:\n",
    "    samples = [f for f in listdir(dataset_path) if isfile(join(dataset_path, f))]\n",
    "    for file in samples:\n",
    "        file_path = dataset_path + \"/\" + file\n",
    "        try:\n",
    "            pe = pefile.PE(file_path)\n",
    "            imports = get_imports(pe)\n",
    "            n_sections = len(pe.sections)\n",
    "            sec_names = get_section_names(pe)\n",
    "            imports_corpus.append(imports)\n",
    "            num_sections.append(n_sections)\n",
    "            section_names.append(sec_names)\n",
    "\n",
    "        except Exception as e:\n",
    "            print(e)\n",
    "            print(\"Unable to obtain imports from \" + file_path)"
   ]
  },
  {
   "cell_type": "code",
   "execution_count": 9,
   "metadata": {},
   "outputs": [
    {
     "name": "stdout",
     "output_type": "stream",
     "text": [
      "[['mscoree'], ['mscoree'], ['mscoree'], ['wincorlib', 'api-ms-win-eventing-provider-l1-1-0', 'api-ms-win-core-libraryloader-l1-2-0', 'api-ms-win-core-localization-l1-2-0', 'api-ms-win-core-processthreads-l1-1-0', 'api-ms-win-core-heap-l1-1-0', 'api-ms-win-core-debug-l1-1-0', 'api-ms-win-core-errorhandling-l1-1-0', 'api-ms-win-core-handle-l1-1-0', 'api-ms-win-core-synch-l1-1-0', 'api-ms-win-core-synch-l1-2-0', 'api-ms-win-core-com-l1-1-0', 'ext-ms-win-shell32-shellfolders-l1-1-0', 'api-ms-win-core-string-l1-1-0', 'api-ms-win-core-registry-l1-1-0', 'api-ms-win-core-util-l1-1-0', 'api-ms-win-core-winrt-error-l1-1-0', 'api-ms-win-core-winrt-error-l1-1-1', 'api-ms-win-core-winrt-string-l1-1-0', 'msvcrt', 'ntdll', 'api-ms-win-core-profile-l1-1-0', 'api-ms-win-core-sysinfo-l1-1-0'], ['advapi32', 'kernel32', 'msvcrt', 'ntdll', 'ole32', 'oleaut32', 'wintrust', 'fltlib', 'shell32', 'version', 'activeds']]\n",
      "[3, 3, 3, 6, 6]\n",
      "[['.text', '.rsrc', '.reloc'], ['.text', '.rsrc', '.reloc'], ['.text', '.rsrc', '.reloc'], ['.text', '.rdata', '.data', '.pdata', '.rsrc', '.reloc'], ['.text', '.rdata', '.data', '.pdata', '.rsrc', '.reloc']]\n"
     ]
    }
   ],
   "source": [
    "print(imports_corpus[0:5])\n",
    "print(num_sections[0:5])\n",
    "print(section_names[0:5])"
   ]
  },
  {
   "cell_type": "code",
   "execution_count": null,
   "metadata": {},
   "outputs": [],
   "source": []
  }
 ],
 "metadata": {
  "kernelspec": {
   "display_name": "Python 3",
   "language": "python",
   "name": "python3"
  },
  "language_info": {
   "codemirror_mode": {
    "name": "ipython",
    "version": 3
   },
   "file_extension": ".py",
   "mimetype": "text/x-python",
   "name": "python",
   "nbconvert_exporter": "python",
   "pygments_lexer": "ipython3",
   "version": "3.6.8"
  }
 },
 "nbformat": 4,
 "nbformat_minor": 4
}
