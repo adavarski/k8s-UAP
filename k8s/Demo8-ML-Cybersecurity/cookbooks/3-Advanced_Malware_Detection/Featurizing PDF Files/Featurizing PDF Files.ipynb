{
 "cells": [
  {
   "cell_type": "code",
   "execution_count": 26,
   "metadata": {},
   "outputs": [
    {
     "name": "stdout",
     "output_type": "stream",
     "text": [
      "Usage: pdfid.py [options] [pdf-file|zip-file|url|@file] ...\n",
      "Tool to test a PDF file\n",
      "\n",
      "Arguments:\n",
      "pdf-file and zip-file can be a single file, several files, and/or @file\n",
      "@file: run PDFiD on each file listed in the text file specified\n",
      "wildcards are supported\n",
      "\n",
      "Source code put in the public domain by Didier Stevens, no Copyright\n",
      "Use at your own risk\n",
      "https://DidierStevens.com\n",
      "\n",
      "Options:\n",
      "  --version             show program's version number and exit\n",
      "  -h, --help            show this help message and exit\n",
      "  -s, --scan            scan the given directory\n",
      "  -a, --all             display all the names\n",
      "  -e, --extra           display extra data, like dates\n",
      "  -f, --force           force the scan of the file, even without proper %PDF\n",
      "                        header\n",
      "  -d, --disarm          disable JavaScript and auto launch\n",
      "  -p PLUGINS, --plugins=PLUGINS\n",
      "                        plugins to load (separate plugins with a comma , ;\n",
      "                        @file supported)\n",
      "  -c, --csv             output csv data when using plugins\n",
      "  -m MINIMUMSCORE, --minimumscore=MINIMUMSCORE\n",
      "                        minimum score for plugin results output\n",
      "  -v, --verbose         verbose (will also raise catched exceptions)\n",
      "  -S SELECT, --select=SELECT\n",
      "                        selection expression\n",
      "  -n, --nozero          supress output for counts equal to zero\n",
      "  -o OUTPUT, --output=OUTPUT\n",
      "                        output to log file\n",
      "  --pluginoptions=PLUGINOPTIONS\n",
      "                        options for the plugin\n",
      "  -l, --literalfilenames\n",
      "                        take filenames literally, no wildcard matching\n",
      "  --recursedir          Recurse directories (wildcards and here files (@...)\n",
      "                        allowed)\n",
      "\n"
     ]
    }
   ],
   "source": [
    "from IPython.utils import io\n",
    "\n",
    "with io.capture_output() as captured:\n",
    "    %run -i pdfid -h\n",
    "print(captured.stdout)"
   ]
  },
  {
   "cell_type": "code",
   "execution_count": 28,
   "metadata": {},
   "outputs": [
    {
     "name": "stdout",
     "output_type": "stream",
     "text": [
      "[[153, 153, 82, 82, 2, 2, 2, 7, 0, 0, 0, 0, 0, 0, 2, 0, 0, 0, 0, 0, 0, 0], [1096, 1095, 1061, 1061, 0, 0, 2, 32, 0, 43, 0, 0, 1, 0, 1, 0, 0, 0, 0, 0, 0, 0]]\n"
     ]
    }
   ],
   "source": [
    "def PDF_to_FV(file_path):\n",
    "    \"\"\"Featurize a PDF file using pdfid.\"\"\"\n",
    "    with io.capture_output() as captured:\n",
    "        %run -i pdfid $file_path\n",
    "    out = captured.stdout\n",
    "    out1 = out.split(\"\\n\")[2:-2]\n",
    "    return [int(x.split()[-1]) for x in out1]"
   ]
  },
  {
   "cell_type": "code",
   "execution_count": 29,
   "metadata": {},
   "outputs": [
    {
     "name": "stdout",
     "output_type": "stream",
     "text": [
      "PDFSamples\\PythonBrochure.pdf\n",
      "[1096, 1095, 1061, 1061, 0, 0, 2, 32, 0, 43, 0, 0, 1, 0, 1, 0, 0, 0, 0, 0, 0, 0]\n"
     ]
    }
   ],
   "source": [
    "from os import listdir\n",
    "\n",
    "PDFs_path = \"PDFSamples\\\\\"\n",
    "\n",
    "X = []\n",
    "files = listdir(PDFs_path)\n",
    "for file in files:\n",
    "    file_path = PDFs_path + file\n",
    "    X.append(PDF_to_FV(file_path))\n",
    "print(X)"
   ]
  },
  {
   "cell_type": "code",
   "execution_count": null,
   "metadata": {},
   "outputs": [],
   "source": []
  }
 ],
 "metadata": {
  "kernelspec": {
   "display_name": "Python 3",
   "language": "python",
   "name": "python3"
  },
  "language_info": {
   "codemirror_mode": {
    "name": "ipython",
    "version": 3
   },
   "file_extension": ".py",
   "mimetype": "text/x-python",
   "name": "python",
   "nbconvert_exporter": "python",
   "pygments_lexer": "ipython3",
   "version": "3.6.8"
  }
 },
 "nbformat": 4,
 "nbformat_minor": 4
}
