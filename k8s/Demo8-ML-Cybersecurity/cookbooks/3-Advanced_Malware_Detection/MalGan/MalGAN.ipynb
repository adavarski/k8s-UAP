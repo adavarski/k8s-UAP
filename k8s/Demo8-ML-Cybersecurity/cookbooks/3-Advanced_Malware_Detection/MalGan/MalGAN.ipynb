{
 "cells": [
  {
   "cell_type": "code",
   "execution_count": null,
   "metadata": {},
   "outputs": [],
   "source": [
    "import os\n",
    "import pandas as pd\n",
    "from keras.models import load_model\n",
    "import MalGAN_utils\n",
    "import MalGAN_gen_adv_examples"
   ]
  },
  {
   "cell_type": "code",
   "execution_count": null,
   "metadata": {},
   "outputs": [],
   "source": [
    "save_path = \"MalGAN_output\"\n",
    "model_path = \"MalGAN_input/malconv.h5\"\n",
    "log_path = \"MalGAN_output/adversarial_log.csv\"\n",
    "pad_percent = 0.1\n",
    "threshold = 0.6\n",
    "step_size = 0.01\n",
    "limit = 0.\n",
    "input_samples = \"MalGAN_input/samplesIn.csv\"\n",
    "\n",
    "MalGAN_utils.limit_gpu_memory(limit)\n",
    "\n",
    "df = pd.read_csv(input_samples, header=None)\n",
    "fn_list = df[0].values\n",
    "model = load_model(model_path)\n",
    "\n",
    "adv_samples, log = MalGAN_gen_adv_examples.gen_adv_samples(model, fn_list, pad_percent, step_size, threshold)\n",
    "\n",
    "log.save(log_path)\n",
    "for fn, adv in zip(fn_list, adv_samples):\n",
    "    _fn = fn.split('/')[-1]\n",
    "    dst = os.path.join(save_path, _fn)\n",
    "    print(dst)\n",
    "    with open(dst, 'wb') as f:\n",
    "        f.write(adv)\n"
   ]
  },
  {
   "cell_type": "code",
   "execution_count": null,
   "metadata": {},
   "outputs": [],
   "source": []
  }
 ],
 "metadata": {
  "kernelspec": {
   "display_name": "Python 3",
   "language": "python",
   "name": "python3"
  },
  "language_info": {
   "codemirror_mode": {
    "name": "ipython",
    "version": 3
   },
   "file_extension": ".py",
   "mimetype": "text/x-python",
   "name": "python",
   "nbconvert_exporter": "python",
   "pygments_lexer": "ipython3",
   "version": "3.6.8"
  }
 },
 "nbformat": 4,
 "nbformat_minor": 4
}
