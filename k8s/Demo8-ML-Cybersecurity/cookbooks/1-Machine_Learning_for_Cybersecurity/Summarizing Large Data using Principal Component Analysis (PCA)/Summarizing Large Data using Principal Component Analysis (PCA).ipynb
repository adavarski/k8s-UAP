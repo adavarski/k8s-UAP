{
 "cells": [
  {
   "cell_type": "code",
   "execution_count": 2,
   "metadata": {},
   "outputs": [],
   "source": [
    "from sklearn.decomposition import PCA\n",
    "import pandas as pd\n",
    "\n",
    "data = pd.read_csv(\"file_pe_headers.csv\", sep=\",\")\n",
    "X = data.drop([\"Name\", \"Malware\"], axis=1).to_numpy()\n",
    "from sklearn.preprocessing import StandardScaler\n",
    "\n",
    "X_standardized = StandardScaler().fit_transform(X)"
   ]
  },
  {
   "cell_type": "code",
   "execution_count": 3,
   "metadata": {},
   "outputs": [
    {
     "name": "stdout",
     "output_type": "stream",
     "text": [
      "[[ 0.         -0.03506542 -0.04751096 ... -0.07054894 -0.0198525\n",
      "  -0.04066791]\n",
      " [ 0.         -0.03506542 -0.04751096 ... -0.03849221 -0.02110877\n",
      "  -0.02469983]\n",
      " [ 0.         -0.03506542 -0.04751096 ... -0.07599254 -0.02110877\n",
      "  -0.04066791]\n",
      " ...\n",
      " [ 0.         -0.18093613 -0.04958686 ... -0.07296832 -0.02110877\n",
      "  -0.04066791]\n",
      " [ 0.         -0.03506542 -0.04751096 ... -0.06691988 -0.02110877\n",
      "  -0.04066791]\n",
      " [ 0.         -0.03506542 -0.04751096 ...  0.00021781 -0.02110877\n",
      "  -0.04066791]]\n"
     ]
    }
   ],
   "source": [
    "print(X_standardized)"
   ]
  },
  {
   "cell_type": "code",
   "execution_count": 4,
   "metadata": {},
   "outputs": [
    {
     "data": {
      "text/plain": [
       "array([[-1.16886290e-01, -7.15480741e-02,  3.16916194e+00, ...,\n",
       "        -0.00000000e+00,  0.00000000e+00,  2.76090667e-14],\n",
       "       [-3.04037254e-01, -1.28517084e-01, -2.40204566e-01, ...,\n",
       "        -1.73653489e-17, -4.76536672e-18, -4.02418004e-18],\n",
       "       [-3.07312786e-01, -1.31296697e-01, -1.06253036e+00, ...,\n",
       "        -4.76946078e-17,  6.87621746e-17,  6.57093344e-19],\n",
       "       ...,\n",
       "       [ 6.24269798e-01, -5.07561736e-02,  6.13792253e-01, ...,\n",
       "        -6.46586817e-19,  1.09518439e-18,  1.59980892e-18],\n",
       "       [-2.54202111e-01, -2.25874904e-02,  1.53710266e-01, ...,\n",
       "         2.05568841e-18, -2.60716000e-18,  3.19682988e-18],\n",
       "       [-4.06052243e-01, -4.98937892e-02, -3.67792815e-02, ...,\n",
       "         2.30933007e-18,  7.31753993e-19,  7.21827073e-18]])"
      ]
     },
     "execution_count": 4,
     "metadata": {},
     "output_type": "execute_result"
    }
   ],
   "source": [
    "pca = PCA()\n",
    "pca.fit_transform(X_standardized)"
   ]
  },
  {
   "cell_type": "code",
   "execution_count": 5,
   "metadata": {},
   "outputs": [
    {
     "name": "stdout",
     "output_type": "stream",
     "text": [
      "[1.13714096e-01 6.04526312e-02 5.35847638e-02 4.95286930e-02\n",
      " 4.08242868e-02 3.43687925e-02 3.32004002e-02 3.01112226e-02\n",
      " 2.86901095e-02 2.81624164e-02 2.54807940e-02 2.38845548e-02\n",
      " 2.22696648e-02 2.05755591e-02 1.82485433e-02 1.73648310e-02\n",
      " 1.66649078e-02 1.63647194e-02 1.52683994e-02 1.46357930e-02\n",
      " 1.45790542e-02 1.45535760e-02 1.44699413e-02 1.44154480e-02\n",
      " 1.42948516e-02 1.39221004e-02 1.35338124e-02 1.33766277e-02\n",
      " 1.32896667e-02 1.23472302e-02 1.20507834e-02 1.15452214e-02\n",
      " 1.13731313e-02 1.10939084e-02 1.07062189e-02 1.01649154e-02\n",
      " 9.90148375e-03 9.61478385e-03 9.17627698e-03 9.04802544e-03\n",
      " 8.66332999e-03 6.94752252e-03 6.84216033e-03 6.48244001e-03\n",
      " 5.95005317e-03 5.91335216e-03 5.41615029e-03 5.10640740e-03\n",
      " 4.83543074e-03 4.45888820e-03 4.29104432e-03 3.82076025e-03\n",
      " 3.79864324e-03 3.24146447e-03 3.18558571e-03 2.67004617e-03\n",
      " 2.03201471e-03 1.73591476e-03 1.65758475e-03 1.56708821e-03\n",
      " 1.38839592e-03 1.20694096e-03 8.20896559e-04 6.92520065e-04\n",
      " 2.79632267e-04 1.36614783e-04 6.56001071e-06 3.22441346e-07\n",
      " 1.26534195e-10 5.64125607e-34 5.64125607e-34 5.64125607e-34\n",
      " 5.64125607e-34 5.64125607e-34 5.64125607e-34 5.64125607e-34\n",
      " 5.63722303e-34]\n"
     ]
    }
   ],
   "source": [
    "print(pca.explained_variance_ratio_)"
   ]
  },
  {
   "cell_type": "code",
   "execution_count": 6,
   "metadata": {},
   "outputs": [
    {
     "data": {
      "text/plain": [
       "0.9068522354673685"
      ]
     },
     "execution_count": 6,
     "metadata": {},
     "output_type": "execute_result"
    }
   ],
   "source": [
    "sum(pca.explained_variance_ratio_[0:40])"
   ]
  },
  {
   "cell_type": "code",
   "execution_count": null,
   "metadata": {},
   "outputs": [],
   "source": []
  }
 ],
 "metadata": {
  "kernelspec": {
   "display_name": "Python 3",
   "language": "python",
   "name": "python3"
  },
  "language_info": {
   "codemirror_mode": {
    "name": "ipython",
    "version": 3
   },
   "file_extension": ".py",
   "mimetype": "text/x-python",
   "name": "python",
   "nbconvert_exporter": "python",
   "pygments_lexer": "ipython3",
   "version": "3.6.8"
  }
 },
 "nbformat": 4,
 "nbformat_minor": 4
}
