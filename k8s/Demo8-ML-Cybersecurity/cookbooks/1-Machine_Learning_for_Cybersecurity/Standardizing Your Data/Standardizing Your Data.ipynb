{
 "cells": [
  {
   "cell_type": "code",
   "execution_count": 2,
   "metadata": {},
   "outputs": [],
   "source": [
    "import pandas as pd\n",
    "\n",
    "data = pd.read_csv(\"file_pe_headers.csv\", sep=\",\")"
   ]
  },
  {
   "cell_type": "code",
   "execution_count": 3,
   "metadata": {},
   "outputs": [
    {
     "name": "stdout",
     "output_type": "stream",
     "text": [
      "[[2.31170e+04 1.44000e+02 3.00000e+00 ... 7.78240e+04 7.37280e+04\n",
      "  0.00000e+00]\n",
      " [2.31170e+04 1.44000e+02 3.00000e+00 ... 2.94912e+05 0.00000e+00\n",
      "  3.46112e+05]\n",
      " [2.31170e+04 1.44000e+02 3.00000e+00 ... 4.09600e+04 0.00000e+00\n",
      "  0.00000e+00]\n",
      " ...\n",
      " [2.31170e+04 0.00000e+00 0.00000e+00 ... 6.14400e+04 0.00000e+00\n",
      "  0.00000e+00]\n",
      " [2.31170e+04 1.44000e+02 3.00000e+00 ... 1.02400e+05 0.00000e+00\n",
      "  0.00000e+00]\n",
      " [2.31170e+04 1.44000e+02 3.00000e+00 ... 5.57056e+05 0.00000e+00\n",
      "  0.00000e+00]]\n"
     ]
    }
   ],
   "source": [
    "X = data.drop([\"Name\", \"Malware\"], axis=1).to_numpy()\n",
    "print(X)"
   ]
  },
  {
   "cell_type": "code",
   "execution_count": 4,
   "metadata": {},
   "outputs": [
    {
     "name": "stdout",
     "output_type": "stream",
     "text": [
      "[[ 0.         -0.03506542 -0.04751096 ... -0.07054894 -0.0198525\n",
      "  -0.04066791]\n",
      " [ 0.         -0.03506542 -0.04751096 ... -0.03849221 -0.02110877\n",
      "  -0.02469983]\n",
      " [ 0.         -0.03506542 -0.04751096 ... -0.07599254 -0.02110877\n",
      "  -0.04066791]\n",
      " ...\n",
      " [ 0.         -0.18093613 -0.04958686 ... -0.07296832 -0.02110877\n",
      "  -0.04066791]\n",
      " [ 0.         -0.03506542 -0.04751096 ... -0.06691988 -0.02110877\n",
      "  -0.04066791]\n",
      " [ 0.         -0.03506542 -0.04751096 ...  0.00021781 -0.02110877\n",
      "  -0.04066791]]\n"
     ]
    }
   ],
   "source": [
    "from sklearn.preprocessing import StandardScaler\n",
    "\n",
    "X_standardized = StandardScaler().fit_transform(X)\n",
    "print(X_standardized)"
   ]
  },
  {
   "cell_type": "code",
   "execution_count": null,
   "metadata": {},
   "outputs": [],
   "source": []
  }
 ],
 "metadata": {
  "kernelspec": {
   "display_name": "Python 3",
   "language": "python",
   "name": "python3"
  },
  "language_info": {
   "codemirror_mode": {
    "name": "ipython",
    "version": 3
   },
   "file_extension": ".py",
   "mimetype": "text/x-python",
   "name": "python",
   "nbconvert_exporter": "python",
   "pygments_lexer": "ipython3",
   "version": "3.6.8"
  }
 },
 "nbformat": 4,
 "nbformat_minor": 4
}
