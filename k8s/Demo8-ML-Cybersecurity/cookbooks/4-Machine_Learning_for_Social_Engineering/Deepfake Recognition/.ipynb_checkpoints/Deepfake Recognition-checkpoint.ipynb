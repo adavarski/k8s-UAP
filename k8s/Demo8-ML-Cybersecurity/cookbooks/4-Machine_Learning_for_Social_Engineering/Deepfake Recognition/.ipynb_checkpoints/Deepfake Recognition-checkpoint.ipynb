{
 "cells": [
  {
   "cell_type": "code",
   "execution_count": 20,
   "metadata": {},
   "outputs": [],
   "source": [
    "from mesonet_classifiers import *\n",
    "from keras.preprocessing.image import ImageDataGenerator\n",
    "\n",
    "MesoNetCLassifier = Meso4()\n",
    "MesoNetCLassifier.load('mesonet_weights/Meso4_DF')"
   ]
  },
  {
   "cell_type": "code",
   "execution_count": 21,
   "metadata": {},
   "outputs": [
    {
     "name": "stdout",
     "output_type": "stream",
     "text": [
      "Found 3 images belonging to 1 classes.\n"
     ]
    }
   ],
   "source": [
    "imageDataGenerator = ImageDataGenerator(rescale=1./255)\n",
    "dataGenerator = imageDataGenerator.flow_from_directory('', classes=['mesonet_test_images'])"
   ]
  },
  {
   "cell_type": "code",
   "execution_count": 22,
   "metadata": {},
   "outputs": [],
   "source": [
    "numToLabel = {1: \"real\", 0: \"fake\"}"
   ]
  },
  {
   "cell_type": "code",
   "execution_count": 23,
   "metadata": {},
   "outputs": [
    {
     "name": "stdout",
     "output_type": "stream",
     "text": [
      "['real', 'fake', 'fake']\n"
     ]
    }
   ],
   "source": [
    "X, y = dataGenerator.next()\n",
    "probabilisticPredictions = MesoNetCLassifier.predict(X)\n",
    "predictions = [numToLabel[round(x[0])] for x in probabilisticPredictions]\n",
    "print(predictions)"
   ]
  },
  {
   "cell_type": "code",
   "execution_count": null,
   "metadata": {},
   "outputs": [],
   "source": []
  }
 ],
 "metadata": {
  "kernelspec": {
   "display_name": "Python 3",
   "language": "python",
   "name": "python3"
  },
  "language_info": {
   "codemirror_mode": {
    "name": "ipython",
    "version": 3
   },
   "file_extension": ".py",
   "mimetype": "text/x-python",
   "name": "python",
   "nbconvert_exporter": "python",
   "pygments_lexer": "ipython3",
   "version": "3.6.8"
  }
 },
 "nbformat": 4,
 "nbformat_minor": 2
}
