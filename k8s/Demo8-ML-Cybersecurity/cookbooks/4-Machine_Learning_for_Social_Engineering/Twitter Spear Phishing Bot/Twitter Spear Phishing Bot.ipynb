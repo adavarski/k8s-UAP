{
 "cells": [
  {
   "cell_type": "code",
   "execution_count": 4,
   "metadata": {},
   "outputs": [],
   "source": [
    "import json\n",
    "import tweepy\n",
    "\n",
    "CONSUMER_API_KEY = \"fill me in\"\n",
    "CONSUMER_API_SECRET_KEY = \"fill me in\"\n",
    "ACCESS_TOKEN = \"fill me in\"\n",
    "ACCESS_TOKEN_SECRET = \"fill me in\"\n",
    "\n",
    "auth = tweepy.OAuthHandler(CONSUMER_API_KEY, CONSUMER_API_SECRET_KEY)\n",
    "auth.set_access_token(ACCESS_TOKEN, ACCESS_TOKEN_SECRET)\n",
    "\n",
    "api = tweepy.API(\n",
    "    auth, wait_on_rate_limit=True, wait_on_rate_limit_notify=True, compression=True\n",
    ")"
   ]
  },
  {
   "cell_type": "code",
   "execution_count": 5,
   "metadata": {},
   "outputs": [],
   "source": [
    "user_id = \"elonmusk\"\n",
    "count = 200\n",
    "user_tweets = api.user_timeline(screen_name=user_id, count=count, tweet_mode=\"extended\")"
   ]
  },
  {
   "cell_type": "code",
   "execution_count": 6,
   "metadata": {},
   "outputs": [],
   "source": [
    "tweet_corpus = []\n",
    "for tweet in user_tweets:\n",
    "    tweet_corpus.append(tweet.full_text)\n",
    "tweets_text = \". \".join(tweet_corpus)"
   ]
  },
  {
   "cell_type": "code",
   "execution_count": 7,
   "metadata": {},
   "outputs": [
    {
     "data": {
      "text/plain": [
       "\"Going offline. Reddit still seems good. Not sure about good of Twitter. @Teslarati Putting Model S in range mode is the opposite of launch mode, as it minimizes performance in favor of range. Show should be called “Low Gear”!. Tesla Solarglass vs 🎃 \\nHappy Halloween!! https://t.co/p5tXeJYqne. @stephenpallotta @Teslarati Sorry, Drag Times is correct, Top Gear is wrong. @Teslarati Drag Race Times analysis is correct. Also, there’s a software upgrade for Model S coming out that increases peak power by 50HP, so Model S should beat Porsche Taycan Turbo S by a wider margin in 0 to 60 &amp; 1/4 mile races.. @TeslaNY Walking on a Tesla Solarglass roof is definitely no problem!. Thank for helping grow sustainable energy through solar! https://t.co/zH08AMhVMj. @tobi @chris__lu @MarkRober @MrBeastYT Congrats! Shopify is great btw. Nice work.. @flcnhvy The fires are all too real. @NutaIie Haha true. @TeslaStars @Tesla …. ♥️ snacks ♥️ https://t.co/LPcZyX607f. @johnkrausphotos @NASA @Space_Station Hard to say with high accuracy, but 4 to 6 weeks is my best guess. Soon, SpaceX will launch @NASA astronauts to @Space_Station! https://t.co/wAy5MNqnEI. @themuskbros @teslaownersSV That’s significantly improved in current production. @RenataKonkoly @MrBeastYT @MKBHD True, my name literally means tree. @teslaownersSV If you have autonav enabled, car will automatically navigate either to address in calendar, to work if you’re home &amp; to home if at work. Not sure if that’s in wide release yet, but def in early access. It’s an awesome feature.. Just a reminder that the Tesla Full Self-Driving option goes up by $1000 at midnight on Nov 1 for all regions that have Smart Summon. Order your car online at https://t.co/7FlnbrMxOl.. “I always like going South; somehow, it feels like going downhill.”. For Treebeard. @MKBHD @MrBeastYT Ok, sounds legit, will donate 1M trees. RT @tsrandall: As one owner said, “Quality is measured in different ways.” Notwithstanding initial flaws, they raved about their cars. A ne…. @MrBeastYT Sounds cool. Where are the trees being planted &amp; what kind of trees?. @Jason @kylegrantham Making a roof out of kindling in a fire risk zone is not recommended. @Jon4Lakers @Tesla We’re changing this from storm watch to disaster watch to cover fires, earthquakes, etc. @kylegrantham Very true. Glass doesn’t burn &amp; melting point is extremely high, so much more resilient than asphalt or wood roofs.. @realDiegoMonroy I hate advertising. Unfortunately, it’s hard to google Tesla solar links due to tons of ads &amp; SEO. Go to https://t.co/UvQa8JOE7v to add solar to an existing roof &amp; https://t.co/D9yUuL7NVE for a new roof with integrated solar.. We don’t make much money on this product, so $1000 actually means a lot. If you’re directly affected by wildfire power outages, Tesla is reducing Solar+Powerwall prices by $1000 as of today. Apologies to those waiting for Solar/Powerwall outside California, as we are prioritizing those affected by wildfires. @jasondunn So true. Imagine if phones were gasoline powered. Total sales would be like 14 units worldwide! Using oil/gas &amp; being forced to constantly visit toxic chemical dispensing stations will seem so insane in the future!. Homes with solar sell for 4.1% more, according to Zillow. Adding a Powerwall battery is highly likely to increase home value too imo, as security against blackouts is increasingly important. \\nhttps://t.co/3y4M5L50qF. @flcnhvy @teslaownersSV I’d recommend regular solar panels for flat roofs. @starshipsara Extremely high. @teslaownersSV Will do what we can for anyplace affected by natural disasters. US clean energy incentive drops by 4% on Jan 1, so orders must be received by roughly Nov 15 to be installed in time. Tesla Solar plus Powerwall battery backup for 24/7 clean energy &amp; no blackouts at https://t.co/mDoPO17YB9. @SnazzyQ @Tesla Sure. @flcnhvy https://t.co/40NtMONR72. Took my son to play piano for the seniors home in Pasadena. It was lovely to see them smile ♥️. @tesletter Thanks to everyone at Tesla who worked so hard over the years to make our Fremont factory successful!. RT @tesletter: This day nine years ago Tesla opened its factory in Fremont. Tesla started production with 1,000 workers. Today, more than 1…. Sandwich time travel is the only explanation https://t.co/M8c98GBsDC. Physics facts https://t.co/Z2a6PzokJx. @AT61_AUE @Cobalt310 @Tesla Yes, you can walk on the Tesla Solarglass roof. In stilettos, if you want 😉 https://t.co/6wwKJqmPdr. @GerberKawasaki Jerome is great! Tesla team in general is the strongest its ever been.. @john_s_wilkins Yes, wight destruction guaranteed or your money back!. Tesla Solarglass roof https://t.co/7lw43mL92D. @Tesla Will start at ~2:15. Sorry for slight delay.. @tobyliiiiiiiiii Haha true. Srsly https://t.co/MWipMr84cD. @Cardoso @Erdayastronaut Transparent aluminum is a real thing! https://t.co/hX4XLih1Hk. @HarryStoltz1 That would be cool. Surfaces that see the sun should be alive with power, not inert!. Maybe call Tesla solar roof tiles product Solarglass? Like Dragonglass, but solar!. @TeslaNY @SpaceX Gwynne rocks! Starlink will probably be a little bumpy at first, but then improve rapidly.. RT @Tesla: Submit questions for our Solar Roof Q&amp;A ahead of our 2pm launch:. 🔥. RT @SpaceX: Test of Crew Dragon’s upgraded launch escape system ahead of static fire and in-flight abort tests – altogether we are conducti…. @longnow @Liv_Boeree Strange to think that our civilization is only ~5000 years old, if dated from earliest writing. Less than the lifespan of a fruit fly, compared to age of Earth.. To be clear, integrated solar tiles only make financial sense for new houses or replacement roofs. If your roof is more than 5 years away from replacement, solar retrofit is recommended https://t.co/mDoPO17YB9. California time. @flcnhvy This product may appear simple, but actually *very* difficult to get right. Will do an open call Q&amp;A. @GerberKawasaki @Tesla Major FUD incoming for sure … haha. @MoWo91 @SpX_memes @SpaceX @Tesla @RenataKonkoly @sara_boutall @Kristennetten @Erdayastronaut @flcnhvy @JohnnaCrider1 🤣🤣. @flcnhvy I have V1, but will switch to V3. Tesla Solar Tile Roof V3 launch tomorrow at 2pm. @KlausLovgreen Sure. But actually … https://t.co/XJNjPHrq2A. Super proud of Tesla team for great execution &amp; support of Tesla customers greatly appreciated!!. Tesla Q3 results:\\n\\n- Shanghai Giga ahead of schedule\\n- Model Y ahead of schedule\\n- Solar installs +48% from Q2\\n- GAAP profitable\\n- Positive free cash flow. @Teslarati The big rear wing is only on for one day for rear downforce calibration. Isn’t needed to set ring record &amp; won’t be in the production car.. @TesLatino Internal camera isn’t used yet (meant for robotaxi), but that’s a good idea. @TesLatino Please lmk about your experience and what can be improved. RT @newscientist: The CRISPR genome-editing technique that's revolutionising biology just got a major upgrade https://t.co/t470SPfHEG https…. @tecnocato @Tesla Coming soon. Whoa, it worked!!. Sending this tweet through space via Starlink satellite 🛰. Homes with solar sell for 4.1% more, according to Zillow https://t.co/EtqGAxDlAF. More carrot, less stick. Very likely that a home with clean power that’s lower cost than utility, plus blackout protection via Powerwall, will have a positive effect on value. PG&amp;E says rolling blackouts expected in California for next 10 years! https://t.co/Iv9f0piK82. Order Tesla Solar + Powerwall battery for 24/7 clean power &amp; no blackouts! https://t.co/mDoPO17YB9. RT @Teslarati: Tesla Model 3 wins ‘Car of the Year’ award from prestigious UK auto magazine\\nhttps://t.co/jVHvDpLRtu. Going offline for a few days. @TesLatino @Erdayastronaut @NotEricRalph @MartianDays @torybruno @AerojetRdyne @elon Both at the same time!. @John_Gardi @Erdayastronaut @NotEricRalph @MartianDays @torybruno @AerojetRdyne More about dealing with failure modes &amp; roll control. @Erdayastronaut @NotEricRalph @MartianDays @torybruno @AerojetRdyne Need to deal with thrust asymmetry from flameout of an engine without forcing shutdown of opposing pair engine, which would double thrust loss. Also, thrust differential doesn’t solve roll control well.. @WorldAndScience Common myth, but incorrect. @slashdot And so begins the robocalypse …. Tesla wins best headlights award 🥇 https://t.co/SjvA931B3U https://t.co/8yfeJiXd0N. @Teslarati The final configuration used at Nürburgring to set the record will go into production around summer 2020, so this is not merely for the track. Anyone who’s interested in working on cutting edge manufacturing — designing &amp; building the machine that makes the machine — please consider working at Tesla or SpaceX. We’re gonna take this to a whole new level!. @Erdayastronaut Tesla team has done an incredible job with Giga Shanghai. Honored to work with them. I’m in awe.. So much respect for those doing high volume manufacturing. It’s insanely hard, but you make a real thing that people value. My hat is off to you …. @RationalEtienne @LaurenRow5 @EvaFoxU @JohnnaCrider1 @Kristennetten @vincent13031925 @28delayslater @Sofiaan @hamids @InsideEVs Tesla is first American car company to achieve sustained volume production in past ~100 years. Hardest, most painful thing I’ve ever been through, including getting Falcon to orbit.. @RationalEtienne @LaurenRow5 @EvaFoxU @JohnnaCrider1 @Kristennetten @vincent13031925 @28delayslater @Sofiaan @hamids @InsideEVs Prototypes are easy, but achieving volume production of a new technology is insanely hard. And the lead character is also named Woody https://t.co/ZxK84rB020. @NotEricRalph @MartianDays @Erdayastronaut @torybruno @AerojetRdyne Yeah, gimbal SL engines at min throttle for control, so most of impulse goes through vac engines. @TTownJoe @Erdayastronaut @torybruno @MartianDays @AerojetRdyne Conservation of energy tells you the answer. @Ingvar_Oolsen @neiltyson @Space_Station Looking forward to Kerbal 2!. @MartianDays @Erdayastronaut @torybruno @AerojetRdyne We def could be wrong about this, but it’s actually good to fix high efficiency vacuum engines with giant nozzles in place &amp; only thrust vector engines with smaller nozzles. Don’t need a lot of room &amp; moment of inertia is much lower.. @nextspaceflight @Erdayastronaut @torybruno @MartianDays @AerojetRdyne Also, we’re keeping area ratio low enough to fire Raptor Vac at sea level without flow separation, so that’s leaving a lot on the table. @nextspaceflight @Erdayastronaut @torybruno @MartianDays @AerojetRdyne Couple months, but V1.0 of Raptor Vac is suboptimal, as optimized for speed of development. Isp maybe 365 to 370 sec.. @Erdayastronaut @torybruno @MartianDays @AerojetRdyne Max thrust version of Raptor should achieve true T/W &gt; 170. Target is 1.5 ton engine with &gt;260 t-F. Max Isp version should achieve ~380 sec, but T/W probably &lt;120 due to big nozzle. These are just guesses for now.. @Erdayastronaut @torybruno @MartianDays @AerojetRdyne Oberth effect is not well appreciated. Value of high thrust low in gravity well is not captured in simple delta-v equation. One of the reasons we favor CH4 over H2. https://t.co/LijrUMuJDq. @torybruno @Erdayastronaut @MartianDays @AerojetRdyne This is true. All that matters is number used in ∆v equation. Propellant residuals are incredibly important, often overwhelming engine mass. https://t.co/s2LcEapGAU. @HarryStoltz1 @neiltyson @Space_Station Big challenge for Starship refueling on the moon is finding sources of carbon. Probably some pretty big deposits in craters from meteorites. Same goes for hydrogen &amp; oxygen, also in (shadowed) craters.. @teslaownersSV @Sofiaan @annerajb @tesla_addicted We’re working on a simple initial version of Autopark. Will be safe, but sometimes park in silly places that aren’t actual parking spaces.. @Sofiaan @annerajb @tesla_addicted Yeah, great team!. @J_ump_er @neiltyson @Space_Station To be precise, r is distance from center of masses of two objects. Center of mass of Earth is ~6400km, so gravity change is small at Space Station altitude, which is ~6800km from center of Earth. https://t.co/21hICWczMq. @HarryStoltz1 @neiltyson @Space_Station Exactly. And you can on the moon, since it has no atmosphere.. @neiltyson @Space_Station Most people aren’t aware that orbit (and “zero” gravity) is all about horizontal speed, not altitude. A spacecraft needs to travel about 25 times the speed of sound to stay in space.. @NASASpaceflight @IanPineapple Yeah, will be Raptor vertical test stand. Hopefully allows simplification of Raptor design, as pump shaft wear &amp; drainage is better in vertical config. Also, more representive of flight. Test as you fly …. @annerajb @tesla_addicted Software. @SteveMartineau6 @annerajb @YogiSC1127 @Tesla Yes. @tesla_addicted Will start rendering traffic cones in the display soon. @flcnhvy @aquastorm Venus would be very difficult. @tesla_truth @annerajb @YogiSC1127 @Tesla True. @aquastorm Yes, we will. @annerajb @YogiSC1127 @Tesla It is actually called deep rain, as sort of a joke at Tesla. Takes a surprising amount of deep learning to know when &amp; how fast to move the wipers.. @YogiSC1127 @Tesla Deep Rain™️ neural net coming soon. We’re not trademarking any other Autopilot neural nets, just this one, because rain is deep.. @nate_mccomb @28delayslater @Charalanahzard Yep, good catch. @teslaownersSV @28delayslater @Charalanahzard ♥️ hot pot. @28delayslater @Charalanahzard Cybertruck doesn’t look like anything I’ve seen bouncing around the Internet. It’s closer to an armored personnel carrier from the future.. @Charalanahzard Those rumors are false. @TeslaGong Coming v soon. Haha https://t.co/hY3yDsrVqk. Ms. Chief &amp; Ms. Tree https://t.co/YgRFtq0tSc. RT @Teslarati: Tesla’s ‘Bioweapon Defense Mode’ is proving invaluable once more amid CA’s wildfires\\nhttps://t.co/KkU7CXnpX9. @russ1mitchell lol. Space Jam should’ve won the Oscar https://t.co/E7l2DCAxDH. @jay11w Recommended for sure. Both movies are incredible.. First will rewatch Godfather Part II, then Space Jam. Underappreciated 🎥, will watch!. Is Space Jam good?. @Nobody_Really7 @anonyx10 @mayemusk So it goes. @anonyx10 @mayemusk Sure looks that way. @owlmaster08 @Tesla Nice 🤣🤣. @Erdayastronaut Solar. @Erdayastronaut Depends on total system efficiency &amp; how long the propellant plant can run to refill Starship, so 1 to 10MW as a rough guess. @bonnienorman Whoa, that does look good!. @Macwars Fair point. Will hold on EU price change until Tesla gets clarity from regulators about Smart Summon feature release date.. French fries 🍟 are the devil 😈 https://t.co/AR3h57RPIA. @tesla_truth @BarkMSmeagol @vincent13031925 @jchybow @JohnnaCrider1 @28delayslater @flcnhvy @AfMusk .@DrPatSoonShiong, are you aware that one of your senior journalists (Russ Mitchell) is openly funding a fake charity run by an online bully?. @tesla_truth @BarkMSmeagol @vincent13031925 @jchybow @JohnnaCrider1 @28delayslater @flcnhvy @AfMusk Super messed up situation!. @cleantechnica Several finesse improvements coming to Smart Summon in coming weeks. Will be smooth as silk.. @wk057 @Tesla Should be much better at this point. Price for fully installed solar plus battery has been reduced ~10% to help those affected by blackouts. @brockm Yes, but probably a year or two away. Lot of fish to fry …. @bruce_mittleman Tesla cannot continue to lose money. To achieve our goal of environmental sustainability, Tesla must be financially sustainable or we will cease to exist.. Allows homeowner potential to go completely off grid. V important: pure solar subscription is guaranteed to be a net money-maker for the homeowner or Tesla will take the panels back. Adding Powerwall negatively affects economics, but gives homeowner power protection in event of a blackout.. @cutza7 When the car is FSD without supervision, ie robotaxi, you’ll be able to earn far more than monthly lease/loan cost by allowing others to use it. Managing a small fleet of robotaxis will be a career for many &amp; much better than driving a single car.. @tesla_addicted @sanjeev_r11 @vincent13031925 Putting panels on east or west facing roofs works well too. Energy loss is fairly minor. Just north facing that’s problematic above ~30 deg latitude.. @wilsonlam 😉. @annerajb @Thebault_Arthur Working with engineering team to figure out best way to do upgrade without crushing service team. Will start doing upgrades in volume in a few months, coincident with more FSD features being released.. @Thebault_Arthur Still working with RDW, the car regulatory authority in Netherlands. Unclear why there’s a delay. Other countries are supportive.. Now that Tesla V10.0 with Smart Summon is out, Full Self-Driving price will increase by $1000 on Nov 1. RT @vincent13031925: @elonmusk Data of my Tesla Solar panels from September (3/4 of the month)\\n\\nOur family is now able to power all the hom…. Get Tesla Solar plus Powerwall battery for 24/7 clean power &amp; no more blackouts! https://t.co/mDoPO17YB9. @mandeepdalip @Tesla Will be throughout Canada. @vincent13031925 It’s something special. RT @NASA: Administrator Bridenstine is visiting @SpaceX headquarters today to see the progress being made on @Commercial_Crew flights to @S…. RT @jeffreytumlin: Hi Californians? Driving our cars is by far the biggest source of our greenhouse gases https://t.co/Hz4JGcMe3w https://t…. @Gfilche @Tesla Fundamental metric of good of Tesla is how many years sooner it brings the advent of a sustainable energy future. @RationalEtienne @tesla_truth @AfMusk @28delayslater @EvaFoxU @JohnnaCrider1 @vincent13031925 @mayemusk @RenataKonkoly @Tesla @zshahan3 True 🤣🤣. @sara_boutall @In2867Muk @parisreview I ♥️ Asterix &amp; Obelix!. @tesla_truth Exactly. @Milostoessel @Tesla @TeslaSchweiz Ok. Also adding Tesla Solar to our Supercharger stations as fast as possible. Goal is 24/7 clean power with no blackouts.. All Tesla Supercharger stations in regions affected by California power outages will have Tesla Powerpacks within next few weeks. Just waiting on permits.. Sooo annoying!! https://t.co/QKtCC0YgDG. https://t.co/BkKeiIzNPM. @Teslarati We’re changing Powerwall Storm Watch to Disaster Watch. Covers more bases.. @Kristennetten @annerajb @tesla_truth 🚀🚘 \\U0001f9e0🕳. @annerajb @tesla_truth Yes. @tesla_truth No change. @JimBridenstine @NASAMoon Important for Moonbase Alpha!. @GeorgKonjovic Working on it. @_GaryTheBot Even Gary likes it!. It’s really quite fun!. But we call it “caraoke”, because it’s in a 🚘. Tesla software V10.0 comes with karaoke 🎤. @nextspaceflight Yes. A Shortfall of Gravitas. @Thebault_Arthur @_GaryTheBot Next update. @_GaryTheBot siq burn, Gary, siq burn. 🦌. Why is there no emoji for dignity!!. RT @Tesla: Caraoke is all fun and games until you alienate your children by knowing every single word to Let It Go.. @teslaownersSV Yes. @sara_boutall Door hinge. the color orange is named after the fruit. @alex_gayer @teslaownersSV Will remove. @teslaownersSV Thanks for mentioning. Should be enabled on all loaner cars.. @Aero_JohnG @Erdayastronaut @SciGuySpace Yeah\""
      ]
     },
     "execution_count": 7,
     "metadata": {},
     "output_type": "execute_result"
    }
   ],
   "source": [
    "tweets_text"
   ]
  },
  {
   "cell_type": "code",
   "execution_count": 18,
   "metadata": {},
   "outputs": [],
   "source": [
    "import re\n",
    "\n",
    "\n",
    "def replace_URLs(string, new_URL):\n",
    "    \"\"\"Replaces all URLs in a string with a custom URL.\"\"\"\n",
    "    modified_string = re.sub(\n",
    "        \"http[s]?://(?:[a-zA-Z]|[0-9]|[$-_@.&+]|[!*\\(\\), ]|(?:%[0-9a-fA-F][0-9a-fA-F]))+\",\n",
    "        \" \" + new_URL + \" \",\n",
    "        string,\n",
    "    )\n",
    "    return modified_string"
   ]
  },
  {
   "cell_type": "code",
   "execution_count": 11,
   "metadata": {},
   "outputs": [],
   "source": [
    "phishing_link = \"https://urlzs.com/u8ZB\""
   ]
  },
  {
   "cell_type": "code",
   "execution_count": 12,
   "metadata": {},
   "outputs": [],
   "source": [
    "processed_tweets_text = replace_URLs(tweets_text, phishing_link)"
   ]
  },
  {
   "cell_type": "code",
   "execution_count": 13,
   "metadata": {},
   "outputs": [
    {
     "data": {
      "text/plain": [
       "\"Going offline. Reddit still seems good. Not sure about good of Twitter. @Teslarati Putting Model S in range mode is the opposite of launch mode, as it minimizes performance in favor of range. Show should be called “Low Gear”!. Tesla Solarglass vs 🎃 \\nHappy Halloween!!  https://urlzs.com/u8ZB ’s a software upgrade for Model S coming out that increases peak power by 50HP, so Model S should beat Porsche Taycan Turbo S by a wider margin in 0 to 60 &amp; 1/4 mile races.. @TeslaNY Walking on a Tesla Solarglass roof is definitely no problem!. Thank for helping grow sustainable energy through solar!  https://urlzs.com/u8ZB …. ♥️ snacks ♥️  https://urlzs.com/u8ZB ’s significantly improved in current production. @RenataKonkoly @MrBeastYT @MKBHD True, my name literally means tree. @teslaownersSV If you have autonav enabled, car will automatically navigate either to address in calendar, to work if you’re home &amp; to home if at work. Not sure if that’s in wide release yet, but def in early access. It’s an awesome feature.. Just a reminder that the Tesla Full Self-Driving option goes up by $1000 at midnight on Nov 1 for all regions that have Smart Summon. Order your car online at  https://urlzs.com/u8ZB “I always like going South; somehow, it feels like going downhill.”. For Treebeard. @MKBHD @MrBeastYT Ok, sounds legit, will donate 1M trees. RT @tsrandall: As one owner said, “Quality is measured in different ways.” Notwithstanding initial flaws, they raved about their cars. A ne…. @MrBeastYT Sounds cool. Where are the trees being planted &amp; what kind of trees?. @Jason @kylegrantham Making a roof out of kindling in a fire risk zone is not recommended. @Jon4Lakers @Tesla We’re changing this from storm watch to disaster watch to cover fires, earthquakes, etc. @kylegrantham Very true. Glass doesn’t burn &amp; melting point is extremely high, so much more resilient than asphalt or wood roofs.. @realDiegoMonroy I hate advertising. Unfortunately, it’s hard to google Tesla solar links due to tons of ads &amp; SEO. Go to  https://urlzs.com/u8ZB ’t make much money on this product, so $1000 actually means a lot. If you’re directly affected by wildfire power outages, Tesla is reducing Solar+Powerwall prices by $1000 as of today. Apologies to those waiting for Solar/Powerwall outside California, as we are prioritizing those affected by wildfires. @jasondunn So true. Imagine if phones were gasoline powered. Total sales would be like 14 units worldwide! Using oil/gas &amp; being forced to constantly visit toxic chemical dispensing stations will seem so insane in the future!. Homes with solar sell for 4.1% more, according to Zillow. Adding a Powerwall battery is highly likely to increase home value too imo, as security against blackouts is increasingly important. \\n https://urlzs.com/u8ZB ’d recommend regular solar panels for flat roofs. @starshipsara Extremely high. @teslaownersSV Will do what we can for anyplace affected by natural disasters. US clean energy incentive drops by 4% on Jan 1, so orders must be received by roughly Nov 15 to be installed in time. Tesla Solar plus Powerwall battery backup for 24/7 clean energy &amp; no blackouts at  https://urlzs.com/u8ZB ♥️. @tesletter Thanks to everyone at Tesla who worked so hard over the years to make our Fremont factory successful!. RT @tesletter: This day nine years ago Tesla opened its factory in Fremont. Tesla started production with 1,000 workers. Today, more than 1…. Sandwich time travel is the only explanation  https://urlzs.com/u8ZB 😉  https://urlzs.com/u8ZB ~2:15. Sorry for slight delay.. @tobyliiiiiiiiii Haha true. Srsly  https://urlzs.com/u8ZB 🔥. RT @SpaceX: Test of Crew Dragon’s upgraded launch escape system ahead of static fire and in-flight abort tests – altogether we are conducti…. @longnow @Liv_Boeree Strange to think that our civilization is only ~5000 years old, if dated from earliest writing. Less than the lifespan of a fruit fly, compared to age of Earth.. To be clear, integrated solar tiles only make financial sense for new houses or replacement roofs. If your roof is more than 5 years away from replacement, solar retrofit is recommended  https://urlzs.com/u8ZB … haha. @MoWo91 @SpX_memes @SpaceX @Tesla @RenataKonkoly @sara_boutall @Kristennetten @Erdayastronaut @flcnhvy @JohnnaCrider1 🤣🤣. @flcnhvy I have V1, but will switch to V3. Tesla Solar Tile Roof V3 launch tomorrow at 2pm. @KlausLovgreen Sure. But actually …  https://urlzs.com/u8ZB \\n\\n- Shanghai Giga ahead of schedule\\n- Model Y ahead of schedule\\n- Solar installs +48% from Q2\\n- GAAP profitable\\n- Positive free cash flow. @Teslarati The big rear wing is only on for one day for rear downforce calibration. Isn’t needed to set ring record &amp; won’t be in the production car.. @TesLatino Internal camera isn’t used yet (meant for robotaxi), but that’s a good idea. @TesLatino Please lmk about your experience and what can be improved. RT @newscientist: The CRISPR genome-editing technique that's revolutionising biology just got a major upgrade  https://urlzs.com/u8ZB …. @tecnocato @Tesla Coming soon. Whoa, it worked!!. Sending this tweet through space via Starlink satellite 🛰. Homes with solar sell for 4.1% more, according to Zillow  https://urlzs.com/u8ZB ’s lower cost than utility, plus blackout protection via Powerwall, will have a positive effect on value. PG&amp;E says rolling blackouts expected in California for next 10 years!  https://urlzs.com/u8ZB ‘Car of the Year’ award from prestigious UK auto magazine\\n https://urlzs.com/u8ZB ’t solve roll control well.. @WorldAndScience Common myth, but incorrect. @slashdot And so begins the robocalypse …. Tesla wins best headlights award 🥇  https://urlzs.com/u8ZB ürburgring to set the record will go into production around summer 2020, so this is not merely for the track. Anyone who’s interested in working on cutting edge manufacturing — designing &amp; building the machine that makes the machine — please consider working at Tesla or SpaceX. We’re gonna take this to a whole new level!. @Erdayastronaut Tesla team has done an incredible job with Giga Shanghai. Honored to work with them. I’m in awe.. So much respect for those doing high volume manufacturing. It’s insanely hard, but you make a real thing that people value. My hat is off to you …. @RationalEtienne @LaurenRow5 @EvaFoxU @JohnnaCrider1 @Kristennetten @vincent13031925 @28delayslater @Sofiaan @hamids @InsideEVs Tesla is first American car company to achieve sustained volume production in past ~100 years. Hardest, most painful thing I’ve ever been through, including getting Falcon to orbit.. @RationalEtienne @LaurenRow5 @EvaFoxU @JohnnaCrider1 @Kristennetten @vincent13031925 @28delayslater @Sofiaan @hamids @InsideEVs Prototypes are easy, but achieving volume production of a new technology is insanely hard. And the lead character is also named Woody  https://urlzs.com/u8ZB ’s actually good to fix high efficiency vacuum engines with giant nozzles in place &amp; only thrust vector engines with smaller nozzles. Don’t need a lot of room &amp; moment of inertia is much lower.. @nextspaceflight @Erdayastronaut @torybruno @MartianDays @AerojetRdyne Also, we’re keeping area ratio low enough to fire Raptor Vac at sea level without flow separation, so that’s leaving a lot on the table. @nextspaceflight @Erdayastronaut @torybruno @MartianDays @AerojetRdyne Couple months, but V1.0 of Raptor Vac is suboptimal, as optimized for speed of development. Isp maybe 365 to 370 sec.. @Erdayastronaut @torybruno @MartianDays @AerojetRdyne Max thrust version of Raptor should achieve true T/W &gt; 170. Target is 1.5 ton engine with &gt;260 t-F. Max Isp version should achieve ~380 sec, but T/W probably &lt;120 due to big nozzle. These are just guesses for now.. @Erdayastronaut @torybruno @MartianDays @AerojetRdyne Oberth effect is not well appreciated. Value of high thrust low in gravity well is not captured in simple delta-v equation. One of the reasons we favor CH4 over H2.  https://urlzs.com/u8ZB ∆v equation. Propellant residuals are incredibly important, often overwhelming engine mass.  https://urlzs.com/u8ZB ’re working on a simple initial version of Autopark. Will be safe, but sometimes park in silly places that aren’t actual parking spaces.. @Sofiaan @annerajb @tesla_addicted Yeah, great team!. @J_ump_er @neiltyson @Space_Station To be precise, r is distance from center of masses of two objects. Center of mass of Earth is ~6400km, so gravity change is small at Space Station altitude, which is ~6800km from center of Earth.  https://urlzs.com/u8ZB ’t aware that orbit (and “zero” gravity) is all about horizontal speed, not altitude. A spacecraft needs to travel about 25 times the speed of sound to stay in space.. @NASASpaceflight @IanPineapple Yeah, will be Raptor vertical test stand. Hopefully allows simplification of Raptor design, as pump shaft wear &amp; drainage is better in vertical config. Also, more representive of flight. Test as you fly …. @annerajb @tesla_addicted Software. @SteveMartineau6 @annerajb @YogiSC1127 @Tesla Yes. @tesla_addicted Will start rendering traffic cones in the display soon. @flcnhvy @aquastorm Venus would be very difficult. @tesla_truth @annerajb @YogiSC1127 @Tesla True. @aquastorm Yes, we will. @annerajb @YogiSC1127 @Tesla It is actually called deep rain, as sort of a joke at Tesla. Takes a surprising amount of deep learning to know when &amp; how fast to move the wipers.. @YogiSC1127 @Tesla Deep Rain™️ neural net coming soon. We’re not trademarking any other Autopilot neural nets, just this one, because rain is deep.. @nate_mccomb @28delayslater @Charalanahzard Yep, good catch. @teslaownersSV @28delayslater @Charalanahzard ♥️ hot pot. @28delayslater @Charalanahzard Cybertruck doesn’t look like anything I’ve seen bouncing around the Internet. It’s closer to an armored personnel carrier from the future.. @Charalanahzard Those rumors are false. @TeslaGong Coming v soon. Haha  https://urlzs.com/u8ZB ’s ‘Bioweapon Defense Mode’ is proving invaluable once more amid CA’s wildfires\\n https://urlzs.com/u8ZB ’ve won the Oscar  https://urlzs.com/u8ZB 🎥, will watch!. Is Space Jam good?. @Nobody_Really7 @anonyx10 @mayemusk So it goes. @anonyx10 @mayemusk Sure looks that way. @owlmaster08 @Tesla Nice 🤣🤣. @Erdayastronaut Solar. @Erdayastronaut Depends on total system efficiency &amp; how long the propellant plant can run to refill Starship, so 1 to 10MW as a rough guess. @bonnienorman Whoa, that does look good!. @Macwars Fair point. Will hold on EU price change until Tesla gets clarity from regulators about Smart Summon feature release date.. French fries 🍟 are the devil 😈  https://urlzs.com/u8ZB ~10% to help those affected by blackouts. @brockm Yes, but probably a year or two away. Lot of fish to fry …. @bruce_mittleman Tesla cannot continue to lose money. To achieve our goal of environmental sustainability, Tesla must be financially sustainable or we will cease to exist.. Allows homeowner potential to go completely off grid. V important: pure solar subscription is guaranteed to be a net money-maker for the homeowner or Tesla will take the panels back. Adding Powerwall negatively affects economics, but gives homeowner power protection in event of a blackout.. @cutza7 When the car is FSD without supervision, ie robotaxi, you’ll be able to earn far more than monthly lease/loan cost by allowing others to use it. Managing a small fleet of robotaxis will be a career for many &amp; much better than driving a single car.. @tesla_addicted @sanjeev_r11 @vincent13031925 Putting panels on east or west facing roofs works well too. Energy loss is fairly minor. Just north facing that’s problematic above ~30 deg latitude.. @wilsonlam 😉. @annerajb @Thebault_Arthur Working with engineering team to figure out best way to do upgrade without crushing service team. Will start doing upgrades in volume in a few months, coincident with more FSD features being released.. @Thebault_Arthur Still working with RDW, the car regulatory authority in Netherlands. Unclear why there’s a delay. Other countries are supportive.. Now that Tesla V10.0 with Smart Summon is out, Full Self-Driving price will increase by $1000 on Nov 1. RT @vincent13031925: @elonmusk Data of my Tesla Solar panels from September (3/4 of the month)\\n\\nOur family is now able to power all the hom…. Get Tesla Solar plus Powerwall battery for 24/7 clean power &amp; no more blackouts!  https://urlzs.com/u8ZB ’s something special. RT @NASA: Administrator Bridenstine is visiting @SpaceX headquarters today to see the progress being made on @Commercial_Crew flights to @S…. RT @jeffreytumlin: Hi Californians? Driving our cars is by far the biggest source of our greenhouse gases  https://urlzs.com/u8ZB …. @Gfilche @Tesla Fundamental metric of good of Tesla is how many years sooner it brings the advent of a sustainable energy future. @RationalEtienne @tesla_truth @AfMusk @28delayslater @EvaFoxU @JohnnaCrider1 @vincent13031925 @mayemusk @RenataKonkoly @Tesla @zshahan3 True 🤣🤣. @sara_boutall @In2867Muk @parisreview I ♥️ Asterix &amp; Obelix!. @tesla_truth Exactly. @Milostoessel @Tesla @TeslaSchweiz Ok. Also adding Tesla Solar to our Supercharger stations as fast as possible. Goal is 24/7 clean power with no blackouts.. All Tesla Supercharger stations in regions affected by California power outages will have Tesla Powerpacks within next few weeks. Just waiting on permits.. Sooo annoying!!  https://urlzs.com/u8ZB ’re changing Powerwall Storm Watch to Disaster Watch. Covers more bases.. @Kristennetten @annerajb @tesla_truth 🚀🚘 \\U0001f9e0🕳. @annerajb @tesla_truth Yes. @tesla_truth No change. @JimBridenstine @NASAMoon Important for Moonbase Alpha!. @GeorgKonjovic Working on it. @_GaryTheBot Even Gary likes it!. It’s really quite fun!. But we call it “caraoke”, because it’s in a 🚘. Tesla software V10.0 comes with karaoke 🎤. @nextspaceflight Yes. A Shortfall of Gravitas. @Thebault_Arthur @_GaryTheBot Next update. @_GaryTheBot siq burn, Gary, siq burn. 🦌. Why is there no emoji for dignity!!. RT @Tesla: Caraoke is all fun and games until you alienate your children by knowing every single word to Let It Go.. @teslaownersSV Yes. @sara_boutall Door hinge. the color orange is named after the fruit. @alex_gayer @teslaownersSV Will remove. @teslaownersSV Thanks for mentioning. Should be enabled on all loaner cars.. @Aero_JohnG @Erdayastronaut @SciGuySpace Yeah\""
      ]
     },
     "execution_count": 13,
     "metadata": {},
     "output_type": "execute_result"
    }
   ],
   "source": [
    "processed_tweets_text"
   ]
  },
  {
   "cell_type": "code",
   "execution_count": 14,
   "metadata": {},
   "outputs": [],
   "source": [
    "import markovify\n",
    "\n",
    "markov_model = markovify.Text(processed_tweets_text)"
   ]
  },
  {
   "cell_type": "code",
   "execution_count": 15,
   "metadata": {},
   "outputs": [],
   "source": [
    "num_phishing_tweets_desired = 5\n",
    "num_phishing_tweets_so_far = 0\n",
    "generated_tweets = []\n",
    "while num_phishing_tweets_so_far < num_phishing_tweets_desired:\n",
    "    tweet = markov_model.make_short_sentence(140)\n",
    "    if phishing_link in tweet and tweet not in generated_tweets:\n",
    "        generated_tweets.append(tweet)\n",
    "        num_phishing_tweets_so_far += 1"
   ]
  },
  {
   "cell_type": "code",
   "execution_count": 16,
   "metadata": {},
   "outputs": [
    {
     "name": "stdout",
     "output_type": "stream",
     "text": [
      "@Teslarati Putting Model S in range mode is the only explanation https://urlzs.com/u8ZB 😉 https://urlzs.com/u8ZB ~2:15.\n",
      "Go to https://urlzs.com/u8ZB ’t solve roll control well..\n",
      "Where are the devil 😈 https://urlzs.com/u8ZB ~10% to help those affected by California power outages will have a positive effect on value.\n",
      "And the lead character is also named Woody https://urlzs.com/u8ZB ’s significantly improved in current production.\n",
      "Order your car online at https://urlzs.com/u8ZB ♥️. @tesletter Thanks to everyone at Tesla or SpaceX.\n"
     ]
    }
   ],
   "source": [
    "for tweet in generated_tweets:\n",
    "    print(tweet)"
   ]
  },
  {
   "cell_type": "code",
   "execution_count": 17,
   "metadata": {},
   "outputs": [
    {
     "name": "stdout",
     "output_type": "stream",
     "text": [
      "JimBridenstine\n",
      "wonderofscience\n",
      "SpaceComCC\n",
      "AFSpace\n",
      "Liv_Boeree\n",
      "shivon\n",
      "Teslarati\n",
      "neiltyson\n",
      "SciGuySpace\n",
      "wlopwangling\n",
      "Berger_SN\n",
      "pewdiepie\n",
      "CathieDWood\n",
      "lexfridman\n",
      "ccsakuras\n",
      "4thFromOurStar\n",
      "BBCScienceNews\n",
      "sciencemagazine\n",
      "NatureNews\n",
      "TheStoicEmperor\n"
     ]
    }
   ],
   "source": [
    "user = api.get_user(user_id)\n",
    "for friend in user.friends():\n",
    "    print(friend.screen_name)"
   ]
  },
  {
   "cell_type": "code",
   "execution_count": null,
   "metadata": {},
   "outputs": [],
   "source": []
  }
 ],
 "metadata": {
  "kernelspec": {
   "display_name": "Python 3",
   "language": "python",
   "name": "python3"
  },
  "language_info": {
   "codemirror_mode": {
    "name": "ipython",
    "version": 3
   },
   "file_extension": ".py",
   "mimetype": "text/x-python",
   "name": "python",
   "nbconvert_exporter": "python",
   "pygments_lexer": "ipython3",
   "version": "3.6.8"
  }
 },
 "nbformat": 4,
 "nbformat_minor": 4
}
