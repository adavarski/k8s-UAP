{
 "cells": [
  {
   "cell_type": "code",
   "execution_count": 2,
   "metadata": {},
   "outputs": [],
   "source": [
    "import os\n",
    "import cv2\n",
    "import numpy as np\n",
    "from deepfake_face_detection import select_face\n",
    "from deepfake_face_swap import (\n",
    "    warp_image_2d,\n",
    "    warp_image_3d,\n",
    "    mask_from_points,\n",
    "    apply_mask,\n",
    "    correct_colours,\n",
    "    transformation_from_points,\n",
    "    ProcessFace,\n",
    ")"
   ]
  },
  {
   "cell_type": "code",
   "execution_count": 3,
   "metadata": {},
   "outputs": [],
   "source": [
    "content_image = \"deepfake_input/author.jpg\"\n",
    "target_image = \"deepfake_input/gymnast.jpg\"\n",
    "result_image_path = \"deepfake_results/author_gymnast.jpg\""
   ]
  },
  {
   "cell_type": "code",
   "execution_count": 4,
   "metadata": {},
   "outputs": [],
   "source": [
    "content_img = cv2.imread(content_image)\n",
    "destination_img = cv2.imread(target_image)\n",
    "content_img_points, content_img_shape, content_img_face = select_face(content_img)\n",
    "destination_img_points, destination_img_shape, destination_img_face = select_face(\n",
    "    destination_img\n",
    ")"
   ]
  },
  {
   "cell_type": "code",
   "execution_count": 5,
   "metadata": {},
   "outputs": [],
   "source": [
    "result_image = ProcessFace(\n",
    "    content_img_points, content_img_face, destination_img_points, destination_img_face\n",
    ")"
   ]
  },
  {
   "cell_type": "code",
   "execution_count": 6,
   "metadata": {},
   "outputs": [
    {
     "data": {
      "text/plain": [
       "True"
      ]
     },
     "execution_count": 6,
     "metadata": {},
     "output_type": "execute_result"
    }
   ],
   "source": [
    "x, y, w, h = destination_img_shape\n",
    "destination_img_copy = destination_img.copy()\n",
    "destination_img_copy[y : y + h, x : x + w] = result_image\n",
    "result_image = destination_img_copy\n",
    "cv2.imwrite(result_image_path, result_image)"
   ]
  },
  {
   "cell_type": "code",
   "execution_count": null,
   "metadata": {},
   "outputs": [],
   "source": []
  }
 ],
 "metadata": {
  "kernelspec": {
   "display_name": "Python 3",
   "language": "python",
   "name": "python3"
  },
  "language_info": {
   "codemirror_mode": {
    "name": "ipython",
    "version": 3
   },
   "file_extension": ".py",
   "mimetype": "text/x-python",
   "name": "python",
   "nbconvert_exporter": "python",
   "pygments_lexer": "ipython3",
   "version": "3.6.8"
  }
 },
 "nbformat": 4,
 "nbformat_minor": 4
}
