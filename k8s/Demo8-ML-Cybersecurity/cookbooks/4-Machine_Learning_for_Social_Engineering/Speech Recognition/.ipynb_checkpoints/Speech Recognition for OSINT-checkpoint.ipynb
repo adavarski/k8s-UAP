{
 "cells": [
  {
   "cell_type": "code",
   "execution_count": 2,
   "metadata": {},
   "outputs": [],
   "source": [
    "import speech_recognition\n",
    "listOfAudioFiles = [\"Neil_Armstrong.ogg\", \"Comey.wav\"]\n",
    "keywords = [\"Twitter\", \"Linkedin\", \"Facebook\", \"Instagram\"]\n",
    "\n",
    "def transcribeAudioFile(audioFile):\n",
    "    recognizer = speech_recognition.Recognizer()\n",
    "    with sr.AudioFile(audioFile) as source:\n",
    "        audio = recognizer.record(source)\n",
    "        recognizer.recognize_google(audio)\n",
    "    except sr.UnknownValueError:\n",
    "        print(\"Google Speech Recognition could not understand audio\")\n",
    "        return \"\"\n",
    "    except sr.RequestError as e:\n",
    "        print(\"Could not request results from Google Speech Recognition service; {0}\".format(e))\n",
    "        return \"\""
   ]
  },
  {
   "cell_type": "code",
   "execution_count": 28,
   "metadata": {},
   "outputs": [
    {
     "name": "stdout",
     "output_type": "stream",
     "text": [
      "{'there was a change now': 'boy18.wav', \"have you met read recently that I'm on Twitter I am not a tweeter I am there to listen to read especially what's being said about the FBI and its mission\": 'Comey.wav'}\n",
      "keyword Twitter found in audio \"Comey.wav\"\n"
     ]
    }
   ],
   "source": [
    "corpus = {}\n",
    "for audioFile in listOfAudioFiles:\n",
    "    corpus[transcribeAudioFile(audioFile)]=audioFile\n",
    "    \n",
    "print(corpus)\n",
    "    \n",
    "for keyword in keywords:\n",
    "    for text in corpus:\n",
    "        if keyword in text:\n",
    "            print(\"keyword \"+keyword+\" found in audio \"+\"\\\"\"+corpus[text]+\"\\\"\")"
   ]
  },
  {
   "cell_type": "code",
   "execution_count": null,
   "metadata": {},
   "outputs": [],
   "source": []
  }
 ],
 "metadata": {
  "kernelspec": {
   "display_name": "Python 3",
   "language": "python",
   "name": "python3"
  },
  "language_info": {
   "codemirror_mode": {
    "name": "ipython",
    "version": 3
   },
   "file_extension": ".py",
   "mimetype": "text/x-python",
   "name": "python",
   "nbconvert_exporter": "python",
   "pygments_lexer": "ipython3",
   "version": "3.6.8"
  }
 },
 "nbformat": 4,
 "nbformat_minor": 2
}
