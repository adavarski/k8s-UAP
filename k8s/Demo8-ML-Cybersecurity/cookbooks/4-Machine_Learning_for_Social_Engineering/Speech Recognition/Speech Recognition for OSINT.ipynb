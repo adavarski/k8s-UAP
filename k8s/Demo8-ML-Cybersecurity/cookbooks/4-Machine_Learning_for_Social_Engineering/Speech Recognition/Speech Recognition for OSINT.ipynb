{
 "cells": [
  {
   "cell_type": "code",
   "execution_count": 2,
   "metadata": {},
   "outputs": [],
   "source": [
    "import speech_recognition\n",
    "\n",
    "list_of_audio_files = [\"Eleanor_Roosevelt.wav\", \"Comey.wav\"]\n",
    "keywords = [\"Twitter\", \"Linkedin\", \"Facebook\", \"Instagram\", \"password\", \"FBI\"]"
   ]
  },
  {
   "cell_type": "code",
   "execution_count": 3,
   "metadata": {},
   "outputs": [],
   "source": [
    "def transcribe_audio_file_to_text(audio_file):\n",
    "    \"\"\"Takes an audio file and produces a text transcription.\"\"\"\n",
    "    recognizer = speech_recognition.Recognizer()\n",
    "    with speech_recognition.AudioFile(audio_file) as audio_source:\n",
    "        audio = recognizer.record(audio_source)\n",
    "        return recognizer.recognize_google(audio)"
   ]
  },
  {
   "cell_type": "code",
   "execution_count": 4,
   "metadata": {},
   "outputs": [
    {
     "name": "stdout",
     "output_type": "stream",
     "text": [
      "{\"I'm very glad to be able to take part in this celebration dim sum Direct on human rights day\": 'Eleanor_Roosevelt.wav', \"have you met read recently that I'm on Twitter I am not a tweeter I am there to listen to read especially what's being said about the FBI and its mission\": 'Comey.wav'}\n"
     ]
    }
   ],
   "source": [
    "audio_corpus = {}\n",
    "for audio_file in list_of_audio_files:\n",
    "    audio_corpus[transcribe_audio_file_to_text(audio_file)] = audio_file\n",
    "\n",
    "print(audio_corpus)"
   ]
  },
  {
   "cell_type": "code",
   "execution_count": 5,
   "metadata": {},
   "outputs": [
    {
     "name": "stdout",
     "output_type": "stream",
     "text": [
      "keyword Twitter found in audio \"Comey.wav\"\n",
      "keyword FBI found in audio \"Comey.wav\"\n"
     ]
    }
   ],
   "source": [
    "for keyword in keywords:\n",
    "    for transcription in audio_corpus:\n",
    "        if keyword in transcription:\n",
    "            print(\n",
    "                \"keyword \"\n",
    "                + keyword\n",
    "                + \" found in audio \"\n",
    "                + '\"'\n",
    "                + audio_corpus[transcription]\n",
    "                + '\"'\n",
    "            )"
   ]
  },
  {
   "cell_type": "code",
   "execution_count": null,
   "metadata": {},
   "outputs": [],
   "source": []
  }
 ],
 "metadata": {
  "kernelspec": {
   "display_name": "Python 3",
   "language": "python",
   "name": "python3"
  },
  "language_info": {
   "codemirror_mode": {
    "name": "ipython",
    "version": 3
   },
   "file_extension": ".py",
   "mimetype": "text/x-python",
   "name": "python",
   "nbconvert_exporter": "python",
   "pygments_lexer": "ipython3",
   "version": "3.6.8"
  }
 },
 "nbformat": 4,
 "nbformat_minor": 4
}
