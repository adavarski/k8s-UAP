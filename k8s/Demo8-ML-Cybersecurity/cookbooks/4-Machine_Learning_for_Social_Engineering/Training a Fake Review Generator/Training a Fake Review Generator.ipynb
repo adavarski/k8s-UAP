{
 "cells": [
  {
   "cell_type": "code",
   "execution_count": 12,
   "metadata": {},
   "outputs": [],
   "source": [
    "with open(\"airport_reviews_short.csv\", encoding=\"utf-8\") as fp:\n",
    "    reviews_text = fp.read()"
   ]
  },
  {
   "cell_type": "code",
   "execution_count": 13,
   "metadata": {},
   "outputs": [],
   "source": [
    "chars_list = sorted(list(set(reviews_text)))\n",
    "char_to_index_dict = {\n",
    "    character: chars_list.index(character) for character in chars_list\n",
    "}"
   ]
  },
  {
   "cell_type": "code",
   "execution_count": 14,
   "metadata": {},
   "outputs": [
    {
     "data": {
      "text/plain": [
       "{'\\n': 0,\n",
       " ' ': 1,\n",
       " '&': 2,\n",
       " \"'\": 3,\n",
       " '(': 4,\n",
       " ')': 5,\n",
       " '-': 6,\n",
       " '.': 7,\n",
       " '/': 8,\n",
       " '0': 9,\n",
       " '1': 10,\n",
       " '2': 11,\n",
       " '3': 12,\n",
       " '5': 13,\n",
       " 'A': 14,\n",
       " 'B': 15,\n",
       " 'D': 16,\n",
       " 'E': 17,\n",
       " 'F': 18,\n",
       " 'I': 19,\n",
       " 'J': 20,\n",
       " 'K': 21,\n",
       " 'L': 22,\n",
       " 'M': 23,\n",
       " 'N': 24,\n",
       " 'O': 25,\n",
       " 'S': 26,\n",
       " 'T': 27,\n",
       " 'U': 28,\n",
       " 'W': 29,\n",
       " 'X': 30,\n",
       " 'a': 31,\n",
       " 'b': 32,\n",
       " 'c': 33,\n",
       " 'd': 34,\n",
       " 'e': 35,\n",
       " 'f': 36,\n",
       " 'g': 37,\n",
       " 'h': 38,\n",
       " 'i': 39,\n",
       " 'j': 40,\n",
       " 'k': 41,\n",
       " 'l': 42,\n",
       " 'm': 43,\n",
       " 'n': 44,\n",
       " 'o': 45,\n",
       " 'p': 46,\n",
       " 'q': 47,\n",
       " 'r': 48,\n",
       " 's': 49,\n",
       " 't': 50,\n",
       " 'u': 51,\n",
       " 'v': 52,\n",
       " 'w': 53,\n",
       " 'x': 54,\n",
       " 'y': 55}"
      ]
     },
     "execution_count": 14,
     "metadata": {},
     "output_type": "execute_result"
    }
   ],
   "source": [
    "char_to_index_dict"
   ]
  },
  {
   "cell_type": "code",
   "execution_count": 15,
   "metadata": {},
   "outputs": [],
   "source": [
    "import keras\n",
    "from keras import layers\n",
    "\n",
    "max_length = 40\n",
    "rnn = keras.models.Sequential()\n",
    "rnn.add(\n",
    "    layers.LSTM(1024, input_shape=(max_length, len(chars_list)), return_sequences=True)\n",
    ")\n",
    "rnn.add(layers.LSTM(1024, input_shape=(max_length, len(chars_list))))\n",
    "rnn.add(layers.Dense(len(chars_list), activation=\"softmax\"))"
   ]
  },
  {
   "cell_type": "code",
   "execution_count": 16,
   "metadata": {},
   "outputs": [],
   "source": [
    "optimizer = keras.optimizers.SGD(lr=0.01, decay=1e-6, nesterov=True)\n",
    "rnn.compile(loss=\"categorical_crossentropy\", optimizer=optimizer)"
   ]
  },
  {
   "cell_type": "code",
   "execution_count": 17,
   "metadata": {},
   "outputs": [],
   "source": [
    "import numpy as np\n",
    "\n",
    "\n",
    "def text_to_vector(input_txt, max_length):\n",
    "    \"\"\"Reads in the text and vectorizes it.\n",
    "    X will consist of consecutive sequences of characters. \n",
    "    Y will consist of the next character.\n",
    "    \"\"\"\n",
    "    sentences = []\n",
    "    next_characters = []\n",
    "    for i in range(0, len(input_txt) - max_length):\n",
    "        sentences.append(input_txt[i : i + max_length])\n",
    "        next_characters.append(input_txt[i + max_length])\n",
    "    X = np.zeros((len(sentences), max_length, len(chars_list)))\n",
    "    y = np.zeros((len(sentences), len(chars_list)))\n",
    "    for i, sentence in enumerate(sentences):\n",
    "        for t, char in enumerate(sentence):\n",
    "            X[i, t, char_to_index_dict[char]] = 1\n",
    "            y[i, char_to_index_dict[next_characters[i]]] = 1\n",
    "    return [X, y]"
   ]
  },
  {
   "cell_type": "code",
   "execution_count": 18,
   "metadata": {},
   "outputs": [
    {
     "name": "stdout",
     "output_type": "stream",
     "text": [
      "Epoch 1/1\n",
      "1378/1378 [==============================] - 28s 21ms/step - loss: 4.0211\n"
     ]
    },
    {
     "data": {
      "text/plain": [
       "<keras.callbacks.callbacks.History at 0x2263dc149b0>"
      ]
     },
     "execution_count": 18,
     "metadata": {},
     "output_type": "execute_result"
    }
   ],
   "source": [
    "X, y = text_to_vector(reviews_text, max_length)\n",
    "rnn.fit(X, y, batch_size=256, epochs=1)"
   ]
  },
  {
   "cell_type": "code",
   "execution_count": 19,
   "metadata": {},
   "outputs": [],
   "source": [
    "rnn.save_weights(\"weights.hdf5\")"
   ]
  },
  {
   "cell_type": "code",
   "execution_count": null,
   "metadata": {},
   "outputs": [],
   "source": []
  }
 ],
 "metadata": {
  "kernelspec": {
   "display_name": "Python 3",
   "language": "python",
   "name": "python3"
  },
  "language_info": {
   "codemirror_mode": {
    "name": "ipython",
    "version": 3
   },
   "file_extension": ".py",
   "mimetype": "text/x-python",
   "name": "python",
   "nbconvert_exporter": "python",
   "pygments_lexer": "ipython3",
   "version": "3.6.8"
  }
 },
 "nbformat": 4,
 "nbformat_minor": 4
}
