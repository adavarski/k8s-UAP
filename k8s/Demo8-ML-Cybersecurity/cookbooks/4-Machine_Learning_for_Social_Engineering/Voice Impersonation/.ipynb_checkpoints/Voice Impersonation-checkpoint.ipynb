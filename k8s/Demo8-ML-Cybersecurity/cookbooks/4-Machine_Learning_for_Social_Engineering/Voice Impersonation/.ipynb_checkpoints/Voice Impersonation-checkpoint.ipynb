{
 "cells": [
  {
   "cell_type": "code",
   "execution_count": 4,
   "metadata": {},
   "outputs": [],
   "source": [
    "import math\n",
    "from torch.autograd import Variable\n",
    "from voice_impersonation_utils import *\n",
    "from voice_impersonation_model import *"
   ]
  },
  {
   "cell_type": "code",
   "execution_count": 9,
   "metadata": {},
   "outputs": [],
   "source": [
    "input_files = \"voice_impersonation_input/\"\n",
    "content_file = input_files + \"Neil_Armstrong.ogg\"\n",
    "style_file = input_files + \"Eleanor_Roosevelt.wav\""
   ]
  },
  {
   "cell_type": "code",
   "execution_count": 10,
   "metadata": {},
   "outputs": [
    {
     "data": {
      "text/plain": [
       "RandomCNN(\n",
       "  (conv1): Conv2d(1, 32, kernel_size=(3, 1), stride=(1, 1))\n",
       "  (LeakyReLU): LeakyReLU(negative_slope=0.2)\n",
       ")"
      ]
     },
     "execution_count": 10,
     "metadata": {},
     "output_type": "execute_result"
    }
   ],
   "source": [
    "audio_content, sampling_rate = wav2spectrum(content_file)\n",
    "audio_style, sampling_rate = wav2spectrum(style_file)\n",
    "audio_content_torch = torch.from_numpy(audio_content)[None, None, :, :]\n",
    "audio_style_torch = torch.from_numpy(audio_style)[None, None, :, :]\n",
    "voice_impersonation_model = RandomCNN()\n",
    "voice_impersonation_model.eval()"
   ]
  },
  {
   "cell_type": "code",
   "execution_count": 11,
   "metadata": {},
   "outputs": [],
   "source": [
    "audio_content_variable = Variable(audio_content_torch, requires_grad=False).float()\n",
    "audio_style_variable = Variable(audio_style_torch, requires_grad=False).float()\n",
    "audio_content = voice_impersonation_model(audio_content_variable)\n",
    "audio_style = voice_impersonation_model(audio_style_variable)\n",
    "\n",
    "learning_rate = 0.003\n",
    "audio_G_var = Variable(torch.randn(audio_content_torch.shape) * 1e-3, requires_grad=True)\n",
    "opt = torch.optim.Adam([audio_G_var])\n",
    "\n",
    "style_param = 0.9\n",
    "content_param = 5e2\n",
    "\n",
    "num_epochs = 30000\n",
    "print_frequency = 1000"
   ]
  },
  {
   "cell_type": "code",
   "execution_count": null,
   "metadata": {},
   "outputs": [],
   "source": [
    "start = time.time()\n",
    "for epoch in range(1, num_epochs + 1):\n",
    "    opt.zero_grad()\n",
    "    audio_G = voice_impersonation_model(audio_G_var)\n",
    "\n",
    "    content_loss = content_param * compute_content_loss(audio_content, audio_G)\n",
    "    style_loss = style_param * compute_layer_style_loss(audio_style, audio_G)\n",
    "    loss = content_loss + style_loss\n",
    "    loss.backward()\n",
    "    opt.step()\n",
    "\n",
    "    \n",
    "    if epoch % print_frequency == 0:\n",
    "        print(\"epoch: \"+epoch)\n",
    "        print(\"content loss: \"+content_loss.item())\n",
    "        print(\"style loss: \"+style_loss.item())\n",
    "        print(\"loss: \"+loss.item())"
   ]
  },
  {
   "cell_type": "code",
   "execution_count": null,
   "metadata": {},
   "outputs": [],
   "source": [
    "gen_spectrum = audio_G_var.cpu().data.numpy().squeeze()\n",
    "output_audio_name = \"Eleanor_saying_one_small_step.wav\"\n",
    "spectrum2wav(gen_spectrum, sampling_rate, output_audio_name)"
   ]
  }
 ],
 "metadata": {
  "kernelspec": {
   "display_name": "Python 3",
   "language": "python",
   "name": "python3"
  },
  "language_info": {
   "codemirror_mode": {
    "name": "ipython",
    "version": 3
   },
   "file_extension": ".py",
   "mimetype": "text/x-python",
   "name": "python",
   "nbconvert_exporter": "python",
   "pygments_lexer": "ipython3",
   "version": "3.6.8"
  }
 },
 "nbformat": 4,
 "nbformat_minor": 2
}
