{
 "cells": [
  {
   "cell_type": "code",
   "execution_count": 2,
   "metadata": {},
   "outputs": [],
   "source": [
    "import math\n",
    "from torch.autograd import Variable\n",
    "from voice_impersonation_utils import *\n",
    "from voice_impersonation_model import *"
   ]
  },
  {
   "cell_type": "code",
   "execution_count": 3,
   "metadata": {},
   "outputs": [],
   "source": [
    "input_files = \"voice_impersonation_input/\"\n",
    "content_file = input_files + \"male_voice.wav\"\n",
    "style_file = input_files + \"Eleanor_Roosevelt.wav\""
   ]
  },
  {
   "cell_type": "code",
   "execution_count": 4,
   "metadata": {},
   "outputs": [
    {
     "data": {
      "text/plain": [
       "RandomCNN(\n",
       "  (conv1): Conv2d(1, 32, kernel_size=(3, 1), stride=(1, 1))\n",
       "  (LeakyReLU): LeakyReLU(negative_slope=0.2)\n",
       ")"
      ]
     },
     "execution_count": 4,
     "metadata": {},
     "output_type": "execute_result"
    }
   ],
   "source": [
    "audio_content, sampling_rate = wav2spectrum(content_file)\n",
    "audio_style, sampling_rate = wav2spectrum(style_file)\n",
    "audio_content_torch = torch.from_numpy(audio_content)[None, None, :, :]\n",
    "audio_style_torch = torch.from_numpy(audio_style)[None, None, :, :]\n",
    "voice_impersonation_model = RandomCNN()\n",
    "voice_impersonation_model.eval()"
   ]
  },
  {
   "cell_type": "code",
   "execution_count": 5,
   "metadata": {},
   "outputs": [],
   "source": [
    "audio_content_variable = Variable(audio_content_torch, requires_grad=False).float()\n",
    "audio_style_variable = Variable(audio_style_torch, requires_grad=False).float()\n",
    "audio_content = voice_impersonation_model(audio_content_variable)\n",
    "audio_style = voice_impersonation_model(audio_style_variable)\n",
    "\n",
    "learning_rate = 0.003\n",
    "audio_G_var = Variable(\n",
    "    torch.randn(audio_content_torch.shape) * 1e-3, requires_grad=True\n",
    ")\n",
    "opt = torch.optim.Adam([audio_G_var])\n",
    "\n",
    "style_param = 1\n",
    "content_param = 5e2\n",
    "\n",
    "num_epochs = 500\n",
    "print_frequency = 50"
   ]
  },
  {
   "cell_type": "code",
   "execution_count": 6,
   "metadata": {},
   "outputs": [
    {
     "name": "stdout",
     "output_type": "stream",
     "text": [
      "epoch: 50\n",
      "content loss: 46.61996841430664\n",
      "style loss: 546.4484252929688\n",
      "loss: 593.0684204101562\n",
      "epoch: 100\n",
      "content loss: 42.155818939208984\n",
      "style loss: 523.2269287109375\n",
      "loss: 565.3827514648438\n",
      "epoch: 150\n",
      "content loss: 38.336341857910156\n",
      "style loss: 488.7856750488281\n",
      "loss: 527.1220092773438\n",
      "epoch: 200\n",
      "content loss: 35.36016082763672\n",
      "style loss: 449.9360046386719\n",
      "loss: 485.2961730957031\n",
      "epoch: 250\n",
      "content loss: 32.985469818115234\n",
      "style loss: 411.0228271484375\n",
      "loss: 444.00830078125\n",
      "epoch: 300\n",
      "content loss: 30.958057403564453\n",
      "style loss: 373.3154296875\n",
      "loss: 404.27349853515625\n",
      "epoch: 350\n",
      "content loss: 29.16558837890625\n",
      "style loss: 336.8212890625\n",
      "loss: 365.98687744140625\n",
      "epoch: 400\n",
      "content loss: 27.59528160095215\n",
      "style loss: 301.69134521484375\n",
      "loss: 329.28662109375\n",
      "epoch: 450\n",
      "content loss: 26.24138069152832\n",
      "style loss: 268.2904052734375\n",
      "loss: 294.53179931640625\n",
      "epoch: 500\n",
      "content loss: 25.084564208984375\n",
      "style loss: 236.98492431640625\n",
      "loss: 262.0694885253906\n"
     ]
    }
   ],
   "source": [
    "for epoch in range(1, num_epochs + 1):\n",
    "    opt.zero_grad()\n",
    "    audio_G = voice_impersonation_model(audio_G_var)\n",
    "\n",
    "    content_loss = content_param * compute_content_loss(audio_content, audio_G)\n",
    "    style_loss = style_param * compute_layer_style_loss(audio_style, audio_G)\n",
    "    loss = content_loss + style_loss\n",
    "    loss.backward()\n",
    "    opt.step()\n",
    "\n",
    "    if epoch % print_frequency == 0:\n",
    "        print(\"epoch: \" + str(epoch))\n",
    "        print(\"content loss: \" + str(content_loss.item()))\n",
    "        print(\"style loss: \" + str(style_loss.item()))\n",
    "        print(\"loss: \" + str(loss.item()))"
   ]
  },
  {
   "cell_type": "code",
   "execution_count": 7,
   "metadata": {},
   "outputs": [],
   "source": [
    "gen_spectrum = audio_G_var.cpu().data.numpy().squeeze()\n",
    "output_audio_name = \"Eleanor_saying_there_was_a_change_now.wav\"\n",
    "spectrum2wav(gen_spectrum, sampling_rate, output_audio_name)"
   ]
  },
  {
   "cell_type": "code",
   "execution_count": null,
   "metadata": {},
   "outputs": [],
   "source": []
  }
 ],
 "metadata": {
  "kernelspec": {
   "display_name": "Python 3",
   "language": "python",
   "name": "python3"
  },
  "language_info": {
   "codemirror_mode": {
    "name": "ipython",
    "version": 3
   },
   "file_extension": ".py",
   "mimetype": "text/x-python",
   "name": "python",
   "nbconvert_exporter": "python",
   "pygments_lexer": "ipython3",
   "version": "3.6.8"
  }
 },
 "nbformat": 4,
 "nbformat_minor": 4
}
