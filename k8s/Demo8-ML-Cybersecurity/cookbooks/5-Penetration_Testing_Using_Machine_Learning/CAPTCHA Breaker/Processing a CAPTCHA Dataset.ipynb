{
 "cells": [
  {
   "cell_type": "code",
   "execution_count": 2,
   "metadata": {},
   "outputs": [],
   "source": [
    "import os\n",
    "\n",
    "captcha_images_folder = \"captcha_images\"\n",
    "captchas = [\n",
    "    os.path.join(captcha_images_folder, f) for f in os.listdir(captcha_images_folder)\n",
    "]"
   ]
  },
  {
   "cell_type": "code",
   "execution_count": 4,
   "metadata": {},
   "outputs": [],
   "source": [
    "import cv2\n",
    "\n",
    "\n",
    "def preprocess_CAPTCHA(img):\n",
    "    \"\"\"Takes a CAPTCHA image and thresholds it.\"\"\"\n",
    "    gray = cv2.cvtColor(img, cv2.COLOR_BGR2GRAY)\n",
    "    gray_with_border = cv2.copyMakeBorder(gray, 8, 8, 8, 8, cv2.BORDER_REPLICATE)\n",
    "    preprocessed = cv2.threshold(\n",
    "        gray_with_border, 0, 255, cv2.THRESH_BINARY_INV | cv2.THRESH_OTSU\n",
    "    )[1]\n",
    "    return gray_with_border, preprocessed"
   ]
  },
  {
   "cell_type": "code",
   "execution_count": 5,
   "metadata": {},
   "outputs": [],
   "source": [
    "def get_CAPTCHA_label(path_to_file):\n",
    "    \"\"\"Get the CAPTCHA text from the file name.\"\"\"\n",
    "    filename = os.path.basename(path_to_file)\n",
    "    label = filename.split(\".\")[0]\n",
    "    return label"
   ]
  },
  {
   "cell_type": "code",
   "execution_count": 6,
   "metadata": {},
   "outputs": [],
   "source": [
    "def find_bounding_rectangles_of_contours(contours):\n",
    "    \"\"\"Determines the bounding rectangles of the contours of the cropped letters.\"\"\"\n",
    "    letter_bounding_rectangles = []\n",
    "    for contour in contours:\n",
    "        (x, y, w, h) = cv2.boundingRect(contour)\n",
    "        if w / h > 1.25:\n",
    "            half_width = int(w / 2)\n",
    "            letter_bounding_rectangles.append((x, y, half_width, h))\n",
    "            letter_bounding_rectangles.append((x + half_width, y, half_width, h))\n",
    "        else:\n",
    "            letter_bounding_rectangles.append((x, y, w, h))\n",
    "    return letter_bounding_rectangles"
   ]
  },
  {
   "cell_type": "code",
   "execution_count": 7,
   "metadata": {},
   "outputs": [],
   "source": [
    "def CAPTCHA_to_gray_scale_and_bounding_rectangles(captcha_image_file):\n",
    "    \"\"\"Take a CAPTCHA and output a grayscale version as well as the bounding rectangles of its cropped letters.\"\"\"\n",
    "    image = cv2.imread(captcha_image_file)\n",
    "    gray, preprocessed = preprocess_CAPTCHA(image)\n",
    "    contours = cv2.findContours(\n",
    "        preprocessed.copy(), cv2.RETR_EXTERNAL, cv2.CHAIN_APPROX_SIMPLE\n",
    "    )\n",
    "    contours = contours[0]\n",
    "    letter_bounding_rectangles = find_bounding_rectangles_of_contours(contours)\n",
    "    letter_bounding_rectangles = sorted(letter_bounding_rectangles, key=lambda x: x[0])\n",
    "    return gray, letter_bounding_rectangles"
   ]
  },
  {
   "cell_type": "code",
   "execution_count": 8,
   "metadata": {},
   "outputs": [],
   "source": [
    "def bounding_rectangle_to_letter_image(letter_bounding_box, grayscaled):\n",
    "    \"\"\"Obtains the letter defined by a bounding box.\"\"\"\n",
    "    x, y, w, h = letter_bounding_box\n",
    "    letter_image = grayscaled[y - 2 : y + h + 2, x - 2 : x + w + 2]\n",
    "    return letter_image"
   ]
  },
  {
   "cell_type": "code",
   "execution_count": 9,
   "metadata": {},
   "outputs": [],
   "source": [
    "captcha_processing_output_folder = \"extracted_letter_images\"\n",
    "character_counts = {}\n",
    "\n",
    "\n",
    "def crop_bounding_rectangles_and_save_to_file(\n",
    "    letter_bounding_rectangles, gray, captcha_label\n",
    "):\n",
    "    \"\"\"Saves the individual letters of a CAPTCHA.\"\"\"\n",
    "    for letter_bounding_rectangle, current_letter in zip(\n",
    "        letter_bounding_rectangles, captcha_label\n",
    "    ):\n",
    "        letter_image = bounding_rectangle_to_letter_image(\n",
    "            letter_bounding_rectangle, gray\n",
    "        )\n",
    "\n",
    "        save_path = os.path.join(captcha_processing_output_folder, current_letter)\n",
    "        if not os.path.exists(save_path):\n",
    "            os.makedirs(save_path)\n",
    "\n",
    "        character_count = character_counts.get(current_letter, 1)\n",
    "\n",
    "        p = os.path.join(save_path, str(character_count) + \".png\")\n",
    "        cv2.imwrite(p, letter_image)\n",
    "\n",
    "        character_counts[current_letter] = character_count + 1"
   ]
  },
  {
   "cell_type": "code",
   "execution_count": 10,
   "metadata": {},
   "outputs": [],
   "source": [
    "import imutils\n",
    "import numpy as np\n",
    "\n",
    "for captcha_image_file in captchas:\n",
    "    captcha_label = get_CAPTCHA_label(captcha_image_file)\n",
    "    gray, letter_bounding_rectangles = CAPTCHA_to_gray_scale_and_bounding_rectangles(\n",
    "        captcha_image_file\n",
    "    )\n",
    "    if len(letter_bounding_rectangles) != 4:\n",
    "        continue\n",
    "    crop_bounding_rectangles_and_save_to_file(\n",
    "        letter_bounding_rectangles, gray, captcha_label\n",
    "    )"
   ]
  }
 ],
 "metadata": {
  "kernelspec": {
   "display_name": "Python 3",
   "language": "python",
   "name": "python3"
  },
  "language_info": {
   "codemirror_mode": {
    "name": "ipython",
    "version": 3
   },
   "file_extension": ".py",
   "mimetype": "text/x-python",
   "name": "python",
   "nbconvert_exporter": "python",
   "pygments_lexer": "ipython3",
   "version": "3.7.5"
  }
 },
 "nbformat": 4,
 "nbformat_minor": 4
}
