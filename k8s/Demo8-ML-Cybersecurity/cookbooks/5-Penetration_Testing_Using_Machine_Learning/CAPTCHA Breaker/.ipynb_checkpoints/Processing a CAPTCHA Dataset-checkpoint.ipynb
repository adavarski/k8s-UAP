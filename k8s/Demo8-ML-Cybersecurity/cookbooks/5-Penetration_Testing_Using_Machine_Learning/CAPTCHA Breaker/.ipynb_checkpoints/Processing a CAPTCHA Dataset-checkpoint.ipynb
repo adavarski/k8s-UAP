{
 "cells": [
  {
   "cell_type": "code",
   "execution_count": null,
   "metadata": {},
   "outputs": [],
   "source": [
    "import os\n",
    "captcha_images_folder = \"captcha_images\"\n",
    "captchas = [os.path.join(captcha_images_folder,f) for f in os.listdir(captcha_images_folder)]"
   ]
  },
  {
   "cell_type": "code",
   "execution_count": null,
   "metadata": {},
   "outputs": [],
   "source": [
    "import cv2\n",
    "def preprocessCAPTCHA(img):\n",
    "    gray = cv2.cvtColor(img, cv2.COLOR_BGR2GRAY)\n",
    "    grayWBorder = cv2.copyMakeBorder(gray, 8, 8, 8, 8, cv2.BORDER_REPLICATE)\n",
    "    preprocessed = cv2.threshold(grayWBorder, 0, 255, cv2.THRESH_BINARY_INV | cv2.THRESH_OTSU)[1]\n",
    "    return grayWBorder, preprocessed"
   ]
  },
  {
   "cell_type": "code",
   "execution_count": null,
   "metadata": {},
   "outputs": [],
   "source": [
    "def getCAPTCHAlabel(pathToFile):\n",
    "    filename = os.path.basename(pathToFile)\n",
    "    label = filename.split(\".\")[0]\n",
    "    return label"
   ]
  },
  {
   "cell_type": "code",
   "execution_count": null,
   "metadata": {},
   "outputs": [],
   "source": [
    "def findBoundingRectanglesOfContours(contours):\n",
    "    letter_bounding_rectangles = []\n",
    "    for contour in contours:\n",
    "        (x, y, w, h) = cv2.boundingRect(contour)\n",
    "        if w / h > 1.25:\n",
    "            half_width = int(w / 2)\n",
    "            letter_bounding_rectangles.append((x, y, half_width, h))\n",
    "            letter_bounding_rectangles.append((x + half_width, y, half_width, h))\n",
    "        else:\n",
    "            letter_bounding_rectangles.append((x, y, w, h))\n",
    "    return letter_bounding_rectangles"
   ]
  },
  {
   "cell_type": "code",
   "execution_count": null,
   "metadata": {},
   "outputs": [],
   "source": [
    "def CAPTCHAtoGrayscaleAndBoundingRectangles(captcha_image_file):\n",
    "    image = cv2.imread(captcha_image_file)\n",
    "    gray, preprocessed = preprocessCAPTCHA(image)\n",
    "    contours = cv2.findContours(preprocessed.copy(), cv2.RETR_EXTERNAL, cv2.CHAIN_APPROX_SIMPLE)\n",
    "    contours = contours[0]\n",
    "    letter_bounding_rectangles = findBoundingRectanglesOfContours(contours)\n",
    "    letter_bounding_rectangles = sorted(letter_bounding_rectangles, key=lambda x: x[0])\n",
    "    return gray, letter_bounding_rectangles"
   ]
  },
  {
   "cell_type": "code",
   "execution_count": null,
   "metadata": {},
   "outputs": [],
   "source": [
    "def boundingRectangleToLetterImage(letter_bounding_box, grayscaled):\n",
    "    x, y, w, h = letter_bounding_box\n",
    "    letter_image = grayscaled[y - 2:y + h + 2, x - 2:x + w + 2]\n",
    "    return letter_image"
   ]
  },
  {
   "cell_type": "code",
   "execution_count": null,
   "metadata": {},
   "outputs": [],
   "source": [
    "captcha_processing_output_folder = \"extracted_letter_images\"\n",
    "character_counts = {}\n",
    "def cropBoundingRectanglesAndSaveToFile(letter_bounding_rectangles, gray, captcha_label):\n",
    "    for letter_bounding_rectangle, current_letter in zip(letter_bounding_rectangles, captcha_label):\n",
    "        letter_image = boundingRectangleToLetterImage(letter_bounding_rectangle, gray)\n",
    "        \n",
    "        save_path = os.path.join(captcha_processing_output_folder, current_letter)\n",
    "        if not os.path.exists(save_path):\n",
    "            os.makedirs(save_path)\n",
    "            \n",
    "        character_count = character_counts.get(current_letter, 1)\n",
    "        \n",
    "        p = os.path.join(save_path, str(character_count)+\".png\")\n",
    "        cv2.imwrite(p, letter_image)\n",
    "\n",
    "        character_counts[current_letter] = character_count + 1 "
   ]
  },
  {
   "cell_type": "code",
   "execution_count": null,
   "metadata": {},
   "outputs": [],
   "source": [
    "import imutils\n",
    "import numpy as np\n",
    "\n",
    "for captcha_image_file in captchas:\n",
    "    captcha_label = getCAPTCHAlabel(captcha_image_file)\n",
    "    gray, letter_bounding_rectangles = CAPTCHAtoGrayscaleAndBoundingRectangles(captcha_image_file)\n",
    "    if len(letter_bounding_rectangles) != 4:\n",
    "        continue\n",
    "    cropBoundingRectanglesAndSaveToFile(letter_bounding_rectangles, gray, captcha_label)"
   ]
  }
 ],
 "metadata": {
  "kernelspec": {
   "display_name": "Python 3",
   "language": "python",
   "name": "python3"
  },
  "language_info": {
   "codemirror_mode": {
    "name": "ipython",
    "version": 3
   },
   "file_extension": ".py",
   "mimetype": "text/x-python",
   "name": "python",
   "nbconvert_exporter": "python",
   "pygments_lexer": "ipython3",
   "version": "3.6.8"
  }
 },
 "nbformat": 4,
 "nbformat_minor": 2
}
