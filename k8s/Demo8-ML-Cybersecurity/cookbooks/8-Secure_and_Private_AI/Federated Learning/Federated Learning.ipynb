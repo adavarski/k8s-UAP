{
 "cells": [
  {
   "cell_type": "code",
   "execution_count": 20,
   "metadata": {},
   "outputs": [],
   "source": [
    "import tensorflow as tf\n",
    "\n",
    "tf.compat.v1.enable_v2_behavior()"
   ]
  },
  {
   "cell_type": "code",
   "execution_count": 21,
   "metadata": {},
   "outputs": [],
   "source": [
    "import tensorflow_datasets as tfds\n",
    "\n",
    "first_50_percent = tfds.Split.TRAIN.subsplit(tfds.percent[:50])\n",
    "last_50_percent = tfds.Split.TRAIN.subsplit(tfds.percent[-50:])\n",
    "\n",
    "alice_dataset = tfds.load(\"fashion_mnist\", split=first_50_percent)\n",
    "bob_dataset = tfds.load(\"fashion_mnist\", split=last_50_percent)"
   ]
  },
  {
   "cell_type": "code",
   "execution_count": 22,
   "metadata": {},
   "outputs": [],
   "source": [
    "import collections\n",
    "\n",
    "BATCH_SIZE = 32\n",
    "\n",
    "\n",
    "def cast(element):\n",
    "    \"\"\"Casts an image's pixels into float32.\"\"\"\n",
    "    out = {}\n",
    "    out[\"image\"] = tf.image.convert_image_dtype(element[\"image\"], dtype=tf.float32)\n",
    "    out[\"label\"] = element[\"label\"]\n",
    "    return out\n",
    "\n",
    "\n",
    "def flatten(element):\n",
    "    \"\"\"Flattens an image in preparation for the neural network.\"\"\"\n",
    "    return collections.OrderedDict(\n",
    "        [\n",
    "            (\"x\", tf.reshape(element[\"image\"], [-1])),\n",
    "            (\"y\", tf.reshape(element[\"label\"], [1])),\n",
    "        ]\n",
    "    )\n",
    "\n",
    "\n",
    "def preprocess(dataset):\n",
    "    \"\"\"Preprocesses images to be fed into neural network.\"\"\"\n",
    "    return dataset.map(cast).map(flatten).batch(BATCH_SIZE)"
   ]
  },
  {
   "cell_type": "code",
   "execution_count": 23,
   "metadata": {},
   "outputs": [],
   "source": [
    "preprocessed_alice_dataset = preprocess(alice_dataset)\n",
    "preprocessed_bob_dataset = preprocess(bob_dataset)"
   ]
  },
  {
   "cell_type": "code",
   "execution_count": 24,
   "metadata": {},
   "outputs": [],
   "source": [
    "federated_data = [preprocessed_alice_dataset, preprocessed_bob_dataset]"
   ]
  },
  {
   "cell_type": "code",
   "execution_count": 25,
   "metadata": {},
   "outputs": [],
   "source": [
    "from tensorflow.python.keras.optimizer_v2 import gradient_descent\n",
    "\n",
    "LEARNING_RATE = 0.02\n",
    "\n",
    "\n",
    "def custom_loss_function(y_true, y_pred):\n",
    "    \"\"\"Custom loss function.\"\"\"\n",
    "    return tf.reduce_mean(\n",
    "        tf.keras.losses.sparse_categorical_crossentropy(y_true, y_pred)\n",
    "    )\n",
    "\n",
    "\n",
    "def create_compiled_keras_model():\n",
    "    \"\"\"Compiles the keras model.\"\"\"\n",
    "    model = tf.keras.models.Sequential(\n",
    "        [\n",
    "            tf.keras.layers.Dense(\n",
    "                10,\n",
    "                activation=tf.nn.softmax,\n",
    "                kernel_initializer=\"zeros\",\n",
    "                input_shape=(784,),\n",
    "            )\n",
    "        ]\n",
    "    )\n",
    "    model.compile(\n",
    "        loss=custom_loss_function,\n",
    "        optimizer=gradient_descent.SGD(learning_rate=LEARNING_RATE),\n",
    "        metrics=[tf.keras.metrics.SparseCategoricalAccuracy()],\n",
    "    )\n",
    "    return model"
   ]
  },
  {
   "cell_type": "code",
   "execution_count": 26,
   "metadata": {},
   "outputs": [],
   "source": [
    "batch_of_samples = tf.contrib.framework.nest.map_structure(\n",
    "    lambda x: x.numpy(), iter(preprocessed_alice_dataset).next()\n",
    ")\n",
    "\n",
    "\n",
    "def model_instance():\n",
    "    \"\"\"Instantiates the keras model.\"\"\"\n",
    "    keras_model = create_compiled_keras_model()\n",
    "    return tff.learning.from_compiled_keras_model(keras_model, batch_of_samples)"
   ]
  },
  {
   "cell_type": "code",
   "execution_count": 27,
   "metadata": {},
   "outputs": [],
   "source": [
    "from tensorflow_federated import python as tff\n",
    "\n",
    "federated_learning_iterative_process = tff.learning.build_federated_averaging_process(\n",
    "    model_instance\n",
    ")\n",
    "state = federated_learning_iterative_process.initialize()\n",
    "state, performance = federated_learning_iterative_process.next(state, federated_data)"
   ]
  },
  {
   "cell_type": "code",
   "execution_count": 28,
   "metadata": {},
   "outputs": [],
   "source": [
    "performance"
   ]
  },
  {
   "cell_type": "code",
   "execution_count": null,
   "metadata": {},
   "outputs": [],
   "source": []
  }
 ],
 "metadata": {
  "kernelspec": {
   "display_name": "Python 3",
   "language": "python",
   "name": "python3"
  },
  "language_info": {
   "codemirror_mode": {
    "name": "ipython",
    "version": 3
   },
   "file_extension": ".py",
   "mimetype": "text/x-python",
   "name": "python",
   "nbconvert_exporter": "python",
   "pygments_lexer": "ipython3",
   "version": "3.7.4"
  }
 },
 "nbformat": 4,
 "nbformat_minor": 4
}
