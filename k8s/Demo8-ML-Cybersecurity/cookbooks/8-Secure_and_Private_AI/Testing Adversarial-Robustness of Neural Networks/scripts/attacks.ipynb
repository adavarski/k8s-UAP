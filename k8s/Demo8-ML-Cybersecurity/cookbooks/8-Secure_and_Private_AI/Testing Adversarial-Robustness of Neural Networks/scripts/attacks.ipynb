{
 "cells": [
  {
   "cell_type": "code",
   "execution_count": 1,
   "metadata": {},
   "outputs": [
    {
     "name": "stdout",
     "output_type": "stream",
     "text": [
      "The history saving thread hit an unexpected error (DatabaseError('database disk image is malformed',)).History will not be written to the database.\n"
     ]
    }
   ],
   "source": [
    "import sys\n",
    "sys.path.insert(0, './../') \n",
    "%load_ext autoreload\n",
    "%autoreload 2\n",
    "%matplotlib inline\n",
    "\n",
    "import torch\n",
    "from torchvision import datasets, transforms\n",
    "\n",
    "import numpy as np\n",
    "from matplotlib import pyplot as plt\n",
    "import foolbox \n",
    "from foolbox import attacks as fa\n",
    "\n",
    "# own modules\n",
    "from abs_models import utils as u\n",
    "from abs_models import models as mz\n",
    "from abs_models import attack_utils as au"
   ]
  },
  {
   "cell_type": "code",
   "execution_count": 2,
   "metadata": {},
   "outputs": [
    {
     "name": "stdout",
     "output_type": "stream",
     "text": [
      "ABS model\n",
      "model loaded\n"
     ]
    }
   ],
   "source": [
    "model = mz.get_VAE(n_iter=10)              # ABS, do n_iter=50 for original model \n",
    "# model = mz.get_VAE(binary=True)           # ABS with scaling and binaryzation\n",
    "# model = mz.get_binary_CNN()               # Binary CNN\n",
    "# model = mz.get_CNN()                      # Vanilla CNN\n",
    "# model = mz.get_NearestNeighbor()          # Nearest Neighbor, \"nearest L2 dist to each class\"=logits\n",
    "# model = mz.get_madry()                    # Robust network from Madry et al. in tf"
   ]
  },
  {
   "cell_type": "code",
   "execution_count": 3,
   "metadata": {},
   "outputs": [],
   "source": [
    "# code is agnostic of pytorch/ tensorflow model --> foolbox model\n",
    "if model.code_base == 'tensorflow':\n",
    "    fmodel = foolbox.models.TensorFlowModel(model.x_input, model.pre_softmax, (0., 1.),\n",
    "                                            channel_axis=3)\n",
    "elif model.code_base == 'pytorch':\n",
    "    model.eval()\n",
    "    fmodel = foolbox.models.PyTorchModel(model,   # return logits in shape (bs, n_classes)\n",
    "                                         bounds=(0., 1.), num_classes=10,\n",
    "                                         device=u.dev())\n",
    "else:\n",
    "    print('not implemented')"
   ]
  },
  {
   "cell_type": "code",
   "execution_count": 5,
   "metadata": {},
   "outputs": [
    {
     "name": "stdout",
     "output_type": "stream",
     "text": [
      "score 0.988\n"
     ]
    }
   ],
   "source": [
    "# test model \n",
    "b, l = u.get_batch(bs=10000)  # returns random batch as np.array\n",
    "pred_label = np.argmax(fmodel.batch_predictions(b), axis=1)\n",
    "print('score', float(np.sum(pred_label == l)) / b.shape[0])"
   ]
  },
  {
   "cell_type": "markdown",
   "metadata": {},
   "source": [
    "# Decision based attacks\n",
    "Note that this is only demo code. All experiments were optimized to our compute architecture. "
   ]
  },
  {
   "cell_type": "code",
   "execution_count": 12,
   "metadata": {},
   "outputs": [],
   "source": [
    "b, l = u.get_batch(bs=1)  # returns random batch"
   ]
  },
  {
   "cell_type": "code",
   "execution_count": 13,
   "metadata": {},
   "outputs": [
    {
     "data": {
      "image/png": "[encoded data removed]",
      "text/plain": [
       "<matplotlib.figure.Figure at 0x7f0135a665f8>"
      ]
     },
     "metadata": {},
     "output_type": "display_data"
    },
    {
     "name": "stdout",
     "output_type": "stream",
     "text": [
      "runtime 31.859752893447876 seconds\n",
      "pred 3\n"
     ]
    },
    {
     "data": {
      "image/png": "[encoded data removed]",
      "text/plain": [
       "<matplotlib.figure.Figure at 0x7f0134e795c0>"
      ]
     },
     "metadata": {},
     "output_type": "display_data"
    }
   ],
   "source": [
    "import time\n",
    "start = time.time()\n",
    "att = fa.DeepFoolL2Attack(fmodel)\n",
    "metric = foolbox.distances.MSE\n",
    "criterion = foolbox.criteria.Misclassification()\n",
    "\n",
    "plt.imshow(b[0, 0], cmap='gray')\n",
    "plt.title('orig')\n",
    "plt.axis('off')\n",
    "plt.show()\n",
    "\n",
    "# Estimate gradients from scores\n",
    "if not model.has_grad: \n",
    "    GE = foolbox.gradient_estimators.CoordinateWiseGradientEstimator(0.1)\n",
    "    fmodel = foolbox.models.ModelWithEstimatedGradients(fmodel, GE)\n",
    "\n",
    "# gernate Adversarial\n",
    "a = foolbox.adversarial.Adversarial(fmodel, criterion, b[0], l[0], distance=metric)\n",
    "att(a)   \n",
    "\n",
    "print('runtime', time.time() - start, 'seconds')\n",
    "print('pred', np.argmax(fmodel.predictions(a.image)))\n",
    "if a.image is not None:   # attack was successful\n",
    "    plt.imshow(a.image[0], cmap='gray')\n",
    "    plt.title('adv')\n",
    "    plt.axis('off')\n",
    "    plt.show()"
   ]
  },
  {
   "cell_type": "markdown",
   "metadata": {},
   "source": [
    "# get Trash Adversarials"
   ]
  },
  {
   "cell_type": "code",
   "execution_count": 8,
   "metadata": {},
   "outputs": [],
   "source": [
    "from foolbox.gradient_estimators import CoordinateWiseGradientEstimator as CWGE"
   ]
  },
  {
   "cell_type": "code",
   "execution_count": 9,
   "metadata": {},
   "outputs": [
    {
     "name": "stderr",
     "output_type": "stream",
     "text": [
      "/usr/local/lib/python3.6/dist-packages/ipykernel_launcher.py:2: UserWarning: To copy construct from a tensor, it is recommended to use sourceTensor.clone().detach() or sourceTensor.clone().detach().requires_grad_(True), rather than torch.tensor(sourceTensor).\n",
      "  \n"
     ]
    }
   ],
   "source": [
    "a = np.random.random((1, 28, 28)).astype(np.float32)\n",
    "a_helper = torch.tensor(torch.from_numpy(a.copy()), requires_grad=True)\n",
    "fixed_class = 1\n",
    "GE = CWGE(1.)"
   ]
  },
  {
   "cell_type": "code",
   "execution_count": 10,
   "metadata": {},
   "outputs": [],
   "source": [
    "opti = torch.optim.SGD([a_helper], lr=1, momentum=0.95)"
   ]
  },
  {
   "cell_type": "code",
   "execution_count": null,
   "metadata": {},
   "outputs": [],
   "source": [
    "confidence_level = model.confidence_level    # abs 0.0000031, CNN 1439000, madry 60, 1-NN 0.000000000004\n",
    "logits_scale = model.logit_scale                     # ABS 430, madry 1, CNN 1, 1-NN 5\n",
    "\n",
    "a_orig = a\n",
    "plt.imshow(u.t2n(a[0]), cmap='gray')\n",
    "plt.show()\n",
    "\n",
    "for i in range(10000):\n",
    "    logits = fmodel.predictions(a)\n",
    "    probs = u.t2n(u.confidence_softmax(logits_scale*torch.from_numpy(logits[None, :]), dim=1, \n",
    "                  const=confidence_level))[0]\n",
    "    pred_class = np.argmax(u.t2n(logits).squeeze())\n",
    "    \n",
    "    if probs[fixed_class]>= 0.9:\n",
    "        break   \n",
    "    grads = GE(fmodel.batch_predictions, a, fixed_class, (0,1))\n",
    "\n",
    "    a = au.update_distal_adv(a, a_helper, grads, opti)\n",
    "    if i % 1000 == 0:\n",
    "        print(f'probs {probs[pred_class]:.3f} class', pred_class)\n",
    "        fig, ax = plt.subplots(1,3, squeeze=False, figsize=(10, 4))\n",
    "        ax[0, 0].imshow(u.t2n(a[0]), cmap='gray')\n",
    "        ax[0, 1].imshow(u.t2n(grads[0]), cmap='gray')\n",
    "        ax[0, 2].imshow(np.sign(grads[0]), cmap='gray')\n",
    "        plt.show()\n",
    "plt.imshow(u.t2n(a[0]), cmap='gray')\n",
    "plt.show()"
   ]
  },
  {
   "cell_type": "markdown",
   "metadata": {},
   "source": [
    "# Latent Descent Attack"
   ]
  },
  {
   "cell_type": "code",
   "execution_count": null,
   "metadata": {},
   "outputs": [],
   "source": [
    "# only for abs\n",
    "att = au.LineSearchAttack(model)   # BinaryLineSearchAttack\n",
    "b, l = u.get_batch(bs=200)\n",
    "\n",
    "advs = att(b, l, n_coarse_steps=50+1, n_ft_steps=2)\n",
    "\n",
    "for adv in advs:\n",
    "    adv['img'] = adv['img'].cpu().numpy()\n",
    "\n",
    "for i, (a_i, b_i) in enumerate(zip(advs, b)):\n",
    "    l2 = np.sqrt(a_i['distance'] * 784)  # convert from MSE\n",
    "\n",
    "    fig, ax = plt.subplots(1, 2, squeeze=False)\n",
    "    ax[0, 0].set_title(str(a_i['original_label']))\n",
    "    ax[0, 0].imshow(u.t2n(b_i[0]), cmap='gray')\n",
    "    ax[0, 1].set_title(str(a_i['adversarial_label']))\n",
    "    ax[0, 1].imshow(u.t2n(a_i['img'][0]), cmap='gray')\n",
    "    plt.show()\n",
    "    if i ==10:\n",
    "        break\n",
    "print('mean L2', np.mean([np.sqrt(a_i['distance'] * 784) for a_i in advs]))"
   ]
  }
 ],
 "metadata": {
  "kernelspec": {
   "display_name": "Python 3",
   "language": "python",
   "name": "python3"
  },
  "language_info": {
   "codemirror_mode": {
    "name": "ipython",
    "version": 3
   },
   "file_extension": ".py",
   "mimetype": "text/x-python",
   "name": "python",
   "nbconvert_exporter": "python",
   "pygments_lexer": "ipython3",
   "version": "3.6.4"
  }
 },
 "nbformat": 4,
 "nbformat_minor": 2
}
