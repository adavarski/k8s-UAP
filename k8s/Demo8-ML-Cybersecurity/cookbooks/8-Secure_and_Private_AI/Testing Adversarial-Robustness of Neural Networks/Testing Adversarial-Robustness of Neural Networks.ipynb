{
 "cells": [
  {
   "cell_type": "code",
   "execution_count": 16,
   "metadata": {},
   "outputs": [],
   "source": [
    "from abs_models import models\n",
    "from abs_models import utils\n",
    "\n",
    "ABS_model = models.get_VAE(n_iter=50)"
   ]
  },
  {
   "cell_type": "code",
   "execution_count": 17,
   "metadata": {},
   "outputs": [],
   "source": [
    "ABS_model"
   ]
  },
  {
   "cell_type": "code",
   "execution_count": 18,
   "metadata": {},
   "outputs": [],
   "source": [
    "batch = utils.get_batch()"
   ]
  },
  {
   "cell_type": "code",
   "execution_count": 19,
   "metadata": {},
   "outputs": [],
   "source": [
    "import numpy as np\n",
    "\n",
    "\n",
    "def predict_on_batch(model, batch, batch_size):\n",
    "    \"\"\"Predicts the digits of an MNIST batch.\"\"\"\n",
    "    preds = []\n",
    "    labels = []\n",
    "    for i in range(batch_size):\n",
    "        point, label = utils.get_batch()\n",
    "        labels.append(label[0])\n",
    "        tensor_point = utils.n2t(point)\n",
    "        logits = model(tensor_point)[0]\n",
    "        logits = [x for x in logits]\n",
    "        pred = np.argmax(logits)\n",
    "        preds.append(int(pred))\n",
    "    return preds, labels"
   ]
  },
  {
   "cell_type": "code",
   "execution_count": 20,
   "metadata": {},
   "outputs": [],
   "source": [
    "preds, labels = predict_on_batch(ABS_model, batch, 5)"
   ]
  },
  {
   "cell_type": "code",
   "execution_count": 21,
   "metadata": {},
   "outputs": [],
   "source": [
    "preds"
   ]
  },
  {
   "cell_type": "code",
   "execution_count": 22,
   "metadata": {},
   "outputs": [],
   "source": [
    "labels"
   ]
  },
  {
   "cell_type": "code",
   "execution_count": 23,
   "metadata": {},
   "outputs": [],
   "source": [
    "import foolbox\n",
    "\n",
    "if ABS_model.code_base == \"tensorflow\":\n",
    "    fmodel = foolbox.models.TensorFlowModel(\n",
    "        ABS_model.x_input, ABS_model.pre_softmax, (0.0, 1.0), channel_axis=3\n",
    "    )\n",
    "elif ABS_model.code_base == \"pytorch\":\n",
    "    ABS_model.eval()\n",
    "    fmodel = foolbox.models.PyTorchModel(\n",
    "        ABS_model, bounds=(0.0, 1.0), num_classes=10, device=utils.dev()\n",
    "    )"
   ]
  },
  {
   "cell_type": "markdown",
   "metadata": {},
   "source": [
    "Boundary Attack"
   ]
  },
  {
   "cell_type": "code",
   "execution_count": 24,
   "metadata": {},
   "outputs": [],
   "source": [
    "from foolbox import attacks\n",
    "\n",
    "images, labels = utils.get_batch(bs=1)"
   ]
  },
  {
   "cell_type": "code",
   "execution_count": 25,
   "metadata": {},
   "outputs": [],
   "source": [
    "attack = attacks.DeepFoolL2Attack(fmodel)\n",
    "metric = foolbox.distances.MSE\n",
    "criterion = foolbox.criteria.Misclassification()"
   ]
  },
  {
   "cell_type": "code",
   "execution_count": 27,
   "metadata": {},
   "outputs": [],
   "source": [
    "from matplotlib import pyplot as plt\n",
    "%matplotlib inline\n",
    "\n",
    "plt.imshow(images[0, 0], cmap=\"gray\")\n",
    "plt.title(\"original image\")\n",
    "plt.axis(\"off\")\n",
    "plt.show()"
   ]
  },
  {
   "cell_type": "code",
   "execution_count": 28,
   "metadata": {},
   "outputs": [],
   "source": [
    "gradient_estimator = foolbox.gradient_estimators.CoordinateWiseGradientEstimator(0.1)\n",
    "fmodel = foolbox.models.ModelWithEstimatedGradients(fmodel, gradient_estimator)\n",
    "\n",
    "adversary = foolbox.adversarial.Adversarial(\n",
    "    fmodel, criterion, images[0], labels[0], distance=metric\n",
    ")\n",
    "attack(adversary)"
   ]
  },
  {
   "cell_type": "code",
   "execution_count": 29,
   "metadata": {},
   "outputs": [],
   "source": [
    "plt.imshow(a.image[0], cmap=\"gray\")\n",
    "plt.title(\"adversarial image\")\n",
    "plt.axis(\"off\")\n",
    "plt.show()\n",
    "print(\"Model prediction:\", np.argmax(fmodel.predictions(adversary.image)))"
   ]
  },
  {
   "cell_type": "code",
   "execution_count": 30,
   "metadata": {},
   "outputs": [],
   "source": [
    "from abs_models import models\n",
    "\n",
    "traditional_model = models.get_CNN()"
   ]
  },
  {
   "cell_type": "code",
   "execution_count": 31,
   "metadata": {},
   "outputs": [],
   "source": [
    "traditional_model"
   ]
  },
  {
   "cell_type": "code",
   "execution_count": 32,
   "metadata": {},
   "outputs": [],
   "source": [
    "preds, labels = predict_on_batch(traditional_model, batch, 5)"
   ]
  },
  {
   "cell_type": "code",
   "execution_count": null,
   "metadata": {},
   "outputs": [],
   "source": [
    "preds"
   ]
  },
  {
   "cell_type": "code",
   "execution_count": null,
   "metadata": {},
   "outputs": [],
   "source": [
    "labels"
   ]
  },
  {
   "cell_type": "code",
   "execution_count": 38,
   "metadata": {},
   "outputs": [],
   "source": [
    "if traditional_model.code_base == \"tensorflow\":\n",
    "    fmodel_traditional = foolbox.models.TensorFlowModel(\n",
    "        traditional_model.x_input,\n",
    "        traditional_model.pre_softmax,\n",
    "        (0.0, 1.0),\n",
    "        channel_axis=3,\n",
    "    )\n",
    "elif traditional_model.code_base == \"pytorch\":\n",
    "    traditional_model.eval()\n",
    "    fmodel_traditional = foolbox.models.PyTorchModel(\n",
    "        traditional_model, bounds=(0.0, 1.0), num_classes=10, device=u.dev()\n",
    "    )"
   ]
  },
  {
   "cell_type": "code",
   "execution_count": 36,
   "metadata": {},
   "outputs": [],
   "source": [
    "fmodel_traditional = foolbox.models.ModelWithEstimatedGradients(fmodel_traditional, GE)\n",
    "\n",
    "adversarial_traditional = foolbox.adversarial.Adversarial(\n",
    "    fmodel_traditional, criterion, images[0], labels[0], distance=metric\n",
    ")\n",
    "attack(adversarial_traditional)"
   ]
  },
  {
   "cell_type": "code",
   "execution_count": 37,
   "metadata": {},
   "outputs": [],
   "source": [
    "plt.imshow(adversarial_traditional.image[0], cmap=\"gray\")\n",
    "plt.title(\"adversarial image\")\n",
    "plt.axis(\"off\")\n",
    "plt.show()\n",
    "print(\n",
    "    \"Model prediction:\",\n",
    "    np.argmax(fmodel_traditional.predictions(adversarial_traditional.image)),\n",
    ")"
   ]
  },
  {
   "cell_type": "code",
   "execution_count": null,
   "metadata": {},
   "outputs": [],
   "source": []
  }
 ],
 "metadata": {
  "kernelspec": {
   "display_name": "conda_kernel",
   "language": "python",
   "name": "conda_kernel"
  },
  "language_info": {
   "codemirror_mode": {
    "name": "ipython",
    "version": 3
   },
   "file_extension": ".py",
   "mimetype": "text/x-python",
   "name": "python",
   "nbconvert_exporter": "python",
   "pygments_lexer": "ipython3",
   "version": "3.7.4"
  }
 },
 "nbformat": 4,
 "nbformat_minor": 4
}
