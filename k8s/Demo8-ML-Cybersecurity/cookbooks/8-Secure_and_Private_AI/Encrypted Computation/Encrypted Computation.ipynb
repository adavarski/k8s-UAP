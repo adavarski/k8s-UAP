{
 "cells": [
  {
   "cell_type": "code",
   "execution_count": 2,
   "metadata": {},
   "outputs": [],
   "source": [
    "import random\n",
    "\n",
    "P = 67280421310721\n",
    "\n",
    "\n",
    "def encrypt(x):\n",
    "    \"\"\"Encrypts an integer between 3 partires.\"\"\"\n",
    "    share_a = random.randint(0, P)\n",
    "    share_b = random.randint(0, P)\n",
    "    share_c = (x - share_a - share_b) % P\n",
    "    return (share_a, share_b, share_c)"
   ]
  },
  {
   "cell_type": "code",
   "execution_count": 3,
   "metadata": {},
   "outputs": [
    {
     "name": "stdout",
     "output_type": "stream",
     "text": [
      "55146665902919 53332338011201 26081838707339\n"
     ]
    }
   ],
   "source": [
    "x = 17\n",
    "share_a, share_b, share_c = encrypt(x)\n",
    "print(share_a, share_b, share_c)"
   ]
  },
  {
   "cell_type": "code",
   "execution_count": 4,
   "metadata": {},
   "outputs": [],
   "source": [
    "def decrypt(share_a, share_b, share_c):\n",
    "    \"\"\"Decrypts the integer from 3 shares.\"\"\"\n",
    "    return (share_a + share_b + share_c) % P"
   ]
  },
  {
   "cell_type": "code",
   "execution_count": 5,
   "metadata": {},
   "outputs": [
    {
     "data": {
      "text/plain": [
       "17"
      ]
     },
     "execution_count": 5,
     "metadata": {},
     "output_type": "execute_result"
    }
   ],
   "source": [
    "decrypt(share_a, share_b, share_c)"
   ]
  },
  {
   "cell_type": "code",
   "execution_count": 6,
   "metadata": {},
   "outputs": [],
   "source": [
    "def add(x, y):\n",
    "    \"\"\"Addition of encrypted integers.\"\"\"\n",
    "    z = list()\n",
    "    z.append((x[0] + y[0]) % P)\n",
    "    z.append((x[1] + y[1]) % P)\n",
    "    z.append((x[2] + y[2]) % P)\n",
    "    return z"
   ]
  },
  {
   "cell_type": "code",
   "execution_count": 7,
   "metadata": {},
   "outputs": [],
   "source": [
    "x = encrypt(5)\n",
    "y = encrypt(9)"
   ]
  },
  {
   "cell_type": "code",
   "execution_count": 8,
   "metadata": {},
   "outputs": [
    {
     "data": {
      "text/plain": [
       "14"
      ]
     },
     "execution_count": 8,
     "metadata": {},
     "output_type": "execute_result"
    }
   ],
   "source": [
    "decrypt(*add(x, y))"
   ]
  },
  {
   "cell_type": "code",
   "execution_count": null,
   "metadata": {},
   "outputs": [],
   "source": []
  }
 ],
 "metadata": {
  "kernelspec": {
   "display_name": "Python 3",
   "language": "python",
   "name": "python3"
  },
  "language_info": {
   "codemirror_mode": {
    "name": "ipython",
    "version": 3
   },
   "file_extension": ".py",
   "mimetype": "text/x-python",
   "name": "python",
   "nbconvert_exporter": "python",
   "pygments_lexer": "ipython3",
   "version": "3.6.8"
  }
 },
 "nbformat": 4,
 "nbformat_minor": 4
}
