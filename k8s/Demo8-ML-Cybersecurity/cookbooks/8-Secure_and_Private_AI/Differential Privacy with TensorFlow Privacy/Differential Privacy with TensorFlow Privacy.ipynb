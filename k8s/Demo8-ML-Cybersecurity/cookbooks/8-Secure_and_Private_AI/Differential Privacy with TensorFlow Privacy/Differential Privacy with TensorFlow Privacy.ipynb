{
 "cells": [
  {
   "cell_type": "code",
   "execution_count": 10,
   "metadata": {},
   "outputs": [],
   "source": [
    "import tensorflow as tf\n",
    "\n",
    "\n",
    "def preprocess_observations(data):\n",
    "    \"\"\"Preprocesses MNIST images.\"\"\"\n",
    "    data = np.array(data, dtype=np.float32) / 255\n",
    "    data = data.reshape(data.shape[0], 28, 28, 1)\n",
    "    return data\n",
    "\n",
    "\n",
    "def preprocess_labels(labels):\n",
    "    \"\"\"Preprocess MNIST labels.\"\"\"\n",
    "    labels = np.array(labels, dtype=np.int32)\n",
    "    labels = tf.keras.utils.to_categorical(labels, num_classes=10)\n",
    "\n",
    "\n",
    "def load_mnist():\n",
    "    \"\"\"Loads the MNIST dataset.\"\"\"\n",
    "    (X_train, y_train), (X_test, y_test) = tf.keras.datasets.mnist.load_data()\n",
    "    X_train = preprocess_observations(X_train)\n",
    "    X_test = preprocess_observations(X_test)\n",
    "    y_train = preprocess_labels(y_train)\n",
    "    y_test = preprocess_labels(y_test)\n",
    "    return X_train, y_train, X_test, y_test"
   ]
  },
  {
   "cell_type": "code",
   "execution_count": 11,
   "metadata": {},
   "outputs": [],
   "source": [
    "import numpy as np\n",
    "\n",
    "X_train, y_train, X_test, y_test = load_mnist()"
   ]
  },
  {
   "cell_type": "code",
   "execution_count": 12,
   "metadata": {},
   "outputs": [],
   "source": [
    "NN_model = tf.keras.Sequential(\n",
    "    [\n",
    "        tf.keras.layers.Conv2D(\n",
    "            16, 8, strides=2, padding=\"same\", activation=\"relu\", input_shape=(28, 28, 1)\n",
    "        ),\n",
    "        tf.keras.layers.MaxPool2D(2, 1),\n",
    "        tf.keras.layers.Conv2D(32, 4, strides=2, padding=\"valid\", activation=\"relu\"),\n",
    "        tf.keras.layers.MaxPool2D(2, 1),\n",
    "        tf.keras.layers.Flatten(),\n",
    "        tf.keras.layers.Dense(32, activation=\"relu\"),\n",
    "        tf.keras.layers.Dense(10),\n",
    "    ]\n",
    ")"
   ]
  },
  {
   "cell_type": "code",
   "execution_count": 13,
   "metadata": {},
   "outputs": [],
   "source": [
    "from privacy.optimizers.dp_optimizer import DPGradientDescentGaussianOptimizer\n",
    "\n",
    "optimizer = DPGradientDescentGaussianOptimizer(\n",
    "    l2_norm_clip=1.0, noise_multiplier=1.1, num_microbatches=250, learning_rate=0.15\n",
    ")\n",
    "loss = tf.keras.losses.CategoricalCrossentropy(\n",
    "    from_logits=True, reduction=tf.losses.Reduction.NONE\n",
    ")"
   ]
  },
  {
   "cell_type": "code",
   "execution_count": 14,
   "metadata": {},
   "outputs": [],
   "source": [
    "NN_model.compile(optimizer=optimizer, loss=loss, metrics=[\"accuracy\"])"
   ]
  },
  {
   "cell_type": "code",
   "execution_count": 15,
   "metadata": {},
   "outputs": [],
   "source": [
    "NN_model.fit(\n",
    "    X_train, y_train, epochs=1, validation_data=(X_test, y_test), batch_size=250\n",
    ")"
   ]
  },
  {
   "cell_type": "code",
   "execution_count": 19,
   "metadata": {},
   "outputs": [],
   "source": [
    "from privacy.analysis.rdp_accountant import compute_rdp\n",
    "from privacy.analysis.rdp_accountant import get_privacy_spent\n",
    "\n",
    "\n",
    "def compute_epsilon(steps):\n",
    "    \"\"\"Compute the privacy epsilon.\"\"\"\n",
    "    orders = [1 + x / 10.0 for x in range(1, 100)] + list(range(12, 64))\n",
    "    sampling_probability = 250 / 60000\n",
    "    rdp = compute_rdp(\n",
    "        q=sampling_probability, noise_multiplier=1.1, steps=steps, orders=orders\n",
    "    )\n",
    "    return get_privacy_spent(orders, rdp, target_delta=1e-5)[0]"
   ]
  },
  {
   "cell_type": "code",
   "execution_count": 20,
   "metadata": {},
   "outputs": [],
   "source": [
    "eps = compute_epsilon(1 * 60000 // 250)"
   ]
  },
  {
   "cell_type": "code",
   "execution_count": null,
   "metadata": {},
   "outputs": [],
   "source": []
  }
 ],
 "metadata": {
  "kernelspec": {
   "display_name": "Python 3",
   "language": "python",
   "name": "python3"
  },
  "language_info": {
   "codemirror_mode": {
    "name": "ipython",
    "version": 3
   },
   "file_extension": ".py",
   "mimetype": "text/x-python",
   "name": "python",
   "nbconvert_exporter": "python",
   "pygments_lexer": "ipython3",
   "version": "3.7.4"
  }
 },
 "nbformat": 4,
 "nbformat_minor": 4
}
