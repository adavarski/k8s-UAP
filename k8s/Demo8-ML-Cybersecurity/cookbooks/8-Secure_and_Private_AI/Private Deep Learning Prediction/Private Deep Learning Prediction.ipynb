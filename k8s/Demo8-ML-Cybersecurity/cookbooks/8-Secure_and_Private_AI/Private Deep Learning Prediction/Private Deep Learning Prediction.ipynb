{
 "cells": [
  {
   "cell_type": "code",
   "execution_count": 10,
   "metadata": {},
   "outputs": [],
   "source": [
    "import torch\n",
    "import torch.nn as nn\n",
    "import torch.nn.functional as F\n",
    "from torchvision import datasets, transforms"
   ]
  },
  {
   "cell_type": "code",
   "execution_count": 11,
   "metadata": {},
   "outputs": [],
   "source": [
    "import syft as sy\n",
    "\n",
    "hook = sy.TorchHook(torch)\n",
    "client = sy.VirtualWorker(hook, id=\"client\")\n",
    "server = sy.VirtualWorker(hook, id=\"server\")\n",
    "crypto_provider = sy.VirtualWorker(hook, id=\"crypto_provider\")"
   ]
  },
  {
   "cell_type": "code",
   "execution_count": 12,
   "metadata": {},
   "outputs": [],
   "source": [
    "class Net(nn.Module):\n",
    "    def __init__(self):\n",
    "        super(Net, self).__init__()\n",
    "        self.fc1 = nn.Linear(784, 500)\n",
    "        self.fc2 = nn.Linear(500, 10)\n",
    "\n",
    "    def forward(self, x):\n",
    "        x = x.view(-1, 784)\n",
    "        x = self.fc1(x)\n",
    "        x = F.relu(x)\n",
    "        x = self.fc2(x)\n",
    "        return x"
   ]
  },
  {
   "cell_type": "code",
   "execution_count": 13,
   "metadata": {},
   "outputs": [
    {
     "data": {
      "text/plain": [
       "Net(\n",
       "  (fc1): Linear(in_features=784, out_features=500, bias=True)\n",
       "  (fc2): Linear(in_features=500, out_features=10, bias=True)\n",
       ")"
      ]
     },
     "execution_count": 13,
     "metadata": {},
     "output_type": "execute_result"
    }
   ],
   "source": [
    "model = Net()\n",
    "model.load_state_dict(torch.load(\"server_trained_model.pt\"))\n",
    "model.eval()"
   ]
  },
  {
   "cell_type": "code",
   "execution_count": 14,
   "metadata": {},
   "outputs": [
    {
     "data": {
      "text/plain": [
       "Net(\n",
       "  (fc1): Linear(in_features=784, out_features=500, bias=True)\n",
       "  (fc2): Linear(in_features=500, out_features=10, bias=True)\n",
       ")"
      ]
     },
     "execution_count": 14,
     "metadata": {},
     "output_type": "execute_result"
    }
   ],
   "source": [
    "model.fix_precision().share(client, server, crypto_provider=crypto_provider)"
   ]
  },
  {
   "cell_type": "code",
   "execution_count": 20,
   "metadata": {},
   "outputs": [
    {
     "name": "stdout",
     "output_type": "stream",
     "text": [
      "Downloading http://yann.lecun.com/exdb/mnist/train-images-idx3-ubyte.gz to data\\MNIST\\raw\\train-images-idx3-ubyte.gz\n"
     ]
    },
    {
     "name": "stderr",
     "output_type": "stream",
     "text": [
      "9920512it [00:02, 4492198.36it/s]                                                                                      \n"
     ]
    },
    {
     "name": "stdout",
     "output_type": "stream",
     "text": [
      "Extracting data\\MNIST\\raw\\train-images-idx3-ubyte.gz\n",
      "Downloading http://yann.lecun.com/exdb/mnist/train-labels-idx1-ubyte.gz to data\\MNIST\\raw\\train-labels-idx1-ubyte.gz\n"
     ]
    },
    {
     "name": "stderr",
     "output_type": "stream",
     "text": [
      "32768it [00:00, 181516.16it/s]                                                                                         \n"
     ]
    },
    {
     "name": "stdout",
     "output_type": "stream",
     "text": [
      "Extracting data\\MNIST\\raw\\train-labels-idx1-ubyte.gz\n",
      "Downloading http://yann.lecun.com/exdb/mnist/t10k-images-idx3-ubyte.gz to data\\MNIST\\raw\\t10k-images-idx3-ubyte.gz\n"
     ]
    },
    {
     "name": "stderr",
     "output_type": "stream",
     "text": [
      "1654784it [00:00, 2551579.84it/s]                                                                                      \n"
     ]
    },
    {
     "name": "stdout",
     "output_type": "stream",
     "text": [
      "Extracting data\\MNIST\\raw\\t10k-images-idx3-ubyte.gz\n",
      "Downloading http://yann.lecun.com/exdb/mnist/t10k-labels-idx1-ubyte.gz to data\\MNIST\\raw\\t10k-labels-idx1-ubyte.gz\n"
     ]
    },
    {
     "name": "stderr",
     "output_type": "stream",
     "text": [
      "8192it [00:00, 62302.79it/s]                                                                                           \n"
     ]
    },
    {
     "name": "stdout",
     "output_type": "stream",
     "text": [
      "Extracting data\\MNIST\\raw\\t10k-labels-idx1-ubyte.gz\n",
      "Processing...\n",
      "Done!\n"
     ]
    }
   ],
   "source": [
    "test_loader = torch.utils.data.DataLoader(\n",
    "    datasets.MNIST(\n",
    "        \"data\",\n",
    "        train=False,\n",
    "        download=True,\n",
    "        transform=transforms.Compose(\n",
    "            [transforms.ToTensor(), transforms.Normalize((0.1307,), (0.3081,))]\n",
    "        ),\n",
    "    ),\n",
    "    batch_size=64,\n",
    "    shuffle=True,\n",
    ")\n",
    "\n",
    "private_test_loader = []\n",
    "for data, target in test_loader:\n",
    "    private_test_loader.append(\n",
    "        (\n",
    "            data.fix_precision().share(client, server, crypto_provider=crypto_provider),\n",
    "            target.fix_precision().share(\n",
    "                client, server, crypto_provider=crypto_provider\n",
    "            ),\n",
    "        )\n",
    "    )"
   ]
  },
  {
   "cell_type": "code",
   "execution_count": 21,
   "metadata": {},
   "outputs": [],
   "source": [
    "def test(model, test_loader):\n",
    "    \"\"\"Test the model.\"\"\"\n",
    "    model.eval()\n",
    "    n_correct_priv = 0\n",
    "    n_total = 0\n",
    "    with torch.no_grad():\n",
    "        for data, target in test_loader:\n",
    "            output = model(data)\n",
    "            pred = output.argmax(dim=1)\n",
    "            n_correct_priv += pred.eq(target.view_as(pred)).sum()\n",
    "            n_total += 64\n",
    "            n_correct = n_correct_priv.copy().get().float_precision().long().item()\n",
    "            print(\n",
    "                \"Test set: Accuracy: {}/{} ({:.0f}%)\".format(\n",
    "                    n_correct, n_total, 100.0 * n_correct / n_total\n",
    "                )\n",
    "            )"
   ]
  },
  {
   "cell_type": "code",
   "execution_count": 22,
   "metadata": {},
   "outputs": [
    {
     "name": "stdout",
     "output_type": "stream",
     "text": [
      "Test set: Accuracy: 62/64 (97%)\n",
      "Test set: Accuracy: 123/128 (96%)\n",
      "Test set: Accuracy: 186/192 (97%)\n",
      "Test set: Accuracy: 249/256 (97%)\n",
      "Test set: Accuracy: 313/320 (98%)\n",
      "Test set: Accuracy: 376/384 (98%)\n",
      "Test set: Accuracy: 439/448 (98%)\n",
      "Test set: Accuracy: 503/512 (98%)\n",
      "Test set: Accuracy: 564/576 (98%)\n",
      "Test set: Accuracy: 624/640 (98%)\n",
      "Test set: Accuracy: 688/704 (98%)\n",
      "Test set: Accuracy: 751/768 (98%)\n",
      "Test set: Accuracy: 812/832 (98%)\n",
      "Test set: Accuracy: 872/896 (97%)\n",
      "Test set: Accuracy: 936/960 (98%)\n",
      "Test set: Accuracy: 997/1024 (97%)\n",
      "Test set: Accuracy: 1061/1088 (98%)\n",
      "Test set: Accuracy: 1124/1152 (98%)\n",
      "Test set: Accuracy: 1186/1216 (98%)\n",
      "Test set: Accuracy: 1250/1280 (98%)\n",
      "Test set: Accuracy: 1312/1344 (98%)\n",
      "Test set: Accuracy: 1372/1408 (97%)\n",
      "Test set: Accuracy: 1435/1472 (97%)\n",
      "Test set: Accuracy: 1498/1536 (98%)\n",
      "Test set: Accuracy: 1561/1600 (98%)\n",
      "Test set: Accuracy: 1624/1664 (98%)\n",
      "Test set: Accuracy: 1686/1728 (98%)\n",
      "Test set: Accuracy: 1749/1792 (98%)\n",
      "Test set: Accuracy: 1813/1856 (98%)\n",
      "Test set: Accuracy: 1875/1920 (98%)\n",
      "Test set: Accuracy: 1939/1984 (98%)\n",
      "Test set: Accuracy: 2002/2048 (98%)\n",
      "Test set: Accuracy: 2065/2112 (98%)\n",
      "Test set: Accuracy: 2126/2176 (98%)\n",
      "Test set: Accuracy: 2186/2240 (98%)\n",
      "Test set: Accuracy: 2248/2304 (98%)\n",
      "Test set: Accuracy: 2309/2368 (98%)\n",
      "Test set: Accuracy: 2370/2432 (97%)\n",
      "Test set: Accuracy: 2432/2496 (97%)\n",
      "Test set: Accuracy: 2494/2560 (97%)\n",
      "Test set: Accuracy: 2558/2624 (97%)\n",
      "Test set: Accuracy: 2622/2688 (98%)\n",
      "Test set: Accuracy: 2684/2752 (98%)\n",
      "Test set: Accuracy: 2746/2816 (98%)\n",
      "Test set: Accuracy: 2809/2880 (98%)\n",
      "Test set: Accuracy: 2871/2944 (98%)\n",
      "Test set: Accuracy: 2931/3008 (97%)\n",
      "Test set: Accuracy: 2994/3072 (97%)\n",
      "Test set: Accuracy: 3058/3136 (98%)\n",
      "Test set: Accuracy: 3120/3200 (98%)\n",
      "Test set: Accuracy: 3184/3264 (98%)\n",
      "Test set: Accuracy: 3244/3328 (97%)\n",
      "Test set: Accuracy: 3306/3392 (97%)\n",
      "Test set: Accuracy: 3370/3456 (98%)\n",
      "Test set: Accuracy: 3431/3520 (97%)\n",
      "Test set: Accuracy: 3493/3584 (97%)\n",
      "Test set: Accuracy: 3555/3648 (97%)\n",
      "Test set: Accuracy: 3619/3712 (97%)\n",
      "Test set: Accuracy: 3682/3776 (98%)\n",
      "Test set: Accuracy: 3745/3840 (98%)\n",
      "Test set: Accuracy: 3808/3904 (98%)\n",
      "Test set: Accuracy: 3871/3968 (98%)\n",
      "Test set: Accuracy: 3931/4032 (97%)\n",
      "Test set: Accuracy: 3992/4096 (97%)\n",
      "Test set: Accuracy: 4056/4160 (98%)\n",
      "Test set: Accuracy: 4117/4224 (97%)\n",
      "Test set: Accuracy: 4177/4288 (97%)\n",
      "Test set: Accuracy: 4238/4352 (97%)\n",
      "Test set: Accuracy: 4299/4416 (97%)\n",
      "Test set: Accuracy: 4362/4480 (97%)\n",
      "Test set: Accuracy: 4422/4544 (97%)\n",
      "Test set: Accuracy: 4482/4608 (97%)\n",
      "Test set: Accuracy: 4544/4672 (97%)\n",
      "Test set: Accuracy: 4608/4736 (97%)\n",
      "Test set: Accuracy: 4672/4800 (97%)\n",
      "Test set: Accuracy: 4734/4864 (97%)\n",
      "Test set: Accuracy: 4797/4928 (97%)\n",
      "Test set: Accuracy: 4860/4992 (97%)\n",
      "Test set: Accuracy: 4920/5056 (97%)\n",
      "Test set: Accuracy: 4982/5120 (97%)\n",
      "Test set: Accuracy: 5044/5184 (97%)\n",
      "Test set: Accuracy: 5106/5248 (97%)\n",
      "Test set: Accuracy: 5170/5312 (97%)\n",
      "Test set: Accuracy: 5230/5376 (97%)\n",
      "Test set: Accuracy: 5293/5440 (97%)\n",
      "Test set: Accuracy: 5356/5504 (97%)\n",
      "Test set: Accuracy: 5416/5568 (97%)\n",
      "Test set: Accuracy: 5479/5632 (97%)\n",
      "Test set: Accuracy: 5542/5696 (97%)\n",
      "Test set: Accuracy: 5604/5760 (97%)\n",
      "Test set: Accuracy: 5667/5824 (97%)\n",
      "Test set: Accuracy: 5730/5888 (97%)\n",
      "Test set: Accuracy: 5792/5952 (97%)\n",
      "Test set: Accuracy: 5853/6016 (97%)\n",
      "Test set: Accuracy: 5917/6080 (97%)\n",
      "Test set: Accuracy: 5981/6144 (97%)\n",
      "Test set: Accuracy: 6040/6208 (97%)\n",
      "Test set: Accuracy: 6101/6272 (97%)\n",
      "Test set: Accuracy: 6164/6336 (97%)\n",
      "Test set: Accuracy: 6228/6400 (97%)\n",
      "Test set: Accuracy: 6288/6464 (97%)\n",
      "Test set: Accuracy: 6352/6528 (97%)\n",
      "Test set: Accuracy: 6415/6592 (97%)\n",
      "Test set: Accuracy: 6477/6656 (97%)\n",
      "Test set: Accuracy: 6540/6720 (97%)\n",
      "Test set: Accuracy: 6603/6784 (97%)\n",
      "Test set: Accuracy: 6666/6848 (97%)\n",
      "Test set: Accuracy: 6728/6912 (97%)\n",
      "Test set: Accuracy: 6791/6976 (97%)\n",
      "Test set: Accuracy: 6853/7040 (97%)\n",
      "Test set: Accuracy: 6913/7104 (97%)\n",
      "Test set: Accuracy: 6977/7168 (97%)\n",
      "Test set: Accuracy: 7040/7232 (97%)\n",
      "Test set: Accuracy: 7103/7296 (97%)\n",
      "Test set: Accuracy: 7167/7360 (97%)\n",
      "Test set: Accuracy: 7227/7424 (97%)\n",
      "Test set: Accuracy: 7290/7488 (97%)\n",
      "Test set: Accuracy: 7351/7552 (97%)\n",
      "Test set: Accuracy: 7412/7616 (97%)\n",
      "Test set: Accuracy: 7473/7680 (97%)\n",
      "Test set: Accuracy: 7535/7744 (97%)\n",
      "Test set: Accuracy: 7598/7808 (97%)\n",
      "Test set: Accuracy: 7659/7872 (97%)\n",
      "Test set: Accuracy: 7722/7936 (97%)\n",
      "Test set: Accuracy: 7783/8000 (97%)\n",
      "Test set: Accuracy: 7845/8064 (97%)\n",
      "Test set: Accuracy: 7906/8128 (97%)\n",
      "Test set: Accuracy: 7969/8192 (97%)\n",
      "Test set: Accuracy: 8031/8256 (97%)\n",
      "Test set: Accuracy: 8093/8320 (97%)\n",
      "Test set: Accuracy: 8157/8384 (97%)\n",
      "Test set: Accuracy: 8220/8448 (97%)\n",
      "Test set: Accuracy: 8283/8512 (97%)\n",
      "Test set: Accuracy: 8345/8576 (97%)\n",
      "Test set: Accuracy: 8408/8640 (97%)\n",
      "Test set: Accuracy: 8471/8704 (97%)\n",
      "Test set: Accuracy: 8535/8768 (97%)\n",
      "Test set: Accuracy: 8597/8832 (97%)\n",
      "Test set: Accuracy: 8659/8896 (97%)\n",
      "Test set: Accuracy: 8720/8960 (97%)\n",
      "Test set: Accuracy: 8783/9024 (97%)\n",
      "Test set: Accuracy: 8847/9088 (97%)\n",
      "Test set: Accuracy: 8910/9152 (97%)\n",
      "Test set: Accuracy: 8971/9216 (97%)\n",
      "Test set: Accuracy: 9033/9280 (97%)\n",
      "Test set: Accuracy: 9097/9344 (97%)\n",
      "Test set: Accuracy: 9160/9408 (97%)\n",
      "Test set: Accuracy: 9223/9472 (97%)\n",
      "Test set: Accuracy: 9285/9536 (97%)\n",
      "Test set: Accuracy: 9349/9600 (97%)\n",
      "Test set: Accuracy: 9411/9664 (97%)\n",
      "Test set: Accuracy: 9473/9728 (97%)\n",
      "Test set: Accuracy: 9535/9792 (97%)\n",
      "Test set: Accuracy: 9599/9856 (97%)\n",
      "Test set: Accuracy: 9662/9920 (97%)\n",
      "Test set: Accuracy: 9726/9984 (97%)\n",
      "Test set: Accuracy: 9742/10048 (97%)\n"
     ]
    }
   ],
   "source": [
    "test(model, private_test_loader)"
   ]
  },
  {
   "cell_type": "code",
   "execution_count": null,
   "metadata": {},
   "outputs": [],
   "source": []
  }
 ],
 "metadata": {
  "kernelspec": {
   "display_name": "Python 3",
   "language": "python",
   "name": "python3"
  },
  "language_info": {
   "codemirror_mode": {
    "name": "ipython",
    "version": 3
   },
   "file_extension": ".py",
   "mimetype": "text/x-python",
   "name": "python",
   "nbconvert_exporter": "python",
   "pygments_lexer": "ipython3",
   "version": "3.7.4"
  }
 },
 "nbformat": 4,
 "nbformat_minor": 4
}
