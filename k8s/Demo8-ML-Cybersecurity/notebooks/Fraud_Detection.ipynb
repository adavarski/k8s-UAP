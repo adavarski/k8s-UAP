{
 "cells": [
  {
   "cell_type": "markdown",
   "metadata": {},
   "source": [
    "# Fraud Prediction Using Skewed Data\n",
    "\n",
    "### How do we achieve good predictive power in the statistical model? Can sampling techniques help? Let's find out!\n"
   ]
  },
  {
   "cell_type": "markdown",
   "metadata": {},
   "source": [
    "## 1. Setup\n",
    "To prepare your environment, you need to install some packages.\n",
    "\n",
    "### 1.1 Install the necessary packages\n",
    "\n",
    "You need the latest versions of these packages:<br>"
   ]
  },
  {
   "cell_type": "code",
   "execution_count": 1,
   "metadata": {
    "collapsed": true
   },
   "outputs": [],
   "source": [
    "import numpy as np \n",
    "import pandas as pd \n",
    "import matplotlib.pyplot as plt\n",
    "import seaborn as sns\n",
    "%matplotlib inline"
   ]
  },
  {
   "cell_type": "markdown",
   "metadata": {},
   "source": [
    "## 2. Read the Data & convert it into Dataframe\n",
    "Click on Insert to code and then select Insert pandas DataFrame in the below empty cell."
   ]
  },
  {
   "cell_type": "code",
   "execution_count": 2,
   "metadata": {},
   "outputs": [
    {
     "data": {
      "text/html": [
       "<div>\n",
       "<style scoped>\n",
       "    .dataframe tbody tr th:only-of-type {\n",
       "        vertical-align: middle;\n",
       "    }\n",
       "\n",
       "    .dataframe tbody tr th {\n",
       "        vertical-align: top;\n",
       "    }\n",
       "\n",
       "    .dataframe thead th {\n",
       "        text-align: right;\n",
       "    }\n",
       "</style>\n",
       "<table border=\"1\" class=\"dataframe\">\n",
       "  <thead>\n",
       "    <tr style=\"text-align: right;\">\n",
       "      <th></th>\n",
       "      <th>Time</th>\n",
       "      <th>V1</th>\n",
       "      <th>V2</th>\n",
       "      <th>V3</th>\n",
       "      <th>V4</th>\n",
       "      <th>V5</th>\n",
       "      <th>V6</th>\n",
       "      <th>V7</th>\n",
       "      <th>V8</th>\n",
       "      <th>V9</th>\n",
       "      <th>...</th>\n",
       "      <th>V21</th>\n",
       "      <th>V22</th>\n",
       "      <th>V23</th>\n",
       "      <th>V24</th>\n",
       "      <th>V25</th>\n",
       "      <th>V26</th>\n",
       "      <th>V27</th>\n",
       "      <th>V28</th>\n",
       "      <th>Amount</th>\n",
       "      <th>Class</th>\n",
       "    </tr>\n",
       "  </thead>\n",
       "  <tbody>\n",
       "    <tr>\n",
       "      <th>0</th>\n",
       "      <td>10</td>\n",
       "      <td>0.385</td>\n",
       "      <td>0.616</td>\n",
       "      <td>-0.874</td>\n",
       "      <td>-0.094</td>\n",
       "      <td>2.925</td>\n",
       "      <td>3.317</td>\n",
       "      <td>0.470</td>\n",
       "      <td>0.538</td>\n",
       "      <td>-0.559</td>\n",
       "      <td>...</td>\n",
       "      <td>0.050</td>\n",
       "      <td>0.238</td>\n",
       "      <td>0.009</td>\n",
       "      <td>0.997</td>\n",
       "      <td>-0.767</td>\n",
       "      <td>-0.492</td>\n",
       "      <td>0.042</td>\n",
       "      <td>-0.054</td>\n",
       "      <td>9.99</td>\n",
       "      <td>0</td>\n",
       "    </tr>\n",
       "    <tr>\n",
       "      <th>1</th>\n",
       "      <td>12</td>\n",
       "      <td>-0.752</td>\n",
       "      <td>0.345</td>\n",
       "      <td>2.057</td>\n",
       "      <td>-1.469</td>\n",
       "      <td>-1.158</td>\n",
       "      <td>-0.078</td>\n",
       "      <td>-0.609</td>\n",
       "      <td>0.004</td>\n",
       "      <td>-0.436</td>\n",
       "      <td>...</td>\n",
       "      <td>0.500</td>\n",
       "      <td>1.354</td>\n",
       "      <td>-0.257</td>\n",
       "      <td>-0.065</td>\n",
       "      <td>-0.039</td>\n",
       "      <td>-0.087</td>\n",
       "      <td>-0.181</td>\n",
       "      <td>0.129</td>\n",
       "      <td>15.99</td>\n",
       "      <td>0</td>\n",
       "    </tr>\n",
       "    <tr>\n",
       "      <th>2</th>\n",
       "      <td>25</td>\n",
       "      <td>1.114</td>\n",
       "      <td>0.086</td>\n",
       "      <td>0.494</td>\n",
       "      <td>1.336</td>\n",
       "      <td>-0.300</td>\n",
       "      <td>-0.011</td>\n",
       "      <td>-0.119</td>\n",
       "      <td>0.189</td>\n",
       "      <td>0.206</td>\n",
       "      <td>...</td>\n",
       "      <td>-0.053</td>\n",
       "      <td>-0.005</td>\n",
       "      <td>-0.031</td>\n",
       "      <td>0.198</td>\n",
       "      <td>0.565</td>\n",
       "      <td>-0.338</td>\n",
       "      <td>0.029</td>\n",
       "      <td>0.004</td>\n",
       "      <td>4.45</td>\n",
       "      <td>0</td>\n",
       "    </tr>\n",
       "    <tr>\n",
       "      <th>3</th>\n",
       "      <td>33</td>\n",
       "      <td>-0.936</td>\n",
       "      <td>0.170</td>\n",
       "      <td>2.746</td>\n",
       "      <td>-1.078</td>\n",
       "      <td>-0.306</td>\n",
       "      <td>0.012</td>\n",
       "      <td>-0.296</td>\n",
       "      <td>0.403</td>\n",
       "      <td>-0.040</td>\n",
       "      <td>...</td>\n",
       "      <td>0.401</td>\n",
       "      <td>1.065</td>\n",
       "      <td>-0.158</td>\n",
       "      <td>0.296</td>\n",
       "      <td>-0.259</td>\n",
       "      <td>0.754</td>\n",
       "      <td>0.047</td>\n",
       "      <td>0.094</td>\n",
       "      <td>9.10</td>\n",
       "      <td>0</td>\n",
       "    </tr>\n",
       "    <tr>\n",
       "      <th>4</th>\n",
       "      <td>35</td>\n",
       "      <td>1.199</td>\n",
       "      <td>0.130</td>\n",
       "      <td>0.864</td>\n",
       "      <td>1.003</td>\n",
       "      <td>-0.784</td>\n",
       "      <td>-0.885</td>\n",
       "      <td>-0.041</td>\n",
       "      <td>-0.208</td>\n",
       "      <td>0.392</td>\n",
       "      <td>...</td>\n",
       "      <td>-0.042</td>\n",
       "      <td>0.198</td>\n",
       "      <td>-0.033</td>\n",
       "      <td>1.013</td>\n",
       "      <td>0.559</td>\n",
       "      <td>0.402</td>\n",
       "      <td>-0.006</td>\n",
       "      <td>0.018</td>\n",
       "      <td>0.99</td>\n",
       "      <td>0</td>\n",
       "    </tr>\n",
       "  </tbody>\n",
       "</table>\n",
       "<p>5 rows × 31 columns</p>\n",
       "</div>"
      ],
      "text/plain": [
       "   Time     V1     V2     V3     V4     V5     V6     V7     V8     V9  ...    \\\n",
       "0    10  0.385  0.616 -0.874 -0.094  2.925  3.317  0.470  0.538 -0.559  ...     \n",
       "1    12 -0.752  0.345  2.057 -1.469 -1.158 -0.078 -0.609  0.004 -0.436  ...     \n",
       "2    25  1.114  0.086  0.494  1.336 -0.300 -0.011 -0.119  0.189  0.206  ...     \n",
       "3    33 -0.936  0.170  2.746 -1.078 -0.306  0.012 -0.296  0.403 -0.040  ...     \n",
       "4    35  1.199  0.130  0.864  1.003 -0.784 -0.885 -0.041 -0.208  0.392  ...     \n",
       "\n",
       "     V21    V22    V23    V24    V25    V26    V27    V28  Amount  Class  \n",
       "0  0.050  0.238  0.009  0.997 -0.767 -0.492  0.042 -0.054    9.99      0  \n",
       "1  0.500  1.354 -0.257 -0.065 -0.039 -0.087 -0.181  0.129   15.99      0  \n",
       "2 -0.053 -0.005 -0.031  0.198  0.565 -0.338  0.029  0.004    4.45      0  \n",
       "3  0.401  1.065 -0.158  0.296 -0.259  0.754  0.047  0.094    9.10      0  \n",
       "4 -0.042  0.198 -0.033  1.013  0.559  0.402 -0.006  0.018    0.99      0  \n",
       "\n",
       "[5 rows x 31 columns]"
      ]
     },
     "execution_count": 2,
     "metadata": {},
     "output_type": "execute_result"
    }
   ],
   "source": []
  },
  {
   "cell_type": "markdown",
   "metadata": {},
   "source": [
    "## 3. Assign a new name for the dataframe"
   ]
  },
  {
   "cell_type": "code",
   "execution_count": 3,
   "metadata": {
    "collapsed": true
   },
   "outputs": [],
   "source": [
    "'''Rename the dataframe to df'''\n",
    "\n",
    "df = df_data_2"
   ]
  },
  {
   "cell_type": "markdown",
   "metadata": {},
   "source": [
    "## 4. Descriptive statistics on the data"
   ]
  },
  {
   "cell_type": "code",
   "execution_count": 4,
   "metadata": {},
   "outputs": [
    {
     "name": "stdout",
     "output_type": "stream",
     "text": [
      "Time\n",
      "count     56874.000000\n",
      "mean      94995.469934\n",
      "std       47535.817923\n",
      "min          10.000000\n",
      "25%       54380.250000\n",
      "50%       84664.500000\n",
      "75%      139664.500000\n",
      "max      172782.000000\n",
      "Name: Time, dtype: float64\n",
      "V1\n",
      "count     56874.000000\n",
      "mean      94995.469934\n",
      "std       47535.817923\n",
      "min          10.000000\n",
      "25%       54380.250000\n",
      "50%       84664.500000\n",
      "75%      139664.500000\n",
      "max      172782.000000\n",
      "Name: Time, dtype: float64\n",
      "Amount\n",
      "count    56874.000000\n",
      "mean        88.264681\n",
      "std        233.922284\n",
      "min          0.000000\n",
      "25%          5.740000\n",
      "50%         22.205000\n",
      "75%         78.600000\n",
      "max       7862.390000\n",
      "Name: Amount, dtype: float64\n",
      "Class\n",
      "count    56874.000000\n",
      "mean         0.001793\n",
      "std          0.042311\n",
      "min          0.000000\n",
      "25%          0.000000\n",
      "50%          0.000000\n",
      "75%          0.000000\n",
      "max          1.000000\n",
      "Name: Class, dtype: float64\n",
      "2\n",
      "ALL\n",
      "                Time            V1            V2            V3            V4  \\\n",
      "count   56874.000000  56874.000000  56874.000000  56874.000000  56874.000000   \n",
      "mean    94995.469934      0.010646      0.004147     -0.003954      0.002830   \n",
      "std     47535.817923      1.933044      1.604704      1.514694      1.412792   \n",
      "min        10.000000    -41.929000    -47.430000    -30.177000     -5.683000   \n",
      "25%     54380.250000     -0.915000     -0.606000     -0.893000     -0.846000   \n",
      "50%     84664.500000      0.027000      0.060000      0.181000     -0.023000   \n",
      "75%    139664.500000      1.320000      0.805000      1.021000      0.748000   \n",
      "max    172782.000000      2.455000     22.058000      9.383000     11.865000   \n",
      "\n",
      "                 V5            V6            V7            V8            V9  \\\n",
      "count  56874.000000  56874.000000  56874.000000  56874.000000  56874.000000   \n",
      "mean      -0.001663      0.007861     -0.004580      0.003089      0.000165   \n",
      "std        1.356933      1.329296      1.211257      1.193217      1.108262   \n",
      "min      -22.065000    -23.497000    -43.557000    -50.943000    -13.320000   \n",
      "25%       -0.705000     -0.767000     -0.560000     -0.209000     -0.648000   \n",
      "50%       -0.061000     -0.269000      0.036500      0.023000     -0.052000   \n",
      "75%        0.607000      0.407000      0.564000      0.332000      0.596000   \n",
      "max       34.099000     16.356000     24.665000     18.749000     15.595000   \n",
      "\n",
      "           ...                V21           V22           V23           V24  \\\n",
      "count      ...       56874.000000  56874.000000  56874.000000  56874.000000   \n",
      "mean       ...           0.000675     -0.000240     -0.002827     -0.000386   \n",
      "std        ...           0.725244      0.720987      0.603752      0.603345   \n",
      "min        ...         -22.798000     -8.887000    -21.304000     -2.823000   \n",
      "25%        ...          -0.229000     -0.542000     -0.161000     -0.352000   \n",
      "50%        ...          -0.029000      0.006000     -0.011000      0.040000   \n",
      "75%        ...           0.184000      0.525000      0.149000      0.439000   \n",
      "max        ...          27.203000      8.316000     18.364000      4.016000   \n",
      "\n",
      "                V25           V26           V27           V28        Amount  \\\n",
      "count  56874.000000  56874.000000  56874.000000  56874.000000  56874.000000   \n",
      "mean      -0.000068     -0.000414      0.002503      0.001734     88.264681   \n",
      "std        0.522217      0.481846      0.399660      0.311913    233.922284   \n",
      "min       -5.785000     -2.069000    -22.566000    -11.711000      0.000000   \n",
      "25%       -0.316000     -0.327000     -0.070000     -0.053000      5.740000   \n",
      "50%        0.017000     -0.055000      0.002000      0.011000     22.205000   \n",
      "75%        0.350000      0.239000      0.092000      0.079000     78.600000   \n",
      "max        5.474000      3.463000      8.254000     16.130000   7862.390000   \n",
      "\n",
      "              Class  \n",
      "count  56874.000000  \n",
      "mean       0.001793  \n",
      "std        0.042311  \n",
      "min        0.000000  \n",
      "25%        0.000000  \n",
      "50%        0.000000  \n",
      "75%        0.000000  \n",
      "max        1.000000  \n",
      "\n",
      "[8 rows x 31 columns]\n"
     ]
    }
   ],
   "source": [
    "print(\"Time\")\n",
    "print(df.Time.describe())\n",
    "print(\"V1\")\n",
    "print(df.Time.describe())\n",
    "print(\"Amount\")\n",
    "print(df.Amount.describe())\n",
    "print(\"Class\")\n",
    "print(df.Class.describe())\n",
    "print(df.Class.nunique())\n",
    "print(\"ALL\")\n",
    "print(df.describe())"
   ]
  },
  {
   "cell_type": "markdown",
   "metadata": {},
   "source": [
    "## 5. Use Histogram to visualize"
   ]
  },
  {
   "cell_type": "code",
   "execution_count": 5,
   "metadata": {},
   "outputs": [
    {
     "data": {
      "text/plain": [
       "<matplotlib.axes._subplots.AxesSubplot at 0x2accb2b48550>"
      ]
     },
     "execution_count": 5,
     "metadata": {},
     "output_type": "execute_result"
    },
    {
     "data": {
      "image/png": "[encoded data removed]",
      "text/plain": [
       "<matplotlib.figure.Figure at 0x2acc82b57d68>"
      ]
     },
     "metadata": {},
     "output_type": "display_data"
    }
   ],
   "source": [
    "df.Time.hist()"
   ]
  },
  {
   "cell_type": "code",
   "execution_count": 6,
   "metadata": {},
   "outputs": [
    {
     "data": {
      "text/plain": [
       "<matplotlib.axes._subplots.AxesSubplot at 0x2accb4b51978>"
      ]
     },
     "execution_count": 6,
     "metadata": {},
     "output_type": "execute_result"
    },
    {
     "data": {
      "image/png": "[encoded data removed]",
      "text/plain": [
       "<matplotlib.figure.Figure at 0x2acc82b57dd8>"
      ]
     },
     "metadata": {},
     "output_type": "display_data"
    }
   ],
   "source": [
    "df.Class.hist()"
   ]
  },
  {
   "cell_type": "code",
   "execution_count": 7,
   "metadata": {},
   "outputs": [
    {
     "data": {
      "text/plain": [
       "array([<matplotlib.axes._subplots.AxesSubplot object at 0x2accb4be1320>,\n",
       "       <matplotlib.axes._subplots.AxesSubplot object at 0x2accb4c1c048>], dtype=object)"
      ]
     },
     "execution_count": 7,
     "metadata": {},
     "output_type": "execute_result"
    },
    {
     "data": {
      "image/png": "[encoded data removed]",
      "text/plain": [
       "<matplotlib.figure.Figure at 0x2accb4b67908>"
      ]
     },
     "metadata": {},
     "output_type": "display_data"
    }
   ],
   "source": [
    "df['Amount'].hist(by=df['Class'])"
   ]
  },
  {
   "cell_type": "code",
   "execution_count": 8,
   "metadata": {},
   "outputs": [
    {
     "name": "stdout",
     "output_type": "stream",
     "text": [
      "Class\n",
      "0    56772\n",
      "1      102\n",
      "dtype: int64\n"
     ]
    }
   ],
   "source": [
    "print(df.groupby('Class').size())"
   ]
  },
  {
   "cell_type": "code",
   "execution_count": 9,
   "metadata": {},
   "outputs": [
    {
     "data": {
      "text/plain": [
       "array([[<matplotlib.axes._subplots.AxesSubplot object at 0x2accb4bf2860>,\n",
       "        <matplotlib.axes._subplots.AxesSubplot object at 0x2accb4cb6630>,\n",
       "        <matplotlib.axes._subplots.AxesSubplot object at 0x2accb4cda630>,\n",
       "        <matplotlib.axes._subplots.AxesSubplot object at 0x2accb4cfe550>,\n",
       "        <matplotlib.axes._subplots.AxesSubplot object at 0x2accb4d117f0>,\n",
       "        <matplotlib.axes._subplots.AxesSubplot object at 0x2accb4d430f0>],\n",
       "       [<matplotlib.axes._subplots.AxesSubplot object at 0x2accb4d65160>,\n",
       "        <matplotlib.axes._subplots.AxesSubplot object at 0x2accb4d785c0>,\n",
       "        <matplotlib.axes._subplots.AxesSubplot object at 0x2accb4daf160>,\n",
       "        <matplotlib.axes._subplots.AxesSubplot object at 0x2accb4d6af28>,\n",
       "        <matplotlib.axes._subplots.AxesSubplot object at 0x2accb4debb70>,\n",
       "        <matplotlib.axes._subplots.AxesSubplot object at 0x2accb4e16080>],\n",
       "       [<matplotlib.axes._subplots.AxesSubplot object at 0x2accb4e395c0>,\n",
       "        <matplotlib.axes._subplots.AxesSubplot object at 0x2accb4e5c4e0>,\n",
       "        <matplotlib.axes._subplots.AxesSubplot object at 0x2accb4e796a0>,\n",
       "        <matplotlib.axes._subplots.AxesSubplot object at 0x2accb4e9c710>,\n",
       "        <matplotlib.axes._subplots.AxesSubplot object at 0x2accb4ec1710>,\n",
       "        <matplotlib.axes._subplots.AxesSubplot object at 0x2accb4ee5630>],\n",
       "       [<matplotlib.axes._subplots.AxesSubplot object at 0x2accb4ef88d0>,\n",
       "        <matplotlib.axes._subplots.AxesSubplot object at 0x2accb4f25e10>,\n",
       "        <matplotlib.axes._subplots.AxesSubplot object at 0x2accbb6c5e80>,\n",
       "        <matplotlib.axes._subplots.AxesSubplot object at 0x2accbb6e9358>,\n",
       "        <matplotlib.axes._subplots.AxesSubplot object at 0x2accbb70fe80>,\n",
       "        <matplotlib.axes._subplots.AxesSubplot object at 0x2accbb72f940>],\n",
       "       [<matplotlib.axes._subplots.AxesSubplot object at 0x2accbb7539b0>,\n",
       "        <matplotlib.axes._subplots.AxesSubplot object at 0x2accbb7799b0>,\n",
       "        <matplotlib.axes._subplots.AxesSubplot object at 0x2accbb79d9b0>,\n",
       "        <matplotlib.axes._subplots.AxesSubplot object at 0x2accb4d2b358>,\n",
       "        <matplotlib.axes._subplots.AxesSubplot object at 0x2accbb7de748>,\n",
       "        <matplotlib.axes._subplots.AxesSubplot object at 0x2accbb7f11d0>],\n",
       "       [<matplotlib.axes._subplots.AxesSubplot object at 0x2accbb8266d8>,\n",
       "        <matplotlib.axes._subplots.AxesSubplot object at 0x2accbb84b6d8>,\n",
       "        <matplotlib.axes._subplots.AxesSubplot object at 0x2accbb865d68>,\n",
       "        <matplotlib.axes._subplots.AxesSubplot object at 0x2accbb88f278>,\n",
       "        <matplotlib.axes._subplots.AxesSubplot object at 0x2accbb8b37b8>,\n",
       "        <matplotlib.axes._subplots.AxesSubplot object at 0x2accbb8d5cf8>]], dtype=object)"
      ]
     },
     "execution_count": 9,
     "metadata": {},
     "output_type": "execute_result"
    },
    {
     "data": {
      "image/png": "[encoded data removed]",
      "text/plain": [
       "<matplotlib.figure.Figure at 0x2accb4b83d68>"
      ]
     },
     "metadata": {},
     "output_type": "display_data"
    }
   ],
   "source": [
    "df.hist(figsize=(15,15))"
   ]
  },
  {
   "cell_type": "markdown",
   "metadata": {},
   "source": [
    "## 6. Check the spread of fraud vs non-fraud on selected variables\n",
    "#### This is done to identify variables selection which has good spread of frauds and non frauds"
   ]
  },
  {
   "cell_type": "code",
   "execution_count": 10,
   "metadata": {},
   "outputs": [
    {
     "name": "stdout",
     "output_type": "stream",
     "text": [
      "V9 - V10\n"
     ]
    },
    {
     "data": {
      "image/png": "[encoded data removed]",
      "text/plain": [
       "<matplotlib.figure.Figure at 0x2accb4b51ef0>"
      ]
     },
     "metadata": {},
     "output_type": "display_data"
    },
    {
     "data": {
      "text/plain": [
       "<matplotlib.figure.Figure at 0x2accbbbe2dd8>"
      ]
     },
     "metadata": {},
     "output_type": "display_data"
    }
   ],
   "source": [
    "sample = df[df['Class']==0]\n",
    "fraud = df[df['Class']==1]\n",
    "print('V9 - V10')\n",
    "plt.scatter(fraud['V9'], fraud['V10'],s=1, color='r')\n",
    "plt.scatter(sample['V9'], sample['V10'], s=1, color='g')\n",
    "plt.show()\n",
    "plt.clf()"
   ]
  },
  {
   "cell_type": "code",
   "execution_count": 11,
   "metadata": {},
   "outputs": [
    {
     "name": "stdout",
     "output_type": "stream",
     "text": [
      "V16-V17\n"
     ]
    },
    {
     "data": {
      "image/png": "[encoded data removed]",
      "text/plain": [
       "<matplotlib.figure.Figure at 0x2accbb8fe438>"
      ]
     },
     "metadata": {},
     "output_type": "display_data"
    },
    {
     "data": {
      "text/plain": [
       "<matplotlib.figure.Figure at 0x2accbbf81f28>"
      ]
     },
     "metadata": {},
     "output_type": "display_data"
    }
   ],
   "source": [
    "print('V16-V17')\n",
    "plt.scatter(sample['V16'], sample['V17'], s=1, color = 'g')\n",
    "plt.scatter(fraud['V16'], fraud['V17'], s=1, color = 'r')\n",
    "plt.show()\n",
    "plt.clf()"
   ]
  },
  {
   "cell_type": "code",
   "execution_count": 12,
   "metadata": {},
   "outputs": [
    {
     "name": "stdout",
     "output_type": "stream",
     "text": [
      "V17 - V18\n"
     ]
    },
    {
     "data": {
      "image/png": "[encoded data removed]",
      "text/plain": [
       "<matplotlib.figure.Figure at 0x2accbbca5208>"
      ]
     },
     "metadata": {},
     "output_type": "display_data"
    },
    {
     "data": {
      "text/plain": [
       "<matplotlib.figure.Figure at 0x2accbb9762e8>"
      ]
     },
     "metadata": {},
     "output_type": "display_data"
    }
   ],
   "source": [
    "print('V17 - V18')\n",
    "plt.scatter(sample['V18'], sample['V17'], s=1, color = 'g')\n",
    "plt.scatter(fraud['V18'], fraud['V17'], s=1, color = 'r')\n",
    "plt.show()\n",
    "plt.clf()"
   ]
  },
  {
   "cell_type": "code",
   "execution_count": 13,
   "metadata": {},
   "outputs": [
    {
     "name": "stdout",
     "output_type": "stream",
     "text": [
      "V1 - V3\n"
     ]
    },
    {
     "data": {
      "image/png": "[encoded data removed]",
      "text/plain": [
       "<matplotlib.figure.Figure at 0x2accbbf79eb8>"
      ]
     },
     "metadata": {},
     "output_type": "display_data"
    },
    {
     "data": {
      "text/plain": [
       "<matplotlib.figure.Figure at 0x2accbb814400>"
      ]
     },
     "metadata": {},
     "output_type": "display_data"
    }
   ],
   "source": [
    "print('V1 - V3')\n",
    "plt.scatter(sample['V1'], sample['V3'], s=1, color = 'g')\n",
    "plt.scatter(fraud['V1'], fraud['V3'], s=1, color = 'r')\n",
    "plt.show()\n",
    "plt.clf()"
   ]
  },
  {
   "cell_type": "code",
   "execution_count": 14,
   "metadata": {},
   "outputs": [
    {
     "name": "stdout",
     "output_type": "stream",
     "text": [
      "V1 - V2\n"
     ]
    },
    {
     "data": {
      "image/png": "[encoded data removed]",
      "text/plain": [
       "<matplotlib.figure.Figure at 0x2accbbbe7a58>"
      ]
     },
     "metadata": {},
     "output_type": "display_data"
    },
    {
     "data": {
      "text/plain": [
       "<matplotlib.figure.Figure at 0x2accbbfa6c50>"
      ]
     },
     "metadata": {},
     "output_type": "display_data"
    }
   ],
   "source": [
    "print('V1 - V2')\n",
    "plt.scatter(sample['V1'], sample['V2'], s=1, color = 'g')\n",
    "plt.scatter(fraud['V1'], fraud['V2'], s=1, color = 'r')\n",
    "plt.show()\n",
    "plt.clf()"
   ]
  },
  {
   "cell_type": "markdown",
   "metadata": {},
   "source": [
    "## 7. Split the data into train & test data sets using 70:30 mix\n",
    "#### The model will be built on training data and will be applied on the test data"
   ]
  },
  {
   "cell_type": "code",
   "execution_count": 15,
   "metadata": {},
   "outputs": [
    {
     "name": "stdout",
     "output_type": "stream",
     "text": [
      "xtrain shape\n",
      "(39811, 30)\n",
      "xtest shape\n",
      "(17063, 30)\n"
     ]
    }
   ],
   "source": [
    "# Split The Data with all variables\n",
    "\n",
    "from sklearn.model_selection import train_test_split\n",
    "\n",
    "x = df[['Time', 'V1', 'V2', 'V3', 'V4', 'V5', 'V6', 'V7', 'V8', 'V9', 'V10',\n",
    "       'V11', 'V12', 'V13', 'V14', 'V15', 'V16', 'V17', 'V18', 'V19', 'V20',\n",
    "       'V21', 'V22', 'V23', 'V24', 'V25', 'V26', 'V27', 'V28', 'Amount']]\n",
    "y = df['Class']\n",
    "\n",
    "xtrain, xtest, ytrain, ytest = train_test_split(x, y, test_size=0.30, random_state=0)\n",
    "print('xtrain shape')\n",
    "print(xtrain.shape)\n",
    "print('xtest shape')\n",
    "print(xtest.shape)"
   ]
  },
  {
   "cell_type": "markdown",
   "metadata": {},
   "source": [
    "## 8. Use Random Forest Algorithm\n",
    "#### A brief about Random Forest Algorithm\n",
    "Random forest classifier creates a set of decision trees from randomly selected subset of training set. It then aggregates the votes from different decision trees to decide the final class of the test object.  Random forests or random decision forests are an ensemble learning method for classification, regression and other tasks, that operate by constructing a multitude of decision trees at training time and outputting the class that is the mode of the classes (classification) or mean prediction (regression) of the individual trees. Random decision forests will avoid overfitting which will enhance the accuracy of the model on new data. This is a Bagging based algorithm which is used for reducing Overfitting in order to create strong learners for generating accurate predictions."
   ]
  },
  {
   "cell_type": "code",
   "execution_count": 16,
   "metadata": {},
   "outputs": [
    {
     "name": "stdout",
     "output_type": "stream",
     "text": [
      "model\n",
      "RandomForestClassifier(bootstrap=True, class_weight=None, criterion='gini',\n",
      "            max_depth=None, max_features='auto', max_leaf_nodes=None,\n",
      "            min_impurity_decrease=0.0, min_impurity_split=None,\n",
      "            min_samples_leaf=1, min_samples_split=2,\n",
      "            min_weight_fraction_leaf=0.0, n_estimators=10, n_jobs=1,\n",
      "            oob_score=False, random_state=None, verbose=0,\n",
      "            warm_start=False)\n",
      "confusion matrix\n",
      "[[17029     1]\n",
      " [    9    24]]\n",
      "classification report\n",
      "             precision    recall  f1-score   support\n",
      "\n",
      "          0       1.00      1.00      1.00     17030\n",
      "          1       0.96      0.73      0.83        33\n",
      "\n",
      "avg / total       1.00      1.00      1.00     17063\n",
      "\n",
      "Accuracy : 0.999414\n",
      "Area under the curve : 0.863607\n"
     ]
    }
   ],
   "source": [
    "# RF Classifier explained\n",
    "\n",
    "'''rf = RandomForestClassifier(n_estimators=100, oob_score=True, n_jobs=4)\n",
    "n_estimators : integer, optional (default=10)\n",
    "The number of trees in the forest.\n",
    "oob_score : bool (default=False)\n",
    "Whether to use out-of-bag samples to estimate the generalization accuracy.\n",
    "n_jobs : integer, optional (default=1)\n",
    "The number of jobs to run in parallel for both fit and predict. If -1, then the number of jobs is set to the number of cores.\n",
    "'''\n",
    "\n",
    "from sklearn.ensemble import RandomForestClassifier\n",
    "from sklearn import metrics\n",
    "\n",
    "rfmodel = RandomForestClassifier()\n",
    "rfmodel.fit(xtrain,ytrain)\n",
    "print('model')\n",
    "print(rfmodel)\n",
    "\n",
    "ypredrf = rfmodel.predict(xtest)\n",
    "print('confusion matrix')\n",
    "print(metrics.confusion_matrix(ytest, ypredrf))\n",
    "print('classification report')\n",
    "print(metrics.classification_report(ytest, ypredrf))\n",
    "print('Accuracy : %f' % (metrics.accuracy_score(ytest, ypredrf)))\n",
    "print('Area under the curve : %f' % (metrics.roc_auc_score(ytest, ypredrf)))"
   ]
  },
  {
   "cell_type": "markdown",
   "metadata": {},
   "source": [
    "#### In the above classification report we are getting the f1-score of 89 which is the harmonic mean of precision & recall scores.\n",
    "##### Recall is where the model tries to recollect the number of instances, in this case the model has been able to recollect 82% of frauds and able to classify them as frauds 96 % of the recollected events which is the precision of the model. \n",
    "##### Area under the curve signifies the accuracy of the model (values between 0 & 1) where the score towards 1 indicate high predictive power.\n",
    "# <font color='Red'> Note  : The numbers for recall, precision, F1 Score & Area under the curve can change for different runs of the model due to stocastic nature of the algorithms."
   ]
  },
  {
   "cell_type": "markdown",
   "metadata": {},
   "source": [
    "# 9. Use Gradient Boosting Alogrithm\n",
    "#### A Brief about Gradient Boosting Algorithm\n",
    "Gradient boosting is a machine learning technique for regression and classification problems, which produces a prediction model in the form of an ensemble of weak prediction models, typically decision trees. It builds the model in a stage-wise fashion like other boosting methods do, and it generalizes them by allowing optimization of an arbitrary differentiable loss function(a loss function or cost function is a function that maps an event or values of one or more variables onto a real number intuitively representing some \"cost\" associated with the event). This is a Boosting based algorithm which is an ensemble technique to combine weak learners to create a strong learner that can make accurate predictions. "
   ]
  },
  {
   "cell_type": "code",
   "execution_count": 17,
   "metadata": {},
   "outputs": [
    {
     "name": "stdout",
     "output_type": "stream",
     "text": [
      "confusion matrix\n",
      "[[17022     8]\n",
      " [   10    23]]\n",
      "classification report\n",
      "             precision    recall  f1-score   support\n",
      "\n",
      "          0       1.00      1.00      1.00     17030\n",
      "          1       0.74      0.70      0.72        33\n",
      "\n",
      "avg / total       1.00      1.00      1.00     17063\n",
      "\n",
      "-----------------------------------------------------------------------------------------\n",
      "Accuracy is :\n",
      "0.998945085858\n",
      "Area under the curve : 0.848250\n"
     ]
    }
   ],
   "source": [
    "# GBM Classifier explained\n",
    "\n",
    "'''params = {'n_estimators': 500, 'max_depth': 3, 'subsample': 0.5, 'learning_rate': 0.01, 'min_samples_leaf': 1, 'random_state': 3}\n",
    "clf = ensemble. GradientBoostingClassifier(**params)\n",
    "n_estimators : int (default=100)\n",
    "The number of boosting stages to perform. Gradient boosting is fairly robust to over-fitting, so a large number usually results in better performance.\n",
    "max_depth: integer, optional (default=3)\n",
    "maximum depth of the individual regression estimators. The maximum depth limits the number of nodes in the tree. The best value depends on the interaction of the input variables.\n",
    "subsample: float, optional (default=1.0)\n",
    "The fraction of samples to be used for fitting the individual base learners. If smaller than 1.0 this results in Stochastic Gradient Boosting. subsample interacts with the parameter n_estimators. Choosing subsample < 1.0 leads to a reduction of variance and an increase in bias.\n",
    "random_state : int, RandomState instance or None, optional (default=None)\n",
    "If int, random_state is the seed used by the random number generator; If RandomState instance, random_state is the random number generator; If None, the random number generator is the RandomState instance used by np.random.\n",
    "learning_rate : float, optional (default=0.1)\n",
    "learning rate shrinks the contribution of each tree by learning_rate. There is a trade-off between learning_rate and n_estimators.\n",
    "min_samples_leaf : int, float, optional (default=1)\n",
    "The minimum number of samples required to be at a leaf node:\n",
    "'''\n",
    "\n",
    "from sklearn import ensemble\n",
    "\n",
    "params = {'n_estimators': 500, 'max_depth': 3, 'subsample': 0.5,\n",
    "          'learning_rate': 0.01, 'min_samples_leaf': 1, 'random_state': 3}\n",
    "clf = ensemble.GradientBoostingClassifier(**params)\n",
    "clf.fit(xtrain, ytrain) #trains\n",
    "y_pred = clf.predict(xtest)  #predicts\n",
    "print('confusion matrix')\n",
    "print(metrics.confusion_matrix(ytest, y_pred))\n",
    "print('classification report')\n",
    "print(metrics.classification_report(ytest, y_pred))\n",
    "print(\"-----------------------------------------------------------------------------------------\")\n",
    "print(\"Accuracy is :\")\n",
    "print(metrics.accuracy_score(ytest, y_pred))\n",
    "print('Area under the curve : %f' % (metrics.roc_auc_score(ytest, y_pred)))"
   ]
  },
  {
   "cell_type": "markdown",
   "metadata": {},
   "source": [
    "# 10. Use Extreme Gradient Boosting Alogrithm\n",
    "#### A Brief about Extreme Gradient Boosting Algorithm\n",
    "XGBoost is one of the implementations of Gradient Boosting concept, but what makes XGBoost unique is that it uses “a more regularized model formalization to control over-fitting, which gives it better performance,” according to the author of the algorithm, Tianqi Chen. Therefore, it helps to reduce overfitting."
   ]
  },
  {
   "cell_type": "code",
   "execution_count": 18,
   "metadata": {},
   "outputs": [
    {
     "name": "stderr",
     "output_type": "stream",
     "text": [
      "/opt/conda/envs/DSX-Python35/lib/python3.5/site-packages/sklearn/cross_validation.py:41: DeprecationWarning: This module was deprecated in version 0.18 in favor of the model_selection module into which all the refactored classes and functions are moved. Also note that the interface of the new CV iterators are different from that of this module. This module will be removed in 0.20.\n",
      "  \"This module will be removed in 0.20.\", DeprecationWarning)\n"
     ]
    }
   ],
   "source": [
    "from xgboost.sklearn import XGBClassifier\n",
    "\n",
    "# Create the XGB classifier, xgb_model.\n",
    "xgb_model = XGBClassifier()"
   ]
  },
  {
   "cell_type": "code",
   "execution_count": 19,
   "metadata": {},
   "outputs": [
    {
     "name": "stdout",
     "output_type": "stream",
     "text": [
      "{'reg_alpha': 0, 'reg_lambda': 1, 'max_depth': 3, 'scale_pos_weight': 1, 'n_estimators': 100, 'max_delta_step': 0, 'min_child_weight': 1, 'seed': 0, 'colsample_bylevel': 1, 'colsample_bytree': 1, 'silent': 1, 'subsample': 1, 'learning_rate': 0.1, 'objective': 'binary:logistic', 'base_score': 0.5, 'gamma': 0, 'missing': None}\n"
     ]
    }
   ],
   "source": [
    "# List the default parameters.\n",
    "print(xgb_model.get_xgb_params())"
   ]
  },
  {
   "cell_type": "code",
   "execution_count": 20,
   "metadata": {},
   "outputs": [
    {
     "name": "stdout",
     "output_type": "stream",
     "text": [
      "[0]\tvalidation_0-error:0.000502\tvalidation_1-error:0.000762\n",
      "[1]\tvalidation_0-error:0.000527\tvalidation_1-error:0.000762\n",
      "[2]\tvalidation_0-error:0.000427\tvalidation_1-error:0.000762\n",
      "[3]\tvalidation_0-error:0.000527\tvalidation_1-error:0.000762\n",
      "[4]\tvalidation_0-error:0.000502\tvalidation_1-error:0.000645\n",
      "[5]\tvalidation_0-error:0.000427\tvalidation_1-error:0.00082\n",
      "[6]\tvalidation_0-error:0.000427\tvalidation_1-error:0.000762\n",
      "[7]\tvalidation_0-error:0.000402\tvalidation_1-error:0.000762\n",
      "[8]\tvalidation_0-error:0.000352\tvalidation_1-error:0.000703\n",
      "[9]\tvalidation_0-error:0.000352\tvalidation_1-error:0.000762\n",
      "[10]\tvalidation_0-error:0.000352\tvalidation_1-error:0.000703\n",
      "[11]\tvalidation_0-error:0.000327\tvalidation_1-error:0.000527\n",
      "[12]\tvalidation_0-error:0.000327\tvalidation_1-error:0.000527\n",
      "[13]\tvalidation_0-error:0.000301\tvalidation_1-error:0.000586\n",
      "[14]\tvalidation_0-error:0.000301\tvalidation_1-error:0.000527\n",
      "[15]\tvalidation_0-error:0.000301\tvalidation_1-error:0.000586\n",
      "[16]\tvalidation_0-error:0.000301\tvalidation_1-error:0.000527\n",
      "[17]\tvalidation_0-error:0.000301\tvalidation_1-error:0.000586\n",
      "[18]\tvalidation_0-error:0.000251\tvalidation_1-error:0.000469\n",
      "[19]\tvalidation_0-error:0.000251\tvalidation_1-error:0.000527\n",
      "[20]\tvalidation_0-error:0.000251\tvalidation_1-error:0.000527\n",
      "[21]\tvalidation_0-error:0.000251\tvalidation_1-error:0.000586\n",
      "[22]\tvalidation_0-error:0.000251\tvalidation_1-error:0.000527\n",
      "[23]\tvalidation_0-error:0.000251\tvalidation_1-error:0.000586\n",
      "[24]\tvalidation_0-error:0.000251\tvalidation_1-error:0.000586\n",
      "[25]\tvalidation_0-error:0.000251\tvalidation_1-error:0.000527\n",
      "[26]\tvalidation_0-error:0.000251\tvalidation_1-error:0.000527\n",
      "[27]\tvalidation_0-error:0.000251\tvalidation_1-error:0.000527\n",
      "[28]\tvalidation_0-error:0.000226\tvalidation_1-error:0.000527\n",
      "[29]\tvalidation_0-error:0.000226\tvalidation_1-error:0.000586\n",
      "[30]\tvalidation_0-error:0.000226\tvalidation_1-error:0.000527\n",
      "[31]\tvalidation_0-error:0.000226\tvalidation_1-error:0.000586\n",
      "[32]\tvalidation_0-error:0.000226\tvalidation_1-error:0.000586\n",
      "[33]\tvalidation_0-error:0.000226\tvalidation_1-error:0.000586\n",
      "[34]\tvalidation_0-error:0.000226\tvalidation_1-error:0.000527\n",
      "[35]\tvalidation_0-error:0.000226\tvalidation_1-error:0.000586\n",
      "[36]\tvalidation_0-error:0.000226\tvalidation_1-error:0.000586\n",
      "[37]\tvalidation_0-error:0.000226\tvalidation_1-error:0.000527\n",
      "[38]\tvalidation_0-error:0.000226\tvalidation_1-error:0.000527\n",
      "[39]\tvalidation_0-error:0.000226\tvalidation_1-error:0.000586\n",
      "[40]\tvalidation_0-error:0.000226\tvalidation_1-error:0.000469\n",
      "[41]\tvalidation_0-error:0.000226\tvalidation_1-error:0.000469\n",
      "[42]\tvalidation_0-error:0.000226\tvalidation_1-error:0.000469\n",
      "[43]\tvalidation_0-error:0.000226\tvalidation_1-error:0.000469\n",
      "[44]\tvalidation_0-error:0.000226\tvalidation_1-error:0.000469\n",
      "[45]\tvalidation_0-error:0.000226\tvalidation_1-error:0.000469\n",
      "[46]\tvalidation_0-error:0.000226\tvalidation_1-error:0.000469\n",
      "[47]\tvalidation_0-error:0.000226\tvalidation_1-error:0.000527\n",
      "[48]\tvalidation_0-error:0.000201\tvalidation_1-error:0.000527\n",
      "[49]\tvalidation_0-error:0.000201\tvalidation_1-error:0.000527\n",
      "[50]\tvalidation_0-error:0.000201\tvalidation_1-error:0.000527\n",
      "[51]\tvalidation_0-error:0.000201\tvalidation_1-error:0.000527\n",
      "[52]\tvalidation_0-error:0.000201\tvalidation_1-error:0.000527\n",
      "[53]\tvalidation_0-error:0.000201\tvalidation_1-error:0.000527\n",
      "[54]\tvalidation_0-error:0.000201\tvalidation_1-error:0.000527\n",
      "[55]\tvalidation_0-error:0.000201\tvalidation_1-error:0.000527\n",
      "[56]\tvalidation_0-error:0.000201\tvalidation_1-error:0.000527\n",
      "[57]\tvalidation_0-error:0.000201\tvalidation_1-error:0.000527\n",
      "[58]\tvalidation_0-error:0.000201\tvalidation_1-error:0.000527\n",
      "[59]\tvalidation_0-error:0.000201\tvalidation_1-error:0.000527\n",
      "[60]\tvalidation_0-error:0.000201\tvalidation_1-error:0.000527\n",
      "[61]\tvalidation_0-error:0.000201\tvalidation_1-error:0.000527\n",
      "[62]\tvalidation_0-error:0.000201\tvalidation_1-error:0.000527\n",
      "[63]\tvalidation_0-error:0.000201\tvalidation_1-error:0.000527\n",
      "[64]\tvalidation_0-error:0.000201\tvalidation_1-error:0.000527\n",
      "[65]\tvalidation_0-error:0.000201\tvalidation_1-error:0.000527\n",
      "[66]\tvalidation_0-error:0.000201\tvalidation_1-error:0.000527\n",
      "[67]\tvalidation_0-error:0.000201\tvalidation_1-error:0.000527\n",
      "[68]\tvalidation_0-error:0.000201\tvalidation_1-error:0.000527\n",
      "[69]\tvalidation_0-error:0.000201\tvalidation_1-error:0.000527\n",
      "[70]\tvalidation_0-error:0.000201\tvalidation_1-error:0.000527\n",
      "[71]\tvalidation_0-error:0.000201\tvalidation_1-error:0.000527\n",
      "[72]\tvalidation_0-error:0.000201\tvalidation_1-error:0.000527\n",
      "[73]\tvalidation_0-error:0.000201\tvalidation_1-error:0.000527\n",
      "[74]\tvalidation_0-error:0.000201\tvalidation_1-error:0.000527\n",
      "[75]\tvalidation_0-error:0.000201\tvalidation_1-error:0.000527\n",
      "[76]\tvalidation_0-error:0.000201\tvalidation_1-error:0.000527\n",
      "[77]\tvalidation_0-error:0.000201\tvalidation_1-error:0.000527\n",
      "[78]\tvalidation_0-error:0.000201\tvalidation_1-error:0.000527\n",
      "[79]\tvalidation_0-error:0.000201\tvalidation_1-error:0.000527\n",
      "[80]\tvalidation_0-error:0.000201\tvalidation_1-error:0.000527\n",
      "[81]\tvalidation_0-error:0.000201\tvalidation_1-error:0.000527\n",
      "[82]\tvalidation_0-error:0.000201\tvalidation_1-error:0.000527\n",
      "[83]\tvalidation_0-error:0.000201\tvalidation_1-error:0.000527\n",
      "[84]\tvalidation_0-error:0.000201\tvalidation_1-error:0.000527\n",
      "[85]\tvalidation_0-error:0.000201\tvalidation_1-error:0.000527\n",
      "[86]\tvalidation_0-error:0.000201\tvalidation_1-error:0.000527\n",
      "[87]\tvalidation_0-error:0.000201\tvalidation_1-error:0.000527\n",
      "[88]\tvalidation_0-error:0.000201\tvalidation_1-error:0.000527\n",
      "[89]\tvalidation_0-error:0.000201\tvalidation_1-error:0.000527\n",
      "[90]\tvalidation_0-error:0.000201\tvalidation_1-error:0.000527\n",
      "[91]\tvalidation_0-error:0.000201\tvalidation_1-error:0.000527\n",
      "[92]\tvalidation_0-error:0.000201\tvalidation_1-error:0.000527\n",
      "[93]\tvalidation_0-error:0.000201\tvalidation_1-error:0.000527\n",
      "[94]\tvalidation_0-error:0.000201\tvalidation_1-error:0.000527\n",
      "[95]\tvalidation_0-error:0.000201\tvalidation_1-error:0.000527\n",
      "[96]\tvalidation_0-error:0.000201\tvalidation_1-error:0.000527\n",
      "[97]\tvalidation_0-error:0.000201\tvalidation_1-error:0.000527\n",
      "[98]\tvalidation_0-error:0.000201\tvalidation_1-error:0.000527\n",
      "[99]\tvalidation_0-error:0.000201\tvalidation_1-error:0.000527\n"
     ]
    },
    {
     "data": {
      "text/plain": [
       "XGBClassifier(base_score=0.5, colsample_bylevel=1, colsample_bytree=1,\n",
       "       gamma=0, learning_rate=0.1, max_delta_step=0, max_depth=3,\n",
       "       min_child_weight=1, missing=None, n_estimators=100, nthread=-1,\n",
       "       objective='binary:logistic', reg_alpha=0, reg_lambda=1,\n",
       "       scale_pos_weight=1, seed=0, silent=True, subsample=1)"
      ]
     },
     "execution_count": 20,
     "metadata": {},
     "output_type": "execute_result"
    }
   ],
   "source": [
    "# Train and evaluate.\n",
    "xgb_model.fit(xtrain, ytrain, eval_metric=['error'], eval_set=[((xtrain, ytrain)),(xtest, ytest)])"
   ]
  },
  {
   "cell_type": "code",
   "execution_count": 21,
   "metadata": {},
   "outputs": [
    {
     "name": "stdout",
     "output_type": "stream",
     "text": [
      "confusion matrix\n",
      "[[17028     2]\n",
      " [    7    26]]\n",
      "classification report\n",
      "             precision    recall  f1-score   support\n",
      "\n",
      "          0       1.00      1.00      1.00     17030\n",
      "          1       0.93      0.79      0.85        33\n",
      "\n",
      "avg / total       1.00      1.00      1.00     17063\n",
      "\n",
      "-----------------------------------------------------------------------------------------\n",
      "Accuracy is :\n",
      "0.999472542929\n",
      "Area under the curve : 0.893881\n"
     ]
    }
   ],
   "source": [
    "from sklearn import metrics\n",
    "import warnings\n",
    "warnings.filterwarnings(\"ignore\")\n",
    "\n",
    "y_pred = xgb_model.predict(xtest)  #predicts\n",
    "print('confusion matrix')\n",
    "print(metrics.confusion_matrix(ytest, y_pred))\n",
    "print('classification report')\n",
    "print(metrics.classification_report(ytest, y_pred))\n",
    "print(\"-----------------------------------------------------------------------------------------\")\n",
    "print(\"Accuracy is :\")\n",
    "print(metrics.accuracy_score(ytest, y_pred))\n",
    "print('Area under the curve : %f' % (metrics.roc_auc_score(ytest, y_pred)))"
   ]
  },
  {
   "cell_type": "markdown",
   "metadata": {},
   "source": [
    "#### As we can see, the F1 score and Area under the curve are higher compared to previous model. "
   ]
  },
  {
   "cell_type": "markdown",
   "metadata": {},
   "source": [
    "# 11. Select random variables for model building\n",
    "#### This is done to check whether we can get a lift on the accuracy with fewer variables"
   ]
  },
  {
   "cell_type": "code",
   "execution_count": 22,
   "metadata": {},
   "outputs": [
    {
     "name": "stdout",
     "output_type": "stream",
     "text": [
      "xtrain shape\n",
      "(39811, 6)\n",
      "xtest shape\n",
      "(17063, 6)\n"
     ]
    }
   ],
   "source": [
    "# Split The Data with few variables\n",
    "\n",
    "from sklearn.model_selection import train_test_split\n",
    "\n",
    "x = df[['V9', 'V10','V16', 'V17', 'V18', 'Amount']]\n",
    "y = df['Class']\n",
    "\n",
    "xtrain, xtest, ytrain, ytest = train_test_split(x, y, test_size=0.30, random_state=0)\n",
    "print('xtrain shape')\n",
    "print(xtrain.shape)\n",
    "print('xtest shape')\n",
    "print(xtest.shape)"
   ]
  },
  {
   "cell_type": "code",
   "execution_count": 23,
   "metadata": {},
   "outputs": [
    {
     "name": "stdout",
     "output_type": "stream",
     "text": [
      "model\n",
      "RandomForestClassifier(bootstrap=True, class_weight=None, criterion='gini',\n",
      "            max_depth=None, max_features='auto', max_leaf_nodes=None,\n",
      "            min_impurity_decrease=0.0, min_impurity_split=None,\n",
      "            min_samples_leaf=1, min_samples_split=2,\n",
      "            min_weight_fraction_leaf=0.0, n_estimators=10, n_jobs=1,\n",
      "            oob_score=False, random_state=None, verbose=0,\n",
      "            warm_start=False)\n",
      "confusion matrix\n",
      "[[17028     2]\n",
      " [    8    25]]\n",
      "classification report\n",
      "             precision    recall  f1-score   support\n",
      "\n",
      "          0       1.00      1.00      1.00     17030\n",
      "          1       0.93      0.76      0.83        33\n",
      "\n",
      "avg / total       1.00      1.00      1.00     17063\n",
      "\n",
      "Accuracy : 0.999414\n",
      "Area under the curve : 0.878729\n"
     ]
    }
   ],
   "source": [
    "'''Random Forest Classifier on reduced dimensions data'''\n",
    "\n",
    "from sklearn.ensemble import RandomForestClassifier\n",
    "from sklearn import metrics\n",
    "\n",
    "rfmodel = RandomForestClassifier()\n",
    "rfmodel.fit(xtrain,ytrain)\n",
    "print('model')\n",
    "print(rfmodel)\n",
    "\n",
    "ypredrf = rfmodel.predict(xtest)\n",
    "print('confusion matrix')\n",
    "print(metrics.confusion_matrix(ytest, ypredrf))\n",
    "print('classification report')\n",
    "print(metrics.classification_report(ytest, ypredrf))\n",
    "print('Accuracy : %f' % (metrics.accuracy_score(ytest, ypredrf)))\n",
    "print('Area under the curve : %f' % (metrics.roc_auc_score(ytest, ypredrf)))"
   ]
  },
  {
   "cell_type": "markdown",
   "metadata": {},
   "source": [
    "#### The F1 score has reduced with fewer variables along with Area under the curve"
   ]
  },
  {
   "cell_type": "code",
   "execution_count": 24,
   "metadata": {},
   "outputs": [
    {
     "name": "stdout",
     "output_type": "stream",
     "text": [
      "confusion matrix\n",
      "[[17023     7]\n",
      " [    8    25]]\n",
      "classification report\n",
      "             precision    recall  f1-score   support\n",
      "\n",
      "          0       1.00      1.00      1.00     17030\n",
      "          1       0.78      0.76      0.77        33\n",
      "\n",
      "avg / total       1.00      1.00      1.00     17063\n",
      "\n",
      "-----------------------------------------------------------------------------------------\n",
      "Accuracy is :\n",
      "0.999120904882\n",
      "Area under the curve : 0.878582\n"
     ]
    }
   ],
   "source": [
    "'''Gradient Boost Algorithm on reduced dimensions data'''\n",
    "\n",
    "from sklearn import ensemble\n",
    "\n",
    "params = {'n_estimators': 500, 'max_depth': 3, 'subsample': 0.5,\n",
    "          'learning_rate': 0.01, 'min_samples_leaf': 1, 'random_state': 3}\n",
    "clf = ensemble.GradientBoostingClassifier(**params)\n",
    "clf.fit(xtrain, ytrain) #trains\n",
    "y_pred = clf.predict(xtest)  #predicts\n",
    "print('confusion matrix')\n",
    "print(metrics.confusion_matrix(ytest, y_pred))\n",
    "print('classification report')\n",
    "print(metrics.classification_report(ytest, y_pred))\n",
    "print(\"-----------------------------------------------------------------------------------------\")\n",
    "print(\"Accuracy is :\")\n",
    "print(metrics.accuracy_score(ytest, y_pred))\n",
    "print('Area under the curve : %f' % (metrics.roc_auc_score(ytest, y_pred)))"
   ]
  },
  {
   "cell_type": "markdown",
   "metadata": {},
   "source": [
    "#### Reduction in the F1 score with fewer variables."
   ]
  },
  {
   "cell_type": "code",
   "execution_count": 25,
   "metadata": {},
   "outputs": [
    {
     "name": "stdout",
     "output_type": "stream",
     "text": [
      "{'reg_alpha': 0, 'reg_lambda': 1, 'max_depth': 3, 'scale_pos_weight': 1, 'n_estimators': 100, 'max_delta_step': 0, 'min_child_weight': 1, 'seed': 0, 'colsample_bylevel': 1, 'colsample_bytree': 1, 'silent': 1, 'subsample': 1, 'learning_rate': 0.1, 'objective': 'binary:logistic', 'base_score': 0.5, 'gamma': 0, 'missing': None}\n"
     ]
    }
   ],
   "source": [
    "'''Extreme Gradient Boost Algorithm on reduced dimensions data'''\n",
    "\n",
    "from xgboost.sklearn import XGBClassifier\n",
    "\n",
    "# Create the XGB classifier, xgb_model.\n",
    "xgb_model = XGBClassifier()\n",
    "# List the default parameters.\n",
    "print(xgb_model.get_xgb_params())"
   ]
  },
  {
   "cell_type": "code",
   "execution_count": 26,
   "metadata": {},
   "outputs": [
    {
     "name": "stdout",
     "output_type": "stream",
     "text": [
      "[0]\tvalidation_0-error:0.000527\tvalidation_1-error:0.000645\n",
      "[1]\tvalidation_0-error:0.000553\tvalidation_1-error:0.000586\n",
      "[2]\tvalidation_0-error:0.000553\tvalidation_1-error:0.000586\n",
      "[3]\tvalidation_0-error:0.000553\tvalidation_1-error:0.000586\n",
      "[4]\tvalidation_0-error:0.000553\tvalidation_1-error:0.000586\n",
      "[5]\tvalidation_0-error:0.000553\tvalidation_1-error:0.000586\n",
      "[6]\tvalidation_0-error:0.000553\tvalidation_1-error:0.000586\n",
      "[7]\tvalidation_0-error:0.000553\tvalidation_1-error:0.000586\n",
      "[8]\tvalidation_0-error:0.000553\tvalidation_1-error:0.000586\n",
      "[9]\tvalidation_0-error:0.000553\tvalidation_1-error:0.000586\n",
      "[10]\tvalidation_0-error:0.000553\tvalidation_1-error:0.000586\n",
      "[11]\tvalidation_0-error:0.000527\tvalidation_1-error:0.000586\n",
      "[12]\tvalidation_0-error:0.000527\tvalidation_1-error:0.000645\n",
      "[13]\tvalidation_0-error:0.000527\tvalidation_1-error:0.000586\n",
      "[14]\tvalidation_0-error:0.000527\tvalidation_1-error:0.000645\n",
      "[15]\tvalidation_0-error:0.000527\tvalidation_1-error:0.000645\n",
      "[16]\tvalidation_0-error:0.000527\tvalidation_1-error:0.000586\n",
      "[17]\tvalidation_0-error:0.000527\tvalidation_1-error:0.000645\n",
      "[18]\tvalidation_0-error:0.000527\tvalidation_1-error:0.000645\n",
      "[19]\tvalidation_0-error:0.000527\tvalidation_1-error:0.000645\n",
      "[20]\tvalidation_0-error:0.000527\tvalidation_1-error:0.000645\n",
      "[21]\tvalidation_0-error:0.000477\tvalidation_1-error:0.000527\n",
      "[22]\tvalidation_0-error:0.000477\tvalidation_1-error:0.000527\n",
      "[23]\tvalidation_0-error:0.000477\tvalidation_1-error:0.000527\n",
      "[24]\tvalidation_0-error:0.000477\tvalidation_1-error:0.000527\n",
      "[25]\tvalidation_0-error:0.000427\tvalidation_1-error:0.000527\n",
      "[26]\tvalidation_0-error:0.000427\tvalidation_1-error:0.000527\n",
      "[27]\tvalidation_0-error:0.000427\tvalidation_1-error:0.000527\n",
      "[28]\tvalidation_0-error:0.000427\tvalidation_1-error:0.000527\n",
      "[29]\tvalidation_0-error:0.000427\tvalidation_1-error:0.000527\n",
      "[30]\tvalidation_0-error:0.000427\tvalidation_1-error:0.000527\n",
      "[31]\tvalidation_0-error:0.000427\tvalidation_1-error:0.000527\n",
      "[32]\tvalidation_0-error:0.000427\tvalidation_1-error:0.000527\n",
      "[33]\tvalidation_0-error:0.000427\tvalidation_1-error:0.000527\n",
      "[34]\tvalidation_0-error:0.000427\tvalidation_1-error:0.000527\n",
      "[35]\tvalidation_0-error:0.000427\tvalidation_1-error:0.000527\n",
      "[36]\tvalidation_0-error:0.000427\tvalidation_1-error:0.000527\n",
      "[37]\tvalidation_0-error:0.000427\tvalidation_1-error:0.000527\n",
      "[38]\tvalidation_0-error:0.000427\tvalidation_1-error:0.000527\n",
      "[39]\tvalidation_0-error:0.000427\tvalidation_1-error:0.000527\n",
      "[40]\tvalidation_0-error:0.000402\tvalidation_1-error:0.000527\n",
      "[41]\tvalidation_0-error:0.000402\tvalidation_1-error:0.000527\n",
      "[42]\tvalidation_0-error:0.000402\tvalidation_1-error:0.000527\n",
      "[43]\tvalidation_0-error:0.000402\tvalidation_1-error:0.000527\n",
      "[44]\tvalidation_0-error:0.000402\tvalidation_1-error:0.000527\n",
      "[45]\tvalidation_0-error:0.000402\tvalidation_1-error:0.000527\n",
      "[46]\tvalidation_0-error:0.000402\tvalidation_1-error:0.000527\n",
      "[47]\tvalidation_0-error:0.000402\tvalidation_1-error:0.000527\n",
      "[48]\tvalidation_0-error:0.000402\tvalidation_1-error:0.000527\n",
      "[49]\tvalidation_0-error:0.000402\tvalidation_1-error:0.000527\n",
      "[50]\tvalidation_0-error:0.000402\tvalidation_1-error:0.000527\n",
      "[51]\tvalidation_0-error:0.000402\tvalidation_1-error:0.000527\n",
      "[52]\tvalidation_0-error:0.000402\tvalidation_1-error:0.000527\n",
      "[53]\tvalidation_0-error:0.000402\tvalidation_1-error:0.000527\n",
      "[54]\tvalidation_0-error:0.000402\tvalidation_1-error:0.000527\n",
      "[55]\tvalidation_0-error:0.000402\tvalidation_1-error:0.000527\n",
      "[56]\tvalidation_0-error:0.000402\tvalidation_1-error:0.000527\n",
      "[57]\tvalidation_0-error:0.000402\tvalidation_1-error:0.000527\n",
      "[58]\tvalidation_0-error:0.000402\tvalidation_1-error:0.000527\n",
      "[59]\tvalidation_0-error:0.000402\tvalidation_1-error:0.000527\n",
      "[60]\tvalidation_0-error:0.000402\tvalidation_1-error:0.000527\n",
      "[61]\tvalidation_0-error:0.000402\tvalidation_1-error:0.000527\n",
      "[62]\tvalidation_0-error:0.000402\tvalidation_1-error:0.000527\n",
      "[63]\tvalidation_0-error:0.000402\tvalidation_1-error:0.000527\n",
      "[64]\tvalidation_0-error:0.000402\tvalidation_1-error:0.000527\n",
      "[65]\tvalidation_0-error:0.000402\tvalidation_1-error:0.000586\n",
      "[66]\tvalidation_0-error:0.000402\tvalidation_1-error:0.000586\n",
      "[67]\tvalidation_0-error:0.000402\tvalidation_1-error:0.000586\n",
      "[68]\tvalidation_0-error:0.000402\tvalidation_1-error:0.000586\n",
      "[69]\tvalidation_0-error:0.000402\tvalidation_1-error:0.000586\n",
      "[70]\tvalidation_0-error:0.000402\tvalidation_1-error:0.000586\n",
      "[71]\tvalidation_0-error:0.000402\tvalidation_1-error:0.000586\n",
      "[72]\tvalidation_0-error:0.000402\tvalidation_1-error:0.000586\n",
      "[73]\tvalidation_0-error:0.000402\tvalidation_1-error:0.000586\n",
      "[74]\tvalidation_0-error:0.000402\tvalidation_1-error:0.000527\n",
      "[75]\tvalidation_0-error:0.000402\tvalidation_1-error:0.000527\n",
      "[76]\tvalidation_0-error:0.000402\tvalidation_1-error:0.000527\n",
      "[77]\tvalidation_0-error:0.000402\tvalidation_1-error:0.000527\n",
      "[78]\tvalidation_0-error:0.000402\tvalidation_1-error:0.000527\n",
      "[79]\tvalidation_0-error:0.000402\tvalidation_1-error:0.000527\n",
      "[80]\tvalidation_0-error:0.000402\tvalidation_1-error:0.000586\n",
      "[81]\tvalidation_0-error:0.000402\tvalidation_1-error:0.000586\n",
      "[82]\tvalidation_0-error:0.000402\tvalidation_1-error:0.000527\n",
      "[83]\tvalidation_0-error:0.000402\tvalidation_1-error:0.000586\n",
      "[84]\tvalidation_0-error:0.000402\tvalidation_1-error:0.000586\n",
      "[85]\tvalidation_0-error:0.000402\tvalidation_1-error:0.000586\n",
      "[86]\tvalidation_0-error:0.000402\tvalidation_1-error:0.000586\n",
      "[87]\tvalidation_0-error:0.000402\tvalidation_1-error:0.000586\n",
      "[88]\tvalidation_0-error:0.000402\tvalidation_1-error:0.000586\n",
      "[89]\tvalidation_0-error:0.000402\tvalidation_1-error:0.000586\n",
      "[90]\tvalidation_0-error:0.000402\tvalidation_1-error:0.000586\n",
      "[91]\tvalidation_0-error:0.000402\tvalidation_1-error:0.000586\n",
      "[92]\tvalidation_0-error:0.000402\tvalidation_1-error:0.000586\n",
      "[93]\tvalidation_0-error:0.000402\tvalidation_1-error:0.000586\n",
      "[94]\tvalidation_0-error:0.000402\tvalidation_1-error:0.000586\n",
      "[95]\tvalidation_0-error:0.000402\tvalidation_1-error:0.000586\n",
      "[96]\tvalidation_0-error:0.000402\tvalidation_1-error:0.000586\n",
      "[97]\tvalidation_0-error:0.000402\tvalidation_1-error:0.000586\n",
      "[98]\tvalidation_0-error:0.000402\tvalidation_1-error:0.000586\n",
      "[99]\tvalidation_0-error:0.000402\tvalidation_1-error:0.000586\n"
     ]
    },
    {
     "data": {
      "text/plain": [
       "XGBClassifier(base_score=0.5, colsample_bylevel=1, colsample_bytree=1,\n",
       "       gamma=0, learning_rate=0.1, max_delta_step=0, max_depth=3,\n",
       "       min_child_weight=1, missing=None, n_estimators=100, nthread=-1,\n",
       "       objective='binary:logistic', reg_alpha=0, reg_lambda=1,\n",
       "       scale_pos_weight=1, seed=0, silent=True, subsample=1)"
      ]
     },
     "execution_count": 26,
     "metadata": {},
     "output_type": "execute_result"
    }
   ],
   "source": [
    "# Train and evaluate.\n",
    "xgb_model.fit(xtrain, ytrain, eval_metric=['error'], eval_set=[((xtrain, ytrain)),(xtest, ytest)])"
   ]
  },
  {
   "cell_type": "code",
   "execution_count": 27,
   "metadata": {},
   "outputs": [
    {
     "name": "stdout",
     "output_type": "stream",
     "text": [
      "confusion matrix\n",
      "[[17027     3]\n",
      " [    7    26]]\n",
      "classification report\n",
      "             precision    recall  f1-score   support\n",
      "\n",
      "          0       1.00      1.00      1.00     17030\n",
      "          1       0.90      0.79      0.84        33\n",
      "\n",
      "avg / total       1.00      1.00      1.00     17063\n",
      "\n",
      "-----------------------------------------------------------------------------------------\n",
      "Accuracy is :\n",
      "0.999413936588\n",
      "Area under the curve : 0.893851\n"
     ]
    }
   ],
   "source": [
    "from sklearn import metrics\n",
    "import warnings\n",
    "warnings.filterwarnings(\"ignore\")\n",
    "\n",
    "y_pred = xgb_model.predict(xtest)  #predicts\n",
    "print('confusion matrix')\n",
    "print(metrics.confusion_matrix(ytest, y_pred))\n",
    "print('classification report')\n",
    "print(metrics.classification_report(ytest, y_pred))\n",
    "print(\"-----------------------------------------------------------------------------------------\")\n",
    "print(\"Accuracy is :\")\n",
    "print(metrics.accuracy_score(ytest, y_pred))\n",
    "print('Area under the curve : %f' % (metrics.roc_auc_score(ytest, y_pred)))"
   ]
  },
  {
   "cell_type": "markdown",
   "metadata": {},
   "source": [
    "#### Higher F1 score compared to Gradient Boosting Model"
   ]
  },
  {
   "cell_type": "markdown",
   "metadata": {},
   "source": [
    "# 11. Random Under Sampling\n",
    "#### This is done to reduce the imbalance between frauds & non frauds"
   ]
  },
  {
   "cell_type": "code",
   "execution_count": 28,
   "metadata": {
    "collapsed": true
   },
   "outputs": [],
   "source": [
    "'''We are taking 10% of non frauds and merge it with frauds data'''\n",
    "\n",
    "df = df[['Class', 'Time', 'V1', 'V2', 'V3', 'V4', 'V5', 'V6', 'V7', 'V8', 'V9', 'V10',\n",
    "       'V11', 'V12', 'V13', 'V14', 'V15', 'V16', 'V17', 'V18', 'V19', 'V20',\n",
    "       'V21', 'V22', 'V23', 'V24', 'V25', 'V26', 'V27', 'V28', 'Amount']]\n",
    "\n",
    "\n",
    "sample = df[df['Class']==0]\n",
    "fraud = df[df['Class'] == 1]\n",
    "\n",
    "# random sampling\n",
    "ignore_me, sample = train_test_split(sample, test_size = 0.1)"
   ]
  },
  {
   "cell_type": "code",
   "execution_count": 29,
   "metadata": {
    "collapsed": true
   },
   "outputs": [],
   "source": [
    "import warnings\n",
    "warnings.filterwarnings(\"ignore\")\n",
    "\n",
    "sample = pd.concat([sample, fraud])\n",
    "\n",
    "# Split into train and test units.\n",
    "xtrain, xtest = train_test_split(sample, test_size = 0.3)\n",
    "ytrain = xtrain['Class']\n",
    "ytest = xtest['Class']\n",
    "xtrain.drop('Class', 1, inplace = True)\n",
    "xtest.drop('Class', 1, inplace = True)"
   ]
  },
  {
   "cell_type": "code",
   "execution_count": 30,
   "metadata": {},
   "outputs": [
    {
     "name": "stdout",
     "output_type": "stream",
     "text": [
      "model\n",
      "RandomForestClassifier(bootstrap=True, class_weight=None, criterion='gini',\n",
      "            max_depth=None, max_features='auto', max_leaf_nodes=None,\n",
      "            min_impurity_decrease=0.0, min_impurity_split=None,\n",
      "            min_samples_leaf=1, min_samples_split=2,\n",
      "            min_weight_fraction_leaf=0.0, n_estimators=10, n_jobs=1,\n",
      "            oob_score=False, random_state=None, verbose=0,\n",
      "            warm_start=False)\n",
      "confusion matrix\n",
      "[[1703    0]\n",
      " [   2   29]]\n",
      "classification report\n",
      "             precision    recall  f1-score   support\n",
      "\n",
      "          0       1.00      1.00      1.00      1703\n",
      "          1       1.00      0.94      0.97        31\n",
      "\n",
      "avg / total       1.00      1.00      1.00      1734\n",
      "\n",
      "Accuracy : 0.998847\n",
      "Area under the curve : 0.967742\n"
     ]
    }
   ],
   "source": [
    "'''Random Forest Classifier on undersampled data'''\n",
    "\n",
    "from sklearn.ensemble import RandomForestClassifier\n",
    "from sklearn import metrics\n",
    "\n",
    "rfmodel = RandomForestClassifier()\n",
    "rfmodel.fit(xtrain,ytrain)\n",
    "print('model')\n",
    "print(rfmodel)\n",
    "\n",
    "ypredrf = rfmodel.predict(xtest)\n",
    "print('confusion matrix')\n",
    "print(metrics.confusion_matrix(ytest, ypredrf))\n",
    "print('classification report')\n",
    "print(metrics.classification_report(ytest, ypredrf))\n",
    "print('Accuracy : %f' % (metrics.accuracy_score(ytest, ypredrf)))\n",
    "print('Area under the curve : %f' % (metrics.roc_auc_score(ytest, ypredrf)))"
   ]
  },
  {
   "cell_type": "markdown",
   "metadata": {},
   "source": [
    "#### we can see an increase in F1 score which indicates that random under sample can give a lift in the accuracy. However we need to do random sampling multiple times for training the model and then use it on the new data for better results."
   ]
  },
  {
   "cell_type": "code",
   "execution_count": 31,
   "metadata": {},
   "outputs": [
    {
     "name": "stdout",
     "output_type": "stream",
     "text": [
      "confusion matrix\n",
      "[[1700    3]\n",
      " [   3   28]]\n",
      "classification report\n",
      "             precision    recall  f1-score   support\n",
      "\n",
      "          0       1.00      1.00      1.00      1703\n",
      "          1       0.90      0.90      0.90        31\n",
      "\n",
      "avg / total       1.00      1.00      1.00      1734\n",
      "\n",
      "-----------------------------------------------------------------------------------------\n",
      "Accuracy is :\n",
      "0.996539792388\n",
      "Area under the curve : 0.950732\n"
     ]
    }
   ],
   "source": [
    "'''Gradient Boost Algorithm on undersampled data'''\n",
    "\n",
    "from sklearn import ensemble\n",
    "\n",
    "params = {'n_estimators': 650, 'max_depth': 3, 'subsample': 0.5,\n",
    "          'learning_rate': 0.01, 'min_samples_leaf': 1, 'random_state': 3}\n",
    "clf = ensemble.GradientBoostingClassifier(**params)\n",
    "clf.fit(xtrain, ytrain) #trains\n",
    "y_pred = clf.predict(xtest)  #predicts\n",
    "print('confusion matrix')\n",
    "print(metrics.confusion_matrix(ytest, y_pred))\n",
    "print('classification report')\n",
    "print(metrics.classification_report(ytest, y_pred))\n",
    "print(\"-----------------------------------------------------------------------------------------\")\n",
    "print(\"Accuracy is :\")\n",
    "print(metrics.accuracy_score(ytest, y_pred))\n",
    "print('Area under the curve : %f' % (metrics.roc_auc_score(ytest, y_pred)))"
   ]
  },
  {
   "cell_type": "markdown",
   "metadata": {},
   "source": [
    "#### There is an increase in the F1 score for this sampling technique with 10% data of non-frauds and 100% frauds. "
   ]
  },
  {
   "cell_type": "code",
   "execution_count": 32,
   "metadata": {},
   "outputs": [
    {
     "name": "stdout",
     "output_type": "stream",
     "text": [
      "{'reg_alpha': 0, 'reg_lambda': 1, 'max_depth': 3, 'scale_pos_weight': 1, 'n_estimators': 100, 'max_delta_step': 0, 'min_child_weight': 1, 'seed': 0, 'colsample_bylevel': 1, 'colsample_bytree': 1, 'silent': 1, 'subsample': 1, 'learning_rate': 0.1, 'objective': 'binary:logistic', 'base_score': 0.5, 'gamma': 0, 'missing': None}\n"
     ]
    }
   ],
   "source": [
    "'''Extreme Gradient Boost Algorithm on reduced dimensions data'''\n",
    "\n",
    "from xgboost.sklearn import XGBClassifier\n",
    "\n",
    "# Create the XGB classifier, xgb_model.\n",
    "xgb_model = XGBClassifier()\n",
    "\n",
    "# List the default parameters.\n",
    "print(xgb_model.get_xgb_params())"
   ]
  },
  {
   "cell_type": "code",
   "execution_count": 33,
   "metadata": {},
   "outputs": [
    {
     "name": "stdout",
     "output_type": "stream",
     "text": [
      "[0]\tvalidation_0-error:0.002472\tvalidation_1-error:0.002307\n",
      "[1]\tvalidation_0-error:0.002472\tvalidation_1-error:0.002307\n",
      "[2]\tvalidation_0-error:0.002472\tvalidation_1-error:0.002307\n",
      "[3]\tvalidation_0-error:0.002472\tvalidation_1-error:0.002307\n",
      "[4]\tvalidation_0-error:0.002472\tvalidation_1-error:0.002307\n",
      "[5]\tvalidation_0-error:0.002472\tvalidation_1-error:0.002307\n",
      "[6]\tvalidation_0-error:0.002472\tvalidation_1-error:0.002307\n",
      "[7]\tvalidation_0-error:0.002472\tvalidation_1-error:0.002307\n",
      "[8]\tvalidation_0-error:0.002472\tvalidation_1-error:0.002307\n",
      "[9]\tvalidation_0-error:0.002472\tvalidation_1-error:0.002307\n",
      "[10]\tvalidation_0-error:0.002472\tvalidation_1-error:0.002307\n",
      "[11]\tvalidation_0-error:0.002472\tvalidation_1-error:0.002307\n",
      "[12]\tvalidation_0-error:0.002472\tvalidation_1-error:0.002307\n",
      "[13]\tvalidation_0-error:0.002472\tvalidation_1-error:0.002307\n",
      "[14]\tvalidation_0-error:0.002472\tvalidation_1-error:0.002307\n",
      "[15]\tvalidation_0-error:0.002472\tvalidation_1-error:0.002307\n",
      "[16]\tvalidation_0-error:0.002472\tvalidation_1-error:0.002307\n",
      "[17]\tvalidation_0-error:0.002472\tvalidation_1-error:0.002307\n",
      "[18]\tvalidation_0-error:0.002472\tvalidation_1-error:0.002307\n",
      "[19]\tvalidation_0-error:0.002472\tvalidation_1-error:0.00173\n",
      "[20]\tvalidation_0-error:0.002472\tvalidation_1-error:0.00173\n",
      "[21]\tvalidation_0-error:0.002472\tvalidation_1-error:0.00173\n",
      "[22]\tvalidation_0-error:0.002472\tvalidation_1-error:0.00173\n",
      "[23]\tvalidation_0-error:0.002472\tvalidation_1-error:0.00173\n",
      "[24]\tvalidation_0-error:0.002472\tvalidation_1-error:0.00173\n",
      "[25]\tvalidation_0-error:0.002224\tvalidation_1-error:0.001153\n",
      "[26]\tvalidation_0-error:0.002224\tvalidation_1-error:0.001153\n",
      "[27]\tvalidation_0-error:0.002224\tvalidation_1-error:0.001153\n",
      "[28]\tvalidation_0-error:0.002224\tvalidation_1-error:0.001153\n",
      "[29]\tvalidation_0-error:0.002224\tvalidation_1-error:0.001153\n",
      "[30]\tvalidation_0-error:0.001977\tvalidation_1-error:0.001153\n",
      "[31]\tvalidation_0-error:0.001977\tvalidation_1-error:0.001153\n",
      "[32]\tvalidation_0-error:0.001977\tvalidation_1-error:0.001153\n",
      "[33]\tvalidation_0-error:0.001977\tvalidation_1-error:0.001153\n",
      "[34]\tvalidation_0-error:0.001977\tvalidation_1-error:0.001153\n",
      "[35]\tvalidation_0-error:0.001977\tvalidation_1-error:0.001153\n",
      "[36]\tvalidation_0-error:0.001977\tvalidation_1-error:0.001153\n",
      "[37]\tvalidation_0-error:0.001977\tvalidation_1-error:0.001153\n",
      "[38]\tvalidation_0-error:0.001977\tvalidation_1-error:0.001153\n",
      "[39]\tvalidation_0-error:0.001977\tvalidation_1-error:0.001153\n",
      "[40]\tvalidation_0-error:0.00173\tvalidation_1-error:0.001153\n",
      "[41]\tvalidation_0-error:0.00173\tvalidation_1-error:0.001153\n",
      "[42]\tvalidation_0-error:0.00173\tvalidation_1-error:0.001153\n",
      "[43]\tvalidation_0-error:0.00173\tvalidation_1-error:0.001153\n",
      "[44]\tvalidation_0-error:0.00173\tvalidation_1-error:0.001153\n",
      "[45]\tvalidation_0-error:0.00173\tvalidation_1-error:0.001153\n",
      "[46]\tvalidation_0-error:0.00173\tvalidation_1-error:0.00173\n",
      "[47]\tvalidation_0-error:0.00173\tvalidation_1-error:0.00173\n",
      "[48]\tvalidation_0-error:0.00173\tvalidation_1-error:0.00173\n",
      "[49]\tvalidation_0-error:0.00173\tvalidation_1-error:0.001153\n",
      "[50]\tvalidation_0-error:0.00173\tvalidation_1-error:0.00173\n",
      "[51]\tvalidation_0-error:0.00173\tvalidation_1-error:0.00173\n",
      "[52]\tvalidation_0-error:0.00173\tvalidation_1-error:0.00173\n",
      "[53]\tvalidation_0-error:0.00173\tvalidation_1-error:0.001153\n",
      "[54]\tvalidation_0-error:0.001483\tvalidation_1-error:0.00173\n",
      "[55]\tvalidation_0-error:0.001483\tvalidation_1-error:0.001153\n",
      "[56]\tvalidation_0-error:0.001483\tvalidation_1-error:0.001153\n",
      "[57]\tvalidation_0-error:0.001483\tvalidation_1-error:0.00173\n",
      "[58]\tvalidation_0-error:0.001483\tvalidation_1-error:0.00173\n",
      "[59]\tvalidation_0-error:0.001483\tvalidation_1-error:0.001153\n",
      "[60]\tvalidation_0-error:0.001483\tvalidation_1-error:0.00173\n",
      "[61]\tvalidation_0-error:0.001483\tvalidation_1-error:0.00173\n",
      "[62]\tvalidation_0-error:0.001236\tvalidation_1-error:0.00173\n",
      "[63]\tvalidation_0-error:0.001236\tvalidation_1-error:0.001153\n",
      "[64]\tvalidation_0-error:0.001236\tvalidation_1-error:0.00173\n",
      "[65]\tvalidation_0-error:0.001236\tvalidation_1-error:0.00173\n",
      "[66]\tvalidation_0-error:0.001236\tvalidation_1-error:0.00173\n",
      "[67]\tvalidation_0-error:0.001236\tvalidation_1-error:0.00173\n",
      "[68]\tvalidation_0-error:0.001236\tvalidation_1-error:0.00173\n",
      "[69]\tvalidation_0-error:0.001236\tvalidation_1-error:0.00173\n",
      "[70]\tvalidation_0-error:0.001236\tvalidation_1-error:0.001153\n",
      "[71]\tvalidation_0-error:0.001236\tvalidation_1-error:0.00173\n",
      "[72]\tvalidation_0-error:0.001236\tvalidation_1-error:0.00173\n",
      "[73]\tvalidation_0-error:0.001236\tvalidation_1-error:0.00173\n",
      "[74]\tvalidation_0-error:0.001236\tvalidation_1-error:0.00173\n",
      "[75]\tvalidation_0-error:0.001236\tvalidation_1-error:0.001153\n",
      "[76]\tvalidation_0-error:0.001236\tvalidation_1-error:0.00173\n",
      "[77]\tvalidation_0-error:0.001236\tvalidation_1-error:0.001153\n",
      "[78]\tvalidation_0-error:0.001236\tvalidation_1-error:0.001153\n",
      "[79]\tvalidation_0-error:0.001236\tvalidation_1-error:0.001153\n",
      "[80]\tvalidation_0-error:0.001236\tvalidation_1-error:0.001153\n",
      "[81]\tvalidation_0-error:0.001236\tvalidation_1-error:0.001153\n",
      "[82]\tvalidation_0-error:0.001236\tvalidation_1-error:0.001153\n",
      "[83]\tvalidation_0-error:0.000989\tvalidation_1-error:0.001153\n",
      "[84]\tvalidation_0-error:0.000989\tvalidation_1-error:0.001153\n",
      "[85]\tvalidation_0-error:0.000741\tvalidation_1-error:0.001153\n",
      "[86]\tvalidation_0-error:0.000741\tvalidation_1-error:0.001153\n",
      "[87]\tvalidation_0-error:0.000741\tvalidation_1-error:0.001153\n",
      "[88]\tvalidation_0-error:0.000741\tvalidation_1-error:0.001153\n",
      "[89]\tvalidation_0-error:0.000741\tvalidation_1-error:0.001153\n",
      "[90]\tvalidation_0-error:0.000741\tvalidation_1-error:0.00173\n",
      "[91]\tvalidation_0-error:0.000741\tvalidation_1-error:0.00173\n",
      "[92]\tvalidation_0-error:0.000741\tvalidation_1-error:0.00173\n",
      "[93]\tvalidation_0-error:0.000741\tvalidation_1-error:0.00173\n",
      "[94]\tvalidation_0-error:0.000741\tvalidation_1-error:0.001153\n",
      "[95]\tvalidation_0-error:0.000247\tvalidation_1-error:0.00173\n",
      "[96]\tvalidation_0-error:0.000247\tvalidation_1-error:0.00173\n",
      "[97]\tvalidation_0-error:0.000247\tvalidation_1-error:0.00173\n",
      "[98]\tvalidation_0-error:0.000247\tvalidation_1-error:0.00173\n",
      "[99]\tvalidation_0-error:0.000247\tvalidation_1-error:0.00173\n"
     ]
    },
    {
     "data": {
      "text/plain": [
       "XGBClassifier(base_score=0.5, colsample_bylevel=1, colsample_bytree=1,\n",
       "       gamma=0, learning_rate=0.1, max_delta_step=0, max_depth=3,\n",
       "       min_child_weight=1, missing=None, n_estimators=100, nthread=-1,\n",
       "       objective='binary:logistic', reg_alpha=0, reg_lambda=1,\n",
       "       scale_pos_weight=1, seed=0, silent=True, subsample=1)"
      ]
     },
     "execution_count": 33,
     "metadata": {},
     "output_type": "execute_result"
    }
   ],
   "source": [
    "# Train and evaluate.\n",
    "xgb_model.fit(xtrain, ytrain, eval_metric=['error'], eval_set=[((xtrain, ytrain)),(xtest, ytest)])"
   ]
  },
  {
   "cell_type": "code",
   "execution_count": 34,
   "metadata": {},
   "outputs": [
    {
     "name": "stdout",
     "output_type": "stream",
     "text": [
      "confusion matrix\n",
      "[[1703    0]\n",
      " [   3   28]]\n",
      "classification report\n",
      "             precision    recall  f1-score   support\n",
      "\n",
      "          0       1.00      1.00      1.00      1703\n",
      "          1       1.00      0.90      0.95        31\n",
      "\n",
      "avg / total       1.00      1.00      1.00      1734\n",
      "\n",
      "-----------------------------------------------------------------------------------------\n",
      "Accuracy is :\n",
      "0.998269896194\n",
      "Area under the curve : 0.951613\n"
     ]
    }
   ],
   "source": [
    "from sklearn import metrics\n",
    "import warnings\n",
    "warnings.filterwarnings(\"ignore\")\n",
    "\n",
    "y_pred = xgb_model.predict(xtest)  #predicts\n",
    "print('confusion matrix')\n",
    "print(metrics.confusion_matrix(ytest, y_pred))\n",
    "print('classification report')\n",
    "print(metrics.classification_report(ytest, y_pred))\n",
    "print(\"-----------------------------------------------------------------------------------------\")\n",
    "print(\"Accuracy is :\")\n",
    "print(metrics.accuracy_score(ytest, y_pred))\n",
    "print('Area under the curve : %f' % (metrics.roc_auc_score(ytest, y_pred)))"
   ]
  },
  {
   "cell_type": "markdown",
   "metadata": {},
   "source": [
    "#### Higher F1 score comapred to Gradient Boosting Model."
   ]
  },
  {
   "cell_type": "markdown",
   "metadata": {},
   "source": [
    "# 12. SMOTE ( Synthetic Minority Over-sampling Technique)"
   ]
  },
  {
   "cell_type": "code",
   "execution_count": 35,
   "metadata": {},
   "outputs": [
    {
     "name": "stdout",
     "output_type": "stream",
     "text": [
      "Collecting imblearn\n",
      "  Downloading https://files.pythonhosted.org/packages/81/a7/4179e6ebfd654bd0eac0b9c06125b8b4c96a9d0a8ff9e9507eb2a26d2d7e/imblearn-0.0-py2.py3-none-any.whl\n",
      "Collecting imbalanced-learn (from imblearn)\n",
      "  Downloading https://files.pythonhosted.org/packages/80/a4/900463a3c0af082aed9c5a43f4ec317a9469710c5ef80496c9abc26ed0ca/imbalanced_learn-0.3.3-py3-none-any.whl (144kB)\n",
      "\u001b[K    100% |████████████████████████████████| 153kB 5.9MB/s eta 0:00:01\n",
      "\u001b[?25hRequirement not upgraded as not directly required: numpy in /opt/conda/envs/DSX-Python35/lib/python3.5/site-packages (from imbalanced-learn->imblearn)\n",
      "Requirement not upgraded as not directly required: scikit-learn in /opt/conda/envs/DSX-Python35/lib/python3.5/site-packages (from imbalanced-learn->imblearn)\n",
      "Requirement not upgraded as not directly required: scipy in /opt/conda/envs/DSX-Python35/lib/python3.5/site-packages (from imbalanced-learn->imblearn)\n",
      "Installing collected packages: imbalanced-learn, imblearn\n",
      "Successfully installed imbalanced-learn-0.3.3 imblearn-0.0\n"
     ]
    }
   ],
   "source": [
    "!pip install imblearn"
   ]
  },
  {
   "cell_type": "code",
   "execution_count": 36,
   "metadata": {},
   "outputs": [
    {
     "name": "stdout",
     "output_type": "stream",
     "text": [
      "Resampled dataset shape Counter({0: 56772, 1: 500})\n"
     ]
    }
   ],
   "source": [
    "from collections import Counter\n",
    "from imblearn.over_sampling import SMOTE \n",
    "\n",
    "x = df[['Time', 'V1', 'V2', 'V3', 'V4', 'V5', 'V6', 'V7', 'V8', 'V9', 'V10',\n",
    "       'V11', 'V12', 'V13', 'V14', 'V15', 'V16', 'V17', 'V18', 'V19', 'V20',\n",
    "       'V21', 'V22', 'V23', 'V24', 'V25', 'V26', 'V27', 'V28', 'Amount']]\n",
    "y = df['Class']\n",
    "\n",
    "'''Increase the fraud samples from 102 to 500'''\n",
    "\n",
    "sm = SMOTE(random_state=42,sampling_strategy={1:500})\n",
    "X_res, y_res = sm.fit_sample(x, y)\n",
    "print('Resampled dataset shape {}'.format(Counter(y_res)))"
   ]
  },
  {
   "cell_type": "code",
   "execution_count": 37,
   "metadata": {},
   "outputs": [
    {
     "name": "stdout",
     "output_type": "stream",
     "text": [
      "xtrain shape\n",
      "(40090, 30)\n",
      "xtest shape\n",
      "(17182, 30)\n"
     ]
    }
   ],
   "source": [
    "'''Split the resampled data into train & test data with 70:30 mix'''\n",
    "\n",
    "xtrain, xtest, ytrain, ytest = train_test_split(X_res, y_res, test_size=0.30, random_state=0)\n",
    "print('xtrain shape')\n",
    "print(xtrain.shape)\n",
    "print('xtest shape')\n",
    "print(xtest.shape)"
   ]
  },
  {
   "cell_type": "code",
   "execution_count": 38,
   "metadata": {},
   "outputs": [
    {
     "name": "stdout",
     "output_type": "stream",
     "text": [
      "model\n",
      "RandomForestClassifier(bootstrap=True, class_weight=None, criterion='gini',\n",
      "            max_depth=None, max_features='auto', max_leaf_nodes=None,\n",
      "            min_impurity_decrease=0.0, min_impurity_split=None,\n",
      "            min_samples_leaf=1, min_samples_split=2,\n",
      "            min_weight_fraction_leaf=0.0, n_estimators=10, n_jobs=1,\n",
      "            oob_score=False, random_state=None, verbose=0,\n",
      "            warm_start=False)\n",
      "confusion matrix\n",
      "[[17019     4]\n",
      " [   14   145]]\n",
      "classification report\n",
      "             precision    recall  f1-score   support\n",
      "\n",
      "          0       1.00      1.00      1.00     17023\n",
      "          1       0.97      0.91      0.94       159\n",
      "\n",
      "avg / total       1.00      1.00      1.00     17182\n",
      "\n",
      "Accuracy : 0.998952\n",
      "Area under the curve : 0.955857\n"
     ]
    }
   ],
   "source": [
    "'''Random Forest Classifier on resampled data'''\n",
    "\n",
    "from sklearn.ensemble import RandomForestClassifier\n",
    "from sklearn import metrics\n",
    "\n",
    "rfmodel = RandomForestClassifier()\n",
    "rfmodel.fit(xtrain,ytrain)\n",
    "print('model')\n",
    "print(rfmodel)\n",
    "\n",
    "ypredrf = rfmodel.predict(xtest)\n",
    "print('confusion matrix')\n",
    "print(metrics.confusion_matrix(ytest, ypredrf))\n",
    "print('classification report')\n",
    "print(metrics.classification_report(ytest, ypredrf))\n",
    "print('Accuracy : %f' % (metrics.accuracy_score(ytest, ypredrf)))\n",
    "print('Area under the curve : %f' % (metrics.roc_auc_score(ytest, ypredrf)))"
   ]
  },
  {
   "cell_type": "markdown",
   "metadata": {},
   "source": [
    "#### We can see an increase in F1 score and the Area under the curve. This is the advantage of synthetic over sampling technique which has given a good lift in accuracy."
   ]
  },
  {
   "cell_type": "code",
   "execution_count": 39,
   "metadata": {},
   "outputs": [
    {
     "name": "stdout",
     "output_type": "stream",
     "text": [
      "confusion matrix\n",
      "[[17011    12]\n",
      " [   16   143]]\n",
      "classification report\n",
      "             precision    recall  f1-score   support\n",
      "\n",
      "          0       1.00      1.00      1.00     17023\n",
      "          1       0.92      0.90      0.91       159\n",
      "\n",
      "avg / total       1.00      1.00      1.00     17182\n",
      "\n",
      "-----------------------------------------------------------------------------------------\n",
      "Accuracy is :\n",
      "0.998370387615\n",
      "Area under the curve : 0.949333\n"
     ]
    }
   ],
   "source": [
    "'''Gradient Boost Algorithm on resampled data'''\n",
    "\n",
    "from sklearn import ensemble\n",
    "\n",
    "params = {'n_estimators': 500, 'max_depth': 3, 'subsample': 0.5,\n",
    "          'learning_rate': 0.01, 'min_samples_leaf': 1, 'random_state': 3}\n",
    "clf = ensemble.GradientBoostingClassifier(**params)\n",
    "clf.fit(xtrain, ytrain) #trains\n",
    "y_pred = clf.predict(xtest)  #predicts\n",
    "print('confusion matrix')\n",
    "print(metrics.confusion_matrix(ytest, y_pred))\n",
    "print('classification report')\n",
    "print(metrics.classification_report(ytest, y_pred))\n",
    "print(\"-----------------------------------------------------------------------------------------\")\n",
    "print(\"Accuracy is :\")\n",
    "print(metrics.accuracy_score(ytest, y_pred))\n",
    "print('Area under the curve : %f' % (metrics.roc_auc_score(ytest, y_pred)))"
   ]
  },
  {
   "cell_type": "markdown",
   "metadata": {},
   "source": [
    "#### There's an increase in precision, F1 score & Area under the curve using SMOTE and resampling the data."
   ]
  },
  {
   "cell_type": "code",
   "execution_count": 40,
   "metadata": {},
   "outputs": [
    {
     "name": "stdout",
     "output_type": "stream",
     "text": [
      "{'reg_alpha': 0, 'reg_lambda': 1, 'max_depth': 3, 'scale_pos_weight': 1, 'n_estimators': 100, 'max_delta_step': 0, 'min_child_weight': 1, 'seed': 0, 'colsample_bylevel': 1, 'colsample_bytree': 1, 'silent': 1, 'subsample': 1, 'learning_rate': 0.1, 'objective': 'binary:logistic', 'base_score': 0.5, 'gamma': 0, 'missing': None}\n"
     ]
    }
   ],
   "source": [
    "'''Extreme Gradient Boost Algorithm on reduced dimensions data'''\n",
    "\n",
    "from xgboost.sklearn import XGBClassifier\n",
    "\n",
    "# Create the XGB classifier, xgb_model.\n",
    "xgb_model = XGBClassifier()\n",
    "\n",
    "# List the default parameters.\n",
    "print(xgb_model.get_xgb_params())"
   ]
  },
  {
   "cell_type": "code",
   "execution_count": 41,
   "metadata": {},
   "outputs": [
    {
     "name": "stdout",
     "output_type": "stream",
     "text": [
      "[0]\tvalidation_0-error:0.001197\tvalidation_1-error:0.001397\n",
      "[1]\tvalidation_0-error:0.001147\tvalidation_1-error:0.001455\n",
      "[2]\tvalidation_0-error:0.001147\tvalidation_1-error:0.001455\n",
      "[3]\tvalidation_0-error:0.001122\tvalidation_1-error:0.001455\n",
      "[4]\tvalidation_0-error:0.001147\tvalidation_1-error:0.001455\n",
      "[5]\tvalidation_0-error:0.001172\tvalidation_1-error:0.001455\n",
      "[6]\tvalidation_0-error:0.001172\tvalidation_1-error:0.001455\n",
      "[7]\tvalidation_0-error:0.001172\tvalidation_1-error:0.001455\n",
      "[8]\tvalidation_0-error:0.001172\tvalidation_1-error:0.001455\n",
      "[9]\tvalidation_0-error:0.001172\tvalidation_1-error:0.001513\n",
      "[10]\tvalidation_0-error:0.001172\tvalidation_1-error:0.001455\n",
      "[11]\tvalidation_0-error:0.001197\tvalidation_1-error:0.001513\n",
      "[12]\tvalidation_0-error:0.001197\tvalidation_1-error:0.001455\n",
      "[13]\tvalidation_0-error:0.001172\tvalidation_1-error:0.001455\n",
      "[14]\tvalidation_0-error:0.001122\tvalidation_1-error:0.001455\n",
      "[15]\tvalidation_0-error:0.001048\tvalidation_1-error:0.001455\n",
      "[16]\tvalidation_0-error:0.001048\tvalidation_1-error:0.001455\n",
      "[17]\tvalidation_0-error:0.001023\tvalidation_1-error:0.001455\n",
      "[18]\tvalidation_0-error:0.001023\tvalidation_1-error:0.001455\n",
      "[19]\tvalidation_0-error:0.001023\tvalidation_1-error:0.001455\n",
      "[20]\tvalidation_0-error:0.001048\tvalidation_1-error:0.001513\n",
      "[21]\tvalidation_0-error:0.001048\tvalidation_1-error:0.001455\n",
      "[22]\tvalidation_0-error:0.001073\tvalidation_1-error:0.001513\n",
      "[23]\tvalidation_0-error:0.001098\tvalidation_1-error:0.001513\n",
      "[24]\tvalidation_0-error:0.001023\tvalidation_1-error:0.001455\n",
      "[25]\tvalidation_0-error:0.001023\tvalidation_1-error:0.001513\n",
      "[26]\tvalidation_0-error:0.000973\tvalidation_1-error:0.001455\n",
      "[27]\tvalidation_0-error:0.000973\tvalidation_1-error:0.001455\n",
      "[28]\tvalidation_0-error:0.000973\tvalidation_1-error:0.001455\n",
      "[29]\tvalidation_0-error:0.000973\tvalidation_1-error:0.001397\n",
      "[30]\tvalidation_0-error:0.000973\tvalidation_1-error:0.001339\n",
      "[31]\tvalidation_0-error:0.000948\tvalidation_1-error:0.00128\n",
      "[32]\tvalidation_0-error:0.000948\tvalidation_1-error:0.00128\n",
      "[33]\tvalidation_0-error:0.000923\tvalidation_1-error:0.00128\n",
      "[34]\tvalidation_0-error:0.000923\tvalidation_1-error:0.00128\n",
      "[35]\tvalidation_0-error:0.000923\tvalidation_1-error:0.00128\n",
      "[36]\tvalidation_0-error:0.000973\tvalidation_1-error:0.00128\n",
      "[37]\tvalidation_0-error:0.000998\tvalidation_1-error:0.00128\n",
      "[38]\tvalidation_0-error:0.000973\tvalidation_1-error:0.00128\n",
      "[39]\tvalidation_0-error:0.000973\tvalidation_1-error:0.00128\n",
      "[40]\tvalidation_0-error:0.000973\tvalidation_1-error:0.001222\n",
      "[41]\tvalidation_0-error:0.000948\tvalidation_1-error:0.001222\n",
      "[42]\tvalidation_0-error:0.000973\tvalidation_1-error:0.001222\n",
      "[43]\tvalidation_0-error:0.000948\tvalidation_1-error:0.001222\n",
      "[44]\tvalidation_0-error:0.000948\tvalidation_1-error:0.001222\n",
      "[45]\tvalidation_0-error:0.000948\tvalidation_1-error:0.001164\n",
      "[46]\tvalidation_0-error:0.000873\tvalidation_1-error:0.001222\n",
      "[47]\tvalidation_0-error:0.000873\tvalidation_1-error:0.001164\n",
      "[48]\tvalidation_0-error:0.000873\tvalidation_1-error:0.001164\n",
      "[49]\tvalidation_0-error:0.000873\tvalidation_1-error:0.001164\n",
      "[50]\tvalidation_0-error:0.000873\tvalidation_1-error:0.001222\n",
      "[51]\tvalidation_0-error:0.000873\tvalidation_1-error:0.001222\n",
      "[52]\tvalidation_0-error:0.000873\tvalidation_1-error:0.001222\n",
      "[53]\tvalidation_0-error:0.000873\tvalidation_1-error:0.001164\n",
      "[54]\tvalidation_0-error:0.000873\tvalidation_1-error:0.001164\n",
      "[55]\tvalidation_0-error:0.000873\tvalidation_1-error:0.001164\n",
      "[56]\tvalidation_0-error:0.000873\tvalidation_1-error:0.001164\n",
      "[57]\tvalidation_0-error:0.000873\tvalidation_1-error:0.001164\n",
      "[58]\tvalidation_0-error:0.000873\tvalidation_1-error:0.001164\n",
      "[59]\tvalidation_0-error:0.000848\tvalidation_1-error:0.001164\n",
      "[60]\tvalidation_0-error:0.000848\tvalidation_1-error:0.001164\n",
      "[61]\tvalidation_0-error:0.000848\tvalidation_1-error:0.001164\n",
      "[62]\tvalidation_0-error:0.000848\tvalidation_1-error:0.001164\n",
      "[63]\tvalidation_0-error:0.000848\tvalidation_1-error:0.001164\n",
      "[64]\tvalidation_0-error:0.000848\tvalidation_1-error:0.001164\n",
      "[65]\tvalidation_0-error:0.000823\tvalidation_1-error:0.001164\n",
      "[66]\tvalidation_0-error:0.000823\tvalidation_1-error:0.001164\n",
      "[67]\tvalidation_0-error:0.000823\tvalidation_1-error:0.001106\n",
      "[68]\tvalidation_0-error:0.000823\tvalidation_1-error:0.001164\n",
      "[69]\tvalidation_0-error:0.000823\tvalidation_1-error:0.001164\n",
      "[70]\tvalidation_0-error:0.000823\tvalidation_1-error:0.001164\n",
      "[71]\tvalidation_0-error:0.000823\tvalidation_1-error:0.001106\n",
      "[72]\tvalidation_0-error:0.000823\tvalidation_1-error:0.001106\n",
      "[73]\tvalidation_0-error:0.000823\tvalidation_1-error:0.001106\n",
      "[74]\tvalidation_0-error:0.000823\tvalidation_1-error:0.001048\n",
      "[75]\tvalidation_0-error:0.000823\tvalidation_1-error:0.001048\n",
      "[76]\tvalidation_0-error:0.000773\tvalidation_1-error:0.001048\n",
      "[77]\tvalidation_0-error:0.000773\tvalidation_1-error:0.001048\n",
      "[78]\tvalidation_0-error:0.000773\tvalidation_1-error:0.001048\n",
      "[79]\tvalidation_0-error:0.000773\tvalidation_1-error:0.001048\n",
      "[80]\tvalidation_0-error:0.000773\tvalidation_1-error:0.001048\n",
      "[81]\tvalidation_0-error:0.000773\tvalidation_1-error:0.001048\n",
      "[82]\tvalidation_0-error:0.000748\tvalidation_1-error:0.001048\n",
      "[83]\tvalidation_0-error:0.000748\tvalidation_1-error:0.001106\n",
      "[84]\tvalidation_0-error:0.000748\tvalidation_1-error:0.001106\n",
      "[85]\tvalidation_0-error:0.000748\tvalidation_1-error:0.001106\n",
      "[86]\tvalidation_0-error:0.000748\tvalidation_1-error:0.000989\n",
      "[87]\tvalidation_0-error:0.000723\tvalidation_1-error:0.001048\n",
      "[88]\tvalidation_0-error:0.000698\tvalidation_1-error:0.000989\n",
      "[89]\tvalidation_0-error:0.000673\tvalidation_1-error:0.000931\n",
      "[90]\tvalidation_0-error:0.000673\tvalidation_1-error:0.000931\n",
      "[91]\tvalidation_0-error:0.000624\tvalidation_1-error:0.000931\n",
      "[92]\tvalidation_0-error:0.000549\tvalidation_1-error:0.000873\n",
      "[93]\tvalidation_0-error:0.000549\tvalidation_1-error:0.000873\n",
      "[94]\tvalidation_0-error:0.000549\tvalidation_1-error:0.000931\n",
      "[95]\tvalidation_0-error:0.000549\tvalidation_1-error:0.000931\n",
      "[96]\tvalidation_0-error:0.000524\tvalidation_1-error:0.000931\n",
      "[97]\tvalidation_0-error:0.000499\tvalidation_1-error:0.000873\n",
      "[98]\tvalidation_0-error:0.000499\tvalidation_1-error:0.000873\n",
      "[99]\tvalidation_0-error:0.000499\tvalidation_1-error:0.000873\n"
     ]
    },
    {
     "data": {
      "text/plain": [
       "XGBClassifier(base_score=0.5, colsample_bylevel=1, colsample_bytree=1,\n",
       "       gamma=0, learning_rate=0.1, max_delta_step=0, max_depth=3,\n",
       "       min_child_weight=1, missing=None, n_estimators=100, nthread=-1,\n",
       "       objective='binary:logistic', reg_alpha=0, reg_lambda=1,\n",
       "       scale_pos_weight=1, seed=0, silent=True, subsample=1)"
      ]
     },
     "execution_count": 41,
     "metadata": {},
     "output_type": "execute_result"
    }
   ],
   "source": [
    "# Train and evaluate.\n",
    "xgb_model.fit(xtrain, ytrain, eval_metric=['error'], eval_set=[((xtrain, ytrain)),(xtest, ytest)])"
   ]
  },
  {
   "cell_type": "code",
   "execution_count": 42,
   "metadata": {},
   "outputs": [
    {
     "name": "stdout",
     "output_type": "stream",
     "text": [
      "confusion matrix\n",
      "[[17019     4]\n",
      " [   11   148]]\n",
      "classification report\n",
      "             precision    recall  f1-score   support\n",
      "\n",
      "          0       1.00      1.00      1.00     17023\n",
      "          1       0.97      0.93      0.95       159\n",
      "\n",
      "avg / total       1.00      1.00      1.00     17182\n",
      "\n",
      "-----------------------------------------------------------------------------------------\n",
      "Accuracy is :\n",
      "0.999126993365\n",
      "Area under the curve : 0.965291\n"
     ]
    }
   ],
   "source": [
    "from sklearn import metrics\n",
    "import warnings\n",
    "warnings.filterwarnings(\"ignore\")\n",
    "\n",
    "y_pred = xgb_model.predict(xtest)  #predicts\n",
    "print('confusion matrix')\n",
    "print(metrics.confusion_matrix(ytest, y_pred))\n",
    "print('classification report')\n",
    "print(metrics.classification_report(ytest, y_pred))\n",
    "print(\"-----------------------------------------------------------------------------------------\")\n",
    "print(\"Accuracy is :\")\n",
    "print(metrics.accuracy_score(ytest, y_pred))\n",
    "print('Area under the curve : %f' % (metrics.roc_auc_score(ytest, y_pred)))"
   ]
  },
  {
   "cell_type": "markdown",
   "metadata": {},
   "source": [
    "#### XGBoost has given high F1 score when compared with Gradient Boosting Model"
   ]
  },
  {
   "cell_type": "markdown",
   "metadata": {},
   "source": [
    "### We can conclude stating that sampling techniques are important and can be helpful if the data is skewed. We have seen two statistical algorithms (Bagging & Boosting) and their implementation on different samples of data providing different outcomes. "
   ]
  },
  {
   "cell_type": "code",
   "execution_count": null,
   "metadata": {
    "collapsed": true
   },
   "outputs": [],
   "source": []
  }
 ],
 "metadata": {
  "kernelspec": {
   "display_name": "Python 3",
   "language": "python",
   "name": "python3"
  },
  "language_info": {
   "codemirror_mode": {
    "name": "ipython",
    "version": 3
   },
   "file_extension": ".py",
   "mimetype": "text/x-python",
   "name": "python",
   "nbconvert_exporter": "python",
   "pygments_lexer": "ipython3",
   "version": "3.7.7"
  }
 },
 "nbformat": 4,
 "nbformat_minor": 1
}
