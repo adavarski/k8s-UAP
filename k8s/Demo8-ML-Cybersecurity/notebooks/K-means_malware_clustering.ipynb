{
 "cells": [
  {
   "cell_type": "code",
   "execution_count": 1,
   "metadata": {},
   "outputs": [],
   "source": [
    "\n",
    "\n",
    "import numpy as np \n",
    "import pandas as pd \n",
    "import matplotlib.pyplot as plt \n",
    " \n",
    "from sklearn.cluster import KMeans \n",
    "from sklearn.metrics import silhouette_score \n",
    "\n",
    "import warnings \n",
    "warnings.simplefilter('ignore')\n",
    "\n"
   ]
  },
  {
   "cell_type": "code",
   "execution_count": 2,
   "metadata": {},
   "outputs": [],
   "source": [
    "\n",
    "\n",
    "malware_dataset = pd.read_csv('./datasets/MalwareArtifacts.csv', delimiter=',')\n",
    "# Extacting artifacts samples fields 'MajorLinkerVersion,MajorImageVersion,MajorOperatingSystemVersion,DllCharacteristics'\n",
    "samples = malware_dataset.iloc[:, [1,2,3,4]].values\n",
    "targets = malware_dataset.iloc[:, 8].values\n",
    "\n"
   ]
  },
  {
   "cell_type": "code",
   "execution_count": null,
   "metadata": {},
   "outputs": [
    {
     "name": "stdout",
     "output_type": "stream",
     "text": [
      "K-means labels: [0 0 0 ... 0 1 0]\n",
      "\n",
      "K-means Clustering Results:\n",
      "\n",
      " Predicted      0      1\n",
      "Observed               \n",
      "0          83419  13107\n",
      "1           7995  32923\n"
     ]
    }
   ],
   "source": [
    "k_means = KMeans(n_clusters=2,max_iter=300)\n",
    "k_means.fit(samples) \n",
    "\n",
    "print(\"K-means labels: \" + str(k_means.labels_))\n",
    "print (\"\\nK-means Clustering Results:\\n\\n\", pd.crosstab(targets, k_means.labels_,rownames = [\"Observed\"],colnames = [\"Predicted\"]) )      \n",
    "print (\"\\nSilhouette coefficient: %0.3f\" % silhouette_score(samples, k_means.labels_, metric='euclidean'))"
   ]
  },
  {
   "cell_type": "code",
   "execution_count": null,
   "metadata": {},
   "outputs": [],
   "source": []
  }
 ],
 "metadata": {
  "kernelspec": {
   "display_name": "Python 3",
   "language": "python",
   "name": "python3"
  },
  "language_info": {
   "codemirror_mode": {
    "name": "ipython",
    "version": 3
   },
   "file_extension": ".py",
   "mimetype": "text/x-python",
   "name": "python",
   "nbconvert_exporter": "python",
   "pygments_lexer": "ipython3",
   "version": "3.7.3"
  }
 },
 "nbformat": 4,
 "nbformat_minor": 4
}
