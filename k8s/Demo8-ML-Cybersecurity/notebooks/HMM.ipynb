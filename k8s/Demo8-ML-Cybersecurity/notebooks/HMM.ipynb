{
 "cells": [
  {
   "cell_type": "code",
   "execution_count": 2,
   "metadata": {},
   "outputs": [
    {
     "name": "stdout",
     "output_type": "stream",
     "text": [
      "Collecting hidden_markov\n",
      "  Downloading https://files.pythonhosted.org/packages/37/f3/e2caf0c874c7666243fd9ad1cd66cd34fdd539ffc5630c5ee8d6c1841aae/hidden_markov-0.3.2.tar.gz\n",
      "Requirement already satisfied: numpy in /opt/conda/lib/python3.7/site-packages (from hidden_markov) (1.17.0)\n",
      "Building wheels for collected packages: hidden-markov\n",
      "  Building wheel for hidden-markov (setup.py) ... \u001b[?25ldone\n",
      "\u001b[?25h  Stored in directory: /home/jovyan/.cache/pip/wheels/a1/e1/d8/7d0e168c63377453769325485b214bf6ca2ce5e5cf0f67a5ae\n",
      "Successfully built hidden-markov\n",
      "Installing collected packages: hidden-markov\n",
      "Successfully installed hidden-markov-0.3.2\n"
     ]
    }
   ],
   "source": [
    "!pip install hidden_markov"
   ]
  },
  {
   "cell_type": "code",
   "execution_count": 3,
   "metadata": {},
   "outputs": [
    {
     "name": "stdout",
     "output_type": "stream",
     "text": [
      "Forward algorithm: \n",
      "0.033196\n",
      "\n",
      "Viterbi algorithm: \n",
      "['M', 'M', 'M', 'M']\n"
     ]
    }
   ],
   "source": [
    "import numpy as np\n",
    "from hidden_markov import hmm\n",
    "\n",
    "ob_types = ('W','N' )\n",
    "\n",
    "states = ('L', 'M')\n",
    "\n",
    "observations = ('W','W','W','N')\n",
    "\n",
    "start = np.matrix('0.1 0.9')\n",
    "transition = np.matrix('0.7 0.3 ; 0.1 0.9')\n",
    "emission = np.matrix('0.2 0.8 ; 0.4 0.6')\n",
    "\n",
    "_hmm = hmm(states,ob_types,start,transition,emission)\n",
    "\n",
    "print(\"Forward algorithm: \")\n",
    "print ( _hmm.forward_algo(observations) )\n",
    "\n",
    "print(\"\\nViterbi algorithm: \")\n",
    "print( _hmm.viterbi(observations) )"
   ]
  },
  {
   "cell_type": "code",
   "execution_count": null,
   "metadata": {},
   "outputs": [],
   "source": []
  }
 ],
 "metadata": {
  "kernelspec": {
   "display_name": "Python 3",
   "language": "python",
   "name": "python3"
  },
  "language_info": {
   "codemirror_mode": {
    "name": "ipython",
    "version": 3
   },
   "file_extension": ".py",
   "mimetype": "text/x-python",
   "name": "python",
   "nbconvert_exporter": "python",
   "pygments_lexer": "ipython3",
   "version": "3.7.3"
  }
 },
 "nbformat": 4,
 "nbformat_minor": 4
}
