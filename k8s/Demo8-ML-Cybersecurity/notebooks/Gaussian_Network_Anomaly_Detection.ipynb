{
 "cells": [
  {
   "cell_type": "code",
   "execution_count": 1,
   "metadata": {},
   "outputs": [],
   "source": [
    "import numpy as np\n",
    "import pandas as pd\n",
    "import matplotlib.pyplot as plt\n",
    "%matplotlib inline\n",
    "\n",
    "dataset = pd.read_csv('./datasets/network-logs.csv')"
   ]
  },
  {
   "cell_type": "code",
   "execution_count": 2,
   "metadata": {},
   "outputs": [
    {
     "data": {
      "image/png": "[encoded data removed]",
      "text/plain": [
       "<Figure size 720x288 with 2 Axes>"
      ]
     },
     "metadata": {
      "needs_background": "light"
     },
     "output_type": "display_data"
    }
   ],
   "source": [
    "hist_dist = dataset[['LATENCY', 'THROUGHPUT']].hist(grid=False, figsize=(10,4))"
   ]
  },
  {
   "cell_type": "code",
   "execution_count": 3,
   "metadata": {},
   "outputs": [
    {
     "data": {
      "image/png": "[encoded data removed]",
      "text/plain": [
       "<Figure size 432x288 with 1 Axes>"
      ]
     },
     "metadata": {
      "needs_background": "light"
     },
     "output_type": "display_data"
    }
   ],
   "source": [
    "data = dataset[['LATENCY', 'THROUGHPUT']].values\n",
    "\n",
    "plt.scatter(data[:, 0], data[:, 1], alpha=0.6)\n",
    "plt.xlabel('LATENCY')\n",
    "plt.ylabel('THROUGHPUT')\n",
    "plt.title('DATA FLOW')\n",
    "plt.show()"
   ]
  },
  {
   "cell_type": "code",
   "execution_count": 6,
   "metadata": {},
   "outputs": [],
   "source": [
    "\"\"\"Anomaly Detection Module\"\"\"\n",
    "\"\"\"\n",
    "Anomaly Detection Module\n",
    "Thanks to Oleksii Trekhleb:\n",
    "https://github.com/trekhleb/homemade-machine-learning/blob/master/homemade/anomaly_detection/gaussian_anomaly_detection.py\n",
    "\"\"\"\n",
    "\n",
    "import math\n",
    "import numpy as np\n",
    "\n",
    "\n",
    "class GaussianAnomalyDetection:\n",
    "    \"\"\"GaussianAnomalyDetection Class\"\"\"\n",
    "\n",
    "    def __init__(self, data):\n",
    "        \"\"\"GaussianAnomalyDetection constructor\"\"\"\n",
    "\n",
    "        # Estimate Gaussian distribution.\n",
    "        (self.mu_param, self.sigma_squared) = GaussianAnomalyDetection.estimate_gaussian(data)\n",
    "\n",
    "        # Save training data.\n",
    "        self.data = data\n",
    "\n",
    "    def multivariate_gaussian(self, data):\n",
    "        \"\"\"Computes the probability density function of the multivariate gaussian distribution\"\"\"\n",
    "\n",
    "        mu_param = self.mu_param\n",
    "        sigma_squared = self.sigma_squared\n",
    "\n",
    "        # Get number of training sets and features.\n",
    "        (num_examples, num_features) = data.shape\n",
    "\n",
    "        # nit probabilities matrix.\n",
    "        probabilities = np.ones((num_examples, 1))\n",
    "\n",
    "        # Go through all training examples and through all features.\n",
    "        for example_index in range(num_examples):\n",
    "            for feature_index in range(num_features):\n",
    "                # Calculate the power of e.\n",
    "                power_dividend = (data[example_index, feature_index] - mu_param[feature_index]) ** 2\n",
    "                power_divider = 2 * sigma_squared[feature_index]\n",
    "                e_power = -1 * power_dividend / power_divider\n",
    "\n",
    "                # Calculate the prefix multiplier.\n",
    "                probability_prefix = 1 / math.sqrt(2 * math.pi * sigma_squared[feature_index])\n",
    "\n",
    "                # Calculate the probability for the current feature of current example.\n",
    "                probability = probability_prefix * (math.e ** e_power)\n",
    "                probabilities[example_index] *= probability\n",
    "\n",
    "        # Return probabilities for all training examples.\n",
    "        return probabilities\n",
    "\n",
    "    @staticmethod\n",
    "    def estimate_gaussian(data):\n",
    "        \"\"\"This function estimates the parameters of a Gaussian distribution using the data in X.\"\"\"\n",
    "\n",
    "        # Get number of features and number of examples.\n",
    "        num_examples = data.shape[0]\n",
    "\n",
    "        # Estimate Gaussian parameters mu and sigma_squared for every feature.\n",
    "        mu_param = (1 / num_examples) * np.sum(data, axis=0)\n",
    "        sigma_squared = (1 / num_examples) * np.sum((data - mu_param) ** 2, axis=0)\n",
    "\n",
    "        # Return Gaussian parameters.\n",
    "        return mu_param, sigma_squared\n",
    "\n",
    "    @staticmethod\n",
    "    def select_threshold(labels, probabilities):\n",
    "        # pylint: disable=R0914\n",
    "        \"\"\"Finds the best threshold (epsilon) to use for selecting outliers\"\"\"\n",
    "\n",
    "        best_epsilon = 0\n",
    "        best_f1 = 0\n",
    "\n",
    "        # History data to build the plots.\n",
    "        precision_history = []\n",
    "        recall_history = []\n",
    "        f1_history = []\n",
    "\n",
    "        # Calculate the epsilon steps.\n",
    "        min_probability = np.min(probabilities)\n",
    "        max_probability = np.max(probabilities)\n",
    "        step_size = (max_probability - min_probability) / 1000\n",
    "\n",
    "        # Go through all possible epsilons and pick the one with the highest f1 score.\n",
    "        for epsilon in np.arange(min_probability, max_probability, step_size):\n",
    "            predictions = probabilities < epsilon\n",
    "\n",
    "            # The number of false positives: the ground truth label says it’s not\n",
    "            # an anomaly, but our algorithm incorrectly classified it as an anomaly.\n",
    "            false_positives = np.sum((predictions == 1) & (labels == 0))\n",
    "\n",
    "            # The number of false negatives: the ground truth label says it’s an anomaly,\n",
    "            # but our algorithm incorrectly classified it as not being anomalous.\n",
    "            false_negatives = np.sum((predictions == 0) & (labels == 1))\n",
    "\n",
    "            # The number of true positives: the ground truth label says it’s an\n",
    "            # anomaly and our algorithm correctly classified it as an anomaly.\n",
    "            true_positives = np.sum((predictions == 1) & (labels == 1))\n",
    "\n",
    "            # Prevent division by zero.\n",
    "            if (true_positives + false_positives) == 0 or (true_positives + false_negatives) == 0:\n",
    "                continue\n",
    "\n",
    "            # Precision.\n",
    "            precision = true_positives / (true_positives + false_positives)\n",
    "\n",
    "            # Recall.\n",
    "            recall = true_positives / (true_positives + false_negatives)\n",
    "\n",
    "            # F1.\n",
    "            f1_score = 2 * precision * recall / (precision + recall)\n",
    "\n",
    "            # Save history data.\n",
    "            precision_history.append(precision)\n",
    "            recall_history.append(recall)\n",
    "            f1_history.append(f1_score)\n",
    "\n",
    "            if f1_score > best_f1:\n",
    "                best_epsilon = epsilon\n",
    "                best_f1 = f1_score\n",
    "\n",
    "        return best_epsilon, best_f1, precision_history, recall_history, f1_history"
   ]
  },
  {
   "cell_type": "code",
   "execution_count": 7,
   "metadata": {},
   "outputs": [],
   "source": [
    "gaussian_anomaly_detection = GaussianAnomalyDetection(data)"
   ]
  },
  {
   "cell_type": "code",
   "execution_count": 8,
   "metadata": {},
   "outputs": [
    {
     "name": "stdout",
     "output_type": "stream",
     "text": [
      "mu param estimation: \n",
      "[14.42070163 15.39209133]\n",
      "\n",
      "\n",
      "sigma squared estimation: \n",
      "[2.09674794 1.37224807]\n"
     ]
    }
   ],
   "source": [
    "print('mu param estimation: ')\n",
    "print(gaussian_anomaly_detection.mu_param)\n",
    "\n",
    "print('\\n')\n",
    "\n",
    "print('sigma squared estimation: ')\n",
    "print(gaussian_anomaly_detection.sigma_squared)"
   ]
  },
  {
   "cell_type": "code",
   "execution_count": 9,
   "metadata": {},
   "outputs": [
    {
     "name": "stdout",
     "output_type": "stream",
     "text": [
      "\n",
      "\n",
      "threshold estimation: \n",
      "0.00027176836728971885\n"
     ]
    }
   ],
   "source": [
    "targets = dataset['ANOMALY'].values.reshape((data.shape[0], 1))\n",
    "probs = gaussian_anomaly_detection.multivariate_gaussian(data)\n",
    "\n",
    "(threshold, F1, precision_, recall_, f1_) = gaussian_anomaly_detection.select_threshold(targets, probs)\n",
    "\n",
    "print('\\n')\n",
    "\n",
    "print('threshold estimation: ')\n",
    "print(threshold)"
   ]
  },
  {
   "cell_type": "code",
   "execution_count": 10,
   "metadata": {},
   "outputs": [
    {
     "data": {
      "text/plain": [
       "[]"
      ]
     },
     "execution_count": 10,
     "metadata": {},
     "output_type": "execute_result"
    },
    {
     "data": {
      "image/png": "[encoded data removed]",
      "text/plain": [
       "<Figure size 432x288 with 1 Axes>"
      ]
     },
     "metadata": {
      "needs_background": "light"
     },
     "output_type": "display_data"
    }
   ],
   "source": [
    "outliers = np.where(probs < threshold)[0]\n",
    "\n",
    "# Plot original data.\n",
    "plt.scatter(data[:, 0], data[:, 1], alpha=0.6, label='Dataset')\n",
    "plt.xlabel('LATENCY')\n",
    "plt.ylabel('THROUGHPUT')\n",
    "plt.title('DATA FLOW')\n",
    "\n",
    "# Plot the outliers.\n",
    "plt.scatter(data[outliers, 0], data[outliers, 1], alpha=0.6, c='red', label='Outliers')\n",
    "\n",
    "# Display plots.\n",
    "plt.legend()\n",
    "plt.plot()\n"
   ]
  },
  {
   "cell_type": "code",
   "execution_count": 11,
   "metadata": {},
   "outputs": [
    {
     "name": "stdout",
     "output_type": "stream",
     "text": [
      "F1 score: \n",
      "0.6666666666666666\n"
     ]
    }
   ],
   "source": [
    "print('F1 score: ')\n",
    "print(F1)"
   ]
  },
  {
   "cell_type": "code",
   "execution_count": 12,
   "metadata": {},
   "outputs": [],
   "source": [
    "from sklearn.metrics import roc_curve\n",
    "\n",
    "FPR, TPR, OPC = roc_curve(targets, probs)"
   ]
  },
  {
   "cell_type": "code",
   "execution_count": 13,
   "metadata": {},
   "outputs": [
    {
     "data": {
      "text/plain": [
       "[<matplotlib.lines.Line2D at 0x7fe87a240550>]"
      ]
     },
     "execution_count": 13,
     "metadata": {},
     "output_type": "execute_result"
    },
    {
     "data": {
      "image/png": "[encoded data removed]",
      "text/plain": [
       "<Figure size 432x288 with 1 Axes>"
      ]
     },
     "metadata": {
      "needs_background": "light"
     },
     "output_type": "display_data"
    }
   ],
   "source": [
    "# Plotting Sensitivity\n",
    "plt.plot(OPC,TPR)"
   ]
  },
  {
   "cell_type": "code",
   "execution_count": 14,
   "metadata": {},
   "outputs": [
    {
     "data": {
      "text/plain": [
       "[<matplotlib.lines.Line2D at 0x7fe87a1a1ba8>]"
      ]
     },
     "execution_count": 14,
     "metadata": {},
     "output_type": "execute_result"
    },
    {
     "data": {
      "image/png": "[encoded data removed]",
      "text/plain": [
       "<Figure size 432x288 with 1 Axes>"
      ]
     },
     "metadata": {
      "needs_background": "light"
     },
     "output_type": "display_data"
    }
   ],
   "source": [
    "\n",
    "\n",
    "# Plotting ROC curve\n",
    "plt.plot(FPR,TPR)\n",
    "\n"
   ]
  },
  {
   "cell_type": "code",
   "execution_count": null,
   "metadata": {},
   "outputs": [],
   "source": []
  }
 ],
 "metadata": {
  "kernelspec": {
   "display_name": "Python 3",
   "language": "python",
   "name": "python3"
  },
  "language_info": {
   "codemirror_mode": {
    "name": "ipython",
    "version": 3
   },
   "file_extension": ".py",
   "mimetype": "text/x-python",
   "name": "python",
   "nbconvert_exporter": "python",
   "pygments_lexer": "ipython3",
   "version": "3.7.3"
  }
 },
 "nbformat": 4,
 "nbformat_minor": 4
}
