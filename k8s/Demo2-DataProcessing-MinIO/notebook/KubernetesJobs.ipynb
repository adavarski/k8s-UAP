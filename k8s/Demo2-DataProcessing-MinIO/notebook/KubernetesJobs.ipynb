{
 "cells": [
  {
   "cell_type": "markdown",
   "metadata": {},
   "source": [
    "# Programmatic Deployments"
   ]
  },
  {
   "cell_type": "code",
   "execution_count": null,
   "metadata": {},
   "outputs": [],
   "source": [
    "!pip install kubernetes"
   ]
  },
  {
   "cell_type": "code",
   "execution_count": null,
   "metadata": {},
   "outputs": [],
   "source": [
    "from os import path\n",
    "import yaml\n",
    "import time\n",
    "from kubernetes import client, config\n",
    "from kubernetes.client.rest import ApiException\n",
    "from IPython.display import clear_output"
   ]
  },
  {
   "cell_type": "code",
   "execution_count": null,
   "metadata": {},
   "outputs": [],
   "source": [
    "envs = [\n",
    "    client.V1EnvVar(\"ENDPOINT\", \"minio.data:9000\"),\n",
    "    client.V1EnvVar(\"ACCESS_KEY_ID\", \"username\"),\n",
    "    client.V1EnvVar(\"ACCESS_KEY_SECRET\", \"password\"),\n",
    "    client.V1EnvVar(\"ENDPOINT_SSL\", \"false\"),\n",
    "]"
   ]
  },
  {
   "cell_type": "code",
   "execution_count": null,
   "metadata": {},
   "outputs": [],
   "source": [
    "container = client.V1Container(\n",
    "    name=\"compressor\",\n",
    "    image=\"davarski/compressor:v1.0.0\",\n",
    "    env=envs,\n",
    "    args=[\"-f=upload\", \n",
    "          \"-k=donors.csv\", \n",
    "          \"-t=processed\"])"
   ]
  },
  {
   "cell_type": "code",
   "execution_count": null,
   "metadata": {},
   "outputs": [],
   "source": [
    "podTmpl = client.V1PodTemplateSpec(\n",
    "    metadata=client.V1ObjectMeta(\n",
    "        labels={\"app\": \"compress-donors\"}\n",
    "    ),\n",
    "    spec=client.V1PodSpec(\n",
    "        restart_policy=\"Never\", \n",
    "        containers=[container]))"
   ]
  },
  {
   "cell_type": "code",
   "execution_count": null,
   "metadata": {},
   "outputs": [],
   "source": [
    "job = client.V1Job(\n",
    "    api_version=\"batch/v1\",\n",
    "    kind=\"Job\",\n",
    "    metadata=client.V1ObjectMeta(\n",
    "        name=\"compress-donors\"\n",
    "    ),\n",
    "    spec=client.V1JobSpec(\n",
    "        template=podTmpl,\n",
    "        backoff_limit=2)\n",
    "    )"
   ]
  },
  {
   "cell_type": "code",
   "execution_count": null,
   "metadata": {},
   "outputs": [],
   "source": [
    "config.load_incluster_config()\n",
    "batch_v1 = client.BatchV1Api()"
   ]
  },
  {
   "cell_type": "code",
   "execution_count": null,
   "metadata": {},
   "outputs": [],
   "source": [
    "resp = batch_v1.create_namespaced_job(\n",
    "    body=job,\n",
    "    namespace=\"data-lab\")"
   ]
  },
  {
   "cell_type": "code",
   "execution_count": null,
   "metadata": {},
   "outputs": [],
   "source": [
    "completed = False\n",
    "\n",
    "while completed == False:\n",
    "    time.sleep(1)\n",
    "    \n",
    "    try:\n",
    "        resp = batch_v1.read_namespaced_job_status(\n",
    "            name=\"compress-donors\", \n",
    "            namespace=\"data-lab\", pretty=False)\n",
    "    except ApiException as e:\n",
    "        print(e.reason)\n",
    "        break\n",
    "\n",
    "    clear_output(True)\n",
    "    print(resp.status)\n",
    "    \n",
    "    if resp.status.conditions is None:\n",
    "        continue\n",
    "    \n",
    "    if len(resp.status.conditions) > 0:\n",
    "            \n",
    "        clear_output(True)\n",
    "        print(resp.status.conditions)\n",
    "        \n",
    "        if resp.status.conditions[0].type == \"Failed\":\n",
    "            print(\"FAILED -- Pod Log --\")\n",
    "            core_v1 = client.CoreV1Api()\n",
    "            pod_resp = core_v1.list_namespaced_pod(\n",
    "                namespace=\"data-lab\", \n",
    "                label_selector=\"app=compress-donors\", \n",
    "                limit=1\n",
    "            )\n",
    "            \n",
    "            log_resp = core_v1.read_namespaced_pod_log(\n",
    "                name=pod_resp.items[0].metadata.name, \n",
    "                namespace='data-lab')\n",
    "        \n",
    "            print(log_resp)\n",
    "\n",
    "        print(\"Removing Job...\")\n",
    "        resp = batch_v1.delete_namespaced_job(\n",
    "            name=\"compress-donors\",\n",
    "            namespace=\"data-lab\",\n",
    "            body=client.V1DeleteOptions(\n",
    "                propagation_policy='Foreground',\n",
    "                grace_period_seconds=5))\n",
    "        break"
   ]
  }
 ],
 "metadata": {
  "kernelspec": {
   "display_name": "Python 3",
   "language": "python",
   "name": "python3"
  },
  "language_info": {
   "codemirror_mode": {
    "name": "ipython",
    "version": 3
   },
   "file_extension": ".py",
   "mimetype": "text/x-python",
   "name": "python",
   "nbconvert_exporter": "python",
   "pygments_lexer": "ipython3",
   "version": "3.7.3"
  }
 },
 "nbformat": 4,
 "nbformat_minor": 4
}
