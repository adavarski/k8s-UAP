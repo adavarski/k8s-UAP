{
 "cells": [
  {
   "cell_type": "markdown",
   "metadata": {},
   "source": [
    "# Week 5 - Autoencoders"
   ]
  },
  {
   "cell_type": "code",
   "execution_count": 1,
   "metadata": {},
   "outputs": [],
   "source": [
    "import h2o\n",
    "import matplotlib.pyplot as plt\n",
    "%matplotlib inline"
   ]
  },
  {
   "cell_type": "code",
   "execution_count": 2,
   "metadata": {},
   "outputs": [
    {
     "name": "stdout",
     "output_type": "stream",
     "text": [
      "Checking whether there is an H2O instance running at http://localhost:54321 ..... not found.\n",
      "Attempting to start a local H2O server...\n",
      "  Java Version: openjdk version \"1.8.0_232\"; OpenJDK Runtime Environment (build 1.8.0_232-8u232-b09-0ubuntu1~19.04.1-b09); OpenJDK 64-Bit Server VM (build 25.232-b09, mixed mode)\n",
      "  Starting server from /home/megan/Projects/h2oclass/lib/python3.7/site-packages/h2o/backend/bin/h2o.jar\n",
      "  Ice root: /tmp/tmpu_jftkc3\n",
      "  JVM stdout: /tmp/tmpu_jftkc3/h2o_megan_started_from_python.out\n",
      "  JVM stderr: /tmp/tmpu_jftkc3/h2o_megan_started_from_python.err\n",
      "  Server is running at http://127.0.0.1:54321\n",
      "Connecting to H2O server at http://127.0.0.1:54321 ... successful.\n"
     ]
    },
    {
     "data": {
      "text/html": [
       "<div style=\"overflow:auto\"><table style=\"width:50%\"><tr><td>H2O cluster uptime:</td>\n",
       "<td>01 secs</td></tr>\n",
       "<tr><td>H2O cluster timezone:</td>\n",
       "<td>America/Chicago</td></tr>\n",
       "<tr><td>H2O data parsing timezone:</td>\n",
       "<td>UTC</td></tr>\n",
       "<tr><td>H2O cluster version:</td>\n",
       "<td>3.28.0.3</td></tr>\n",
       "<tr><td>H2O cluster version age:</td>\n",
       "<td>17 days </td></tr>\n",
       "<tr><td>H2O cluster name:</td>\n",
       "<td>H2O_from_python_megan_fj9pbc</td></tr>\n",
       "<tr><td>H2O cluster total nodes:</td>\n",
       "<td>1</td></tr>\n",
       "<tr><td>H2O cluster free memory:</td>\n",
       "<td>1.520 Gb</td></tr>\n",
       "<tr><td>H2O cluster total cores:</td>\n",
       "<td>3</td></tr>\n",
       "<tr><td>H2O cluster allowed cores:</td>\n",
       "<td>3</td></tr>\n",
       "<tr><td>H2O cluster status:</td>\n",
       "<td>accepting new members, healthy</td></tr>\n",
       "<tr><td>H2O connection url:</td>\n",
       "<td>http://127.0.0.1:54321</td></tr>\n",
       "<tr><td>H2O connection proxy:</td>\n",
       "<td>{'http': None, 'https': None}</td></tr>\n",
       "<tr><td>H2O internal security:</td>\n",
       "<td>False</td></tr>\n",
       "<tr><td>H2O API Extensions:</td>\n",
       "<td>Amazon S3, XGBoost, Algos, AutoML, Core V3, TargetEncoder, Core V4</td></tr>\n",
       "<tr><td>Python version:</td>\n",
       "<td>3.7.3 final</td></tr></table></div>"
      ],
      "text/plain": [
       "--------------------------  ------------------------------------------------------------------\n",
       "H2O cluster uptime:         01 secs\n",
       "H2O cluster timezone:       America/Chicago\n",
       "H2O data parsing timezone:  UTC\n",
       "H2O cluster version:        3.28.0.3\n",
       "H2O cluster version age:    17 days\n",
       "H2O cluster name:           H2O_from_python_megan_fj9pbc\n",
       "H2O cluster total nodes:    1\n",
       "H2O cluster free memory:    1.520 Gb\n",
       "H2O cluster total cores:    3\n",
       "H2O cluster allowed cores:  3\n",
       "H2O cluster status:         accepting new members, healthy\n",
       "H2O connection url:         http://127.0.0.1:54321\n",
       "H2O connection proxy:       {'http': None, 'https': None}\n",
       "H2O internal security:      False\n",
       "H2O API Extensions:         Amazon S3, XGBoost, Algos, AutoML, Core V3, TargetEncoder, Core V4\n",
       "Python version:             3.7.3 final\n",
       "--------------------------  ------------------------------------------------------------------"
      ]
     },
     "metadata": {},
     "output_type": "display_data"
    }
   ],
   "source": [
    "h2o.init()"
   ]
  },
  {
   "cell_type": "code",
   "execution_count": 3,
   "metadata": {},
   "outputs": [
    {
     "name": "stdout",
     "output_type": "stream",
     "text": [
      "Parse progress: |█████████████████████████████████████████████████████████| 100%\n"
     ]
    }
   ],
   "source": [
    "# load the iris dataset\n",
    "url = 'http://h2o-public-test-data.s3.amazonaws.com/smalldata/iris/iris_wheader.csv'\n",
    "iris = h2o.import_file(url)"
   ]
  },
  {
   "cell_type": "code",
   "execution_count": 4,
   "metadata": {},
   "outputs": [],
   "source": [
    "# split the data into train and test\n",
    "train, test = iris.split_frame([0.8], seed=123)"
   ]
  },
  {
   "cell_type": "code",
   "execution_count": 5,
   "metadata": {},
   "outputs": [
    {
     "data": {
      "text/plain": [
       "121"
      ]
     },
     "execution_count": 5,
     "metadata": {},
     "output_type": "execute_result"
    }
   ],
   "source": [
    "train.nrows"
   ]
  },
  {
   "cell_type": "code",
   "execution_count": 6,
   "metadata": {},
   "outputs": [],
   "source": [
    "x = ['sepal_len', 'sepal_wid', 'petal_len', 'petal_wid']"
   ]
  },
  {
   "cell_type": "code",
   "execution_count": 7,
   "metadata": {},
   "outputs": [],
   "source": [
    "from h2o.estimators.deeplearning import H2OAutoEncoderEstimator"
   ]
  },
  {
   "cell_type": "code",
   "execution_count": 8,
   "metadata": {},
   "outputs": [
    {
     "name": "stdout",
     "output_type": "stream",
     "text": [
      "deeplearning Model Build progress: |██████████████████████████████████████| 100%\n",
      "CPU times: user 80.1 ms, sys: 19.3 ms, total: 99.4 ms\n",
      "Wall time: 2.35 s\n"
     ]
    }
   ],
   "source": [
    "m_AE_4 = H2OAutoEncoderEstimator(\n",
    "    hidden=[4],\n",
    "    activation='Tanh', # usual activation for autoencoder\n",
    "    epochs=300,\n",
    "    model_id='m_AE_4',\n",
    "    train_samples_per_iteration=train.nrow, # set these to view details, generally would leave as defaults\n",
    "    score_interval=0,\n",
    "    score_duty_cycle=1.0\n",
    ")\n",
    "%time m_AE_4.train(x, None, train)"
   ]
  },
  {
   "cell_type": "code",
   "execution_count": 9,
   "metadata": {},
   "outputs": [
    {
     "data": {
      "text/html": [
       "<div>\n",
       "<style scoped>\n",
       "    .dataframe tbody tr th:only-of-type {\n",
       "        vertical-align: middle;\n",
       "    }\n",
       "\n",
       "    .dataframe tbody tr th {\n",
       "        vertical-align: top;\n",
       "    }\n",
       "\n",
       "    .dataframe thead th {\n",
       "        text-align: right;\n",
       "    }\n",
       "</style>\n",
       "<table border=\"1\" class=\"dataframe\">\n",
       "  <thead>\n",
       "    <tr style=\"text-align: right;\">\n",
       "      <th></th>\n",
       "      <th></th>\n",
       "      <th>timestamp</th>\n",
       "      <th>duration</th>\n",
       "      <th>training_speed</th>\n",
       "      <th>epochs</th>\n",
       "      <th>iterations</th>\n",
       "      <th>samples</th>\n",
       "      <th>training_rmse</th>\n",
       "      <th>training_mse</th>\n",
       "    </tr>\n",
       "  </thead>\n",
       "  <tbody>\n",
       "    <tr>\n",
       "      <th>0</th>\n",
       "      <td></td>\n",
       "      <td>2020-02-23 11:28:14</td>\n",
       "      <td>0.183 sec</td>\n",
       "      <td>0.00000 obs/sec</td>\n",
       "      <td>0.0</td>\n",
       "      <td>0</td>\n",
       "      <td>0.0</td>\n",
       "      <td>0.291900</td>\n",
       "      <td>0.085206</td>\n",
       "    </tr>\n",
       "    <tr>\n",
       "      <th>1</th>\n",
       "      <td></td>\n",
       "      <td>2020-02-23 11:28:14</td>\n",
       "      <td>0.231 sec</td>\n",
       "      <td>2630 obs/sec</td>\n",
       "      <td>1.0</td>\n",
       "      <td>1</td>\n",
       "      <td>121.0</td>\n",
       "      <td>0.202966</td>\n",
       "      <td>0.041195</td>\n",
       "    </tr>\n",
       "    <tr>\n",
       "      <th>2</th>\n",
       "      <td></td>\n",
       "      <td>2020-02-23 11:28:14</td>\n",
       "      <td>0.242 sec</td>\n",
       "      <td>4481 obs/sec</td>\n",
       "      <td>2.0</td>\n",
       "      <td>2</td>\n",
       "      <td>242.0</td>\n",
       "      <td>0.159763</td>\n",
       "      <td>0.025524</td>\n",
       "    </tr>\n",
       "    <tr>\n",
       "      <th>3</th>\n",
       "      <td></td>\n",
       "      <td>2020-02-23 11:28:14</td>\n",
       "      <td>0.250 sec</td>\n",
       "      <td>6050 obs/sec</td>\n",
       "      <td>3.0</td>\n",
       "      <td>3</td>\n",
       "      <td>363.0</td>\n",
       "      <td>0.141753</td>\n",
       "      <td>0.020094</td>\n",
       "    </tr>\n",
       "    <tr>\n",
       "      <th>4</th>\n",
       "      <td></td>\n",
       "      <td>2020-02-23 11:28:14</td>\n",
       "      <td>0.258 sec</td>\n",
       "      <td>7333 obs/sec</td>\n",
       "      <td>4.0</td>\n",
       "      <td>4</td>\n",
       "      <td>484.0</td>\n",
       "      <td>0.131072</td>\n",
       "      <td>0.017180</td>\n",
       "    </tr>\n",
       "  </tbody>\n",
       "</table>\n",
       "</div>"
      ],
      "text/plain": [
       "               timestamp    duration   training_speed  epochs  iterations  \\\n",
       "0    2020-02-23 11:28:14   0.183 sec  0.00000 obs/sec     0.0           0   \n",
       "1    2020-02-23 11:28:14   0.231 sec     2630 obs/sec     1.0           1   \n",
       "2    2020-02-23 11:28:14   0.242 sec     4481 obs/sec     2.0           2   \n",
       "3    2020-02-23 11:28:14   0.250 sec     6050 obs/sec     3.0           3   \n",
       "4    2020-02-23 11:28:14   0.258 sec     7333 obs/sec     4.0           4   \n",
       "\n",
       "   samples  training_rmse  training_mse  \n",
       "0      0.0       0.291900      0.085206  \n",
       "1    121.0       0.202966      0.041195  \n",
       "2    242.0       0.159763      0.025524  \n",
       "3    363.0       0.141753      0.020094  \n",
       "4    484.0       0.131072      0.017180  "
      ]
     },
     "execution_count": 9,
     "metadata": {},
     "output_type": "execute_result"
    }
   ],
   "source": [
    "sh = m_AE_4.score_history()\n",
    "sh.head()"
   ]
  },
  {
   "cell_type": "code",
   "execution_count": 10,
   "metadata": {},
   "outputs": [
    {
     "data": {
      "text/plain": [
       "<matplotlib.axes._subplots.AxesSubplot at 0x7fecbed250b8>"
      ]
     },
     "execution_count": 10,
     "metadata": {},
     "output_type": "execute_result"
    },
    {
     "data": {
      "image/png": "[encoded data removed]",
      "text/plain": [
       "<Figure size 432x288 with 1 Axes>"
      ]
     },
     "metadata": {
      "needs_background": "light"
     },
     "output_type": "display_data"
    }
   ],
   "source": [
    "sh['training_mse'].plot()"
   ]
  },
  {
   "cell_type": "code",
   "execution_count": 11,
   "metadata": {},
   "outputs": [
    {
     "data": {
      "text/plain": [
       "<matplotlib.axes._subplots.AxesSubplot at 0x7fecbe2bffd0>"
      ]
     },
     "execution_count": 11,
     "metadata": {},
     "output_type": "execute_result"
    },
    {
     "data": {
      "image/png": "[encoded data removed]",
      "text/plain": [
       "<Figure size 432x288 with 1 Axes>"
      ]
     },
     "metadata": {
      "needs_background": "light"
     },
     "output_type": "display_data"
    }
   ],
   "source": [
    "# look more closely at the tail\n",
    "sh['training_mse'].tail(50).plot()"
   ]
  },
  {
   "cell_type": "code",
   "execution_count": 12,
   "metadata": {},
   "outputs": [
    {
     "name": "stdout",
     "output_type": "stream",
     "text": [
      "deeplearning Model Build progress: |██████████████████████████████████████| 100%\n",
      "CPU times: user 52.9 ms, sys: 14.6 ms, total: 67.5 ms\n",
      "Wall time: 1.34 s\n"
     ]
    }
   ],
   "source": [
    "# we may have stopped too early so increase stopping rounds to 15\n",
    "# likely because we are scoring after every observation\n",
    "m_AE_4 = H2OAutoEncoderEstimator(\n",
    "    hidden=[4],\n",
    "    activation='Tanh',\n",
    "    epochs=300,\n",
    "    model_id='m_AE_4',\n",
    "    train_samples_per_iteration=train.nrow,\n",
    "    score_interval=0,\n",
    "    score_duty_cycle=1.0,\n",
    "    stopping_rounds=15\n",
    ")\n",
    "%time m_AE_4.train(x, None, train)"
   ]
  },
  {
   "cell_type": "code",
   "execution_count": 13,
   "metadata": {},
   "outputs": [
    {
     "data": {
      "text/plain": [
       "<matplotlib.axes._subplots.AxesSubplot at 0x7fecbe23ae48>"
      ]
     },
     "execution_count": 13,
     "metadata": {},
     "output_type": "execute_result"
    },
    {
     "data": {
      "image/png": "[encoded data removed]",
      "text/plain": [
       "<Figure size 432x288 with 1 Axes>"
      ]
     },
     "metadata": {
      "needs_background": "light"
     },
     "output_type": "display_data"
    }
   ],
   "source": [
    "sh = m_AE_4.score_history()\n",
    "sh['training_mse'].tail(50).plot()"
   ]
  },
  {
   "cell_type": "code",
   "execution_count": 14,
   "metadata": {},
   "outputs": [
    {
     "name": "stdout",
     "output_type": "stream",
     "text": [
      "deeplearning Model Build progress: |██████████████████████████████████████| 100%\n",
      "CPU times: user 35.4 ms, sys: 17.2 ms, total: 52.6 ms\n",
      "Wall time: 1.06 s\n"
     ]
    }
   ],
   "source": [
    "# now reduce the hidden layers to 3, instead of 4\n",
    "m_AE_3 = H2OAutoEncoderEstimator(\n",
    "    hidden=[3],\n",
    "    activation='Tanh',\n",
    "    epochs=300,\n",
    "    model_id='m_AE_3',\n",
    "    train_samples_per_iteration=train.nrow,\n",
    "    score_interval=0,\n",
    "    score_duty_cycle=1.0,\n",
    "    stopping_rounds=15\n",
    ")\n",
    "%time m_AE_3.train(x, None, train)"
   ]
  },
  {
   "cell_type": "code",
   "execution_count": 15,
   "metadata": {},
   "outputs": [
    {
     "data": {
      "text/plain": [
       "<matplotlib.axes._subplots.AxesSubplot at 0x7fecbe1e7dd8>"
      ]
     },
     "execution_count": 15,
     "metadata": {},
     "output_type": "execute_result"
    },
    {
     "data": {
      "image/png": "[encoded data removed]",
      "text/plain": [
       "<Figure size 432x288 with 1 Axes>"
      ]
     },
     "metadata": {
      "needs_background": "light"
     },
     "output_type": "display_data"
    }
   ],
   "source": [
    "sh = m_AE_3.score_history()\n",
    "sh['training_mse'].tail(50).plot()"
   ]
  },
  {
   "cell_type": "code",
   "execution_count": 16,
   "metadata": {},
   "outputs": [
    {
     "name": "stdout",
     "output_type": "stream",
     "text": [
      "deeplearning Model Build progress: |██████████████████████████████████████| 100%\n",
      "CPU times: user 117 ms, sys: 10.9 ms, total: 128 ms\n",
      "Wall time: 2.32 s\n"
     ]
    }
   ],
   "source": [
    "# now reduce the hidden layers to 2\n",
    "m_AE_2 = H2OAutoEncoderEstimator(\n",
    "    hidden=[2],\n",
    "    activation='Tanh',\n",
    "    epochs=300,\n",
    "    model_id='m_AE_2',\n",
    "    train_samples_per_iteration=train.nrow,\n",
    "    score_interval=0,\n",
    "    score_duty_cycle=1.0,\n",
    "    stopping_rounds=15\n",
    ")\n",
    "%time m_AE_2.train(x, None, train)"
   ]
  },
  {
   "cell_type": "code",
   "execution_count": 17,
   "metadata": {},
   "outputs": [
    {
     "data": {
      "text/plain": [
       "<matplotlib.axes._subplots.AxesSubplot at 0x7fecbe14b2e8>"
      ]
     },
     "execution_count": 17,
     "metadata": {},
     "output_type": "execute_result"
    },
    {
     "data": {
      "image/png": "[encoded data removed]",
      "text/plain": [
       "<Figure size 432x288 with 1 Axes>"
      ]
     },
     "metadata": {
      "needs_background": "light"
     },
     "output_type": "display_data"
    }
   ],
   "source": [
    "sh = m_AE_2.score_history()\n",
    "sh['training_mse'].tail(50).plot()"
   ]
  },
  {
   "cell_type": "markdown",
   "metadata": {},
   "source": [
    "Each time we reduce the number of hidden layers, we are asking the autoencoder to try to compress the 4 input features into fewer and fewer dimensions.  This results in an increase in the reconstruction error, as expected - i.e. the reconstruction is not perfect and gets harder with fewer dimensions."
   ]
  },
  {
   "cell_type": "code",
   "execution_count": 18,
   "metadata": {},
   "outputs": [
    {
     "name": "stdout",
     "output_type": "stream",
     "text": [
      "deeplearning Model Build progress: |██████████████████████████████████████| 100%\n",
      "CPU times: user 18.5 ms, sys: 1.44 ms, total: 19.9 ms\n",
      "Wall time: 462 ms\n"
     ]
    }
   ],
   "source": [
    "# now reduce the hidden layers to 1\n",
    "m_AE_1 = H2OAutoEncoderEstimator(\n",
    "    hidden=[1],\n",
    "    activation='Tanh',\n",
    "    epochs=300,\n",
    "    model_id='m_AE_2',\n",
    "    train_samples_per_iteration=train.nrow,\n",
    "    score_interval=0,\n",
    "    score_duty_cycle=1.0,\n",
    "    stopping_rounds=15\n",
    ")\n",
    "%time m_AE_1.train(x, None, train)"
   ]
  },
  {
   "cell_type": "code",
   "execution_count": 19,
   "metadata": {},
   "outputs": [
    {
     "data": {
      "text/plain": [
       "<matplotlib.axes._subplots.AxesSubplot at 0x7fecbe0fb630>"
      ]
     },
     "execution_count": 19,
     "metadata": {},
     "output_type": "execute_result"
    },
    {
     "data": {
      "image/png": "[encoded data removed]",
      "text/plain": [
       "<Figure size 432x288 with 1 Axes>"
      ]
     },
     "metadata": {
      "needs_background": "light"
     },
     "output_type": "display_data"
    }
   ],
   "source": [
    "sh = m_AE_1.score_history()\n",
    "sh['training_mse'].tail(50).plot()"
   ]
  },
  {
   "cell_type": "code",
   "execution_count": 20,
   "metadata": {},
   "outputs": [
    {
     "name": "stdout",
     "output_type": "stream",
     "text": [
      "deeplearning Model Build progress: |██████████████████████████████████████| 100%\n",
      "CPU times: user 20.7 ms, sys: 13 µs, total: 20.7 ms\n",
      "Wall time: 456 ms\n"
     ]
    }
   ],
   "source": [
    "# multilayer autoencoder\n",
    "m_AE_5_3_5 = H2OAutoEncoderEstimator(\n",
    "    hidden=[5, 3, 5], # note the symmetry\n",
    "    activation='Tanh',\n",
    "    epochs=300,\n",
    "    model_id='m_AE_5_3_5',\n",
    "    train_samples_per_iteration=train.nrow,\n",
    "    score_interval=0,\n",
    "    score_duty_cycle=1.0,\n",
    "    stopping_rounds=15\n",
    ")\n",
    "%time m_AE_5_3_5.train(x, None, train)"
   ]
  },
  {
   "cell_type": "code",
   "execution_count": 21,
   "metadata": {},
   "outputs": [
    {
     "data": {
      "text/plain": [
       "<matplotlib.axes._subplots.AxesSubplot at 0x7fecbe0034e0>"
      ]
     },
     "execution_count": 21,
     "metadata": {},
     "output_type": "execute_result"
    },
    {
     "data": {
      "image/png": "[encoded data removed]",
      "text/plain": [
       "<Figure size 432x288 with 1 Axes>"
      ]
     },
     "metadata": {
      "needs_background": "light"
     },
     "output_type": "display_data"
    }
   ],
   "source": [
    "sh = m_AE_5_3_5.score_history()\n",
    "sh['training_mse'].tail(50).plot()"
   ]
  },
  {
   "cell_type": "code",
   "execution_count": 22,
   "metadata": {},
   "outputs": [
    {
     "name": "stdout",
     "output_type": "stream",
     "text": [
      "deepfeatures progress: |██████████████████████████████████████████████████| 100%\n"
     ]
    }
   ],
   "source": [
    "# stacked autoencoder\n",
    "# builds on the m_AE_3 model from above\n",
    "train_AE_3 = m_AE_3.deepfeatures(train, 0) # here the 0 means the first hidden layer"
   ]
  },
  {
   "cell_type": "code",
   "execution_count": 23,
   "metadata": {},
   "outputs": [
    {
     "data": {
      "text/plain": [
       "[121, 3]"
      ]
     },
     "execution_count": 23,
     "metadata": {},
     "output_type": "execute_result"
    }
   ],
   "source": [
    "train_AE_3.dim"
   ]
  },
  {
   "cell_type": "code",
   "execution_count": 24,
   "metadata": {},
   "outputs": [
    {
     "data": {
      "text/html": [
       "<table>\n",
       "<thead>\n",
       "<tr><th style=\"text-align: right;\">  DF.L1.C1</th><th style=\"text-align: right;\">  DF.L1.C2</th><th style=\"text-align: right;\">  DF.L1.C3</th></tr>\n",
       "</thead>\n",
       "<tbody>\n",
       "<tr><td style=\"text-align: right;\"> 0.223158 </td><td style=\"text-align: right;\">  0.596469</td><td style=\"text-align: right;\">-0.0932727</td></tr>\n",
       "<tr><td style=\"text-align: right;\"> 0.335713 </td><td style=\"text-align: right;\">  0.527671</td><td style=\"text-align: right;\"> 0.104517 </td></tr>\n",
       "<tr><td style=\"text-align: right;\"> 0.283171 </td><td style=\"text-align: right;\">  0.596437</td><td style=\"text-align: right;\"> 0.0659874</td></tr>\n",
       "<tr><td style=\"text-align: right;\"> 0.300638 </td><td style=\"text-align: right;\">  0.574165</td><td style=\"text-align: right;\"> 0.118284 </td></tr>\n",
       "<tr><td style=\"text-align: right;\"> 0.194634 </td><td style=\"text-align: right;\">  0.624268</td><td style=\"text-align: right;\">-0.111499 </td></tr>\n",
       "<tr><td style=\"text-align: right;\"> 0.0766993</td><td style=\"text-align: right;\">  0.602929</td><td style=\"text-align: right;\">-0.241533 </td></tr>\n",
       "<tr><td style=\"text-align: right;\"> 0.204316 </td><td style=\"text-align: right;\">  0.630249</td><td style=\"text-align: right;\"> 0.0266402</td></tr>\n",
       "<tr><td style=\"text-align: right;\"> 0.242662 </td><td style=\"text-align: right;\">  0.582219</td><td style=\"text-align: right;\">-0.0427383</td></tr>\n",
       "<tr><td style=\"text-align: right;\"> 0.1829   </td><td style=\"text-align: right;\">  0.59016 </td><td style=\"text-align: right;\">-0.20157  </td></tr>\n",
       "<tr><td style=\"text-align: right;\"> 0.233981 </td><td style=\"text-align: right;\">  0.596885</td><td style=\"text-align: right;\">-0.010404 </td></tr>\n",
       "</tbody>\n",
       "</table>"
      ]
     },
     "metadata": {},
     "output_type": "display_data"
    },
    {
     "data": {
      "text/plain": []
     },
     "execution_count": 24,
     "metadata": {},
     "output_type": "execute_result"
    }
   ],
   "source": [
    "train_AE_3"
   ]
  },
  {
   "cell_type": "code",
   "execution_count": 25,
   "metadata": {},
   "outputs": [
    {
     "name": "stdout",
     "output_type": "stream",
     "text": [
      "deeplearning Model Build progress: |██████████████████████████████████████| 100%\n",
      "CPU times: user 17.5 ms, sys: 11.9 ms, total: 29.4 ms\n",
      "Wall time: 661 ms\n"
     ]
    }
   ],
   "source": [
    "m_AE_3x3 = H2OAutoEncoderEstimator(\n",
    "    hidden=[3],\n",
    "    activation='Tanh',\n",
    "    epochs=300,\n",
    "    model_id='m_AE_3x3',\n",
    "    train_samples_per_iteration=train.nrow,\n",
    "    score_interval=0,\n",
    "    score_duty_cycle=1.0,\n",
    "    stopping_rounds=15\n",
    ")\n",
    "%time m_AE_3x3.train([0, 1, 2], None, train_AE_3)"
   ]
  },
  {
   "cell_type": "code",
   "execution_count": 26,
   "metadata": {},
   "outputs": [
    {
     "data": {
      "text/plain": [
       "<matplotlib.axes._subplots.AxesSubplot at 0x7fecbddca898>"
      ]
     },
     "execution_count": 26,
     "metadata": {},
     "output_type": "execute_result"
    },
    {
     "data": {
      "image/png": "[encoded data removed]",
      "text/plain": [
       "<Figure size 432x288 with 1 Axes>"
      ]
     },
     "metadata": {
      "needs_background": "light"
     },
     "output_type": "display_data"
    }
   ],
   "source": [
    "sh = m_AE_3x3.score_history()\n",
    "sh['training_mse'].tail(50).plot()"
   ]
  },
  {
   "cell_type": "code",
   "execution_count": 27,
   "metadata": {},
   "outputs": [],
   "source": [
    "# anomalies\n",
    "x = ['sepal_len', 'sepal_wid', 'petal_len', 'petal_wid', 'class']"
   ]
  },
  {
   "cell_type": "code",
   "execution_count": 28,
   "metadata": {},
   "outputs": [
    {
     "name": "stdout",
     "output_type": "stream",
     "text": [
      "deeplearning Model Build progress: |██████████████████████████████████████| 100%\n",
      "CPU times: user 48.1 ms, sys: 12.7 ms, total: 60.9 ms\n",
      "Wall time: 1.58 s\n"
     ]
    }
   ],
   "source": [
    "m_anomaly16 = H2OAutoEncoderEstimator(\n",
    "    hidden=[16],\n",
    "    activation='Tanh',\n",
    "    epochs=300,\n",
    "    model_id='m_anomaly16',\n",
    "    train_samples_per_iteration=train.nrow,\n",
    "    score_interval=0,\n",
    "    score_duty_cycle=1.0,\n",
    "    stopping_rounds=15\n",
    ")\n",
    "%time m_anomaly16.train(x, None, iris) # we used the full dataset here"
   ]
  },
  {
   "cell_type": "code",
   "execution_count": 29,
   "metadata": {},
   "outputs": [],
   "source": [
    "anomalies = m_anomaly16.anomaly(iris).cbind(iris).as_data_frame()"
   ]
  },
  {
   "cell_type": "code",
   "execution_count": 30,
   "metadata": {},
   "outputs": [],
   "source": [
    "s = anomalies.sort_values('Reconstruction.MSE', ascending=False)"
   ]
  },
  {
   "cell_type": "code",
   "execution_count": 31,
   "metadata": {},
   "outputs": [
    {
     "data": {
      "text/html": [
       "<div>\n",
       "<style scoped>\n",
       "    .dataframe tbody tr th:only-of-type {\n",
       "        vertical-align: middle;\n",
       "    }\n",
       "\n",
       "    .dataframe tbody tr th {\n",
       "        vertical-align: top;\n",
       "    }\n",
       "\n",
       "    .dataframe thead th {\n",
       "        text-align: right;\n",
       "    }\n",
       "</style>\n",
       "<table border=\"1\" class=\"dataframe\">\n",
       "  <thead>\n",
       "    <tr style=\"text-align: right;\">\n",
       "      <th></th>\n",
       "      <th>Reconstruction.MSE</th>\n",
       "      <th>sepal_len</th>\n",
       "      <th>sepal_wid</th>\n",
       "      <th>petal_len</th>\n",
       "      <th>petal_wid</th>\n",
       "      <th>class</th>\n",
       "    </tr>\n",
       "  </thead>\n",
       "  <tbody>\n",
       "    <tr>\n",
       "      <th>43</th>\n",
       "      <td>0.000337</td>\n",
       "      <td>5.0</td>\n",
       "      <td>3.5</td>\n",
       "      <td>1.6</td>\n",
       "      <td>0.6</td>\n",
       "      <td>Iris-setosa</td>\n",
       "    </tr>\n",
       "    <tr>\n",
       "      <th>131</th>\n",
       "      <td>0.000313</td>\n",
       "      <td>7.9</td>\n",
       "      <td>3.8</td>\n",
       "      <td>6.4</td>\n",
       "      <td>2.0</td>\n",
       "      <td>Iris-virginica</td>\n",
       "    </tr>\n",
       "    <tr>\n",
       "      <th>41</th>\n",
       "      <td>0.000252</td>\n",
       "      <td>4.5</td>\n",
       "      <td>2.3</td>\n",
       "      <td>1.3</td>\n",
       "      <td>0.3</td>\n",
       "      <td>Iris-setosa</td>\n",
       "    </tr>\n",
       "    <tr>\n",
       "      <th>106</th>\n",
       "      <td>0.000238</td>\n",
       "      <td>4.9</td>\n",
       "      <td>2.5</td>\n",
       "      <td>4.5</td>\n",
       "      <td>1.7</td>\n",
       "      <td>Iris-virginica</td>\n",
       "    </tr>\n",
       "    <tr>\n",
       "      <th>117</th>\n",
       "      <td>0.000219</td>\n",
       "      <td>7.7</td>\n",
       "      <td>3.8</td>\n",
       "      <td>6.7</td>\n",
       "      <td>2.2</td>\n",
       "      <td>Iris-virginica</td>\n",
       "    </tr>\n",
       "  </tbody>\n",
       "</table>\n",
       "</div>"
      ],
      "text/plain": [
       "     Reconstruction.MSE  sepal_len  sepal_wid  petal_len  petal_wid  \\\n",
       "43             0.000337        5.0        3.5        1.6        0.6   \n",
       "131            0.000313        7.9        3.8        6.4        2.0   \n",
       "41             0.000252        4.5        2.3        1.3        0.3   \n",
       "106            0.000238        4.9        2.5        4.5        1.7   \n",
       "117            0.000219        7.7        3.8        6.7        2.2   \n",
       "\n",
       "              class  \n",
       "43      Iris-setosa  \n",
       "131  Iris-virginica  \n",
       "41      Iris-setosa  \n",
       "106  Iris-virginica  \n",
       "117  Iris-virginica  "
      ]
     },
     "execution_count": 31,
     "metadata": {},
     "output_type": "execute_result"
    }
   ],
   "source": [
    "# hardest to learn\n",
    "s.head()"
   ]
  },
  {
   "cell_type": "code",
   "execution_count": 32,
   "metadata": {},
   "outputs": [
    {
     "data": {
      "text/html": [
       "<div>\n",
       "<style scoped>\n",
       "    .dataframe tbody tr th:only-of-type {\n",
       "        vertical-align: middle;\n",
       "    }\n",
       "\n",
       "    .dataframe tbody tr th {\n",
       "        vertical-align: top;\n",
       "    }\n",
       "\n",
       "    .dataframe thead th {\n",
       "        text-align: right;\n",
       "    }\n",
       "</style>\n",
       "<table border=\"1\" class=\"dataframe\">\n",
       "  <thead>\n",
       "    <tr style=\"text-align: right;\">\n",
       "      <th></th>\n",
       "      <th>Reconstruction.MSE</th>\n",
       "      <th>sepal_len</th>\n",
       "      <th>sepal_wid</th>\n",
       "      <th>petal_len</th>\n",
       "      <th>petal_wid</th>\n",
       "      <th>class</th>\n",
       "    </tr>\n",
       "  </thead>\n",
       "  <tbody>\n",
       "    <tr>\n",
       "      <th>4</th>\n",
       "      <td>0.000004</td>\n",
       "      <td>5.0</td>\n",
       "      <td>3.6</td>\n",
       "      <td>1.4</td>\n",
       "      <td>0.2</td>\n",
       "      <td>Iris-setosa</td>\n",
       "    </tr>\n",
       "    <tr>\n",
       "      <th>0</th>\n",
       "      <td>0.000004</td>\n",
       "      <td>5.1</td>\n",
       "      <td>3.5</td>\n",
       "      <td>1.4</td>\n",
       "      <td>0.2</td>\n",
       "      <td>Iris-setosa</td>\n",
       "    </tr>\n",
       "    <tr>\n",
       "      <th>88</th>\n",
       "      <td>0.000004</td>\n",
       "      <td>5.6</td>\n",
       "      <td>3.0</td>\n",
       "      <td>4.1</td>\n",
       "      <td>1.3</td>\n",
       "      <td>Iris-versicolor</td>\n",
       "    </tr>\n",
       "    <tr>\n",
       "      <th>148</th>\n",
       "      <td>0.000004</td>\n",
       "      <td>6.2</td>\n",
       "      <td>3.4</td>\n",
       "      <td>5.4</td>\n",
       "      <td>2.3</td>\n",
       "      <td>Iris-virginica</td>\n",
       "    </tr>\n",
       "    <tr>\n",
       "      <th>130</th>\n",
       "      <td>0.000004</td>\n",
       "      <td>7.4</td>\n",
       "      <td>2.8</td>\n",
       "      <td>6.1</td>\n",
       "      <td>1.9</td>\n",
       "      <td>Iris-virginica</td>\n",
       "    </tr>\n",
       "  </tbody>\n",
       "</table>\n",
       "</div>"
      ],
      "text/plain": [
       "     Reconstruction.MSE  sepal_len  sepal_wid  petal_len  petal_wid  \\\n",
       "4              0.000004        5.0        3.6        1.4        0.2   \n",
       "0              0.000004        5.1        3.5        1.4        0.2   \n",
       "88             0.000004        5.6        3.0        4.1        1.3   \n",
       "148            0.000004        6.2        3.4        5.4        2.3   \n",
       "130            0.000004        7.4        2.8        6.1        1.9   \n",
       "\n",
       "               class  \n",
       "4        Iris-setosa  \n",
       "0        Iris-setosa  \n",
       "88   Iris-versicolor  \n",
       "148   Iris-virginica  \n",
       "130   Iris-virginica  "
      ]
     },
     "execution_count": 32,
     "metadata": {},
     "output_type": "execute_result"
    }
   ],
   "source": [
    "# most typical examples\n",
    "s.tail()"
   ]
  },
  {
   "cell_type": "code",
   "execution_count": null,
   "metadata": {},
   "outputs": [],
   "source": []
  }
 ],
 "metadata": {
  "kernelspec": {
   "display_name": "h2oclass",
   "language": "python",
   "name": "h2oclass"
  },
  "language_info": {
   "codemirror_mode": {
    "name": "ipython",
    "version": 3
   },
   "file_extension": ".py",
   "mimetype": "text/x-python",
   "name": "python",
   "nbconvert_exporter": "python",
   "pygments_lexer": "ipython3",
   "version": "3.7.3"
  }
 },
 "nbformat": 4,
 "nbformat_minor": 4
}
