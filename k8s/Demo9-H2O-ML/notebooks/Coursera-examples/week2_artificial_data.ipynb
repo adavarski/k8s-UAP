{
 "cells": [
  {
   "cell_type": "markdown",
   "metadata": {},
   "source": [
    "# Week 2 - Artificial Data\n",
    "\n",
    "This is adapted from the R code shown in the video."
   ]
  },
  {
   "cell_type": "code",
   "execution_count": 1,
   "metadata": {},
   "outputs": [],
   "source": [
    "# imports\n",
    "import h2o\n",
    "import numpy as np\n",
    "import pandas as pd"
   ]
  },
  {
   "cell_type": "code",
   "execution_count": 2,
   "metadata": {},
   "outputs": [
    {
     "name": "stdout",
     "output_type": "stream",
     "text": [
      "Checking whether there is an H2O instance running at http://localhost:54321 ..... not found.\n",
      "Attempting to start a local H2O server...\n",
      "  Java Version: openjdk version \"1.8.0_232\"; OpenJDK Runtime Environment (build 1.8.0_232-8u232-b09-0ubuntu1~19.04.1-b09); OpenJDK 64-Bit Server VM (build 25.232-b09, mixed mode)\n",
      "  Starting server from /home/megan/Projects/h2oclass/lib/python3.7/site-packages/h2o/backend/bin/h2o.jar\n",
      "  Ice root: /tmp/tmp2emrz996\n",
      "  JVM stdout: /tmp/tmp2emrz996/h2o_megan_started_from_python.out\n",
      "  JVM stderr: /tmp/tmp2emrz996/h2o_megan_started_from_python.err\n",
      "  Server is running at http://127.0.0.1:54321\n",
      "Connecting to H2O server at http://127.0.0.1:54321 ... successful.\n"
     ]
    },
    {
     "data": {
      "text/html": [
       "<div style=\"overflow:auto\"><table style=\"width:50%\"><tr><td>H2O cluster uptime:</td>\n",
       "<td>01 secs</td></tr>\n",
       "<tr><td>H2O cluster timezone:</td>\n",
       "<td>America/Chicago</td></tr>\n",
       "<tr><td>H2O data parsing timezone:</td>\n",
       "<td>UTC</td></tr>\n",
       "<tr><td>H2O cluster version:</td>\n",
       "<td>3.28.0.3</td></tr>\n",
       "<tr><td>H2O cluster version age:</td>\n",
       "<td>9 days </td></tr>\n",
       "<tr><td>H2O cluster name:</td>\n",
       "<td>H2O_from_python_megan_hp24x1</td></tr>\n",
       "<tr><td>H2O cluster total nodes:</td>\n",
       "<td>1</td></tr>\n",
       "<tr><td>H2O cluster free memory:</td>\n",
       "<td>1.520 Gb</td></tr>\n",
       "<tr><td>H2O cluster total cores:</td>\n",
       "<td>3</td></tr>\n",
       "<tr><td>H2O cluster allowed cores:</td>\n",
       "<td>3</td></tr>\n",
       "<tr><td>H2O cluster status:</td>\n",
       "<td>accepting new members, healthy</td></tr>\n",
       "<tr><td>H2O connection url:</td>\n",
       "<td>http://127.0.0.1:54321</td></tr>\n",
       "<tr><td>H2O connection proxy:</td>\n",
       "<td>{'http': None, 'https': None}</td></tr>\n",
       "<tr><td>H2O internal security:</td>\n",
       "<td>False</td></tr>\n",
       "<tr><td>H2O API Extensions:</td>\n",
       "<td>Amazon S3, XGBoost, Algos, AutoML, Core V3, TargetEncoder, Core V4</td></tr>\n",
       "<tr><td>Python version:</td>\n",
       "<td>3.7.3 final</td></tr></table></div>"
      ],
      "text/plain": [
       "--------------------------  ------------------------------------------------------------------\n",
       "H2O cluster uptime:         01 secs\n",
       "H2O cluster timezone:       America/Chicago\n",
       "H2O data parsing timezone:  UTC\n",
       "H2O cluster version:        3.28.0.3\n",
       "H2O cluster version age:    9 days\n",
       "H2O cluster name:           H2O_from_python_megan_hp24x1\n",
       "H2O cluster total nodes:    1\n",
       "H2O cluster free memory:    1.520 Gb\n",
       "H2O cluster total cores:    3\n",
       "H2O cluster allowed cores:  3\n",
       "H2O cluster status:         accepting new members, healthy\n",
       "H2O connection url:         http://127.0.0.1:54321\n",
       "H2O connection proxy:       {'http': None, 'https': None}\n",
       "H2O internal security:      False\n",
       "H2O API Extensions:         Amazon S3, XGBoost, Algos, AutoML, Core V3, TargetEncoder, Core V4\n",
       "Python version:             3.7.3 final\n",
       "--------------------------  ------------------------------------------------------------------"
      ]
     },
     "metadata": {},
     "output_type": "display_data"
    }
   ],
   "source": [
    "h2o.init()"
   ]
  },
  {
   "cell_type": "code",
   "execution_count": 3,
   "metadata": {},
   "outputs": [],
   "source": [
    "# set random seed for reproducibility\n",
    "np.random.seed(123)"
   ]
  },
  {
   "cell_type": "code",
   "execution_count": 4,
   "metadata": {},
   "outputs": [],
   "source": [
    "# set the number of rows in our data\n",
    "N = 1000"
   ]
  },
  {
   "cell_type": "code",
   "execution_count": 5,
   "metadata": {},
   "outputs": [],
   "source": [
    "# create the blood types\n",
    "blood_types = np.array(['A', 'A', 'A', 'O', 'O', 'O', 'AB', 'B'])"
   ]
  },
  {
   "cell_type": "code",
   "execution_count": 6,
   "metadata": {},
   "outputs": [],
   "source": [
    "# begin populating the dataframe\n",
    "df = pd.DataFrame({\n",
    "    'id': range(N)\n",
    "})"
   ]
  },
  {
   "cell_type": "code",
   "execution_count": 7,
   "metadata": {},
   "outputs": [],
   "source": [
    "# assign blood types randomly by id\n",
    "df = df.assign(blood_type = blood_types[df.id.values % len(blood_types)])"
   ]
  },
  {
   "cell_type": "code",
   "execution_count": 8,
   "metadata": {},
   "outputs": [
    {
     "data": {
      "text/html": [
       "<div>\n",
       "<style scoped>\n",
       "    .dataframe tbody tr th:only-of-type {\n",
       "        vertical-align: middle;\n",
       "    }\n",
       "\n",
       "    .dataframe tbody tr th {\n",
       "        vertical-align: top;\n",
       "    }\n",
       "\n",
       "    .dataframe thead th {\n",
       "        text-align: right;\n",
       "    }\n",
       "</style>\n",
       "<table border=\"1\" class=\"dataframe\">\n",
       "  <thead>\n",
       "    <tr style=\"text-align: right;\">\n",
       "      <th></th>\n",
       "      <th>id</th>\n",
       "      <th>blood_type</th>\n",
       "    </tr>\n",
       "  </thead>\n",
       "  <tbody>\n",
       "    <tr>\n",
       "      <th>0</th>\n",
       "      <td>0</td>\n",
       "      <td>A</td>\n",
       "    </tr>\n",
       "    <tr>\n",
       "      <th>1</th>\n",
       "      <td>1</td>\n",
       "      <td>A</td>\n",
       "    </tr>\n",
       "    <tr>\n",
       "      <th>2</th>\n",
       "      <td>2</td>\n",
       "      <td>A</td>\n",
       "    </tr>\n",
       "    <tr>\n",
       "      <th>3</th>\n",
       "      <td>3</td>\n",
       "      <td>O</td>\n",
       "    </tr>\n",
       "    <tr>\n",
       "      <th>4</th>\n",
       "      <td>4</td>\n",
       "      <td>O</td>\n",
       "    </tr>\n",
       "    <tr>\n",
       "      <th>5</th>\n",
       "      <td>5</td>\n",
       "      <td>O</td>\n",
       "    </tr>\n",
       "    <tr>\n",
       "      <th>6</th>\n",
       "      <td>6</td>\n",
       "      <td>AB</td>\n",
       "    </tr>\n",
       "    <tr>\n",
       "      <th>7</th>\n",
       "      <td>7</td>\n",
       "      <td>B</td>\n",
       "    </tr>\n",
       "    <tr>\n",
       "      <th>8</th>\n",
       "      <td>8</td>\n",
       "      <td>A</td>\n",
       "    </tr>\n",
       "    <tr>\n",
       "      <th>9</th>\n",
       "      <td>9</td>\n",
       "      <td>A</td>\n",
       "    </tr>\n",
       "    <tr>\n",
       "      <th>10</th>\n",
       "      <td>10</td>\n",
       "      <td>A</td>\n",
       "    </tr>\n",
       "    <tr>\n",
       "      <th>11</th>\n",
       "      <td>11</td>\n",
       "      <td>O</td>\n",
       "    </tr>\n",
       "    <tr>\n",
       "      <th>12</th>\n",
       "      <td>12</td>\n",
       "      <td>O</td>\n",
       "    </tr>\n",
       "    <tr>\n",
       "      <th>13</th>\n",
       "      <td>13</td>\n",
       "      <td>O</td>\n",
       "    </tr>\n",
       "    <tr>\n",
       "      <th>14</th>\n",
       "      <td>14</td>\n",
       "      <td>AB</td>\n",
       "    </tr>\n",
       "  </tbody>\n",
       "</table>\n",
       "</div>"
      ],
      "text/plain": [
       "    id blood_type\n",
       "0    0          A\n",
       "1    1          A\n",
       "2    2          A\n",
       "3    3          O\n",
       "4    4          O\n",
       "5    5          O\n",
       "6    6         AB\n",
       "7    7          B\n",
       "8    8          A\n",
       "9    9          A\n",
       "10  10          A\n",
       "11  11          O\n",
       "12  12          O\n",
       "13  13          O\n",
       "14  14         AB"
      ]
     },
     "execution_count": 8,
     "metadata": {},
     "output_type": "execute_result"
    }
   ],
   "source": [
    "# see our data so far\n",
    "df.head(15)"
   ]
  },
  {
   "cell_type": "code",
   "execution_count": 9,
   "metadata": {},
   "outputs": [],
   "source": [
    "# create an age column in our dataframe\n",
    "df = df.assign(age = np.random.uniform(18, 65, N).round())"
   ]
  },
  {
   "cell_type": "code",
   "execution_count": 10,
   "metadata": {},
   "outputs": [],
   "source": [
    "# create a column for healthy eating, on a scale of 0 to 9\n",
    "v = np.random.normal(5, 2, N).round()\n",
    "v = np.where(v > 9, 9, v)\n",
    "v = np.where(v < 0, 0, v)\n",
    "df = df.assign(healthy_eating = v)"
   ]
  },
  {
   "cell_type": "code",
   "execution_count": 11,
   "metadata": {},
   "outputs": [
    {
     "data": {
      "text/plain": [
       "6.0    194\n",
       "5.0    193\n",
       "4.0    186\n",
       "3.0    121\n",
       "7.0    112\n",
       "8.0     66\n",
       "2.0     60\n",
       "1.0     30\n",
       "9.0     27\n",
       "0.0     11\n",
       "Name: healthy_eating, dtype: int64"
      ]
     },
     "execution_count": 11,
     "metadata": {},
     "output_type": "execute_result"
    }
   ],
   "source": [
    "df.healthy_eating.value_counts()"
   ]
  },
  {
   "cell_type": "code",
   "execution_count": 12,
   "metadata": {},
   "outputs": [],
   "source": [
    "# create a column for active lifestyle, also on a scale of 0 to 9\n",
    "# however, add 1 if the person is less than age 30\n",
    "v = np.random.normal(5, 2, N).round()\n",
    "df = df.assign(active_lifestyle = v)\n",
    "df = df.assign(active_lifestyle = np.where(df.age < 30, df.active_lifestyle + 1, df.active_lifestyle))\n",
    "df = df.assign(active_lifestyle = np.where(df.active_lifestyle > 9, 9, df.active_lifestyle))\n",
    "df = df.assign(active_lifestyle = np.where(df.active_lifestyle < 0, 0, df.active_lifestyle))"
   ]
  },
  {
   "cell_type": "code",
   "execution_count": 13,
   "metadata": {},
   "outputs": [
    {
     "data": {
      "text/plain": [
       " 5.0    207\n",
       " 6.0    204\n",
       " 7.0    139\n",
       " 4.0    132\n",
       " 3.0     99\n",
       " 8.0     75\n",
       " 2.0     59\n",
       " 9.0     56\n",
       " 1.0     18\n",
       "-0.0     11\n",
       "Name: active_lifestyle, dtype: int64"
      ]
     },
     "execution_count": 13,
     "metadata": {},
     "output_type": "execute_result"
    }
   ],
   "source": [
    "df.active_lifestyle.value_counts()"
   ]
  },
  {
   "cell_type": "code",
   "execution_count": 14,
   "metadata": {},
   "outputs": [],
   "source": [
    "# create a column for salary based on age\n",
    "# adjust for healthy eating and active lifestyle and add some noise\n",
    "v = 20000 + (df.age.values * 3)**2\n",
    "v += df.healthy_eating * 500\n",
    "v -= df.active_lifestyle * 300\n",
    "v += np.random.uniform(0, 5000, N)\n",
    "df = df.assign(income = v.round(-2))"
   ]
  },
  {
   "cell_type": "code",
   "execution_count": 15,
   "metadata": {},
   "outputs": [
    {
     "data": {
      "text/html": [
       "<div>\n",
       "<style scoped>\n",
       "    .dataframe tbody tr th:only-of-type {\n",
       "        vertical-align: middle;\n",
       "    }\n",
       "\n",
       "    .dataframe tbody tr th {\n",
       "        vertical-align: top;\n",
       "    }\n",
       "\n",
       "    .dataframe thead th {\n",
       "        text-align: right;\n",
       "    }\n",
       "</style>\n",
       "<table border=\"1\" class=\"dataframe\">\n",
       "  <thead>\n",
       "    <tr style=\"text-align: right;\">\n",
       "      <th></th>\n",
       "      <th>id</th>\n",
       "      <th>blood_type</th>\n",
       "      <th>age</th>\n",
       "      <th>healthy_eating</th>\n",
       "      <th>active_lifestyle</th>\n",
       "      <th>income</th>\n",
       "    </tr>\n",
       "  </thead>\n",
       "  <tbody>\n",
       "    <tr>\n",
       "      <th>count</th>\n",
       "      <td>1000.000000</td>\n",
       "      <td>1000</td>\n",
       "      <td>1000.000000</td>\n",
       "      <td>1000.000000</td>\n",
       "      <td>1000.000000</td>\n",
       "      <td>1000.000000</td>\n",
       "    </tr>\n",
       "    <tr>\n",
       "      <th>unique</th>\n",
       "      <td>NaN</td>\n",
       "      <td>4</td>\n",
       "      <td>NaN</td>\n",
       "      <td>NaN</td>\n",
       "      <td>NaN</td>\n",
       "      <td>NaN</td>\n",
       "    </tr>\n",
       "    <tr>\n",
       "      <th>top</th>\n",
       "      <td>NaN</td>\n",
       "      <td>A</td>\n",
       "      <td>NaN</td>\n",
       "      <td>NaN</td>\n",
       "      <td>NaN</td>\n",
       "      <td>NaN</td>\n",
       "    </tr>\n",
       "    <tr>\n",
       "      <th>freq</th>\n",
       "      <td>NaN</td>\n",
       "      <td>375</td>\n",
       "      <td>NaN</td>\n",
       "      <td>NaN</td>\n",
       "      <td>NaN</td>\n",
       "      <td>NaN</td>\n",
       "    </tr>\n",
       "    <tr>\n",
       "      <th>mean</th>\n",
       "      <td>499.500000</td>\n",
       "      <td>NaN</td>\n",
       "      <td>41.462000</td>\n",
       "      <td>4.941000</td>\n",
       "      <td>5.297000</td>\n",
       "      <td>40419.700000</td>\n",
       "    </tr>\n",
       "    <tr>\n",
       "      <th>std</th>\n",
       "      <td>288.819436</td>\n",
       "      <td>NaN</td>\n",
       "      <td>13.394475</td>\n",
       "      <td>1.906083</td>\n",
       "      <td>1.966891</td>\n",
       "      <td>10376.553125</td>\n",
       "    </tr>\n",
       "    <tr>\n",
       "      <th>min</th>\n",
       "      <td>0.000000</td>\n",
       "      <td>NaN</td>\n",
       "      <td>18.000000</td>\n",
       "      <td>0.000000</td>\n",
       "      <td>-0.000000</td>\n",
       "      <td>22600.000000</td>\n",
       "    </tr>\n",
       "    <tr>\n",
       "      <th>25%</th>\n",
       "      <td>249.750000</td>\n",
       "      <td>NaN</td>\n",
       "      <td>30.000000</td>\n",
       "      <td>4.000000</td>\n",
       "      <td>4.000000</td>\n",
       "      <td>31500.000000</td>\n",
       "    </tr>\n",
       "    <tr>\n",
       "      <th>50%</th>\n",
       "      <td>499.500000</td>\n",
       "      <td>NaN</td>\n",
       "      <td>41.000000</td>\n",
       "      <td>5.000000</td>\n",
       "      <td>5.000000</td>\n",
       "      <td>38700.000000</td>\n",
       "    </tr>\n",
       "    <tr>\n",
       "      <th>75%</th>\n",
       "      <td>749.250000</td>\n",
       "      <td>NaN</td>\n",
       "      <td>53.000000</td>\n",
       "      <td>6.000000</td>\n",
       "      <td>7.000000</td>\n",
       "      <td>48425.000000</td>\n",
       "    </tr>\n",
       "    <tr>\n",
       "      <th>max</th>\n",
       "      <td>999.000000</td>\n",
       "      <td>NaN</td>\n",
       "      <td>65.000000</td>\n",
       "      <td>9.000000</td>\n",
       "      <td>9.000000</td>\n",
       "      <td>64300.000000</td>\n",
       "    </tr>\n",
       "  </tbody>\n",
       "</table>\n",
       "</div>"
      ],
      "text/plain": [
       "                 id blood_type          age  healthy_eating  active_lifestyle  \\\n",
       "count   1000.000000       1000  1000.000000     1000.000000       1000.000000   \n",
       "unique          NaN          4          NaN             NaN               NaN   \n",
       "top             NaN          A          NaN             NaN               NaN   \n",
       "freq            NaN        375          NaN             NaN               NaN   \n",
       "mean     499.500000        NaN    41.462000        4.941000          5.297000   \n",
       "std      288.819436        NaN    13.394475        1.906083          1.966891   \n",
       "min        0.000000        NaN    18.000000        0.000000         -0.000000   \n",
       "25%      249.750000        NaN    30.000000        4.000000          4.000000   \n",
       "50%      499.500000        NaN    41.000000        5.000000          5.000000   \n",
       "75%      749.250000        NaN    53.000000        6.000000          7.000000   \n",
       "max      999.000000        NaN    65.000000        9.000000          9.000000   \n",
       "\n",
       "              income  \n",
       "count    1000.000000  \n",
       "unique           NaN  \n",
       "top              NaN  \n",
       "freq             NaN  \n",
       "mean    40419.700000  \n",
       "std     10376.553125  \n",
       "min     22600.000000  \n",
       "25%     31500.000000  \n",
       "50%     38700.000000  \n",
       "75%     48425.000000  \n",
       "max     64300.000000  "
      ]
     },
     "execution_count": 15,
     "metadata": {},
     "output_type": "execute_result"
    }
   ],
   "source": [
    "df.describe(include='all')"
   ]
  },
  {
   "cell_type": "code",
   "execution_count": 16,
   "metadata": {},
   "outputs": [
    {
     "name": "stdout",
     "output_type": "stream",
     "text": [
      "Parse progress: |█████████████████████████████████████████████████████████| 100%\n"
     ]
    }
   ],
   "source": [
    "# create an H2O frame named people\n",
    "people = h2o.H2OFrame(\n",
    "    df,\n",
    "    destination_frame='people'\n",
    ")"
   ]
  },
  {
   "cell_type": "code",
   "execution_count": 17,
   "metadata": {},
   "outputs": [
    {
     "data": {
      "text/html": [
       "<table>\n",
       "<thead>\n",
       "<tr><th style=\"text-align: right;\">  id</th><th>blood_type  </th><th style=\"text-align: right;\">  age</th><th style=\"text-align: right;\">  healthy_eating</th><th style=\"text-align: right;\">  active_lifestyle</th><th style=\"text-align: right;\">  income</th></tr>\n",
       "</thead>\n",
       "<tbody>\n",
       "<tr><td style=\"text-align: right;\">   0</td><td>A           </td><td style=\"text-align: right;\">   51</td><td style=\"text-align: right;\">               5</td><td style=\"text-align: right;\">                 8</td><td style=\"text-align: right;\">   46600</td></tr>\n",
       "<tr><td style=\"text-align: right;\">   1</td><td>A           </td><td style=\"text-align: right;\">   31</td><td style=\"text-align: right;\">               3</td><td style=\"text-align: right;\">                 5</td><td style=\"text-align: right;\">   32300</td></tr>\n",
       "<tr><td style=\"text-align: right;\">   2</td><td>A           </td><td style=\"text-align: right;\">   29</td><td style=\"text-align: right;\">               7</td><td style=\"text-align: right;\">                 5</td><td style=\"text-align: right;\">   31800</td></tr>\n",
       "<tr><td style=\"text-align: right;\">   3</td><td>O           </td><td style=\"text-align: right;\">   44</td><td style=\"text-align: right;\">               2</td><td style=\"text-align: right;\">                 5</td><td style=\"text-align: right;\">   39200</td></tr>\n",
       "<tr><td style=\"text-align: right;\">   4</td><td>O           </td><td style=\"text-align: right;\">   52</td><td style=\"text-align: right;\">               4</td><td style=\"text-align: right;\">                 7</td><td style=\"text-align: right;\">   46200</td></tr>\n",
       "<tr><td style=\"text-align: right;\">   5</td><td>O           </td><td style=\"text-align: right;\">   38</td><td style=\"text-align: right;\">               5</td><td style=\"text-align: right;\">                 4</td><td style=\"text-align: right;\">   35600</td></tr>\n",
       "<tr><td style=\"text-align: right;\">   6</td><td>AB          </td><td style=\"text-align: right;\">   64</td><td style=\"text-align: right;\">               5</td><td style=\"text-align: right;\">                 4</td><td style=\"text-align: right;\">   63100</td></tr>\n",
       "<tr><td style=\"text-align: right;\">   7</td><td>B           </td><td style=\"text-align: right;\">   50</td><td style=\"text-align: right;\">               1</td><td style=\"text-align: right;\">                 4</td><td style=\"text-align: right;\">   44900</td></tr>\n",
       "<tr><td style=\"text-align: right;\">   8</td><td>A           </td><td style=\"text-align: right;\">   41</td><td style=\"text-align: right;\">               3</td><td style=\"text-align: right;\">                 5</td><td style=\"text-align: right;\">   36900</td></tr>\n",
       "<tr><td style=\"text-align: right;\">   9</td><td>A           </td><td style=\"text-align: right;\">   36</td><td style=\"text-align: right;\">               5</td><td style=\"text-align: right;\">                 5</td><td style=\"text-align: right;\">   33900</td></tr>\n",
       "</tbody>\n",
       "</table>"
      ]
     },
     "metadata": {},
     "output_type": "display_data"
    },
    {
     "data": {
      "text/plain": []
     },
     "execution_count": 17,
     "metadata": {},
     "output_type": "execute_result"
    }
   ],
   "source": [
    "# review the frame\n",
    "people"
   ]
  },
  {
   "cell_type": "code",
   "execution_count": 18,
   "metadata": {},
   "outputs": [],
   "source": [
    "# split data into train, validation, and test sets\n",
    "train, valid, test = people.split_frame(\n",
    "    ratios=[0.8, 0.1],\n",
    "    destination_frames=['people_train', 'people_valid', 'people_test'],\n",
    "    seed=123\n",
    ")"
   ]
  },
  {
   "cell_type": "code",
   "execution_count": 19,
   "metadata": {},
   "outputs": [
    {
     "name": "stdout",
     "output_type": "stream",
     "text": [
      "788/118/94\n"
     ]
    }
   ],
   "source": [
    "# how many rows in train/valid/test (slighly off with small data sets)\n",
    "print(\"%d/%d/%d\" % (train.nrows, valid.nrows, test.nrows))"
   ]
  },
  {
   "cell_type": "code",
   "execution_count": 20,
   "metadata": {},
   "outputs": [],
   "source": [
    "# set up our x and y\n",
    "y = 'income'\n",
    "# don't include y or our id column in the features\n",
    "ignore_fields = [y, 'id']\n",
    "x = [i for i in train.names if i not in ignore_fields]"
   ]
  },
  {
   "cell_type": "code",
   "execution_count": 21,
   "metadata": {},
   "outputs": [
    {
     "name": "stdout",
     "output_type": "stream",
     "text": [
      "gbm Model Build progress: |███████████████████████████████████████████████| 100%\n"
     ]
    }
   ],
   "source": [
    "# now train a GBM on this data\n",
    "from h2o.estimators.gbm import H2OGradientBoostingEstimator\n",
    "m1 = H2OGradientBoostingEstimator(model_id='defaults')\n",
    "m1.train(x, y, train, validation_frame=valid)"
   ]
  },
  {
   "cell_type": "code",
   "execution_count": 22,
   "metadata": {},
   "outputs": [
    {
     "data": {
      "text/plain": [
       "1003.0623884636739"
      ]
     },
     "execution_count": 22,
     "metadata": {},
     "output_type": "execute_result"
    }
   ],
   "source": [
    "m1.mae(train=True)"
   ]
  },
  {
   "cell_type": "code",
   "execution_count": 23,
   "metadata": {},
   "outputs": [
    {
     "data": {
      "text/plain": [
       "1322.225134423593"
      ]
     },
     "execution_count": 23,
     "metadata": {},
     "output_type": "execute_result"
    }
   ],
   "source": [
    "m1.mae(valid=True)"
   ]
  },
  {
   "cell_type": "code",
   "execution_count": 24,
   "metadata": {},
   "outputs": [
    {
     "data": {
      "text/plain": [
       "1233.476877045928"
      ]
     },
     "execution_count": 24,
     "metadata": {},
     "output_type": "execute_result"
    }
   ],
   "source": [
    "perf = m1.model_performance(test)\n",
    "perf.mae()"
   ]
  },
  {
   "cell_type": "code",
   "execution_count": 25,
   "metadata": {},
   "outputs": [
    {
     "name": "stdout",
     "output_type": "stream",
     "text": [
      "gbm Model Build progress: |███████████████████████████████████████████████| 100%\n"
     ]
    }
   ],
   "source": [
    "# now what happens if we deliberately overfit the model\n",
    "m2 = H2OGradientBoostingEstimator(model_id='overfit', \n",
    "                                  ntrees=1000, \n",
    "                                  max_depth=10\n",
    "                                 )\n",
    "m2.train(x, y, train, validation_frame=valid)"
   ]
  },
  {
   "cell_type": "code",
   "execution_count": 26,
   "metadata": {},
   "outputs": [
    {
     "name": "stdout",
     "output_type": "stream",
     "text": [
      "Train: 1003 --> 338\n",
      "Valid: 1322 --> 1534\n",
      " Test: 1233 --> 1444\n"
     ]
    }
   ],
   "source": [
    "# compare MAE across train, valid, and test\n",
    "print(\"Train: %d --> %d\" % (m1.mae(train=True), m2.mae(train=True)))\n",
    "print(\"Valid: %d --> %d\" % (m1.mae(valid=True), m2.mae(valid=True)))\n",
    "print(\" Test: %d --> %d\" % (perf.mae(), m2.model_performance(test).mae()))"
   ]
  },
  {
   "cell_type": "markdown",
   "metadata": {},
   "source": [
    "Summary of Overfitting\n",
    "\n",
    "We can make the model fit the training set better and better, shrinking MAE on the training set, but the model stops generalizing as well. The MAE goes up on both the validation and the test sets."
   ]
  },
  {
   "cell_type": "code",
   "execution_count": 27,
   "metadata": {},
   "outputs": [],
   "source": [
    "# let's use cross validation now - need only a train and test split now so resplit\n",
    "train, test = people.split_frame(\n",
    "    ratios=[0.897],\n",
    "    destination_frames=['people_train', 'people_test'],\n",
    "    seed=123\n",
    ")"
   ]
  },
  {
   "cell_type": "code",
   "execution_count": 28,
   "metadata": {},
   "outputs": [
    {
     "name": "stdout",
     "output_type": "stream",
     "text": [
      "900/100\n"
     ]
    }
   ],
   "source": [
    "print(\"%d/%d\" % (train.nrows, test.nrows))"
   ]
  },
  {
   "cell_type": "code",
   "execution_count": 29,
   "metadata": {},
   "outputs": [
    {
     "name": "stdout",
     "output_type": "stream",
     "text": [
      "gbm Model Build progress: |███████████████████████████████████████████████| 100%\n"
     ]
    }
   ],
   "source": [
    "# build the gbm model with 9 CV folds\n",
    "m3 = H2OGradientBoostingEstimator(model_id='def9folds', \n",
    "                                  nfolds=9\n",
    "                                 )\n",
    "m3.train(x, y, train)"
   ]
  },
  {
   "cell_type": "code",
   "execution_count": 30,
   "metadata": {},
   "outputs": [
    {
     "data": {
      "text/plain": [
       "1033.4505078125"
      ]
     },
     "execution_count": 30,
     "metadata": {},
     "output_type": "execute_result"
    }
   ],
   "source": [
    "m3.mae(train=True)"
   ]
  },
  {
   "cell_type": "code",
   "execution_count": 31,
   "metadata": {},
   "outputs": [
    {
     "data": {
      "text/plain": [
       "1329.7299643106753"
      ]
     },
     "execution_count": 31,
     "metadata": {},
     "output_type": "execute_result"
    }
   ],
   "source": [
    "# get cross validation error\n",
    "m3.mae(xval=True)"
   ]
  },
  {
   "cell_type": "code",
   "execution_count": 32,
   "metadata": {},
   "outputs": [
    {
     "data": {
      "text/plain": [
       "1186.9082111475288"
      ]
     },
     "execution_count": 32,
     "metadata": {},
     "output_type": "execute_result"
    }
   ],
   "source": [
    "# note that this is better than our original performance\n",
    "# final model was built with 900 rows, rather than about 800 originally\n",
    "perf = m3.model_performance(test)\n",
    "perf.mae()"
   ]
  },
  {
   "cell_type": "code",
   "execution_count": 33,
   "metadata": {},
   "outputs": [
    {
     "name": "stdout",
     "output_type": "stream",
     "text": [
      "gbm Model Build progress: |███████████████████████████████████████████████| 100%\n"
     ]
    }
   ],
   "source": [
    "# overfit the model again but this time with cross validation\n",
    "m4 = H2OGradientBoostingEstimator(model_id='overfit9folds', \n",
    "                                  ntrees=1000, \n",
    "                                  max_depth=10,\n",
    "                                  nfolds=9\n",
    "                                 )\n",
    "m4.train(x, y, train)"
   ]
  },
  {
   "cell_type": "code",
   "execution_count": 35,
   "metadata": {},
   "outputs": [
    {
     "name": "stdout",
     "output_type": "stream",
     "text": [
      "Train: 1033 --> 377\n",
      "Valid: 1329 --> 1539\n",
      " Test: 1186 --> 1485\n"
     ]
    }
   ],
   "source": [
    "print(\"Train: %d --> %d\" % (m3.mae(train=True), m4.mae(train=True)))\n",
    "print(\"Valid: %d --> %d\" % (m3.mae(xval=True), m4.mae(xval=True)))\n",
    "print(\" Test: %d --> %d\" % (perf.mae(), m4.model_performance(test).mae()))"
   ]
  },
  {
   "cell_type": "markdown",
   "metadata": {},
   "source": [
    "We see the same pattern with overfitting here with cross validation.  Training error improves a lot, but both validation and test error increase.\n",
    "\n",
    "Cross validation does not cure overfitting.  It simply provides a better estimation of your error."
   ]
  },
  {
   "cell_type": "code",
   "execution_count": null,
   "metadata": {},
   "outputs": [],
   "source": []
  }
 ],
 "metadata": {
  "kernelspec": {
   "display_name": "h2oclass",
   "language": "python",
   "name": "h2oclass"
  },
  "language_info": {
   "codemirror_mode": {
    "name": "ipython",
    "version": 3
   },
   "file_extension": ".py",
   "mimetype": "text/x-python",
   "name": "python",
   "nbconvert_exporter": "python",
   "pygments_lexer": "ipython3",
   "version": "3.7.3"
  }
 },
 "nbformat": 4,
 "nbformat_minor": 4
}
