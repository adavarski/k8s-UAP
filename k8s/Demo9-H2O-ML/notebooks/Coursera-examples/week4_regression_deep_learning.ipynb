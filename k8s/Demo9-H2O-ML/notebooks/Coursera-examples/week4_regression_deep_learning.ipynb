{
 "cells": [
  {
   "cell_type": "markdown",
   "metadata": {},
   "source": [
    "# Regression with Deep Learning"
   ]
  },
  {
   "cell_type": "code",
   "execution_count": 1,
   "metadata": {},
   "outputs": [],
   "source": [
    "import h2o\n",
    "import matplotlib.pyplot as plt\n",
    "%matplotlib inline"
   ]
  },
  {
   "cell_type": "code",
   "execution_count": 2,
   "metadata": {},
   "outputs": [
    {
     "name": "stdout",
     "output_type": "stream",
     "text": [
      "Checking whether there is an H2O instance running at http://localhost:54321 . connected.\n"
     ]
    },
    {
     "data": {
      "text/html": [
       "<div style=\"overflow:auto\"><table style=\"width:50%\"><tr><td>H2O cluster uptime:</td>\n",
       "<td>3 hours 52 mins</td></tr>\n",
       "<tr><td>H2O cluster timezone:</td>\n",
       "<td>America/Chicago</td></tr>\n",
       "<tr><td>H2O data parsing timezone:</td>\n",
       "<td>UTC</td></tr>\n",
       "<tr><td>H2O cluster version:</td>\n",
       "<td>3.28.0.3</td></tr>\n",
       "<tr><td>H2O cluster version age:</td>\n",
       "<td>17 days </td></tr>\n",
       "<tr><td>H2O cluster name:</td>\n",
       "<td>H2O_from_python_megan_bvn2lk</td></tr>\n",
       "<tr><td>H2O cluster total nodes:</td>\n",
       "<td>1</td></tr>\n",
       "<tr><td>H2O cluster free memory:</td>\n",
       "<td>1.213 Gb</td></tr>\n",
       "<tr><td>H2O cluster total cores:</td>\n",
       "<td>3</td></tr>\n",
       "<tr><td>H2O cluster allowed cores:</td>\n",
       "<td>3</td></tr>\n",
       "<tr><td>H2O cluster status:</td>\n",
       "<td>locked, healthy</td></tr>\n",
       "<tr><td>H2O connection url:</td>\n",
       "<td>http://localhost:54321</td></tr>\n",
       "<tr><td>H2O connection proxy:</td>\n",
       "<td>{'http': None, 'https': None}</td></tr>\n",
       "<tr><td>H2O internal security:</td>\n",
       "<td>False</td></tr>\n",
       "<tr><td>H2O API Extensions:</td>\n",
       "<td>Amazon S3, XGBoost, Algos, AutoML, Core V3, TargetEncoder, Core V4</td></tr>\n",
       "<tr><td>Python version:</td>\n",
       "<td>3.7.3 final</td></tr></table></div>"
      ],
      "text/plain": [
       "--------------------------  ------------------------------------------------------------------\n",
       "H2O cluster uptime:         3 hours 52 mins\n",
       "H2O cluster timezone:       America/Chicago\n",
       "H2O data parsing timezone:  UTC\n",
       "H2O cluster version:        3.28.0.3\n",
       "H2O cluster version age:    17 days\n",
       "H2O cluster name:           H2O_from_python_megan_bvn2lk\n",
       "H2O cluster total nodes:    1\n",
       "H2O cluster free memory:    1.213 Gb\n",
       "H2O cluster total cores:    3\n",
       "H2O cluster allowed cores:  3\n",
       "H2O cluster status:         locked, healthy\n",
       "H2O connection url:         http://localhost:54321\n",
       "H2O connection proxy:       {'http': None, 'https': None}\n",
       "H2O internal security:      False\n",
       "H2O API Extensions:         Amazon S3, XGBoost, Algos, AutoML, Core V3, TargetEncoder, Core V4\n",
       "Python version:             3.7.3 final\n",
       "--------------------------  ------------------------------------------------------------------"
      ]
     },
     "metadata": {},
     "output_type": "display_data"
    }
   ],
   "source": [
    "h2o.init()"
   ]
  },
  {
   "cell_type": "code",
   "execution_count": 3,
   "metadata": {},
   "outputs": [
    {
     "name": "stdout",
     "output_type": "stream",
     "text": [
      "Parse progress: |█████████████████████████████████████████████████████████| 100%\n"
     ]
    }
   ],
   "source": [
    "# import the airlines data again\n",
    "data = h2o.import_file('http://h2o-public-test-data.s3.amazonaws.com/smalldata/airlines/allyears2k_headers.zip')"
   ]
  },
  {
   "cell_type": "code",
   "execution_count": 4,
   "metadata": {},
   "outputs": [],
   "source": [
    "# split the data\n",
    "train, valid, test = data.split_frame([0.8,0.1], seed=69)"
   ]
  },
  {
   "cell_type": "code",
   "execution_count": 5,
   "metadata": {},
   "outputs": [],
   "source": [
    "# set up our x and y differently for regression problem\n",
    "y = 'ArrDelay'\n",
    "ignore_fields = ['ArrDelay', 'IsArrDelayed', 'ActualElapsedTime', \n",
    "                 'ArrTime', 'TailNum']\n",
    "x_with_dep = [i for i in train.names if i not in ignore_fields]"
   ]
  },
  {
   "cell_type": "code",
   "execution_count": 6,
   "metadata": {},
   "outputs": [],
   "source": [
    "from h2o.estimators.deeplearning import H2ODeepLearningEstimator"
   ]
  },
  {
   "cell_type": "code",
   "execution_count": 7,
   "metadata": {},
   "outputs": [
    {
     "name": "stdout",
     "output_type": "stream",
     "text": [
      "deeplearning Model Build progress: |██████████████████████████████████████| 100%\n",
      "CPU times: user 335 ms, sys: 47 ms, total: 382 ms\n",
      "Wall time: 51.8 s\n"
     ]
    }
   ],
   "source": [
    "m_DLR_def = H2ODeepLearningEstimator(variable_importances=True)\n",
    "%time m_DLR_def.train(x_with_dep, y, train, validation_frame=valid)"
   ]
  },
  {
   "cell_type": "code",
   "execution_count": 8,
   "metadata": {},
   "outputs": [
    {
     "name": "stdout",
     "output_type": "stream",
     "text": [
      "\n",
      "ModelMetricsRegression: deeplearning\n",
      "** Reported on test data. **\n",
      "\n",
      "MSE: 52.68622092679348\n",
      "RMSE: 7.25852746270161\n",
      "MAE: 4.687539769768553\n",
      "RMSLE: NaN\n",
      "Mean Residual Deviance: 52.68622092679348\n"
     ]
    },
    {
     "data": {
      "text/plain": []
     },
     "execution_count": 8,
     "metadata": {},
     "output_type": "execute_result"
    }
   ],
   "source": [
    "m_DLR_def.model_performance(valid)"
   ]
  },
  {
   "cell_type": "code",
   "execution_count": 9,
   "metadata": {},
   "outputs": [
    {
     "name": "stdout",
     "output_type": "stream",
     "text": [
      "\n",
      "ModelMetricsRegression: deeplearning\n",
      "** Reported on test data. **\n",
      "\n",
      "MSE: 47.186337615445176\n",
      "RMSE: 6.869231224485399\n",
      "MAE: 4.567561773431662\n",
      "RMSLE: NaN\n",
      "Mean Residual Deviance: 47.186337615445176\n"
     ]
    },
    {
     "data": {
      "text/plain": []
     },
     "execution_count": 9,
     "metadata": {},
     "output_type": "execute_result"
    }
   ],
   "source": [
    "m_DLR_def.model_performance(test)"
   ]
  },
  {
   "cell_type": "code",
   "execution_count": 10,
   "metadata": {},
   "outputs": [
    {
     "data": {
      "image/png": "[encoded data removed]",
      "text/plain": [
       "<Figure size 1008x720 with 1 Axes>"
      ]
     },
     "metadata": {
      "needs_background": "light"
     },
     "output_type": "display_data"
    }
   ],
   "source": [
    "m_DLR_def.varimp_plot(30)"
   ]
  },
  {
   "cell_type": "code",
   "execution_count": 11,
   "metadata": {},
   "outputs": [
    {
     "data": {
      "image/png": "[encoded data removed]",
      "text/plain": [
       "<Figure size 432x288 with 1 Axes>"
      ]
     },
     "metadata": {
      "needs_background": "light"
     },
     "output_type": "display_data"
    }
   ],
   "source": [
    "m_DLR_def.plot()"
   ]
  },
  {
   "cell_type": "code",
   "execution_count": 12,
   "metadata": {},
   "outputs": [
    {
     "name": "stdout",
     "output_type": "stream",
     "text": [
      "deeplearning Model Build progress: |██████████████████████████████████████| 100%\n",
      "CPU times: user 550 ms, sys: 69.8 ms, total: 620 ms\n",
      "Wall time: 3min 44s\n"
     ]
    }
   ],
   "source": [
    "m_DLR_200_epochs = H2ODeepLearningEstimator(\n",
    "                    variable_importances=True,\n",
    "                    epochs=200,\n",
    "                    stopping_rounds=5,\n",
    "                    stopping_tolerance=0,\n",
    "                    stopping_metric='deviance'\n",
    ")\n",
    "%time m_DLR_200_epochs.train(x_with_dep, y, train, validation_frame=valid)"
   ]
  },
  {
   "cell_type": "code",
   "execution_count": 13,
   "metadata": {},
   "outputs": [
    {
     "name": "stdout",
     "output_type": "stream",
     "text": [
      "\n",
      "ModelMetricsRegression: deeplearning\n",
      "** Reported on test data. **\n",
      "\n",
      "MSE: 45.551601238831054\n",
      "RMSE: 6.74919263607367\n",
      "MAE: 3.3159498433904795\n",
      "RMSLE: NaN\n",
      "Mean Residual Deviance: 45.551601238831054\n"
     ]
    },
    {
     "data": {
      "text/plain": []
     },
     "execution_count": 13,
     "metadata": {},
     "output_type": "execute_result"
    }
   ],
   "source": [
    "m_DLR_200_epochs.model_performance(valid)"
   ]
  },
  {
   "cell_type": "code",
   "execution_count": 14,
   "metadata": {},
   "outputs": [
    {
     "data": {
      "image/png": "[encoded data removed]",
      "text/plain": [
       "<Figure size 432x288 with 1 Axes>"
      ]
     },
     "metadata": {
      "needs_background": "light"
     },
     "output_type": "display_data"
    }
   ],
   "source": [
    "m_DLR_200_epochs.plot()"
   ]
  },
  {
   "cell_type": "code",
   "execution_count": 15,
   "metadata": {
    "scrolled": true
   },
   "outputs": [
    {
     "data": {
      "text/html": [
       "<div>\n",
       "<style scoped>\n",
       "    .dataframe tbody tr th:only-of-type {\n",
       "        vertical-align: middle;\n",
       "    }\n",
       "\n",
       "    .dataframe tbody tr th {\n",
       "        vertical-align: top;\n",
       "    }\n",
       "\n",
       "    .dataframe thead th {\n",
       "        text-align: right;\n",
       "    }\n",
       "</style>\n",
       "<table border=\"1\" class=\"dataframe\">\n",
       "  <thead>\n",
       "    <tr style=\"text-align: right;\">\n",
       "      <th></th>\n",
       "      <th></th>\n",
       "      <th>timestamp</th>\n",
       "      <th>duration</th>\n",
       "      <th>training_speed</th>\n",
       "      <th>epochs</th>\n",
       "      <th>iterations</th>\n",
       "      <th>samples</th>\n",
       "      <th>training_rmse</th>\n",
       "      <th>training_deviance</th>\n",
       "      <th>training_mae</th>\n",
       "      <th>training_r2</th>\n",
       "      <th>validation_rmse</th>\n",
       "      <th>validation_deviance</th>\n",
       "      <th>validation_mae</th>\n",
       "      <th>validation_r2</th>\n",
       "    </tr>\n",
       "  </thead>\n",
       "  <tbody>\n",
       "    <tr>\n",
       "      <th>0</th>\n",
       "      <td></td>\n",
       "      <td>2020-02-22 22:45:13</td>\n",
       "      <td>0.000 sec</td>\n",
       "      <td>None</td>\n",
       "      <td>0.000000</td>\n",
       "      <td>0</td>\n",
       "      <td>0.0</td>\n",
       "      <td>NaN</td>\n",
       "      <td>NaN</td>\n",
       "      <td>NaN</td>\n",
       "      <td>NaN</td>\n",
       "      <td>NaN</td>\n",
       "      <td>NaN</td>\n",
       "      <td>NaN</td>\n",
       "      <td>NaN</td>\n",
       "    </tr>\n",
       "    <tr>\n",
       "      <th>1</th>\n",
       "      <td></td>\n",
       "      <td>2020-02-22 22:45:19</td>\n",
       "      <td>9.439 sec</td>\n",
       "      <td>4314 obs/sec</td>\n",
       "      <td>0.615629</td>\n",
       "      <td>1</td>\n",
       "      <td>21704.0</td>\n",
       "      <td>13.054082</td>\n",
       "      <td>170.409070</td>\n",
       "      <td>9.928300</td>\n",
       "      <td>0.799620</td>\n",
       "      <td>13.260948</td>\n",
       "      <td>175.852741</td>\n",
       "      <td>9.965731</td>\n",
       "      <td>0.795310</td>\n",
       "    </tr>\n",
       "    <tr>\n",
       "      <th>2</th>\n",
       "      <td></td>\n",
       "      <td>2020-02-22 22:45:44</td>\n",
       "      <td>34.075 sec</td>\n",
       "      <td>7684 obs/sec</td>\n",
       "      <td>6.149170</td>\n",
       "      <td>10</td>\n",
       "      <td>216789.0</td>\n",
       "      <td>7.578805</td>\n",
       "      <td>57.438291</td>\n",
       "      <td>5.148561</td>\n",
       "      <td>0.932460</td>\n",
       "      <td>7.834553</td>\n",
       "      <td>61.380222</td>\n",
       "      <td>5.181570</td>\n",
       "      <td>0.928554</td>\n",
       "    </tr>\n",
       "    <tr>\n",
       "      <th>3</th>\n",
       "      <td></td>\n",
       "      <td>2020-02-22 22:45:59</td>\n",
       "      <td>49.624 sec</td>\n",
       "      <td>8366 obs/sec</td>\n",
       "      <td>9.842661</td>\n",
       "      <td>16</td>\n",
       "      <td>347003.0</td>\n",
       "      <td>6.400571</td>\n",
       "      <td>40.967306</td>\n",
       "      <td>3.254085</td>\n",
       "      <td>0.951827</td>\n",
       "      <td>6.749193</td>\n",
       "      <td>45.551601</td>\n",
       "      <td>3.315950</td>\n",
       "      <td>0.946979</td>\n",
       "    </tr>\n",
       "    <tr>\n",
       "      <th>4</th>\n",
       "      <td></td>\n",
       "      <td>2020-02-22 22:46:23</td>\n",
       "      <td>1 min 13.688 sec</td>\n",
       "      <td>9227 obs/sec</td>\n",
       "      <td>16.609077</td>\n",
       "      <td>27</td>\n",
       "      <td>585553.0</td>\n",
       "      <td>6.611977</td>\n",
       "      <td>43.718240</td>\n",
       "      <td>4.222898</td>\n",
       "      <td>0.948593</td>\n",
       "      <td>7.195674</td>\n",
       "      <td>51.777724</td>\n",
       "      <td>4.425630</td>\n",
       "      <td>0.939731</td>\n",
       "    </tr>\n",
       "    <tr>\n",
       "      <th>5</th>\n",
       "      <td></td>\n",
       "      <td>2020-02-22 22:46:45</td>\n",
       "      <td>1 min 34.581 sec</td>\n",
       "      <td>9694 obs/sec</td>\n",
       "      <td>22.766586</td>\n",
       "      <td>37</td>\n",
       "      <td>802636.0</td>\n",
       "      <td>6.116781</td>\n",
       "      <td>37.415011</td>\n",
       "      <td>3.577909</td>\n",
       "      <td>0.956004</td>\n",
       "      <td>6.916069</td>\n",
       "      <td>47.832015</td>\n",
       "      <td>3.816935</td>\n",
       "      <td>0.944324</td>\n",
       "    </tr>\n",
       "    <tr>\n",
       "      <th>6</th>\n",
       "      <td></td>\n",
       "      <td>2020-02-22 22:47:01</td>\n",
       "      <td>1 min 50.575 sec</td>\n",
       "      <td>9826 obs/sec</td>\n",
       "      <td>27.074656</td>\n",
       "      <td>44</td>\n",
       "      <td>954517.0</td>\n",
       "      <td>5.832017</td>\n",
       "      <td>34.012422</td>\n",
       "      <td>3.279111</td>\n",
       "      <td>0.960006</td>\n",
       "      <td>6.830935</td>\n",
       "      <td>46.661676</td>\n",
       "      <td>3.661102</td>\n",
       "      <td>0.945686</td>\n",
       "    </tr>\n",
       "    <tr>\n",
       "      <th>7</th>\n",
       "      <td></td>\n",
       "      <td>2020-02-22 22:47:18</td>\n",
       "      <td>2 min  7.759 sec</td>\n",
       "      <td>10191 obs/sec</td>\n",
       "      <td>32.606184</td>\n",
       "      <td>53</td>\n",
       "      <td>1149531.0</td>\n",
       "      <td>5.479099</td>\n",
       "      <td>30.020522</td>\n",
       "      <td>2.603791</td>\n",
       "      <td>0.964700</td>\n",
       "      <td>6.813275</td>\n",
       "      <td>46.420713</td>\n",
       "      <td>3.101888</td>\n",
       "      <td>0.945967</td>\n",
       "    </tr>\n",
       "    <tr>\n",
       "      <th>8</th>\n",
       "      <td></td>\n",
       "      <td>2020-02-22 22:47:34</td>\n",
       "      <td>2 min 23.087 sec</td>\n",
       "      <td>10254 obs/sec</td>\n",
       "      <td>36.915048</td>\n",
       "      <td>60</td>\n",
       "      <td>1301440.0</td>\n",
       "      <td>5.552924</td>\n",
       "      <td>30.834960</td>\n",
       "      <td>3.444757</td>\n",
       "      <td>0.963742</td>\n",
       "      <td>6.873338</td>\n",
       "      <td>47.242778</td>\n",
       "      <td>3.966825</td>\n",
       "      <td>0.945010</td>\n",
       "    </tr>\n",
       "    <tr>\n",
       "      <th>9</th>\n",
       "      <td></td>\n",
       "      <td>2020-02-22 22:47:48</td>\n",
       "      <td>2 min 37.386 sec</td>\n",
       "      <td>10262 obs/sec</td>\n",
       "      <td>40.601872</td>\n",
       "      <td>66</td>\n",
       "      <td>1431419.0</td>\n",
       "      <td>5.681861</td>\n",
       "      <td>32.283546</td>\n",
       "      <td>3.121108</td>\n",
       "      <td>0.962038</td>\n",
       "      <td>7.101208</td>\n",
       "      <td>50.427150</td>\n",
       "      <td>3.659376</td>\n",
       "      <td>0.941303</td>\n",
       "    </tr>\n",
       "    <tr>\n",
       "      <th>10</th>\n",
       "      <td></td>\n",
       "      <td>2020-02-22 22:48:06</td>\n",
       "      <td>2 min 55.877 sec</td>\n",
       "      <td>10432 obs/sec</td>\n",
       "      <td>46.133258</td>\n",
       "      <td>75</td>\n",
       "      <td>1626428.0</td>\n",
       "      <td>6.050126</td>\n",
       "      <td>36.604029</td>\n",
       "      <td>4.736094</td>\n",
       "      <td>0.956958</td>\n",
       "      <td>7.537680</td>\n",
       "      <td>56.816613</td>\n",
       "      <td>5.415572</td>\n",
       "      <td>0.933866</td>\n",
       "    </tr>\n",
       "    <tr>\n",
       "      <th>11</th>\n",
       "      <td></td>\n",
       "      <td>2020-02-22 22:48:27</td>\n",
       "      <td>3 min 18.015 sec</td>\n",
       "      <td>10492 obs/sec</td>\n",
       "      <td>52.273238</td>\n",
       "      <td>85</td>\n",
       "      <td>1842893.0</td>\n",
       "      <td>4.697938</td>\n",
       "      <td>22.070622</td>\n",
       "      <td>2.268622</td>\n",
       "      <td>0.974048</td>\n",
       "      <td>6.791269</td>\n",
       "      <td>46.121333</td>\n",
       "      <td>3.134587</td>\n",
       "      <td>0.946315</td>\n",
       "    </tr>\n",
       "    <tr>\n",
       "      <th>12</th>\n",
       "      <td></td>\n",
       "      <td>2020-02-22 22:48:52</td>\n",
       "      <td>3 min 41.089 sec</td>\n",
       "      <td>10544 obs/sec</td>\n",
       "      <td>59.035399</td>\n",
       "      <td>96</td>\n",
       "      <td>2081293.0</td>\n",
       "      <td>4.511911</td>\n",
       "      <td>20.357341</td>\n",
       "      <td>2.191039</td>\n",
       "      <td>0.976062</td>\n",
       "      <td>6.857712</td>\n",
       "      <td>47.028213</td>\n",
       "      <td>3.161403</td>\n",
       "      <td>0.945260</td>\n",
       "    </tr>\n",
       "    <tr>\n",
       "      <th>13</th>\n",
       "      <td></td>\n",
       "      <td>2020-02-22 22:48:53</td>\n",
       "      <td>3 min 42.704 sec</td>\n",
       "      <td>10542 obs/sec</td>\n",
       "      <td>59.035399</td>\n",
       "      <td>96</td>\n",
       "      <td>2081293.0</td>\n",
       "      <td>6.400571</td>\n",
       "      <td>40.967306</td>\n",
       "      <td>3.254085</td>\n",
       "      <td>0.951827</td>\n",
       "      <td>6.749193</td>\n",
       "      <td>45.551601</td>\n",
       "      <td>3.315950</td>\n",
       "      <td>0.946979</td>\n",
       "    </tr>\n",
       "  </tbody>\n",
       "</table>\n",
       "</div>"
      ],
      "text/plain": [
       "                timestamp           duration training_speed     epochs  \\\n",
       "0     2020-02-22 22:45:13          0.000 sec           None   0.000000   \n",
       "1     2020-02-22 22:45:19          9.439 sec   4314 obs/sec   0.615629   \n",
       "2     2020-02-22 22:45:44         34.075 sec   7684 obs/sec   6.149170   \n",
       "3     2020-02-22 22:45:59         49.624 sec   8366 obs/sec   9.842661   \n",
       "4     2020-02-22 22:46:23   1 min 13.688 sec   9227 obs/sec  16.609077   \n",
       "5     2020-02-22 22:46:45   1 min 34.581 sec   9694 obs/sec  22.766586   \n",
       "6     2020-02-22 22:47:01   1 min 50.575 sec   9826 obs/sec  27.074656   \n",
       "7     2020-02-22 22:47:18   2 min  7.759 sec  10191 obs/sec  32.606184   \n",
       "8     2020-02-22 22:47:34   2 min 23.087 sec  10254 obs/sec  36.915048   \n",
       "9     2020-02-22 22:47:48   2 min 37.386 sec  10262 obs/sec  40.601872   \n",
       "10    2020-02-22 22:48:06   2 min 55.877 sec  10432 obs/sec  46.133258   \n",
       "11    2020-02-22 22:48:27   3 min 18.015 sec  10492 obs/sec  52.273238   \n",
       "12    2020-02-22 22:48:52   3 min 41.089 sec  10544 obs/sec  59.035399   \n",
       "13    2020-02-22 22:48:53   3 min 42.704 sec  10542 obs/sec  59.035399   \n",
       "\n",
       "    iterations    samples  training_rmse  training_deviance  training_mae  \\\n",
       "0            0        0.0            NaN                NaN           NaN   \n",
       "1            1    21704.0      13.054082         170.409070      9.928300   \n",
       "2           10   216789.0       7.578805          57.438291      5.148561   \n",
       "3           16   347003.0       6.400571          40.967306      3.254085   \n",
       "4           27   585553.0       6.611977          43.718240      4.222898   \n",
       "5           37   802636.0       6.116781          37.415011      3.577909   \n",
       "6           44   954517.0       5.832017          34.012422      3.279111   \n",
       "7           53  1149531.0       5.479099          30.020522      2.603791   \n",
       "8           60  1301440.0       5.552924          30.834960      3.444757   \n",
       "9           66  1431419.0       5.681861          32.283546      3.121108   \n",
       "10          75  1626428.0       6.050126          36.604029      4.736094   \n",
       "11          85  1842893.0       4.697938          22.070622      2.268622   \n",
       "12          96  2081293.0       4.511911          20.357341      2.191039   \n",
       "13          96  2081293.0       6.400571          40.967306      3.254085   \n",
       "\n",
       "    training_r2  validation_rmse  validation_deviance  validation_mae  \\\n",
       "0           NaN              NaN                  NaN             NaN   \n",
       "1      0.799620        13.260948           175.852741        9.965731   \n",
       "2      0.932460         7.834553            61.380222        5.181570   \n",
       "3      0.951827         6.749193            45.551601        3.315950   \n",
       "4      0.948593         7.195674            51.777724        4.425630   \n",
       "5      0.956004         6.916069            47.832015        3.816935   \n",
       "6      0.960006         6.830935            46.661676        3.661102   \n",
       "7      0.964700         6.813275            46.420713        3.101888   \n",
       "8      0.963742         6.873338            47.242778        3.966825   \n",
       "9      0.962038         7.101208            50.427150        3.659376   \n",
       "10     0.956958         7.537680            56.816613        5.415572   \n",
       "11     0.974048         6.791269            46.121333        3.134587   \n",
       "12     0.976062         6.857712            47.028213        3.161403   \n",
       "13     0.951827         6.749193            45.551601        3.315950   \n",
       "\n",
       "    validation_r2  \n",
       "0             NaN  \n",
       "1        0.795310  \n",
       "2        0.928554  \n",
       "3        0.946979  \n",
       "4        0.939731  \n",
       "5        0.944324  \n",
       "6        0.945686  \n",
       "7        0.945967  \n",
       "8        0.945010  \n",
       "9        0.941303  \n",
       "10       0.933866  \n",
       "11       0.946315  \n",
       "12       0.945260  \n",
       "13       0.946979  "
      ]
     },
     "execution_count": 15,
     "metadata": {},
     "output_type": "execute_result"
    }
   ],
   "source": [
    "m_DLR_200_epochs.scoring_history()"
   ]
  },
  {
   "cell_type": "code",
   "execution_count": 20,
   "metadata": {},
   "outputs": [
    {
     "data": {
      "image/png": "[encoded data removed]",
      "text/plain": [
       "<Figure size 432x288 with 1 Axes>"
      ]
     },
     "metadata": {
      "needs_background": "light"
     },
     "output_type": "display_data"
    }
   ],
   "source": [
    "train['ArrDelay'].hist()"
   ]
  },
  {
   "cell_type": "code",
   "execution_count": 21,
   "metadata": {},
   "outputs": [
    {
     "name": "stdout",
     "output_type": "stream",
     "text": [
      "deeplearning Model Build progress: |██████████████████████████████████████| 100%\n",
      "CPU times: user 809 ms, sys: 91.5 ms, total: 900 ms\n",
      "Wall time: 5min\n"
     ]
    }
   ],
   "source": [
    "m_DLR_laplace = H2ODeepLearningEstimator(\n",
    "                    variable_importances=True,\n",
    "                    epochs=200,\n",
    "                    distribution='laplace'\n",
    ")\n",
    "%time m_DLR_laplace.train(x_with_dep, y, train, validation_frame=valid)"
   ]
  },
  {
   "cell_type": "code",
   "execution_count": 22,
   "metadata": {},
   "outputs": [
    {
     "name": "stdout",
     "output_type": "stream",
     "text": [
      "\n",
      "ModelMetricsRegression: deeplearning\n",
      "** Reported on test data. **\n",
      "\n",
      "MSE: 44.213086295017604\n",
      "RMSE: 6.649292164961441\n",
      "MAE: 2.8724200447439117\n",
      "RMSLE: NaN\n",
      "Mean Residual Deviance: 2.8724200447439117\n"
     ]
    },
    {
     "data": {
      "text/plain": []
     },
     "execution_count": 22,
     "metadata": {},
     "output_type": "execute_result"
    }
   ],
   "source": [
    "m_DLR_laplace.model_performance(valid)"
   ]
  },
  {
   "cell_type": "code",
   "execution_count": 23,
   "metadata": {},
   "outputs": [
    {
     "data": {
      "image/png": "[encoded data removed]",
      "text/plain": [
       "<Figure size 432x288 with 1 Axes>"
      ]
     },
     "metadata": {
      "needs_background": "light"
     },
     "output_type": "display_data"
    }
   ],
   "source": [
    "m_DLR_laplace.plot()"
   ]
  },
  {
   "cell_type": "code",
   "execution_count": null,
   "metadata": {},
   "outputs": [],
   "source": []
  }
 ],
 "metadata": {
  "kernelspec": {
   "display_name": "h2oclass",
   "language": "python",
   "name": "h2oclass"
  },
  "language_info": {
   "codemirror_mode": {
    "name": "ipython",
    "version": 3
   },
   "file_extension": ".py",
   "mimetype": "text/x-python",
   "name": "python",
   "nbconvert_exporter": "python",
   "pygments_lexer": "ipython3",
   "version": "3.7.3"
  }
 },
 "nbformat": 4,
 "nbformat_minor": 4
}
