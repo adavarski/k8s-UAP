{
 "cells": [
  {
   "cell_type": "code",
   "execution_count": 1,
   "metadata": {},
   "outputs": [],
   "source": [
    "import h2o"
   ]
  },
  {
   "cell_type": "code",
   "execution_count": 2,
   "metadata": {},
   "outputs": [
    {
     "data": {
      "text/plain": [
       "'/home/jovyan/work'"
      ]
     },
     "execution_count": 2,
     "metadata": {},
     "output_type": "execute_result"
    }
   ],
   "source": [
    "import os\n",
    "os.getcwd()"
   ]
  },
  {
   "cell_type": "code",
   "execution_count": 3,
   "metadata": {
    "scrolled": true
   },
   "outputs": [
    {
     "name": "stdout",
     "output_type": "stream",
     "text": [
      "Checking whether there is an H2O instance running at http://h2o-service:54321 . connected.\n"
     ]
    },
    {
     "data": {
      "text/html": [
       "<div style=\"overflow:auto\"><table style=\"width:50%\"><tr><td>H2O_cluster_uptime:</td>\n",
       "<td>29 secs</td></tr>\n",
       "<tr><td>H2O_cluster_timezone:</td>\n",
       "<td>Etc/UTC</td></tr>\n",
       "<tr><td>H2O_data_parsing_timezone:</td>\n",
       "<td>UTC</td></tr>\n",
       "<tr><td>H2O_cluster_version:</td>\n",
       "<td>3.32.0.4</td></tr>\n",
       "<tr><td>H2O_cluster_version_age:</td>\n",
       "<td>1 month and 14 days </td></tr>\n",
       "<tr><td>H2O_cluster_name:</td>\n",
       "<td>root</td></tr>\n",
       "<tr><td>H2O_cluster_total_nodes:</td>\n",
       "<td>1</td></tr>\n",
       "<tr><td>H2O_cluster_free_memory:</td>\n",
       "<td>7.102 Gb</td></tr>\n",
       "<tr><td>H2O_cluster_total_cores:</td>\n",
       "<td>4</td></tr>\n",
       "<tr><td>H2O_cluster_allowed_cores:</td>\n",
       "<td>4</td></tr>\n",
       "<tr><td>H2O_cluster_status:</td>\n",
       "<td>accepting new members, healthy</td></tr>\n",
       "<tr><td>H2O_connection_url:</td>\n",
       "<td>http://h2o-service:54321</td></tr>\n",
       "<tr><td>H2O_connection_proxy:</td>\n",
       "<td>null</td></tr>\n",
       "<tr><td>H2O_internal_security:</td>\n",
       "<td>False</td></tr>\n",
       "<tr><td>H2O_API_Extensions:</td>\n",
       "<td>Amazon S3, XGBoost, Algos, AutoML, Core V3, TargetEncoder, Core V4</td></tr>\n",
       "<tr><td>Python_version:</td>\n",
       "<td>3.8.8 final</td></tr></table></div>"
      ],
      "text/plain": [
       "--------------------------  ------------------------------------------------------------------\n",
       "H2O_cluster_uptime:         29 secs\n",
       "H2O_cluster_timezone:       Etc/UTC\n",
       "H2O_data_parsing_timezone:  UTC\n",
       "H2O_cluster_version:        3.32.0.4\n",
       "H2O_cluster_version_age:    1 month and 14 days\n",
       "H2O_cluster_name:           root\n",
       "H2O_cluster_total_nodes:    1\n",
       "H2O_cluster_free_memory:    7.102 Gb\n",
       "H2O_cluster_total_cores:    4\n",
       "H2O_cluster_allowed_cores:  4\n",
       "H2O_cluster_status:         accepting new members, healthy\n",
       "H2O_connection_url:         http://h2o-service:54321\n",
       "H2O_connection_proxy:       null\n",
       "H2O_internal_security:      False\n",
       "H2O_API_Extensions:         Amazon S3, XGBoost, Algos, AutoML, Core V3, TargetEncoder, Core V4\n",
       "Python_version:             3.8.8 final\n",
       "--------------------------  ------------------------------------------------------------------"
      ]
     },
     "metadata": {},
     "output_type": "display_data"
    }
   ],
   "source": [
    "h2o.init(ip='h2o-service')"
   ]
  },
  {
   "cell_type": "code",
   "execution_count": 4,
   "metadata": {},
   "outputs": [
    {
     "name": "stdout",
     "output_type": "stream",
     "text": [
      "Parse progress: |█████████████████████████████████████████████████████████| 100%\n",
      "Parse progress: |█████████████████████████████████████████████████████████| 100%\n"
     ]
    }
   ],
   "source": [
    "from h2o.automl import H2OAutoML\n",
    "# Import a sample binary outcome train/test set into H2O\n",
    "train = h2o.import_file(\"https://s3.amazonaws.com/erin-data/higgs/higgs_train_10k.csv\")\n",
    "test = h2o.import_file(\"https://s3.amazonaws.com/erin-data/higgs/higgs_test_5k.csv\")\n",
    "# Identify the response and set of predictors\n",
    "y = \"response\"\n",
    "x = list(train.columns)  #if x is defined as all columns except the response, then x is not required\n",
    "x.remove(y)\n",
    "# For binary classification, response should be a factor\n",
    "train[y] = train[y].asfactor()\n",
    "test[y] = test[y].asfactor()"
   ]
  },
  {
   "cell_type": "code",
   "execution_count": 5,
   "metadata": {},
   "outputs": [
    {
     "name": "stdout",
     "output_type": "stream",
     "text": [
      "AutoML progress: |████████████████████████████████████████████████████████| 100%\n"
     ]
    }
   ],
   "source": [
    "# Run AutoML for 30 seconds\n",
    "aml = H2OAutoML(max_runtime_secs = 20*60)\n",
    "aml.train(x = x, y = y, training_frame = train)"
   ]
  },
  {
   "cell_type": "code",
   "execution_count": 6,
   "metadata": {},
   "outputs": [
    {
     "data": {
      "text/html": [
       "<table>\n",
       "<thead>\n",
       "<tr><th>model_id                                           </th><th style=\"text-align: right;\">     auc</th><th style=\"text-align: right;\">  logloss</th><th style=\"text-align: right;\">   aucpr</th><th style=\"text-align: right;\">  mean_per_class_error</th><th style=\"text-align: right;\">    rmse</th><th style=\"text-align: right;\">     mse</th></tr>\n",
       "</thead>\n",
       "<tbody>\n",
       "<tr><td>StackedEnsemble_AllModels_AutoML_20210316_084408   </td><td style=\"text-align: right;\">0.788545</td><td style=\"text-align: right;\"> 0.553722</td><td style=\"text-align: right;\">0.805423</td><td style=\"text-align: right;\">              0.334178</td><td style=\"text-align: right;\">0.43319 </td><td style=\"text-align: right;\">0.187653</td></tr>\n",
       "<tr><td>StackedEnsemble_BestOfFamily_AutoML_20210316_084408</td><td style=\"text-align: right;\">0.787227</td><td style=\"text-align: right;\"> 0.554809</td><td style=\"text-align: right;\">0.802605</td><td style=\"text-align: right;\">              0.329653</td><td style=\"text-align: right;\">0.433609</td><td style=\"text-align: right;\">0.188017</td></tr>\n",
       "<tr><td>GBM_grid__1_AutoML_20210316_084408_model_12        </td><td style=\"text-align: right;\">0.782404</td><td style=\"text-align: right;\"> 0.55895 </td><td style=\"text-align: right;\">0.798865</td><td style=\"text-align: right;\">              0.321832</td><td style=\"text-align: right;\">0.435547</td><td style=\"text-align: right;\">0.189701</td></tr>\n",
       "<tr><td>GBM_grid__1_AutoML_20210316_084408_model_4         </td><td style=\"text-align: right;\">0.781921</td><td style=\"text-align: right;\"> 0.559547</td><td style=\"text-align: right;\">0.799567</td><td style=\"text-align: right;\">              0.339646</td><td style=\"text-align: right;\">0.435868</td><td style=\"text-align: right;\">0.189981</td></tr>\n",
       "<tr><td>GBM_5_AutoML_20210316_084408                       </td><td style=\"text-align: right;\">0.781486</td><td style=\"text-align: right;\"> 0.558647</td><td style=\"text-align: right;\">0.800219</td><td style=\"text-align: right;\">              0.314708</td><td style=\"text-align: right;\">0.435708</td><td style=\"text-align: right;\">0.189841</td></tr>\n",
       "<tr><td>GBM_grid__1_AutoML_20210316_084408_model_10        </td><td style=\"text-align: right;\">0.781362</td><td style=\"text-align: right;\"> 0.558282</td><td style=\"text-align: right;\">0.801433</td><td style=\"text-align: right;\">              0.31042 </td><td style=\"text-align: right;\">0.435749</td><td style=\"text-align: right;\">0.189877</td></tr>\n",
       "<tr><td>GBM_grid__1_AutoML_20210316_084408_model_8         </td><td style=\"text-align: right;\">0.780498</td><td style=\"text-align: right;\"> 0.559834</td><td style=\"text-align: right;\">0.798931</td><td style=\"text-align: right;\">              0.329721</td><td style=\"text-align: right;\">0.436222</td><td style=\"text-align: right;\">0.190289</td></tr>\n",
       "<tr><td>GBM_2_AutoML_20210316_084408                       </td><td style=\"text-align: right;\">0.778929</td><td style=\"text-align: right;\"> 0.56092 </td><td style=\"text-align: right;\">0.798517</td><td style=\"text-align: right;\">              0.331067</td><td style=\"text-align: right;\">0.436975</td><td style=\"text-align: right;\">0.190947</td></tr>\n",
       "<tr><td>XGBoost_grid__1_AutoML_20210316_084408_model_9     </td><td style=\"text-align: right;\">0.778379</td><td style=\"text-align: right;\"> 0.561948</td><td style=\"text-align: right;\">0.796449</td><td style=\"text-align: right;\">              0.318358</td><td style=\"text-align: right;\">0.437365</td><td style=\"text-align: right;\">0.191288</td></tr>\n",
       "<tr><td>GBM_1_AutoML_20210316_084408                       </td><td style=\"text-align: right;\">0.778076</td><td style=\"text-align: right;\"> 0.562233</td><td style=\"text-align: right;\">0.796263</td><td style=\"text-align: right;\">              0.321418</td><td style=\"text-align: right;\">0.43738 </td><td style=\"text-align: right;\">0.191302</td></tr>\n",
       "</tbody>\n",
       "</table>"
      ]
     },
     "metadata": {},
     "output_type": "display_data"
    },
    {
     "data": {
      "text/plain": []
     },
     "execution_count": 6,
     "metadata": {},
     "output_type": "execute_result"
    }
   ],
   "source": [
    "# Print Leaderboard (ranked by xval metrics)\n",
    "aml.leaderboard"
   ]
  },
  {
   "cell_type": "code",
   "execution_count": 7,
   "metadata": {},
   "outputs": [
    {
     "data": {
      "text/plain": [
       "0.7929771428341599"
      ]
     },
     "execution_count": 7,
     "metadata": {},
     "output_type": "execute_result"
    }
   ],
   "source": [
    "# (Optional) Evaluate performance on a test set\n",
    "perf = aml.leader.model_performance(test)\n",
    "perf.auc()"
   ]
  },
  {
   "cell_type": "code",
   "execution_count": null,
   "metadata": {},
   "outputs": [],
   "source": []
  }
 ],
 "metadata": {
  "kernelspec": {
   "display_name": "Python 3",
   "language": "python",
   "name": "python3"
  },
  "language_info": {
   "codemirror_mode": {
    "name": "ipython",
    "version": 3
   },
   "file_extension": ".py",
   "mimetype": "text/x-python",
   "name": "python",
   "nbconvert_exporter": "python",
   "pygments_lexer": "ipython3",
   "version": "3.8.8"
  }
 },
 "nbformat": 4,
 "nbformat_minor": 2
}
