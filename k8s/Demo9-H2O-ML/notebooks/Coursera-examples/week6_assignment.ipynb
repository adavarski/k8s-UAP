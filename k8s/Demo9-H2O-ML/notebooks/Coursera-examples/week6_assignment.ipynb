{
 "cells": [
  {
   "cell_type": "markdown",
   "metadata": {},
   "source": [
    "# Week 6 - Assignment (Final Project)"
   ]
  },
  {
   "cell_type": "code",
   "execution_count": 1,
   "metadata": {},
   "outputs": [],
   "source": [
    "import h2o\n",
    "import pandas as pd"
   ]
  },
  {
   "cell_type": "code",
   "execution_count": 2,
   "metadata": {},
   "outputs": [
    {
     "name": "stdout",
     "output_type": "stream",
     "text": [
      "Checking whether there is an H2O instance running at http://localhost:54321 ..... not found.\n",
      "Attempting to start a local H2O server...\n",
      "  Java Version: openjdk version \"1.8.0_232\"; OpenJDK Runtime Environment (build 1.8.0_232-8u232-b09-0ubuntu1~19.04.1-b09); OpenJDK 64-Bit Server VM (build 25.232-b09, mixed mode)\n",
      "  Starting server from /home/megan/Projects/h2oclass/lib/python3.7/site-packages/h2o/backend/bin/h2o.jar\n",
      "  Ice root: /tmp/tmpn149945c\n",
      "  JVM stdout: /tmp/tmpn149945c/h2o_megan_started_from_python.out\n",
      "  JVM stderr: /tmp/tmpn149945c/h2o_megan_started_from_python.err\n",
      "  Server is running at http://127.0.0.1:54321\n",
      "Connecting to H2O server at http://127.0.0.1:54321 ... successful.\n"
     ]
    },
    {
     "data": {
      "text/html": [
       "<div style=\"overflow:auto\"><table style=\"width:50%\"><tr><td>H2O cluster uptime:</td>\n",
       "<td>01 secs</td></tr>\n",
       "<tr><td>H2O cluster timezone:</td>\n",
       "<td>America/Chicago</td></tr>\n",
       "<tr><td>H2O data parsing timezone:</td>\n",
       "<td>UTC</td></tr>\n",
       "<tr><td>H2O cluster version:</td>\n",
       "<td>3.28.0.3</td></tr>\n",
       "<tr><td>H2O cluster version age:</td>\n",
       "<td>19 days </td></tr>\n",
       "<tr><td>H2O cluster name:</td>\n",
       "<td>H2O_from_python_megan_focuyw</td></tr>\n",
       "<tr><td>H2O cluster total nodes:</td>\n",
       "<td>1</td></tr>\n",
       "<tr><td>H2O cluster free memory:</td>\n",
       "<td>1.520 Gb</td></tr>\n",
       "<tr><td>H2O cluster total cores:</td>\n",
       "<td>3</td></tr>\n",
       "<tr><td>H2O cluster allowed cores:</td>\n",
       "<td>3</td></tr>\n",
       "<tr><td>H2O cluster status:</td>\n",
       "<td>accepting new members, healthy</td></tr>\n",
       "<tr><td>H2O connection url:</td>\n",
       "<td>http://127.0.0.1:54321</td></tr>\n",
       "<tr><td>H2O connection proxy:</td>\n",
       "<td>{'http': None, 'https': None}</td></tr>\n",
       "<tr><td>H2O internal security:</td>\n",
       "<td>False</td></tr>\n",
       "<tr><td>H2O API Extensions:</td>\n",
       "<td>Amazon S3, XGBoost, Algos, AutoML, Core V3, TargetEncoder, Core V4</td></tr>\n",
       "<tr><td>Python version:</td>\n",
       "<td>3.7.3 final</td></tr></table></div>"
      ],
      "text/plain": [
       "--------------------------  ------------------------------------------------------------------\n",
       "H2O cluster uptime:         01 secs\n",
       "H2O cluster timezone:       America/Chicago\n",
       "H2O data parsing timezone:  UTC\n",
       "H2O cluster version:        3.28.0.3\n",
       "H2O cluster version age:    19 days\n",
       "H2O cluster name:           H2O_from_python_megan_focuyw\n",
       "H2O cluster total nodes:    1\n",
       "H2O cluster free memory:    1.520 Gb\n",
       "H2O cluster total cores:    3\n",
       "H2O cluster allowed cores:  3\n",
       "H2O cluster status:         accepting new members, healthy\n",
       "H2O connection url:         http://127.0.0.1:54321\n",
       "H2O connection proxy:       {'http': None, 'https': None}\n",
       "H2O internal security:      False\n",
       "H2O API Extensions:         Amazon S3, XGBoost, Algos, AutoML, Core V3, TargetEncoder, Core V4\n",
       "Python version:             3.7.3 final\n",
       "--------------------------  ------------------------------------------------------------------"
      ]
     },
     "metadata": {},
     "output_type": "display_data"
    }
   ],
   "source": [
    "h2o.init()"
   ]
  },
  {
   "cell_type": "code",
   "execution_count": 3,
   "metadata": {},
   "outputs": [
    {
     "name": "stdout",
     "output_type": "stream",
     "text": [
      "Parse progress: |█████████████████████████████████████████████████████████| 100%\n"
     ]
    }
   ],
   "source": [
    "# import given data\n",
    "data = h2o.import_file('http://coursera.h2o.ai/house_data.3487.csv')"
   ]
  },
  {
   "cell_type": "code",
   "execution_count": 4,
   "metadata": {},
   "outputs": [
    {
     "name": "stdout",
     "output_type": "stream",
     "text": [
      "Rows:21613\n",
      "Cols:21\n",
      "\n",
      "\n"
     ]
    },
    {
     "data": {
      "text/html": [
       "<table>\n",
       "<thead>\n",
       "<tr><th>       </th><th>id                </th><th>date           </th><th>price             </th><th>bedrooms         </th><th>bathrooms         </th><th>sqft_living      </th><th>sqft_lot         </th><th>floors            </th><th>waterfront          </th><th>view               </th><th>condition         </th><th>grade             </th><th>sqft_above        </th><th>sqft_basement     </th><th>yr_built          </th><th>yr_renovated      </th><th>zipcode          </th><th>lat                </th><th>long               </th><th>sqft_living15     </th><th>sqft_lot15        </th></tr>\n",
       "</thead>\n",
       "<tbody>\n",
       "<tr><td>type   </td><td>int               </td><td>enum           </td><td>int               </td><td>int              </td><td>real              </td><td>int              </td><td>int              </td><td>real              </td><td>int                 </td><td>int                </td><td>int               </td><td>int               </td><td>int               </td><td>int               </td><td>int               </td><td>int               </td><td>int              </td><td>real               </td><td>real               </td><td>int               </td><td>int               </td></tr>\n",
       "<tr><td>mins   </td><td>1000102.0         </td><td>               </td><td>75000.0           </td><td>0.0              </td><td>0.0               </td><td>290.0            </td><td>520.0            </td><td>1.0               </td><td>0.0                 </td><td>0.0                </td><td>1.0               </td><td>1.0               </td><td>290.0             </td><td>0.0               </td><td>1900.0            </td><td>0.0               </td><td>98001.0          </td><td>47.1559            </td><td>-122.519           </td><td>399.0             </td><td>651.0             </td></tr>\n",
       "<tr><td>mean   </td><td>4580301520.864987 </td><td>               </td><td>540088.1417665284 </td><td>3.370841623097218</td><td>2.114757321982139 </td><td>2079.899736269819</td><td>15106.96756581695</td><td>1.4943089807060526</td><td>0.007541757275713691</td><td>0.23430342849211097</td><td>3.4094295100171164</td><td>7.6568731781798105</td><td>1788.3906907879518</td><td>291.50904548188555</td><td>1971.0051357979064</td><td>84.4022579003377  </td><td>98077.93980474674</td><td>47.56005251931665  </td><td>-122.21389640494158</td><td>1986.5524915560036</td><td>12768.45565169118 </td></tr>\n",
       "<tr><td>maxs   </td><td>9900000190.0      </td><td>               </td><td>7700000.0         </td><td>33.0             </td><td>8.0               </td><td>13540.0          </td><td>1651359.0        </td><td>3.5               </td><td>1.0                 </td><td>4.0                </td><td>5.0               </td><td>13.0              </td><td>9410.0            </td><td>4820.0            </td><td>2015.0            </td><td>2015.0            </td><td>98199.0          </td><td>47.7776            </td><td>-121.315           </td><td>6210.0            </td><td>871200.0          </td></tr>\n",
       "<tr><td>sigma  </td><td>2876565571.3120522</td><td>               </td><td>367127.19648270035</td><td>0.930061831147451</td><td>0.7701631572177408</td><td>918.4408970468095</td><td>41420.51151513551</td><td>0.5399888951423489</td><td>0.08651719772788766 </td><td>0.7663175692736117 </td><td>0.6507430463662044</td><td>1.1754587569743344</td><td>828.0909776519175 </td><td>442.57504267746685</td><td>29.373410802386235</td><td>401.67924001917555</td><td>53.50502625747248</td><td>0.13856371024192365</td><td>0.14082834238139275</td><td>685.3913042527788 </td><td>27304.179631338524</td></tr>\n",
       "<tr><td>zeros  </td><td>0                 </td><td>               </td><td>0                 </td><td>13               </td><td>10                </td><td>0                </td><td>0                </td><td>0                 </td><td>21450               </td><td>19489              </td><td>0                 </td><td>0                 </td><td>0                 </td><td>13126             </td><td>0                 </td><td>20699             </td><td>0                </td><td>0                  </td><td>0                  </td><td>0                 </td><td>0                 </td></tr>\n",
       "<tr><td>missing</td><td>0                 </td><td>0              </td><td>0                 </td><td>0                </td><td>0                 </td><td>0                </td><td>0                </td><td>0                 </td><td>0                   </td><td>0                  </td><td>0                 </td><td>0                 </td><td>0                 </td><td>0                 </td><td>0                 </td><td>0                 </td><td>0                </td><td>0                  </td><td>0                  </td><td>0                 </td><td>0                 </td></tr>\n",
       "<tr><td>0      </td><td>7129300520.0      </td><td>20141013T000000</td><td>221900.0          </td><td>3.0              </td><td>1.0               </td><td>1180.0           </td><td>5650.0           </td><td>1.0               </td><td>0.0                 </td><td>0.0                </td><td>3.0               </td><td>7.0               </td><td>1180.0            </td><td>0.0               </td><td>1955.0            </td><td>0.0               </td><td>98178.0          </td><td>47.5112            </td><td>-122.257           </td><td>1340.0            </td><td>5650.0            </td></tr>\n",
       "<tr><td>1      </td><td>6414100192.0      </td><td>20141209T000000</td><td>538000.0          </td><td>3.0              </td><td>2.25              </td><td>2570.0           </td><td>7242.0           </td><td>2.0               </td><td>0.0                 </td><td>0.0                </td><td>3.0               </td><td>7.0               </td><td>2170.0            </td><td>400.0             </td><td>1951.0            </td><td>1991.0            </td><td>98125.0          </td><td>47.721             </td><td>-122.319           </td><td>1690.0            </td><td>7639.0            </td></tr>\n",
       "<tr><td>2      </td><td>5631500400.0      </td><td>20150225T000000</td><td>180000.0          </td><td>2.0              </td><td>1.0               </td><td>770.0            </td><td>10000.0          </td><td>1.0               </td><td>0.0                 </td><td>0.0                </td><td>3.0               </td><td>6.0               </td><td>770.0             </td><td>0.0               </td><td>1933.0            </td><td>0.0               </td><td>98028.0          </td><td>47.7379            </td><td>-122.233           </td><td>2720.0            </td><td>8062.0            </td></tr>\n",
       "<tr><td>3      </td><td>2487200875.0      </td><td>20141209T000000</td><td>604000.0          </td><td>4.0              </td><td>3.0               </td><td>1960.0           </td><td>5000.0           </td><td>1.0               </td><td>0.0                 </td><td>0.0                </td><td>5.0               </td><td>7.0               </td><td>1050.0            </td><td>910.0             </td><td>1965.0            </td><td>0.0               </td><td>98136.0          </td><td>47.5208            </td><td>-122.393           </td><td>1360.0            </td><td>5000.0            </td></tr>\n",
       "<tr><td>4      </td><td>1954400510.0      </td><td>20150218T000000</td><td>510000.0          </td><td>3.0              </td><td>2.0               </td><td>1680.0           </td><td>8080.0           </td><td>1.0               </td><td>0.0                 </td><td>0.0                </td><td>3.0               </td><td>8.0               </td><td>1680.0            </td><td>0.0               </td><td>1987.0            </td><td>0.0               </td><td>98074.0          </td><td>47.6168            </td><td>-122.045           </td><td>1800.0            </td><td>7503.0            </td></tr>\n",
       "<tr><td>5      </td><td>7237550310.0      </td><td>20140512T000000</td><td>1225000.0         </td><td>4.0              </td><td>4.5               </td><td>5420.0           </td><td>101930.0         </td><td>1.0               </td><td>0.0                 </td><td>0.0                </td><td>3.0               </td><td>11.0              </td><td>3890.0            </td><td>1530.0            </td><td>2001.0            </td><td>0.0               </td><td>98053.0          </td><td>47.6561            </td><td>-122.005           </td><td>4760.0            </td><td>101930.0          </td></tr>\n",
       "<tr><td>6      </td><td>1321400060.0      </td><td>20140627T000000</td><td>257500.0          </td><td>3.0              </td><td>2.25              </td><td>1715.0           </td><td>6819.0           </td><td>2.0               </td><td>0.0                 </td><td>0.0                </td><td>3.0               </td><td>7.0               </td><td>1715.0            </td><td>0.0               </td><td>1995.0            </td><td>0.0               </td><td>98003.0          </td><td>47.3097            </td><td>-122.327           </td><td>2238.0            </td><td>6819.0            </td></tr>\n",
       "<tr><td>7      </td><td>2008000270.0      </td><td>20150115T000000</td><td>291850.0          </td><td>3.0              </td><td>1.5               </td><td>1060.0           </td><td>9711.0           </td><td>1.0               </td><td>0.0                 </td><td>0.0                </td><td>3.0               </td><td>7.0               </td><td>1060.0            </td><td>0.0               </td><td>1963.0            </td><td>0.0               </td><td>98198.0          </td><td>47.4095            </td><td>-122.315           </td><td>1650.0            </td><td>9711.0            </td></tr>\n",
       "<tr><td>8      </td><td>2414600126.0      </td><td>20150415T000000</td><td>229500.0          </td><td>3.0              </td><td>1.0               </td><td>1780.0           </td><td>7470.0           </td><td>1.0               </td><td>0.0                 </td><td>0.0                </td><td>3.0               </td><td>7.0               </td><td>1050.0            </td><td>730.0             </td><td>1960.0            </td><td>0.0               </td><td>98146.0          </td><td>47.5123            </td><td>-122.337           </td><td>1780.0            </td><td>8113.0            </td></tr>\n",
       "<tr><td>9      </td><td>3793500160.0      </td><td>20150312T000000</td><td>323000.0          </td><td>3.0              </td><td>2.5               </td><td>1890.0           </td><td>6560.0           </td><td>2.0               </td><td>0.0                 </td><td>0.0                </td><td>3.0               </td><td>7.0               </td><td>1890.0            </td><td>0.0               </td><td>2003.0            </td><td>0.0               </td><td>98038.0          </td><td>47.3684            </td><td>-122.031           </td><td>2390.0            </td><td>7570.0            </td></tr>\n",
       "</tbody>\n",
       "</table>"
      ]
     },
     "metadata": {},
     "output_type": "display_data"
    }
   ],
   "source": [
    "data.describe()"
   ]
  },
  {
   "cell_type": "code",
   "execution_count": 5,
   "metadata": {},
   "outputs": [],
   "source": [
    "# convert columns imported as numeric to enum\n",
    "convert_to_enum_cols = ['waterfront', 'view', 'condition', 'grade']\n",
    "data[convert_to_enum_cols] = data[convert_to_enum_cols].asfactor()"
   ]
  },
  {
   "cell_type": "code",
   "execution_count": 6,
   "metadata": {},
   "outputs": [],
   "source": [
    "data['date_year'] = data['date'].substring(0,4).asnumeric()"
   ]
  },
  {
   "cell_type": "code",
   "execution_count": 7,
   "metadata": {},
   "outputs": [],
   "source": [
    "data['date_month'] = data['date'].substring(4,6).asnumeric()"
   ]
  },
  {
   "cell_type": "code",
   "execution_count": 8,
   "metadata": {},
   "outputs": [],
   "source": [
    "data['date_day'] = data['date'].substring(6,8).asnumeric()"
   ]
  },
  {
   "cell_type": "code",
   "execution_count": 9,
   "metadata": {},
   "outputs": [],
   "source": [
    "# split the data\n",
    "train, test = data.split_frame([0.9], seed=123)"
   ]
  },
  {
   "cell_type": "code",
   "execution_count": 10,
   "metadata": {},
   "outputs": [
    {
     "name": "stdout",
     "output_type": "stream",
     "text": [
      "19462/2151\n"
     ]
    }
   ],
   "source": [
    "# view the split - get the 19462/2151 as per the instructions\n",
    "print(\"%d/%d\" %(train.nrows, test.nrows))"
   ]
  },
  {
   "cell_type": "code",
   "execution_count": 11,
   "metadata": {},
   "outputs": [],
   "source": [
    "# now split the train set into train_part and valid\n",
    "train_part, valid = train.split_frame([0.89], seed=123)"
   ]
  },
  {
   "cell_type": "code",
   "execution_count": 12,
   "metadata": {},
   "outputs": [
    {
     "name": "stdout",
     "output_type": "stream",
     "text": [
      "17334/2128/2151\n"
     ]
    }
   ],
   "source": [
    "# view the split counts again\n",
    "print(\"%d/%d/%d\" %(train_part.nrows, valid.nrow, test.nrows))"
   ]
  },
  {
   "cell_type": "code",
   "execution_count": 13,
   "metadata": {},
   "outputs": [],
   "source": [
    "# setup x and y\n",
    "y = 'price'\n",
    "# ignore id (id column not useful) and date (transformed into three other columns)\n",
    "ignore_fields = ['price', 'id', 'date']\n",
    "x = [i for i in train.names if i not in ignore_fields]"
   ]
  },
  {
   "cell_type": "code",
   "execution_count": 14,
   "metadata": {},
   "outputs": [],
   "source": [
    "# for cross validation, set the number of folds we will use\n",
    "nfolds = 5"
   ]
  },
  {
   "cell_type": "code",
   "execution_count": 15,
   "metadata": {},
   "outputs": [],
   "source": [
    "# import the estimators we will use for our ensemble\n",
    "from h2o.estimators import H2OXGBoostEstimator\n",
    "from h2o.estimators.gbm import H2OGradientBoostingEstimator\n",
    "from h2o.estimators.glm import H2OGeneralizedLinearEstimator\n",
    "from h2o.estimators.deeplearning import H2ODeepLearningEstimator\n",
    "from h2o.estimators.stackedensemble import H2OStackedEnsembleEstimator"
   ]
  },
  {
   "cell_type": "code",
   "execution_count": 16,
   "metadata": {},
   "outputs": [
    {
     "name": "stdout",
     "output_type": "stream",
     "text": [
      "glm Model Build progress: |███████████████████████████████████████████████| 100%\n"
     ]
    }
   ],
   "source": [
    "# create the GLM model\n",
    "m_GLM = H2OGeneralizedLinearEstimator(\n",
    "    family='poisson',\n",
    "    lambda_=1e-3,\n",
    "    alpha=0.9,\n",
    "    model_id='glm_model',\n",
    "    nfolds=nfolds,\n",
    "    fold_assignment='Modulo',\n",
    "    keep_cross_validation_predictions=True,\n",
    "    seed=123\n",
    ")\n",
    "m_GLM.train(x, y, train_part)"
   ]
  },
  {
   "cell_type": "code",
   "execution_count": 17,
   "metadata": {},
   "outputs": [
    {
     "name": "stdout",
     "output_type": "stream",
     "text": [
      "gbm Model Build progress: |███████████████████████████████████████████████| 100%\n"
     ]
    }
   ],
   "source": [
    "# create the GBM model\n",
    "m_GBM = H2OGradientBoostingEstimator(\n",
    "    sample_rate=0.9,\n",
    "    col_sample_rate=0.9,\n",
    "    ntrees=500,\n",
    "    model_id='gbm_model',\n",
    "    nfolds=nfolds,\n",
    "    fold_assignment='Modulo',\n",
    "    keep_cross_validation_predictions=True,\n",
    "    seed=123\n",
    ")\n",
    "m_GBM.train(x, y, train_part)"
   ]
  },
  {
   "cell_type": "code",
   "execution_count": 18,
   "metadata": {},
   "outputs": [
    {
     "name": "stdout",
     "output_type": "stream",
     "text": [
      "xgboost Model Build progress: |███████████████████████████████████████████| 100%\n"
     ]
    }
   ],
   "source": [
    "# create the xgboost model\n",
    "m_XGB = H2OXGBoostEstimator(\n",
    "    ntrees=250,\n",
    "    max_depth=10,\n",
    "    learn_rate=0.02,\n",
    "    sample_rate=0.7,\n",
    "    col_sample_rate_per_tree=0.9,\n",
    "    tree_method='hist',\n",
    "    grow_policy='lossguide',\n",
    "    model_id='xgb_model',\n",
    "    nfolds=nfolds,\n",
    "    fold_assignment='Modulo',\n",
    "    keep_cross_validation_predictions=True,\n",
    "    seed=123\n",
    ")\n",
    "m_XGB.train(x, y, train_part)"
   ]
  },
  {
   "cell_type": "code",
   "execution_count": 19,
   "metadata": {},
   "outputs": [
    {
     "name": "stdout",
     "output_type": "stream",
     "text": [
      "deeplearning Model Build progress: |██████████████████████████████████████| 100%\n"
     ]
    }
   ],
   "source": [
    "# create the deep learning model\n",
    "m_DL = H2ODeepLearningEstimator(\n",
    "    epochs=50,\n",
    "    l1=1e-5,\n",
    "    l2=1e-5,\n",
    "    hidden=[300,300],\n",
    "    model_id='dl_model',\n",
    "    nfolds=nfolds,\n",
    "    fold_assignment='Modulo',\n",
    "    keep_cross_validation_predictions=True,\n",
    "    seed=123\n",
    ")\n",
    "m_DL.train(x, y, train_part)"
   ]
  },
  {
   "cell_type": "code",
   "execution_count": 20,
   "metadata": {},
   "outputs": [],
   "source": [
    "models = [m_GLM.model_id, m_GBM.model_id, m_XGB.model_id, m_DL.model_id]"
   ]
  },
  {
   "cell_type": "code",
   "execution_count": 21,
   "metadata": {},
   "outputs": [
    {
     "name": "stdout",
     "output_type": "stream",
     "text": [
      "stackedensemble Model Build progress: |███████████████████████████████████| 100%\n"
     ]
    }
   ],
   "source": [
    "# create the stacked ensemble\n",
    "meta_params={'seed': 123}\n",
    "m_SE = H2OStackedEnsembleEstimator(\n",
    "    model_id='SE_glm_gbm_xgb_dl',\n",
    "    base_models=models,\n",
    "    metalearner_algorithm='deeplearning',\n",
    "    metalearner_params=meta_params,\n",
    "    seed=123\n",
    ")\n",
    "m_SE.train(x, y, train_part, validation_frame=valid)"
   ]
  },
  {
   "cell_type": "code",
   "execution_count": 22,
   "metadata": {},
   "outputs": [],
   "source": [
    "all_models = [m_GLM, m_GBM, m_XGB, m_DL, m_SE]"
   ]
  },
  {
   "cell_type": "code",
   "execution_count": 23,
   "metadata": {},
   "outputs": [],
   "source": [
    "names = ['GLM', 'GBM', 'XGB', 'DL', 'SE']"
   ]
  },
  {
   "cell_type": "code",
   "execution_count": 24,
   "metadata": {
    "scrolled": true
   },
   "outputs": [
    {
     "data": {
      "text/plain": [
       "GLM    180023.643718\n",
       "GBM     61219.512886\n",
       "XGB     56268.813899\n",
       "DL      69306.102465\n",
       "SE      60235.662033\n",
       "dtype: float64"
      ]
     },
     "execution_count": 24,
     "metadata": {},
     "output_type": "execute_result"
    }
   ],
   "source": [
    "# training results for rmse\n",
    "# stacked ensemble performs best at rmse of approx 60,000\n",
    "pd.Series(map(lambda x: x.rmse(), all_models), names)"
   ]
  },
  {
   "cell_type": "code",
   "execution_count": 25,
   "metadata": {},
   "outputs": [],
   "source": [
    "# compute performance on the holdout validation set\n",
    "valid_perf = list(map(lambda x: x.model_performance(valid), all_models))"
   ]
  },
  {
   "cell_type": "code",
   "execution_count": 26,
   "metadata": {},
   "outputs": [
    {
     "data": {
      "text/plain": [
       "GLM    181474.918292\n",
       "GBM    124835.702006\n",
       "XGB    125930.832188\n",
       "DL     128216.622758\n",
       "SE     120833.963709\n",
       "dtype: float64"
      ]
     },
     "execution_count": 26,
     "metadata": {},
     "output_type": "execute_result"
    }
   ],
   "source": [
    "# rmse on the holdout validation set\n",
    "# stacked ensemble performs best at rmse of approx 120,000 < 123,000 target!!\n",
    "pd.Series(map(lambda x: x.rmse(), valid_perf), names)"
   ]
  },
  {
   "cell_type": "code",
   "execution_count": 27,
   "metadata": {},
   "outputs": [],
   "source": [
    "# compute performance on the test set\n",
    "test_perf = list(map(lambda x: x.model_performance(test), all_models))"
   ]
  },
  {
   "cell_type": "code",
   "execution_count": 28,
   "metadata": {},
   "outputs": [
    {
     "data": {
      "text/plain": [
       "GLM    172150.675082\n",
       "GBM    112518.311382\n",
       "XGB    111653.184166\n",
       "DL     119934.010026\n",
       "SE     107018.560248\n",
       "dtype: float64"
      ]
     },
     "execution_count": 28,
     "metadata": {},
     "output_type": "execute_result"
    }
   ],
   "source": [
    "# rmse on the test set\n",
    "# stacked ensemble performs best at rmse of approx 107,000 < 123,000 target!!\n",
    "pd.Series(map(lambda x: x.rmse(), test_perf), names)"
   ]
  },
  {
   "cell_type": "code",
   "execution_count": 29,
   "metadata": {},
   "outputs": [
    {
     "data": {
      "text/plain": [
       "'/home/megan/Projects/h2oclass/SE_glm_gbm_xgb_dl'"
      ]
     },
     "execution_count": 29,
     "metadata": {},
     "output_type": "execute_result"
    }
   ],
   "source": [
    "# save models\n",
    "h2o.save_model(model=m_GLM, force=True)\n",
    "h2o.save_model(model=m_GBM, force=True)\n",
    "h2o.save_model(model=m_XGB, force=True)\n",
    "h2o.save_model(model=m_DL, force=True)\n",
    "h2o.save_model(model=m_SE, force=True)"
   ]
  },
  {
   "cell_type": "code",
   "execution_count": null,
   "metadata": {},
   "outputs": [],
   "source": []
  }
 ],
 "metadata": {
  "kernelspec": {
   "display_name": "h2oclass",
   "language": "python",
   "name": "h2oclass"
  },
  "language_info": {
   "codemirror_mode": {
    "name": "ipython",
    "version": 3
   },
   "file_extension": ".py",
   "mimetype": "text/x-python",
   "name": "python",
   "nbconvert_exporter": "python",
   "pygments_lexer": "ipython3",
   "version": "3.7.3"
  }
 },
 "nbformat": 4,
 "nbformat_minor": 4
}
