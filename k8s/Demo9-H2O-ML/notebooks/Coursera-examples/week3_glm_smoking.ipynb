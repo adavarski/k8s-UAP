{
 "cells": [
  {
   "cell_type": "markdown",
   "metadata": {},
   "source": [
    "# Week 3 - GLMs\n",
    "\n",
    "Using H2O for exploratory data analysis"
   ]
  },
  {
   "cell_type": "code",
   "execution_count": 1,
   "metadata": {},
   "outputs": [],
   "source": [
    "import h2o"
   ]
  },
  {
   "cell_type": "code",
   "execution_count": 2,
   "metadata": {},
   "outputs": [
    {
     "name": "stdout",
     "output_type": "stream",
     "text": [
      "Checking whether there is an H2O instance running at http://localhost:54321 ..... not found.\n",
      "Attempting to start a local H2O server...\n",
      "  Java Version: openjdk version \"1.8.0_232\"; OpenJDK Runtime Environment (build 1.8.0_232-8u232-b09-0ubuntu1~19.04.1-b09); OpenJDK 64-Bit Server VM (build 25.232-b09, mixed mode)\n",
      "  Starting server from /home/megan/Projects/h2oclass/lib/python3.7/site-packages/h2o/backend/bin/h2o.jar\n",
      "  Ice root: /tmp/tmpuq4dvcp3\n",
      "  JVM stdout: /tmp/tmpuq4dvcp3/h2o_megan_started_from_python.out\n",
      "  JVM stderr: /tmp/tmpuq4dvcp3/h2o_megan_started_from_python.err\n",
      "  Server is running at http://127.0.0.1:54321\n",
      "Connecting to H2O server at http://127.0.0.1:54321 ... successful.\n"
     ]
    },
    {
     "data": {
      "text/html": [
       "<div style=\"overflow:auto\"><table style=\"width:50%\"><tr><td>H2O cluster uptime:</td>\n",
       "<td>01 secs</td></tr>\n",
       "<tr><td>H2O cluster timezone:</td>\n",
       "<td>America/Chicago</td></tr>\n",
       "<tr><td>H2O data parsing timezone:</td>\n",
       "<td>UTC</td></tr>\n",
       "<tr><td>H2O cluster version:</td>\n",
       "<td>3.28.0.3</td></tr>\n",
       "<tr><td>H2O cluster version age:</td>\n",
       "<td>9 days </td></tr>\n",
       "<tr><td>H2O cluster name:</td>\n",
       "<td>H2O_from_python_megan_1baid0</td></tr>\n",
       "<tr><td>H2O cluster total nodes:</td>\n",
       "<td>1</td></tr>\n",
       "<tr><td>H2O cluster free memory:</td>\n",
       "<td>1.520 Gb</td></tr>\n",
       "<tr><td>H2O cluster total cores:</td>\n",
       "<td>3</td></tr>\n",
       "<tr><td>H2O cluster allowed cores:</td>\n",
       "<td>3</td></tr>\n",
       "<tr><td>H2O cluster status:</td>\n",
       "<td>accepting new members, healthy</td></tr>\n",
       "<tr><td>H2O connection url:</td>\n",
       "<td>http://127.0.0.1:54321</td></tr>\n",
       "<tr><td>H2O connection proxy:</td>\n",
       "<td>{'http': None, 'https': None}</td></tr>\n",
       "<tr><td>H2O internal security:</td>\n",
       "<td>False</td></tr>\n",
       "<tr><td>H2O API Extensions:</td>\n",
       "<td>Amazon S3, XGBoost, Algos, AutoML, Core V3, TargetEncoder, Core V4</td></tr>\n",
       "<tr><td>Python version:</td>\n",
       "<td>3.7.3 final</td></tr></table></div>"
      ],
      "text/plain": [
       "--------------------------  ------------------------------------------------------------------\n",
       "H2O cluster uptime:         01 secs\n",
       "H2O cluster timezone:       America/Chicago\n",
       "H2O data parsing timezone:  UTC\n",
       "H2O cluster version:        3.28.0.3\n",
       "H2O cluster version age:    9 days\n",
       "H2O cluster name:           H2O_from_python_megan_1baid0\n",
       "H2O cluster total nodes:    1\n",
       "H2O cluster free memory:    1.520 Gb\n",
       "H2O cluster total cores:    3\n",
       "H2O cluster allowed cores:  3\n",
       "H2O cluster status:         accepting new members, healthy\n",
       "H2O connection url:         http://127.0.0.1:54321\n",
       "H2O connection proxy:       {'http': None, 'https': None}\n",
       "H2O internal security:      False\n",
       "H2O API Extensions:         Amazon S3, XGBoost, Algos, AutoML, Core V3, TargetEncoder, Core V4\n",
       "Python version:             3.7.3 final\n",
       "--------------------------  ------------------------------------------------------------------"
      ]
     },
     "metadata": {},
     "output_type": "display_data"
    }
   ],
   "source": [
    "h2o.init()"
   ]
  },
  {
   "cell_type": "code",
   "execution_count": 3,
   "metadata": {},
   "outputs": [
    {
     "name": "stdout",
     "output_type": "stream",
     "text": [
      "Parse progress: |█████████████████████████████████████████████████████████| 100%\n"
     ]
    }
   ],
   "source": [
    "# import the dataset\n",
    "# note the next steps are more complicated than shown in the course - the provided link does not work\n",
    "url = 'https://data.princeton.edu/wws509/datasets/smoking.dat'\n",
    "data = h2o.import_file(\n",
    "    url, \n",
    "    destination_frame='data', \n",
    "    col_names=['idx', 'age', 'smoke', 'pop', 'dead']\n",
    ")"
   ]
  },
  {
   "cell_type": "code",
   "execution_count": 4,
   "metadata": {
    "scrolled": true
   },
   "outputs": [
    {
     "data": {
      "text/html": [
       "<table>\n",
       "<thead>\n",
       "<tr><th style=\"text-align: right;\">  idx</th><th>age  </th><th>smoke  </th><th style=\"text-align: right;\">  pop</th><th style=\"text-align: right;\">  dead</th></tr>\n",
       "</thead>\n",
       "<tbody>\n",
       "<tr><td style=\"text-align: right;\">  nan</td><td>smoke</td><td>pop    </td><td style=\"text-align: right;\">  nan</td><td style=\"text-align: right;\">   nan</td></tr>\n",
       "<tr><td style=\"text-align: right;\">    1</td><td>40-44</td><td>no     </td><td style=\"text-align: right;\">  656</td><td style=\"text-align: right;\">    18</td></tr>\n",
       "<tr><td style=\"text-align: right;\">    2</td><td>45-59</td><td>no     </td><td style=\"text-align: right;\">  359</td><td style=\"text-align: right;\">    22</td></tr>\n",
       "<tr><td style=\"text-align: right;\">    3</td><td>50-54</td><td>no     </td><td style=\"text-align: right;\">  249</td><td style=\"text-align: right;\">    19</td></tr>\n",
       "<tr><td style=\"text-align: right;\">    4</td><td>55-59</td><td>no     </td><td style=\"text-align: right;\">  632</td><td style=\"text-align: right;\">    55</td></tr>\n",
       "<tr><td style=\"text-align: right;\">    5</td><td>60-64</td><td>no     </td><td style=\"text-align: right;\"> 1067</td><td style=\"text-align: right;\">   117</td></tr>\n",
       "<tr><td style=\"text-align: right;\">    6</td><td>65-69</td><td>no     </td><td style=\"text-align: right;\">  897</td><td style=\"text-align: right;\">   170</td></tr>\n",
       "<tr><td style=\"text-align: right;\">    7</td><td>70-74</td><td>no     </td><td style=\"text-align: right;\">  668</td><td style=\"text-align: right;\">   179</td></tr>\n",
       "<tr><td style=\"text-align: right;\">    8</td><td>75-79</td><td>no     </td><td style=\"text-align: right;\">  361</td><td style=\"text-align: right;\">   120</td></tr>\n",
       "<tr><td style=\"text-align: right;\">    9</td><td>80+  </td><td>no     </td><td style=\"text-align: right;\">  274</td><td style=\"text-align: right;\">   120</td></tr>\n",
       "</tbody>\n",
       "</table>"
      ]
     },
     "metadata": {},
     "output_type": "display_data"
    },
    {
     "data": {
      "text/plain": []
     },
     "execution_count": 4,
     "metadata": {},
     "output_type": "execute_result"
    }
   ],
   "source": [
    "data"
   ]
  },
  {
   "cell_type": "code",
   "execution_count": 5,
   "metadata": {},
   "outputs": [],
   "source": [
    "# drop the first row with bad column labels\n",
    "smoking = data.drop([0], axis=0)"
   ]
  },
  {
   "cell_type": "code",
   "execution_count": 6,
   "metadata": {},
   "outputs": [],
   "source": [
    "# create ratio column\n",
    "smoking['ratio'] = 1000 * smoking['dead'] // smoking['pop']"
   ]
  },
  {
   "cell_type": "code",
   "execution_count": 7,
   "metadata": {},
   "outputs": [
    {
     "data": {
      "text/html": [
       "<table>\n",
       "<thead>\n",
       "<tr><th style=\"text-align: right;\">  idx</th><th>age  </th><th>smoke        </th><th style=\"text-align: right;\">  pop</th><th style=\"text-align: right;\">  dead</th><th style=\"text-align: right;\">  ratio</th></tr>\n",
       "</thead>\n",
       "<tbody>\n",
       "<tr><td style=\"text-align: right;\">    1</td><td>40-44</td><td>no           </td><td style=\"text-align: right;\">  656</td><td style=\"text-align: right;\">    18</td><td style=\"text-align: right;\">     27</td></tr>\n",
       "<tr><td style=\"text-align: right;\">    2</td><td>45-59</td><td>no           </td><td style=\"text-align: right;\">  359</td><td style=\"text-align: right;\">    22</td><td style=\"text-align: right;\">     61</td></tr>\n",
       "<tr><td style=\"text-align: right;\">    3</td><td>50-54</td><td>no           </td><td style=\"text-align: right;\">  249</td><td style=\"text-align: right;\">    19</td><td style=\"text-align: right;\">     76</td></tr>\n",
       "<tr><td style=\"text-align: right;\">    4</td><td>55-59</td><td>no           </td><td style=\"text-align: right;\">  632</td><td style=\"text-align: right;\">    55</td><td style=\"text-align: right;\">     87</td></tr>\n",
       "<tr><td style=\"text-align: right;\">    5</td><td>60-64</td><td>no           </td><td style=\"text-align: right;\"> 1067</td><td style=\"text-align: right;\">   117</td><td style=\"text-align: right;\">    109</td></tr>\n",
       "<tr><td style=\"text-align: right;\">    6</td><td>65-69</td><td>no           </td><td style=\"text-align: right;\">  897</td><td style=\"text-align: right;\">   170</td><td style=\"text-align: right;\">    189</td></tr>\n",
       "<tr><td style=\"text-align: right;\">    7</td><td>70-74</td><td>no           </td><td style=\"text-align: right;\">  668</td><td style=\"text-align: right;\">   179</td><td style=\"text-align: right;\">    267</td></tr>\n",
       "<tr><td style=\"text-align: right;\">    8</td><td>75-79</td><td>no           </td><td style=\"text-align: right;\">  361</td><td style=\"text-align: right;\">   120</td><td style=\"text-align: right;\">    332</td></tr>\n",
       "<tr><td style=\"text-align: right;\">    9</td><td>80+  </td><td>no           </td><td style=\"text-align: right;\">  274</td><td style=\"text-align: right;\">   120</td><td style=\"text-align: right;\">    437</td></tr>\n",
       "<tr><td style=\"text-align: right;\">   10</td><td>40-44</td><td>cigarPipeOnly</td><td style=\"text-align: right;\">  145</td><td style=\"text-align: right;\">     2</td><td style=\"text-align: right;\">     13</td></tr>\n",
       "</tbody>\n",
       "</table>"
      ]
     },
     "metadata": {},
     "output_type": "display_data"
    },
    {
     "data": {
      "text/plain": []
     },
     "execution_count": 7,
     "metadata": {},
     "output_type": "execute_result"
    }
   ],
   "source": [
    "smoking"
   ]
  },
  {
   "cell_type": "code",
   "execution_count": 8,
   "metadata": {},
   "outputs": [
    {
     "data": {
      "text/html": [
       "<table>\n",
       "<thead>\n",
       "<tr><th>       </th><th>idx               </th><th>age  </th><th>smoke        </th><th>pop               </th><th>dead              </th><th>ratio             </th></tr>\n",
       "</thead>\n",
       "<tbody>\n",
       "<tr><td>type   </td><td>int               </td><td>enum </td><td>enum         </td><td>int               </td><td>int               </td><td>int               </td></tr>\n",
       "<tr><td>mins   </td><td>1.0               </td><td>     </td><td>             </td><td>98.0              </td><td>2.0               </td><td>13.0              </td></tr>\n",
       "<tr><td>mean   </td><td>18.5              </td><td>     </td><td>             </td><td>1558.9444444444443</td><td>253.61111111111114</td><td>204.27777777777777</td></tr>\n",
       "<tr><td>maxs   </td><td>36.0              </td><td>     </td><td>             </td><td>6052.0            </td><td>1001.0            </td><td>557.0             </td></tr>\n",
       "<tr><td>sigma  </td><td>10.535653752852738</td><td>     </td><td>             </td><td>1562.232174887577 </td><td>262.5974951221821 </td><td>161.18624739476488</td></tr>\n",
       "<tr><td>zeros  </td><td>0                 </td><td>     </td><td>             </td><td>0                 </td><td>0                 </td><td>0                 </td></tr>\n",
       "<tr><td>missing</td><td>0                 </td><td>0    </td><td>0            </td><td>0                 </td><td>0                 </td><td>0                 </td></tr>\n",
       "<tr><td>0      </td><td>1.0               </td><td>40-44</td><td>no           </td><td>656.0             </td><td>18.0              </td><td>27.0              </td></tr>\n",
       "<tr><td>1      </td><td>2.0               </td><td>45-59</td><td>no           </td><td>359.0             </td><td>22.0              </td><td>61.0              </td></tr>\n",
       "<tr><td>2      </td><td>3.0               </td><td>50-54</td><td>no           </td><td>249.0             </td><td>19.0              </td><td>76.0              </td></tr>\n",
       "<tr><td>3      </td><td>4.0               </td><td>55-59</td><td>no           </td><td>632.0             </td><td>55.0              </td><td>87.0              </td></tr>\n",
       "<tr><td>4      </td><td>5.0               </td><td>60-64</td><td>no           </td><td>1067.0            </td><td>117.0             </td><td>109.0             </td></tr>\n",
       "<tr><td>5      </td><td>6.0               </td><td>65-69</td><td>no           </td><td>897.0             </td><td>170.0             </td><td>189.0             </td></tr>\n",
       "<tr><td>6      </td><td>7.0               </td><td>70-74</td><td>no           </td><td>668.0             </td><td>179.0             </td><td>267.0             </td></tr>\n",
       "<tr><td>7      </td><td>8.0               </td><td>75-79</td><td>no           </td><td>361.0             </td><td>120.0             </td><td>332.0             </td></tr>\n",
       "<tr><td>8      </td><td>9.0               </td><td>80+  </td><td>no           </td><td>274.0             </td><td>120.0             </td><td>437.0             </td></tr>\n",
       "<tr><td>9      </td><td>10.0              </td><td>40-44</td><td>cigarPipeOnly</td><td>145.0             </td><td>2.0               </td><td>13.0              </td></tr>\n",
       "</tbody>\n",
       "</table>"
      ]
     },
     "metadata": {},
     "output_type": "display_data"
    }
   ],
   "source": [
    "smoking.summary()"
   ]
  },
  {
   "cell_type": "code",
   "execution_count": 9,
   "metadata": {},
   "outputs": [
    {
     "data": {
      "text/plain": [
       "56122.0"
      ]
     },
     "execution_count": 9,
     "metadata": {},
     "output_type": "execute_result"
    }
   ],
   "source": [
    "# sum our population to get total population\n",
    "smoking[:,'pop'].sum()"
   ]
  },
  {
   "cell_type": "code",
   "execution_count": 10,
   "metadata": {},
   "outputs": [],
   "source": [
    "# import the model\n",
    "from h2o.estimators.glm import H2OGeneralizedLinearEstimator"
   ]
  },
  {
   "cell_type": "code",
   "execution_count": 11,
   "metadata": {},
   "outputs": [],
   "source": [
    "# define x and y\n",
    "x = ['age', 'smoke']\n",
    "y = 'ratio'"
   ]
  },
  {
   "cell_type": "code",
   "execution_count": 12,
   "metadata": {},
   "outputs": [
    {
     "name": "stdout",
     "output_type": "stream",
     "text": [
      "glm Model Build progress: |███████████████████████████████████████████████| 100%\n"
     ]
    }
   ],
   "source": [
    "model1 = H2OGeneralizedLinearEstimator(\n",
    "    family='poisson',\n",
    "    model_id='smoking_p'\n",
    ")\n",
    "model1.train(x, y, smoking)"
   ]
  },
  {
   "cell_type": "code",
   "execution_count": 13,
   "metadata": {},
   "outputs": [
    {
     "name": "stdout",
     "output_type": "stream",
     "text": [
      "\n",
      "ModelMetricsRegressionGLM: glm\n",
      "** Reported on train data. **\n",
      "\n",
      "MSE: 2317.278863564693\n",
      "RMSE: 48.138122767352414\n",
      "MAE: 42.01284703316798\n",
      "RMSLE: 0.5194841361204997\n",
      "R^2: 0.9082604115075811\n",
      "Mean Residual Deviance: 16.5654755342314\n",
      "Null degrees of freedom: 35\n",
      "Residual degrees of freedom: 24\n",
      "Null deviance: 4452.040944755189\n",
      "Residual deviance: 596.3571192323304\n",
      "AIC: 864.114733053809\n"
     ]
    },
    {
     "data": {
      "text/plain": []
     },
     "execution_count": 13,
     "metadata": {},
     "output_type": "execute_result"
    }
   ],
   "source": [
    "model1.model_performance()"
   ]
  },
  {
   "cell_type": "code",
   "execution_count": 14,
   "metadata": {},
   "outputs": [
    {
     "data": {
      "text/plain": [
       "{'Intercept': 5.105058353854452,\n",
       " 'age.40-44': -0.747627689463485,\n",
       " 'age.45-59': -0.5203727628229302,\n",
       " 'age.50-54': -0.3812251465963783,\n",
       " 'age.55-59': -0.10696663321593292,\n",
       " 'age.60-64': 0.0,\n",
       " 'age.65-69': 0.12115281990217852,\n",
       " 'age.70-74': 0.41814318047271115,\n",
       " 'age.75-79': 0.71445004975903,\n",
       " 'age.80+': 0.9760296419439634,\n",
       " 'age.smoke': 0.0,\n",
       " 'smoke.cigarPipeOnly': -0.054287949649570066,\n",
       " 'smoke.cigarretteOnly': 0.15479220408862204,\n",
       " 'smoke.cigarrettePlus': 0.0,\n",
       " 'smoke.no': -0.05701552993507164,\n",
       " 'smoke.pop': 0.0}"
      ]
     },
     "execution_count": 14,
     "metadata": {},
     "output_type": "execute_result"
    }
   ],
   "source": [
    "model1.coef()"
   ]
  },
  {
   "cell_type": "code",
   "execution_count": 15,
   "metadata": {},
   "outputs": [
    {
     "name": "stdout",
     "output_type": "stream",
     "text": [
      "glm Model Build progress: |███████████████████████████████████████████████| 100%\n"
     ]
    }
   ],
   "source": [
    "model2 = H2OGeneralizedLinearEstimator(\n",
    "    family='poisson',\n",
    "    model_id='smoking_p2'\n",
    ")\n",
    "model2.train('smoke', y, smoking)"
   ]
  },
  {
   "cell_type": "code",
   "execution_count": 16,
   "metadata": {},
   "outputs": [
    {
     "name": "stdout",
     "output_type": "stream",
     "text": [
      "\n",
      "ModelMetricsRegressionGLM: glm\n",
      "** Reported on train data. **\n",
      "\n",
      "MSE: 24342.611860135847\n",
      "RMSE: 156.0211904201985\n",
      "MAE: 132.6987657369525\n",
      "RMSLE: 1.0144378007997055\n",
      "R^2: 0.03629156162749714\n",
      "Mean Residual Deviance: 119.2662951879298\n",
      "Null degrees of freedom: 35\n",
      "Residual degrees of freedom: 31\n",
      "Null deviance: 4452.040944755189\n",
      "Residual deviance: 4293.586626765473\n",
      "AIC: 4547.344240586952\n"
     ]
    },
    {
     "data": {
      "text/plain": []
     },
     "execution_count": 16,
     "metadata": {},
     "output_type": "execute_result"
    }
   ],
   "source": [
    "model2.model_performance()"
   ]
  },
  {
   "cell_type": "code",
   "execution_count": 17,
   "metadata": {},
   "outputs": [
    {
     "data": {
      "text/plain": [
       "{'Intercept': 5.311708901581492,\n",
       " 'smoke.cigarPipeOnly': -0.10892325437396622,\n",
       " 'smoke.cigarretteOnly': 0.18911297651822245,\n",
       " 'smoke.cigarrettePlus': 0.03181156005906516,\n",
       " 'smoke.no': -0.11190624028792584,\n",
       " 'smoke.pop': 0.0}"
      ]
     },
     "execution_count": 17,
     "metadata": {},
     "output_type": "execute_result"
    }
   ],
   "source": [
    "model2.coef()"
   ]
  },
  {
   "cell_type": "markdown",
   "metadata": {},
   "source": [
    "What can we see from this exploration with modeling?\n",
    "\n",
    "- Smoking cigarettes only is most highly related to the ratio of deaths\n",
    "- Not smoking had the most negative coefficient, but only slightly beats out cigar and pipe smoking only\n",
    "- When we included age, the oldest groups were most strongly related to the ratio of deaths\n",
    "- The younger groups had negative coefficients"
   ]
  },
  {
   "cell_type": "code",
   "execution_count": null,
   "metadata": {},
   "outputs": [],
   "source": []
  }
 ],
 "metadata": {
  "kernelspec": {
   "display_name": "h2oclass",
   "language": "python",
   "name": "h2oclass"
  },
  "language_info": {
   "codemirror_mode": {
    "name": "ipython",
    "version": 3
   },
   "file_extension": ".py",
   "mimetype": "text/x-python",
   "name": "python",
   "nbconvert_exporter": "python",
   "pygments_lexer": "ipython3",
   "version": "3.7.3"
  }
 },
 "nbformat": 4,
 "nbformat_minor": 4
}
