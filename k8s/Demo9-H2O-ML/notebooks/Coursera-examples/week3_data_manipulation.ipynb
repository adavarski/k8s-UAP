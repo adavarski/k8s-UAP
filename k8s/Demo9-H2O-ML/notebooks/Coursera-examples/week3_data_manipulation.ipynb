{
 "cells": [
  {
   "cell_type": "markdown",
   "metadata": {},
   "source": [
    "# Week 3 - Data Manipulation"
   ]
  },
  {
   "cell_type": "code",
   "execution_count": 1,
   "metadata": {},
   "outputs": [],
   "source": [
    "import h2o"
   ]
  },
  {
   "cell_type": "code",
   "execution_count": 2,
   "metadata": {},
   "outputs": [
    {
     "name": "stdout",
     "output_type": "stream",
     "text": [
      "Checking whether there is an H2O instance running at http://localhost:54321 . connected.\n"
     ]
    },
    {
     "data": {
      "text/html": [
       "<div style=\"overflow:auto\"><table style=\"width:50%\"><tr><td>H2O cluster uptime:</td>\n",
       "<td>32 mins 49 secs</td></tr>\n",
       "<tr><td>H2O cluster timezone:</td>\n",
       "<td>America/Chicago</td></tr>\n",
       "<tr><td>H2O data parsing timezone:</td>\n",
       "<td>UTC</td></tr>\n",
       "<tr><td>H2O cluster version:</td>\n",
       "<td>3.28.0.3</td></tr>\n",
       "<tr><td>H2O cluster version age:</td>\n",
       "<td>9 days </td></tr>\n",
       "<tr><td>H2O cluster name:</td>\n",
       "<td>H2O_from_python_megan_p7ovho</td></tr>\n",
       "<tr><td>H2O cluster total nodes:</td>\n",
       "<td>1</td></tr>\n",
       "<tr><td>H2O cluster free memory:</td>\n",
       "<td>1.388 Gb</td></tr>\n",
       "<tr><td>H2O cluster total cores:</td>\n",
       "<td>3</td></tr>\n",
       "<tr><td>H2O cluster allowed cores:</td>\n",
       "<td>3</td></tr>\n",
       "<tr><td>H2O cluster status:</td>\n",
       "<td>locked, healthy</td></tr>\n",
       "<tr><td>H2O connection url:</td>\n",
       "<td>http://localhost:54321</td></tr>\n",
       "<tr><td>H2O connection proxy:</td>\n",
       "<td>{'http': None, 'https': None}</td></tr>\n",
       "<tr><td>H2O internal security:</td>\n",
       "<td>False</td></tr>\n",
       "<tr><td>H2O API Extensions:</td>\n",
       "<td>Amazon S3, XGBoost, Algos, AutoML, Core V3, TargetEncoder, Core V4</td></tr>\n",
       "<tr><td>Python version:</td>\n",
       "<td>3.7.3 final</td></tr></table></div>"
      ],
      "text/plain": [
       "--------------------------  ------------------------------------------------------------------\n",
       "H2O cluster uptime:         32 mins 49 secs\n",
       "H2O cluster timezone:       America/Chicago\n",
       "H2O data parsing timezone:  UTC\n",
       "H2O cluster version:        3.28.0.3\n",
       "H2O cluster version age:    9 days\n",
       "H2O cluster name:           H2O_from_python_megan_p7ovho\n",
       "H2O cluster total nodes:    1\n",
       "H2O cluster free memory:    1.388 Gb\n",
       "H2O cluster total cores:    3\n",
       "H2O cluster allowed cores:  3\n",
       "H2O cluster status:         locked, healthy\n",
       "H2O connection url:         http://localhost:54321\n",
       "H2O connection proxy:       {'http': None, 'https': None}\n",
       "H2O internal security:      False\n",
       "H2O API Extensions:         Amazon S3, XGBoost, Algos, AutoML, Core V3, TargetEncoder, Core V4\n",
       "Python version:             3.7.3 final\n",
       "--------------------------  ------------------------------------------------------------------"
      ]
     },
     "metadata": {},
     "output_type": "display_data"
    }
   ],
   "source": [
    "h2o.init()"
   ]
  },
  {
   "cell_type": "code",
   "execution_count": 3,
   "metadata": {},
   "outputs": [
    {
     "name": "stdout",
     "output_type": "stream",
     "text": [
      "Parse progress: |█████████████████████████████████████████████████████████| 100%\n"
     ]
    }
   ],
   "source": [
    "data = h2o.import_file('http://h2o-public-test-data.s3.amazonaws.com/smalldata/airlines/allyears2k_headers.zip')"
   ]
  },
  {
   "cell_type": "code",
   "execution_count": 4,
   "metadata": {},
   "outputs": [
    {
     "data": {
      "text/html": [
       "<table>\n",
       "<thead>\n",
       "<tr><th>       </th><th>Year              </th><th>Month             </th><th>DayofMonth        </th><th>DayOfWeek         </th><th>DepTime          </th><th>CRSDepTime        </th><th>ArrTime          </th><th>CRSArrTime        </th><th>UniqueCarrier  </th><th>FlightNum        </th><th>TailNum  </th><th>ActualElapsedTime  </th><th>CRSElapsedTime    </th><th>AirTime           </th><th>ArrDelay          </th><th>DepDelay          </th><th>Origin  </th><th>Dest  </th><th>Distance         </th><th>TaxiIn           </th><th>TaxiOut          </th><th>Cancelled           </th><th>CancellationCode  </th><th>Diverted             </th><th>CarrierDelay     </th><th>WeatherDelay      </th><th>NASDelay          </th><th>SecurityDelay     </th><th>LateAircraftDelay  </th><th>IsArrDelayed  </th><th>IsDepDelayed  </th></tr>\n",
       "</thead>\n",
       "<tbody>\n",
       "<tr><td>type   </td><td>int               </td><td>int               </td><td>int               </td><td>int               </td><td>int              </td><td>int               </td><td>int              </td><td>int               </td><td>enum           </td><td>int              </td><td>enum     </td><td>int                </td><td>int               </td><td>int               </td><td>int               </td><td>int               </td><td>enum    </td><td>enum  </td><td>int              </td><td>int              </td><td>int              </td><td>int                 </td><td>enum              </td><td>int                  </td><td>int              </td><td>int               </td><td>int               </td><td>int               </td><td>int                </td><td>enum          </td><td>enum          </td></tr>\n",
       "<tr><td>mins   </td><td>1987.0            </td><td>1.0               </td><td>1.0               </td><td>1.0               </td><td>1.0              </td><td>0.0               </td><td>1.0              </td><td>0.0               </td><td>               </td><td>1.0              </td><td>         </td><td>16.0               </td><td>17.0              </td><td>14.0              </td><td>-63.0             </td><td>-16.0             </td><td>        </td><td>      </td><td>11.0             </td><td>0.0              </td><td>0.0              </td><td>0.0                 </td><td>                  </td><td>0.0                  </td><td>0.0              </td><td>0.0               </td><td>0.0               </td><td>0.0               </td><td>0.0                </td><td>              </td><td>              </td></tr>\n",
       "<tr><td>mean   </td><td>1997.5000000000068</td><td>1.409090909090916 </td><td>14.601073263904551</td><td>3.8206148528809845</td><td>1345.846661382077</td><td>1313.2228614307262</td><td>1504.634130378886</td><td>1485.2891673109345</td><td>               </td><td>818.8429896766576</td><td>         </td><td>124.8145291354039  </td><td>125.02156260661906</td><td>114.31611109078231</td><td>9.317111936984306 </td><td>10.007390655600112</td><td>        </td><td>      </td><td>730.1821905650557</td><td>5.381368059530588</td><td>14.16863418473208</td><td>0.024694165264450407</td><td>                  </td><td>0.0024785119832643593</td><td>4.047800291055639</td><td>0.2893764692712412</td><td>4.8550319041755365</td><td>0.0170155602821001</td><td>7.620060450016796  </td><td>              </td><td>              </td></tr>\n",
       "<tr><td>maxs   </td><td>2008.0            </td><td>10.0              </td><td>31.0              </td><td>7.0               </td><td>2400.0           </td><td>2359.0            </td><td>2400.0           </td><td>2359.0            </td><td>               </td><td>3949.0           </td><td>         </td><td>475.0              </td><td>437.0             </td><td>402.0             </td><td>475.0             </td><td>473.0             </td><td>        </td><td>      </td><td>3365.0           </td><td>128.0            </td><td>254.0            </td><td>1.0                 </td><td>                  </td><td>1.0                  </td><td>369.0            </td><td>201.0             </td><td>323.0             </td><td>14.0              </td><td>373.0              </td><td>              </td><td>              </td></tr>\n",
       "<tr><td>sigma  </td><td>6.344360901707349 </td><td>1.8747113713439618</td><td>9.175790425861413 </td><td>1.9050131191329014</td><td>465.3408991242322</td><td>476.2511399926005 </td><td>484.3474879035152</td><td>492.75043412270105</td><td>               </td><td>777.4043691636341</td><td>         </td><td>73.97444166059017  </td><td>73.40159463000951 </td><td>69.6363295150612  </td><td>29.840221962414837</td><td>26.438809042916418</td><td>        </td><td>      </td><td>578.4380082304235</td><td>4.201979939864826</td><td>9.905085747204279</td><td>0.15519314135784237 </td><td>                  </td><td>0.049723487218862286 </td><td>16.2057299044842 </td><td>4.416779898734125 </td><td>18.619776221475654</td><td>0.403940182101512 </td><td>23.48756587410621  </td><td>              </td><td>              </td></tr>\n",
       "<tr><td>zeros  </td><td>0                 </td><td>0                 </td><td>0                 </td><td>0                 </td><td>0                </td><td>569               </td><td>0                </td><td>569               </td><td>               </td><td>0                </td><td>         </td><td>0                  </td><td>0                 </td><td>0                 </td><td>1514              </td><td>6393              </td><td>        </td><td>      </td><td>0                </td><td>623              </td><td>557              </td><td>42892               </td><td>                  </td><td>43869                </td><td>7344             </td><td>8840              </td><td>7388              </td><td>8914              </td><td>7140               </td><td>              </td><td>              </td></tr>\n",
       "<tr><td>missing</td><td>0                 </td><td>0                 </td><td>0                 </td><td>0                 </td><td>1086             </td><td>0                 </td><td>1195             </td><td>0                 </td><td>0              </td><td>0                </td><td>32       </td><td>1195               </td><td>13                </td><td>16649             </td><td>1195              </td><td>1086              </td><td>0       </td><td>0     </td><td>35               </td><td>16026            </td><td>16024            </td><td>0                   </td><td>9774              </td><td>0                    </td><td>35045            </td><td>35045             </td><td>35045             </td><td>35045             </td><td>35045              </td><td>0             </td><td>0             </td></tr>\n",
       "<tr><td>0      </td><td>1987.0            </td><td>10.0              </td><td>14.0              </td><td>3.0               </td><td>741.0            </td><td>730.0             </td><td>912.0            </td><td>849.0             </td><td>PS             </td><td>1451.0           </td><td>NA       </td><td>91.0               </td><td>79.0              </td><td>nan               </td><td>23.0              </td><td>11.0              </td><td>SAN     </td><td>SFO   </td><td>447.0            </td><td>nan              </td><td>nan              </td><td>0.0                 </td><td>NA                </td><td>0.0                  </td><td>nan              </td><td>nan               </td><td>nan               </td><td>nan               </td><td>nan                </td><td>YES           </td><td>YES           </td></tr>\n",
       "<tr><td>1      </td><td>1987.0            </td><td>10.0              </td><td>15.0              </td><td>4.0               </td><td>729.0            </td><td>730.0             </td><td>903.0            </td><td>849.0             </td><td>PS             </td><td>1451.0           </td><td>NA       </td><td>94.0               </td><td>79.0              </td><td>nan               </td><td>14.0              </td><td>-1.0              </td><td>SAN     </td><td>SFO   </td><td>447.0            </td><td>nan              </td><td>nan              </td><td>0.0                 </td><td>NA                </td><td>0.0                  </td><td>nan              </td><td>nan               </td><td>nan               </td><td>nan               </td><td>nan                </td><td>YES           </td><td>NO            </td></tr>\n",
       "<tr><td>2      </td><td>1987.0            </td><td>10.0              </td><td>17.0              </td><td>6.0               </td><td>741.0            </td><td>730.0             </td><td>918.0            </td><td>849.0             </td><td>PS             </td><td>1451.0           </td><td>NA       </td><td>97.0               </td><td>79.0              </td><td>nan               </td><td>29.0              </td><td>11.0              </td><td>SAN     </td><td>SFO   </td><td>447.0            </td><td>nan              </td><td>nan              </td><td>0.0                 </td><td>NA                </td><td>0.0                  </td><td>nan              </td><td>nan               </td><td>nan               </td><td>nan               </td><td>nan                </td><td>YES           </td><td>YES           </td></tr>\n",
       "<tr><td>3      </td><td>1987.0            </td><td>10.0              </td><td>18.0              </td><td>7.0               </td><td>729.0            </td><td>730.0             </td><td>847.0            </td><td>849.0             </td><td>PS             </td><td>1451.0           </td><td>NA       </td><td>78.0               </td><td>79.0              </td><td>nan               </td><td>-2.0              </td><td>-1.0              </td><td>SAN     </td><td>SFO   </td><td>447.0            </td><td>nan              </td><td>nan              </td><td>0.0                 </td><td>NA                </td><td>0.0                  </td><td>nan              </td><td>nan               </td><td>nan               </td><td>nan               </td><td>nan                </td><td>NO            </td><td>NO            </td></tr>\n",
       "<tr><td>4      </td><td>1987.0            </td><td>10.0              </td><td>19.0              </td><td>1.0               </td><td>749.0            </td><td>730.0             </td><td>922.0            </td><td>849.0             </td><td>PS             </td><td>1451.0           </td><td>NA       </td><td>93.0               </td><td>79.0              </td><td>nan               </td><td>33.0              </td><td>19.0              </td><td>SAN     </td><td>SFO   </td><td>447.0            </td><td>nan              </td><td>nan              </td><td>0.0                 </td><td>NA                </td><td>0.0                  </td><td>nan              </td><td>nan               </td><td>nan               </td><td>nan               </td><td>nan                </td><td>YES           </td><td>YES           </td></tr>\n",
       "<tr><td>5      </td><td>1987.0            </td><td>10.0              </td><td>21.0              </td><td>3.0               </td><td>728.0            </td><td>730.0             </td><td>848.0            </td><td>849.0             </td><td>PS             </td><td>1451.0           </td><td>NA       </td><td>80.0               </td><td>79.0              </td><td>nan               </td><td>-1.0              </td><td>-2.0              </td><td>SAN     </td><td>SFO   </td><td>447.0            </td><td>nan              </td><td>nan              </td><td>0.0                 </td><td>NA                </td><td>0.0                  </td><td>nan              </td><td>nan               </td><td>nan               </td><td>nan               </td><td>nan                </td><td>NO            </td><td>NO            </td></tr>\n",
       "<tr><td>6      </td><td>1987.0            </td><td>10.0              </td><td>22.0              </td><td>4.0               </td><td>728.0            </td><td>730.0             </td><td>852.0            </td><td>849.0             </td><td>PS             </td><td>1451.0           </td><td>NA       </td><td>84.0               </td><td>79.0              </td><td>nan               </td><td>3.0               </td><td>-2.0              </td><td>SAN     </td><td>SFO   </td><td>447.0            </td><td>nan              </td><td>nan              </td><td>0.0                 </td><td>NA                </td><td>0.0                  </td><td>nan              </td><td>nan               </td><td>nan               </td><td>nan               </td><td>nan                </td><td>YES           </td><td>NO            </td></tr>\n",
       "<tr><td>7      </td><td>1987.0            </td><td>10.0              </td><td>23.0              </td><td>5.0               </td><td>731.0            </td><td>730.0             </td><td>902.0            </td><td>849.0             </td><td>PS             </td><td>1451.0           </td><td>NA       </td><td>91.0               </td><td>79.0              </td><td>nan               </td><td>13.0              </td><td>1.0               </td><td>SAN     </td><td>SFO   </td><td>447.0            </td><td>nan              </td><td>nan              </td><td>0.0                 </td><td>NA                </td><td>0.0                  </td><td>nan              </td><td>nan               </td><td>nan               </td><td>nan               </td><td>nan                </td><td>YES           </td><td>YES           </td></tr>\n",
       "<tr><td>8      </td><td>1987.0            </td><td>10.0              </td><td>24.0              </td><td>6.0               </td><td>744.0            </td><td>730.0             </td><td>908.0            </td><td>849.0             </td><td>PS             </td><td>1451.0           </td><td>NA       </td><td>84.0               </td><td>79.0              </td><td>nan               </td><td>19.0              </td><td>14.0              </td><td>SAN     </td><td>SFO   </td><td>447.0            </td><td>nan              </td><td>nan              </td><td>0.0                 </td><td>NA                </td><td>0.0                  </td><td>nan              </td><td>nan               </td><td>nan               </td><td>nan               </td><td>nan                </td><td>YES           </td><td>YES           </td></tr>\n",
       "<tr><td>9      </td><td>1987.0            </td><td>10.0              </td><td>25.0              </td><td>7.0               </td><td>729.0            </td><td>730.0             </td><td>851.0            </td><td>849.0             </td><td>PS             </td><td>1451.0           </td><td>NA       </td><td>82.0               </td><td>79.0              </td><td>nan               </td><td>2.0               </td><td>-1.0              </td><td>SAN     </td><td>SFO   </td><td>447.0            </td><td>nan              </td><td>nan              </td><td>0.0                 </td><td>NA                </td><td>0.0                  </td><td>nan              </td><td>nan               </td><td>nan               </td><td>nan               </td><td>nan                </td><td>YES           </td><td>NO            </td></tr>\n",
       "</tbody>\n",
       "</table>"
      ]
     },
     "metadata": {},
     "output_type": "display_data"
    }
   ],
   "source": [
    "data.summary()"
   ]
  },
  {
   "cell_type": "code",
   "execution_count": 5,
   "metadata": {},
   "outputs": [
    {
     "data": {
      "text/plain": [
       "43978"
      ]
     },
     "execution_count": 5,
     "metadata": {},
     "output_type": "execute_result"
    }
   ],
   "source": [
    "data.nrows"
   ]
  },
  {
   "cell_type": "code",
   "execution_count": 6,
   "metadata": {},
   "outputs": [],
   "source": [
    "# if we need to convert numeric to factor or factor to numeric, these are the functions\n",
    "# we don't need them right now, so commented out\n",
    "#data['xxx'] = data['xxx'].asfactor()\n",
    "#data['xxx'] = data['xxx'].asnumeric()"
   ]
  },
  {
   "cell_type": "code",
   "execution_count": 7,
   "metadata": {},
   "outputs": [
    {
     "data": {
      "text/plain": [
       "[114.31611109078231]"
      ]
     },
     "execution_count": 7,
     "metadata": {},
     "output_type": "execute_result"
    }
   ],
   "source": [
    "data[:,'AirTime'].mean()"
   ]
  },
  {
   "cell_type": "code",
   "execution_count": 8,
   "metadata": {},
   "outputs": [
    {
     "data": {
      "text/html": [
       "<table>\n",
       "<thead>\n",
       "<tr><th>       </th><th>AirTime           </th></tr>\n",
       "</thead>\n",
       "<tbody>\n",
       "<tr><td>type   </td><td>int               </td></tr>\n",
       "<tr><td>mins   </td><td>14.0              </td></tr>\n",
       "<tr><td>mean   </td><td>114.31611109078231</td></tr>\n",
       "<tr><td>maxs   </td><td>402.0             </td></tr>\n",
       "<tr><td>sigma  </td><td>69.6363295150612  </td></tr>\n",
       "<tr><td>zeros  </td><td>0                 </td></tr>\n",
       "<tr><td>missing</td><td>16649             </td></tr>\n",
       "<tr><td>0      </td><td>nan               </td></tr>\n",
       "<tr><td>1      </td><td>nan               </td></tr>\n",
       "<tr><td>2      </td><td>nan               </td></tr>\n",
       "<tr><td>3      </td><td>nan               </td></tr>\n",
       "<tr><td>4      </td><td>nan               </td></tr>\n",
       "<tr><td>5      </td><td>nan               </td></tr>\n",
       "<tr><td>6      </td><td>nan               </td></tr>\n",
       "<tr><td>7      </td><td>nan               </td></tr>\n",
       "<tr><td>8      </td><td>nan               </td></tr>\n",
       "<tr><td>9      </td><td>nan               </td></tr>\n",
       "</tbody>\n",
       "</table>"
      ]
     },
     "metadata": {},
     "output_type": "display_data"
    }
   ],
   "source": [
    "# can use this to see min and max\n",
    "data[:,'AirTime'].summary()"
   ]
  },
  {
   "cell_type": "code",
   "execution_count": 9,
   "metadata": {},
   "outputs": [
    {
     "data": {
      "image/png": "[encoded data removed]",
      "text/plain": [
       "<Figure size 432x288 with 1 Axes>"
      ]
     },
     "metadata": {
      "needs_background": "light"
     },
     "output_type": "display_data"
    }
   ],
   "source": [
    "# note the long tail in delays\n",
    "data[:,'ArrDelay'].hist()"
   ]
  },
  {
   "cell_type": "code",
   "execution_count": 10,
   "metadata": {},
   "outputs": [
    {
     "data": {
      "text/plain": [
       "True"
      ]
     },
     "execution_count": 10,
     "metadata": {},
     "output_type": "execute_result"
    }
   ],
   "source": [
    "# check if any arrival delays exceeded 360 minutes\n",
    "data[data[:,'ArrDelay'] > 360].any()"
   ]
  },
  {
   "cell_type": "code",
   "execution_count": 11,
   "metadata": {},
   "outputs": [
    {
     "data": {
      "text/html": [
       "<table>\n",
       "<thead>\n",
       "<tr><th style=\"text-align: right;\">  Year</th><th style=\"text-align: right;\">  Month</th><th style=\"text-align: right;\">  DayofMonth</th><th style=\"text-align: right;\">  DayOfWeek</th><th style=\"text-align: right;\">  DepTime</th><th style=\"text-align: right;\">  CRSDepTime</th><th style=\"text-align: right;\">  ArrTime</th><th style=\"text-align: right;\">  CRSArrTime</th><th>UniqueCarrier  </th><th style=\"text-align: right;\">  FlightNum</th><th>TailNum  </th><th style=\"text-align: right;\">  ActualElapsedTime</th><th style=\"text-align: right;\">  CRSElapsedTime</th><th style=\"text-align: right;\">  AirTime</th><th style=\"text-align: right;\">  ArrDelay</th><th style=\"text-align: right;\">  DepDelay</th><th>Origin  </th><th>Dest  </th><th style=\"text-align: right;\">  Distance</th><th style=\"text-align: right;\">  TaxiIn</th><th style=\"text-align: right;\">  TaxiOut</th><th style=\"text-align: right;\">  Cancelled</th><th>CancellationCode  </th><th style=\"text-align: right;\">  Diverted</th><th style=\"text-align: right;\">  CarrierDelay</th><th style=\"text-align: right;\">  WeatherDelay</th><th style=\"text-align: right;\">  NASDelay</th><th style=\"text-align: right;\">  SecurityDelay</th><th style=\"text-align: right;\">  LateAircraftDelay</th><th>IsArrDelayed  </th><th>IsDepDelayed  </th></tr>\n",
       "</thead>\n",
       "<tbody>\n",
       "<tr><td style=\"text-align: right;\">  1996</td><td style=\"text-align: right;\">      1</td><td style=\"text-align: right;\">           1</td><td style=\"text-align: right;\">          1</td><td style=\"text-align: right;\">     1613</td><td style=\"text-align: right;\">         835</td><td style=\"text-align: right;\">     1838</td><td style=\"text-align: right;\">        1043</td><td>HP             </td><td style=\"text-align: right;\">         20</td><td>N913AW   </td><td style=\"text-align: right;\">                265</td><td style=\"text-align: right;\">             248</td><td style=\"text-align: right;\">      228</td><td style=\"text-align: right;\">       475</td><td style=\"text-align: right;\">       458</td><td>ATL     </td><td>PHX   </td><td style=\"text-align: right;\">      1587</td><td style=\"text-align: right;\">       6</td><td style=\"text-align: right;\">       31</td><td style=\"text-align: right;\">          0</td><td>NA                </td><td style=\"text-align: right;\">         0</td><td style=\"text-align: right;\">           nan</td><td style=\"text-align: right;\">           nan</td><td style=\"text-align: right;\">       nan</td><td style=\"text-align: right;\">            nan</td><td style=\"text-align: right;\">                nan</td><td>YES           </td><td>YES           </td></tr>\n",
       "<tr><td style=\"text-align: right;\">  1996</td><td style=\"text-align: right;\">      1</td><td style=\"text-align: right;\">           1</td><td style=\"text-align: right;\">          1</td><td style=\"text-align: right;\">     2203</td><td style=\"text-align: right;\">           0</td><td style=\"text-align: right;\">      314</td><td style=\"text-align: right;\">           0</td><td>AA             </td><td style=\"text-align: right;\">         79</td><td>N621AA   </td><td style=\"text-align: right;\">                371</td><td style=\"text-align: right;\">             155</td><td style=\"text-align: right;\">      111</td><td style=\"text-align: right;\">       410</td><td style=\"text-align: right;\">       194</td><td>DFW     </td><td>PHX   </td><td style=\"text-align: right;\">       868</td><td style=\"text-align: right;\">       6</td><td style=\"text-align: right;\">      254</td><td style=\"text-align: right;\">          0</td><td>NA                </td><td style=\"text-align: right;\">         0</td><td style=\"text-align: right;\">           nan</td><td style=\"text-align: right;\">           nan</td><td style=\"text-align: right;\">       nan</td><td style=\"text-align: right;\">            nan</td><td style=\"text-align: right;\">                nan</td><td>YES           </td><td>YES           </td></tr>\n",
       "<tr><td style=\"text-align: right;\">  1998</td><td style=\"text-align: right;\">      1</td><td style=\"text-align: right;\">          11</td><td style=\"text-align: right;\">          7</td><td style=\"text-align: right;\">     1334</td><td style=\"text-align: right;\">         710</td><td style=\"text-align: right;\">     1721</td><td style=\"text-align: right;\">         931</td><td>HP             </td><td style=\"text-align: right;\">       2404</td><td>N175AW   </td><td style=\"text-align: right;\">                167</td><td style=\"text-align: right;\">              81</td><td style=\"text-align: right;\">       69</td><td style=\"text-align: right;\">       470</td><td style=\"text-align: right;\">       384</td><td>BUR     </td><td>PHX   </td><td style=\"text-align: right;\">       369</td><td style=\"text-align: right;\">      88</td><td style=\"text-align: right;\">       10</td><td style=\"text-align: right;\">          0</td><td>NA                </td><td style=\"text-align: right;\">         0</td><td style=\"text-align: right;\">           nan</td><td style=\"text-align: right;\">           nan</td><td style=\"text-align: right;\">       nan</td><td style=\"text-align: right;\">            nan</td><td style=\"text-align: right;\">                nan</td><td>YES           </td><td>YES           </td></tr>\n",
       "<tr><td style=\"text-align: right;\">  1999</td><td style=\"text-align: right;\">      1</td><td style=\"text-align: right;\">           9</td><td style=\"text-align: right;\">          6</td><td style=\"text-align: right;\">     1228</td><td style=\"text-align: right;\">         810</td><td style=\"text-align: right;\">     1521</td><td style=\"text-align: right;\">         920</td><td>US             </td><td style=\"text-align: right;\">       1268</td><td>N428US   </td><td style=\"text-align: right;\">                173</td><td style=\"text-align: right;\">              70</td><td style=\"text-align: right;\">       56</td><td style=\"text-align: right;\">       361</td><td style=\"text-align: right;\">       258</td><td>ROC     </td><td>PHL   </td><td style=\"text-align: right;\">       257</td><td style=\"text-align: right;\">      20</td><td style=\"text-align: right;\">       97</td><td style=\"text-align: right;\">          0</td><td>NA                </td><td style=\"text-align: right;\">         0</td><td style=\"text-align: right;\">           nan</td><td style=\"text-align: right;\">           nan</td><td style=\"text-align: right;\">       nan</td><td style=\"text-align: right;\">            nan</td><td style=\"text-align: right;\">                nan</td><td>YES           </td><td>YES           </td></tr>\n",
       "<tr><td style=\"text-align: right;\">  1999</td><td style=\"text-align: right;\">      1</td><td style=\"text-align: right;\">           4</td><td style=\"text-align: right;\">          1</td><td style=\"text-align: right;\">     1848</td><td style=\"text-align: right;\">        1055</td><td style=\"text-align: right;\">     2124</td><td style=\"text-align: right;\">        1344</td><td>AA             </td><td style=\"text-align: right;\">       1020</td><td>N867AA   </td><td style=\"text-align: right;\">                216</td><td style=\"text-align: right;\">             229</td><td style=\"text-align: right;\">      192</td><td style=\"text-align: right;\">       460</td><td style=\"text-align: right;\">       473</td><td>SJU     </td><td>PHL   </td><td style=\"text-align: right;\">      1576</td><td style=\"text-align: right;\">       5</td><td style=\"text-align: right;\">       19</td><td style=\"text-align: right;\">          0</td><td>NA                </td><td style=\"text-align: right;\">         0</td><td style=\"text-align: right;\">           nan</td><td style=\"text-align: right;\">           nan</td><td style=\"text-align: right;\">       nan</td><td style=\"text-align: right;\">            nan</td><td style=\"text-align: right;\">                nan</td><td>YES           </td><td>YES           </td></tr>\n",
       "<tr><td style=\"text-align: right;\">  1999</td><td style=\"text-align: right;\">      1</td><td style=\"text-align: right;\">          15</td><td style=\"text-align: right;\">          5</td><td style=\"text-align: right;\">     2156</td><td style=\"text-align: right;\">        1535</td><td style=\"text-align: right;\">       46</td><td style=\"text-align: right;\">        1841</td><td>US             </td><td style=\"text-align: right;\">       1844</td><td>N784AU   </td><td style=\"text-align: right;\">                230</td><td style=\"text-align: right;\">             246</td><td style=\"text-align: right;\">      210</td><td style=\"text-align: right;\">       365</td><td style=\"text-align: right;\">       381</td><td>SJU     </td><td>PHL   </td><td style=\"text-align: right;\">      1576</td><td style=\"text-align: right;\">       4</td><td style=\"text-align: right;\">       16</td><td style=\"text-align: right;\">          0</td><td>NA                </td><td style=\"text-align: right;\">         0</td><td style=\"text-align: right;\">           nan</td><td style=\"text-align: right;\">           nan</td><td style=\"text-align: right;\">       nan</td><td style=\"text-align: right;\">            nan</td><td style=\"text-align: right;\">                nan</td><td>YES           </td><td>YES           </td></tr>\n",
       "<tr><td style=\"text-align: right;\">  2000</td><td style=\"text-align: right;\">      1</td><td style=\"text-align: right;\">          20</td><td style=\"text-align: right;\">          4</td><td style=\"text-align: right;\">     1345</td><td style=\"text-align: right;\">         755</td><td style=\"text-align: right;\">     1709</td><td style=\"text-align: right;\">        1100</td><td>WN             </td><td style=\"text-align: right;\">        113</td><td>N736     </td><td style=\"text-align: right;\">                324</td><td style=\"text-align: right;\">             305</td><td style=\"text-align: right;\">      302</td><td style=\"text-align: right;\">       369</td><td style=\"text-align: right;\">       350</td><td>BWI     </td><td>PHX   </td><td style=\"text-align: right;\">      1999</td><td style=\"text-align: right;\">       7</td><td style=\"text-align: right;\">       15</td><td style=\"text-align: right;\">          0</td><td>NA                </td><td style=\"text-align: right;\">         0</td><td style=\"text-align: right;\">           nan</td><td style=\"text-align: right;\">           nan</td><td style=\"text-align: right;\">       nan</td><td style=\"text-align: right;\">            nan</td><td style=\"text-align: right;\">                nan</td><td>YES           </td><td>YES           </td></tr>\n",
       "<tr><td style=\"text-align: right;\">  2004</td><td style=\"text-align: right;\">      1</td><td style=\"text-align: right;\">           2</td><td style=\"text-align: right;\">          5</td><td style=\"text-align: right;\">     2237</td><td style=\"text-align: right;\">        1601</td><td style=\"text-align: right;\">       28</td><td style=\"text-align: right;\">        1815</td><td>UA             </td><td style=\"text-align: right;\">        498</td><td>N338UA   </td><td style=\"text-align: right;\">                111</td><td style=\"text-align: right;\">             134</td><td style=\"text-align: right;\">       99</td><td style=\"text-align: right;\">       373</td><td style=\"text-align: right;\">       396</td><td>DFW     </td><td>ORD   </td><td style=\"text-align: right;\">       802</td><td style=\"text-align: right;\">       3</td><td style=\"text-align: right;\">        9</td><td style=\"text-align: right;\">          0</td><td>                  </td><td style=\"text-align: right;\">         0</td><td style=\"text-align: right;\">             0</td><td style=\"text-align: right;\">             0</td><td style=\"text-align: right;\">         0</td><td style=\"text-align: right;\">              0</td><td style=\"text-align: right;\">                373</td><td>YES           </td><td>YES           </td></tr>\n",
       "<tr><td style=\"text-align: right;\">  2005</td><td style=\"text-align: right;\">      1</td><td style=\"text-align: right;\">          10</td><td style=\"text-align: right;\">          1</td><td style=\"text-align: right;\">     1328</td><td style=\"text-align: right;\">         719</td><td style=\"text-align: right;\">     1538</td><td style=\"text-align: right;\">         859</td><td>UA             </td><td style=\"text-align: right;\">        563</td><td>N325UA   </td><td style=\"text-align: right;\">                190</td><td style=\"text-align: right;\">             160</td><td style=\"text-align: right;\">      154</td><td style=\"text-align: right;\">       399</td><td style=\"text-align: right;\">       369</td><td>MHT     </td><td>ORD   </td><td style=\"text-align: right;\">       843</td><td style=\"text-align: right;\">       8</td><td style=\"text-align: right;\">       28</td><td style=\"text-align: right;\">          0</td><td>                  </td><td style=\"text-align: right;\">         0</td><td style=\"text-align: right;\">           369</td><td style=\"text-align: right;\">             0</td><td style=\"text-align: right;\">        30</td><td style=\"text-align: right;\">              0</td><td style=\"text-align: right;\">                  0</td><td>YES           </td><td>YES           </td></tr>\n",
       "</tbody>\n",
       "</table>"
      ]
     },
     "metadata": {},
     "output_type": "display_data"
    },
    {
     "data": {
      "text/plain": []
     },
     "execution_count": 11,
     "metadata": {},
     "output_type": "execute_result"
    }
   ],
   "source": [
    "# view those rows\n",
    "data[data[:,'ArrDelay'] > 360]"
   ]
  },
  {
   "cell_type": "code",
   "execution_count": 12,
   "metadata": {},
   "outputs": [
    {
     "data": {
      "text/html": [
       "<table>\n",
       "<thead>\n",
       "<tr><th style=\"text-align: right;\">   C1</th></tr>\n",
       "</thead>\n",
       "<tbody>\n",
       "<tr><td style=\"text-align: right;\">17991</td></tr>\n",
       "<tr><td style=\"text-align: right;\">17992</td></tr>\n",
       "<tr><td style=\"text-align: right;\">17993</td></tr>\n",
       "<tr><td style=\"text-align: right;\">17994</td></tr>\n",
       "<tr><td style=\"text-align: right;\">17995</td></tr>\n",
       "<tr><td style=\"text-align: right;\">17996</td></tr>\n",
       "<tr><td style=\"text-align: right;\">17997</td></tr>\n",
       "<tr><td style=\"text-align: right;\">17998</td></tr>\n",
       "<tr><td style=\"text-align: right;\">17999</td></tr>\n",
       "<tr><td style=\"text-align: right;\">18000</td></tr>\n",
       "</tbody>\n",
       "</table>"
      ]
     },
     "metadata": {},
     "output_type": "display_data"
    },
    {
     "data": {
      "text/plain": []
     },
     "execution_count": 12,
     "metadata": {},
     "output_type": "execute_result"
    }
   ],
   "source": [
    "# use grep to return indicies of elements matching the regex pattern\n",
    "data[:,'UniqueCarrier'].grep(\"[C-E]\")"
   ]
  },
  {
   "cell_type": "code",
   "execution_count": 13,
   "metadata": {},
   "outputs": [
    {
     "data": {
      "text/html": [
       "<table>\n",
       "<thead>\n",
       "<tr><th>UniqueCarrier  </th></tr>\n",
       "</thead>\n",
       "<tbody>\n",
       "<tr><td>DL             </td></tr>\n",
       "<tr><td>DL             </td></tr>\n",
       "<tr><td>DL             </td></tr>\n",
       "<tr><td>DL             </td></tr>\n",
       "<tr><td>DL             </td></tr>\n",
       "<tr><td>DL             </td></tr>\n",
       "<tr><td>DL             </td></tr>\n",
       "<tr><td>DL             </td></tr>\n",
       "<tr><td>DL             </td></tr>\n",
       "<tr><td>DL             </td></tr>\n",
       "</tbody>\n",
       "</table>"
      ]
     },
     "metadata": {},
     "output_type": "display_data"
    },
    {
     "data": {
      "text/plain": []
     },
     "execution_count": 13,
     "metadata": {},
     "output_type": "execute_result"
    }
   ],
   "source": [
    "# use output_logical parameter with grep\n",
    "tmp = data[:,'UniqueCarrier']\n",
    "tmp[tmp.grep(\"[C-E]\", output_logical=True)]"
   ]
  },
  {
   "cell_type": "code",
   "execution_count": 14,
   "metadata": {},
   "outputs": [
    {
     "data": {
      "text/html": [
       "<table>\n",
       "<thead>\n",
       "<tr><th style=\"text-align: right;\">  ArrDelay0</th><th style=\"text-align: right;\">  DepDelay0</th><th style=\"text-align: right;\">  AirTime0</th></tr>\n",
       "</thead>\n",
       "<tbody>\n",
       "<tr><td style=\"text-align: right;\">  1        </td><td style=\"text-align: right;\">  0.907564 </td><td style=\"text-align: right;\"> 0.0836881</td></tr>\n",
       "<tr><td style=\"text-align: right;\">  0.907564 </td><td style=\"text-align: right;\">  1        </td><td style=\"text-align: right;\"> 0.0619647</td></tr>\n",
       "<tr><td style=\"text-align: right;\">  0.0836881</td><td style=\"text-align: right;\">  0.0619647</td><td style=\"text-align: right;\"> 1        </td></tr>\n",
       "</tbody>\n",
       "</table>"
      ]
     },
     "metadata": {},
     "output_type": "display_data"
    },
    {
     "data": {
      "text/plain": []
     },
     "execution_count": 14,
     "metadata": {},
     "output_type": "execute_result"
    }
   ],
   "source": [
    "# look at correlations\n",
    "data[:,['ArrDelay', 'DepDelay', 'AirTime']].cor(na_rm=True)"
   ]
  },
  {
   "cell_type": "code",
   "execution_count": 15,
   "metadata": {},
   "outputs": [
    {
     "data": {
      "text/plain": [
       "['AA', 'CO', 'DL', 'HP', 'PI', 'PS', 'TW', 'UA', 'US', 'WN']"
      ]
     },
     "execution_count": 15,
     "metadata": {},
     "output_type": "execute_result"
    }
   ],
   "source": [
    "# see categories included in a particular column\n",
    "data['UniqueCarrier'].categories()"
   ]
  },
  {
   "cell_type": "code",
   "execution_count": null,
   "metadata": {},
   "outputs": [],
   "source": []
  }
 ],
 "metadata": {
  "kernelspec": {
   "display_name": "h2oclass",
   "language": "python",
   "name": "h2oclass"
  },
  "language_info": {
   "codemirror_mode": {
    "name": "ipython",
    "version": 3
   },
   "file_extension": ".py",
   "mimetype": "text/x-python",
   "name": "python",
   "nbconvert_exporter": "python",
   "pygments_lexer": "ipython3",
   "version": "3.7.3"
  }
 },
 "nbformat": 4,
 "nbformat_minor": 4
}
