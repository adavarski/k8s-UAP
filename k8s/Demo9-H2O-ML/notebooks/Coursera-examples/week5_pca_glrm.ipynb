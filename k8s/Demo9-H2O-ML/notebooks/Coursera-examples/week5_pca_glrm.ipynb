{
 "cells": [
  {
   "cell_type": "markdown",
   "metadata": {},
   "source": [
    "# Week 5 - PCA and GLRM"
   ]
  },
  {
   "cell_type": "code",
   "execution_count": 1,
   "metadata": {},
   "outputs": [],
   "source": [
    "import h2o\n",
    "import matplotlib.pyplot as plt\n",
    "%matplotlib inline"
   ]
  },
  {
   "cell_type": "code",
   "execution_count": 2,
   "metadata": {},
   "outputs": [
    {
     "name": "stdout",
     "output_type": "stream",
     "text": [
      "Checking whether there is an H2O instance running at http://localhost:54321 ..... not found.\n",
      "Attempting to start a local H2O server...\n",
      "  Java Version: openjdk version \"1.8.0_232\"; OpenJDK Runtime Environment (build 1.8.0_232-8u232-b09-0ubuntu1~19.04.1-b09); OpenJDK 64-Bit Server VM (build 25.232-b09, mixed mode)\n",
      "  Starting server from /home/megan/Projects/h2oclass/lib/python3.7/site-packages/h2o/backend/bin/h2o.jar\n",
      "  Ice root: /tmp/tmp692_qinb\n",
      "  JVM stdout: /tmp/tmp692_qinb/h2o_megan_started_from_python.out\n",
      "  JVM stderr: /tmp/tmp692_qinb/h2o_megan_started_from_python.err\n",
      "  Server is running at http://127.0.0.1:54321\n",
      "Connecting to H2O server at http://127.0.0.1:54321 ... successful.\n"
     ]
    },
    {
     "data": {
      "text/html": [
       "<div style=\"overflow:auto\"><table style=\"width:50%\"><tr><td>H2O cluster uptime:</td>\n",
       "<td>01 secs</td></tr>\n",
       "<tr><td>H2O cluster timezone:</td>\n",
       "<td>America/Chicago</td></tr>\n",
       "<tr><td>H2O data parsing timezone:</td>\n",
       "<td>UTC</td></tr>\n",
       "<tr><td>H2O cluster version:</td>\n",
       "<td>3.28.0.3</td></tr>\n",
       "<tr><td>H2O cluster version age:</td>\n",
       "<td>17 days </td></tr>\n",
       "<tr><td>H2O cluster name:</td>\n",
       "<td>H2O_from_python_megan_1bt9wq</td></tr>\n",
       "<tr><td>H2O cluster total nodes:</td>\n",
       "<td>1</td></tr>\n",
       "<tr><td>H2O cluster free memory:</td>\n",
       "<td>1.520 Gb</td></tr>\n",
       "<tr><td>H2O cluster total cores:</td>\n",
       "<td>3</td></tr>\n",
       "<tr><td>H2O cluster allowed cores:</td>\n",
       "<td>3</td></tr>\n",
       "<tr><td>H2O cluster status:</td>\n",
       "<td>accepting new members, healthy</td></tr>\n",
       "<tr><td>H2O connection url:</td>\n",
       "<td>http://127.0.0.1:54321</td></tr>\n",
       "<tr><td>H2O connection proxy:</td>\n",
       "<td>{'http': None, 'https': None}</td></tr>\n",
       "<tr><td>H2O internal security:</td>\n",
       "<td>False</td></tr>\n",
       "<tr><td>H2O API Extensions:</td>\n",
       "<td>Amazon S3, XGBoost, Algos, AutoML, Core V3, TargetEncoder, Core V4</td></tr>\n",
       "<tr><td>Python version:</td>\n",
       "<td>3.7.3 final</td></tr></table></div>"
      ],
      "text/plain": [
       "--------------------------  ------------------------------------------------------------------\n",
       "H2O cluster uptime:         01 secs\n",
       "H2O cluster timezone:       America/Chicago\n",
       "H2O data parsing timezone:  UTC\n",
       "H2O cluster version:        3.28.0.3\n",
       "H2O cluster version age:    17 days\n",
       "H2O cluster name:           H2O_from_python_megan_1bt9wq\n",
       "H2O cluster total nodes:    1\n",
       "H2O cluster free memory:    1.520 Gb\n",
       "H2O cluster total cores:    3\n",
       "H2O cluster allowed cores:  3\n",
       "H2O cluster status:         accepting new members, healthy\n",
       "H2O connection url:         http://127.0.0.1:54321\n",
       "H2O connection proxy:       {'http': None, 'https': None}\n",
       "H2O internal security:      False\n",
       "H2O API Extensions:         Amazon S3, XGBoost, Algos, AutoML, Core V3, TargetEncoder, Core V4\n",
       "Python version:             3.7.3 final\n",
       "--------------------------  ------------------------------------------------------------------"
      ]
     },
     "metadata": {},
     "output_type": "display_data"
    }
   ],
   "source": [
    "h2o.init()"
   ]
  },
  {
   "cell_type": "code",
   "execution_count": 3,
   "metadata": {},
   "outputs": [
    {
     "name": "stdout",
     "output_type": "stream",
     "text": [
      "Parse progress: |█████████████████████████████████████████████████████████| 100%\n"
     ]
    }
   ],
   "source": [
    "# load the iris dataset\n",
    "url = 'http://h2o-public-test-data.s3.amazonaws.com/smalldata/iris/iris_wheader.csv'\n",
    "iris = h2o.import_file(url)"
   ]
  },
  {
   "cell_type": "code",
   "execution_count": 4,
   "metadata": {},
   "outputs": [],
   "source": [
    "# split the data into train and test\n",
    "train, test = iris.split_frame([0.8], seed=123)"
   ]
  },
  {
   "cell_type": "code",
   "execution_count": 5,
   "metadata": {},
   "outputs": [],
   "source": [
    "x = ['sepal_len', 'sepal_wid', 'petal_len', 'petal_wid']"
   ]
  },
  {
   "cell_type": "code",
   "execution_count": 6,
   "metadata": {},
   "outputs": [],
   "source": [
    "from h2o.estimators.pca import H2OPrincipalComponentAnalysisEstimator"
   ]
  },
  {
   "cell_type": "code",
   "execution_count": 7,
   "metadata": {},
   "outputs": [
    {
     "name": "stdout",
     "output_type": "stream",
     "text": [
      "pca Model Build progress: |███████████████████████████████████████████████| 100%\n"
     ]
    }
   ],
   "source": [
    "m_PCA = H2OPrincipalComponentAnalysisEstimator(\n",
    "    k=4,\n",
    "    impute_missing=True\n",
    ")\n",
    "m_PCA.train(x, training_frame=train)"
   ]
  },
  {
   "cell_type": "code",
   "execution_count": 8,
   "metadata": {
    "scrolled": true
   },
   "outputs": [
    {
     "name": "stdout",
     "output_type": "stream",
     "text": [
      "Model Details\n",
      "=============\n",
      "H2OPrincipalComponentAnalysisEstimator :  Principal Components Analysis\n",
      "Model Key:  PCA_model_python_1582484604057_1\n",
      "\n",
      "\n",
      "Importance of components: \n"
     ]
    },
    {
     "data": {
      "text/html": [
       "<div>\n",
       "<style scoped>\n",
       "    .dataframe tbody tr th:only-of-type {\n",
       "        vertical-align: middle;\n",
       "    }\n",
       "\n",
       "    .dataframe tbody tr th {\n",
       "        vertical-align: top;\n",
       "    }\n",
       "\n",
       "    .dataframe thead th {\n",
       "        text-align: right;\n",
       "    }\n",
       "</style>\n",
       "<table border=\"1\" class=\"dataframe\">\n",
       "  <thead>\n",
       "    <tr style=\"text-align: right;\">\n",
       "      <th></th>\n",
       "      <th></th>\n",
       "      <th>pc1</th>\n",
       "      <th>pc2</th>\n",
       "      <th>pc3</th>\n",
       "      <th>pc4</th>\n",
       "    </tr>\n",
       "  </thead>\n",
       "  <tbody>\n",
       "    <tr>\n",
       "      <th>0</th>\n",
       "      <td>Standard deviation</td>\n",
       "      <td>7.845615</td>\n",
       "      <td>1.465103</td>\n",
       "      <td>0.283542</td>\n",
       "      <td>0.152689</td>\n",
       "    </tr>\n",
       "    <tr>\n",
       "      <th>1</th>\n",
       "      <td>Proportion of Variance</td>\n",
       "      <td>0.964732</td>\n",
       "      <td>0.033643</td>\n",
       "      <td>0.001260</td>\n",
       "      <td>0.000365</td>\n",
       "    </tr>\n",
       "    <tr>\n",
       "      <th>2</th>\n",
       "      <td>Cumulative Proportion</td>\n",
       "      <td>0.964732</td>\n",
       "      <td>0.998375</td>\n",
       "      <td>0.999635</td>\n",
       "      <td>1.000000</td>\n",
       "    </tr>\n",
       "  </tbody>\n",
       "</table>\n",
       "</div>"
      ],
      "text/plain": [
       "                                pc1       pc2       pc3       pc4\n",
       "0      Standard deviation  7.845615  1.465103  0.283542  0.152689\n",
       "1  Proportion of Variance  0.964732  0.033643  0.001260  0.000365\n",
       "2   Cumulative Proportion  0.964732  0.998375  0.999635  1.000000"
      ]
     },
     "metadata": {},
     "output_type": "display_data"
    },
    {
     "name": "stdout",
     "output_type": "stream",
     "text": [
      "\n",
      "\n",
      "ModelMetricsPCA: pca\n",
      "** Reported on train data. **\n",
      "\n",
      "MSE: NaN\n",
      "RMSE: NaN\n",
      "\n",
      "Scoring History for GramSVD: \n"
     ]
    },
    {
     "data": {
      "text/html": [
       "<div>\n",
       "<style scoped>\n",
       "    .dataframe tbody tr th:only-of-type {\n",
       "        vertical-align: middle;\n",
       "    }\n",
       "\n",
       "    .dataframe tbody tr th {\n",
       "        vertical-align: top;\n",
       "    }\n",
       "\n",
       "    .dataframe thead th {\n",
       "        text-align: right;\n",
       "    }\n",
       "</style>\n",
       "<table border=\"1\" class=\"dataframe\">\n",
       "  <thead>\n",
       "    <tr style=\"text-align: right;\">\n",
       "      <th></th>\n",
       "      <th></th>\n",
       "      <th>timestamp</th>\n",
       "      <th>duration</th>\n",
       "      <th>iterations</th>\n",
       "    </tr>\n",
       "  </thead>\n",
       "  <tbody>\n",
       "    <tr>\n",
       "      <th>0</th>\n",
       "      <td></td>\n",
       "      <td>2020-02-23 13:03:27</td>\n",
       "      <td>0.225 sec</td>\n",
       "      <td>0.0</td>\n",
       "    </tr>\n",
       "  </tbody>\n",
       "</table>\n",
       "</div>"
      ],
      "text/plain": [
       "               timestamp    duration  iterations\n",
       "0    2020-02-23 13:03:27   0.225 sec         0.0"
      ]
     },
     "metadata": {},
     "output_type": "display_data"
    },
    {
     "data": {
      "text/plain": []
     },
     "execution_count": 8,
     "metadata": {},
     "output_type": "execute_result"
    }
   ],
   "source": [
    "# note that PC1 has most of the variance\n",
    "m_PCA"
   ]
  },
  {
   "cell_type": "code",
   "execution_count": 9,
   "metadata": {},
   "outputs": [
    {
     "name": "stdout",
     "output_type": "stream",
     "text": [
      "pca prediction progress: |████████████████████████████████████████████████| 100%\n"
     ]
    }
   ],
   "source": [
    "p_PCA = m_PCA.predict(train)"
   ]
  },
  {
   "cell_type": "code",
   "execution_count": 10,
   "metadata": {
    "scrolled": true
   },
   "outputs": [
    {
     "data": {
      "text/html": [
       "<table>\n",
       "<thead>\n",
       "<tr><th style=\"text-align: right;\">     PC1</th><th style=\"text-align: right;\">     PC2</th><th style=\"text-align: right;\">        PC3</th><th style=\"text-align: right;\">        PC4</th></tr>\n",
       "</thead>\n",
       "<tbody>\n",
       "<tr><td style=\"text-align: right;\">-5.92388</td><td style=\"text-align: right;\">-2.27321</td><td style=\"text-align: right;\"> 0.00906424</td><td style=\"text-align: right;\"> 0.0102666 </td></tr>\n",
       "<tr><td style=\"text-align: right;\">-5.58167</td><td style=\"text-align: right;\">-1.9451 </td><td style=\"text-align: right;\"> 0.248911  </td><td style=\"text-align: right;\"> 0.0980796 </td></tr>\n",
       "<tr><td style=\"text-align: right;\">-5.45711</td><td style=\"text-align: right;\">-2.06859</td><td style=\"text-align: right;\"> 0.0169814 </td><td style=\"text-align: right;\"> 0.0242793 </td></tr>\n",
       "<tr><td style=\"text-align: right;\">-5.44535</td><td style=\"text-align: right;\">-1.84451</td><td style=\"text-align: right;\"> 0.0214509 </td><td style=\"text-align: right;\">-0.073854  </td></tr>\n",
       "<tr><td style=\"text-align: right;\">-5.88705</td><td style=\"text-align: right;\">-2.29954</td><td style=\"text-align: right;\">-0.110143  </td><td style=\"text-align: right;\">-0.0508871 </td></tr>\n",
       "<tr><td style=\"text-align: right;\">-6.48928</td><td style=\"text-align: right;\">-2.29213</td><td style=\"text-align: right;\">-0.234966  </td><td style=\"text-align: right;\">-0.00990667</td></tr>\n",
       "<tr><td style=\"text-align: right;\">-5.52638</td><td style=\"text-align: right;\">-2.0433 </td><td style=\"text-align: right;\">-0.229002  </td><td style=\"text-align: right;\">-0.0393949 </td></tr>\n",
       "<tr><td style=\"text-align: right;\">-5.86122</td><td style=\"text-align: right;\">-2.11994</td><td style=\"text-align: right;\"> 0.0200185 </td><td style=\"text-align: right;\">-0.0393598 </td></tr>\n",
       "<tr><td style=\"text-align: right;\">-6.27709</td><td style=\"text-align: right;\">-2.39537</td><td style=\"text-align: right;\"> 0.018586  </td><td style=\"text-align: right;\">-0.00486549</td></tr>\n",
       "<tr><td style=\"text-align: right;\">-5.76174</td><td style=\"text-align: right;\">-1.99301</td><td style=\"text-align: right;\">-0.0882346 </td><td style=\"text-align: right;\">-0.15014   </td></tr>\n",
       "</tbody>\n",
       "</table>"
      ]
     },
     "metadata": {},
     "output_type": "display_data"
    },
    {
     "data": {
      "text/plain": []
     },
     "execution_count": 10,
     "metadata": {},
     "output_type": "execute_result"
    }
   ],
   "source": [
    "p_PCA"
   ]
  },
  {
   "cell_type": "markdown",
   "metadata": {},
   "source": [
    "## Generalized Low Rank Decomposition"
   ]
  },
  {
   "cell_type": "code",
   "execution_count": 11,
   "metadata": {},
   "outputs": [
    {
     "name": "stdout",
     "output_type": "stream",
     "text": [
      "pca Model Build progress: |███████████████████████████████████████████████| 100%\n"
     ]
    }
   ],
   "source": [
    "# do this again but with GLRM method instead\n",
    "m_GLRM = H2OPrincipalComponentAnalysisEstimator(\n",
    "    k=4,\n",
    "    impute_missing=True,\n",
    "    use_all_factor_levels=True,\n",
    "    pca_method='GLRM'\n",
    ")\n",
    "m_GLRM.train(x, training_frame=train)"
   ]
  },
  {
   "cell_type": "code",
   "execution_count": 12,
   "metadata": {
    "scrolled": true
   },
   "outputs": [
    {
     "name": "stdout",
     "output_type": "stream",
     "text": [
      "Model Details\n",
      "=============\n",
      "H2OPrincipalComponentAnalysisEstimator :  Principal Components Analysis\n",
      "Model Key:  PCA_model_python_1582484604057_2\n",
      "\n",
      "\n",
      "Importance of components: \n"
     ]
    },
    {
     "data": {
      "text/html": [
       "<div>\n",
       "<style scoped>\n",
       "    .dataframe tbody tr th:only-of-type {\n",
       "        vertical-align: middle;\n",
       "    }\n",
       "\n",
       "    .dataframe tbody tr th {\n",
       "        vertical-align: top;\n",
       "    }\n",
       "\n",
       "    .dataframe thead th {\n",
       "        text-align: right;\n",
       "    }\n",
       "</style>\n",
       "<table border=\"1\" class=\"dataframe\">\n",
       "  <thead>\n",
       "    <tr style=\"text-align: right;\">\n",
       "      <th></th>\n",
       "      <th></th>\n",
       "      <th>pc1</th>\n",
       "      <th>pc2</th>\n",
       "      <th>pc3</th>\n",
       "      <th>pc4</th>\n",
       "    </tr>\n",
       "  </thead>\n",
       "  <tbody>\n",
       "    <tr>\n",
       "      <th>0</th>\n",
       "      <td>Standard deviation</td>\n",
       "      <td>7.845615</td>\n",
       "      <td>1.465103</td>\n",
       "      <td>0.283542</td>\n",
       "      <td>0.152689</td>\n",
       "    </tr>\n",
       "    <tr>\n",
       "      <th>1</th>\n",
       "      <td>Proportion of Variance</td>\n",
       "      <td>0.964732</td>\n",
       "      <td>0.033643</td>\n",
       "      <td>0.001260</td>\n",
       "      <td>0.000365</td>\n",
       "    </tr>\n",
       "    <tr>\n",
       "      <th>2</th>\n",
       "      <td>Cumulative Proportion</td>\n",
       "      <td>0.964732</td>\n",
       "      <td>0.998375</td>\n",
       "      <td>0.999635</td>\n",
       "      <td>1.000000</td>\n",
       "    </tr>\n",
       "  </tbody>\n",
       "</table>\n",
       "</div>"
      ],
      "text/plain": [
       "                                pc1       pc2       pc3       pc4\n",
       "0      Standard deviation  7.845615  1.465103  0.283542  0.152689\n",
       "1  Proportion of Variance  0.964732  0.033643  0.001260  0.000365\n",
       "2   Cumulative Proportion  0.964732  0.998375  0.999635  1.000000"
      ]
     },
     "metadata": {},
     "output_type": "display_data"
    },
    {
     "name": "stdout",
     "output_type": "stream",
     "text": [
      "\n",
      "\n",
      "ModelMetricsPCA: pca\n",
      "** Reported on train data. **\n",
      "\n",
      "MSE: NaN\n",
      "RMSE: NaN\n",
      "\n",
      "Scoring history from GLRM: \n"
     ]
    },
    {
     "data": {
      "text/html": [
       "<div>\n",
       "<style scoped>\n",
       "    .dataframe tbody tr th:only-of-type {\n",
       "        vertical-align: middle;\n",
       "    }\n",
       "\n",
       "    .dataframe tbody tr th {\n",
       "        vertical-align: top;\n",
       "    }\n",
       "\n",
       "    .dataframe thead th {\n",
       "        text-align: right;\n",
       "    }\n",
       "</style>\n",
       "<table border=\"1\" class=\"dataframe\">\n",
       "  <thead>\n",
       "    <tr style=\"text-align: right;\">\n",
       "      <th></th>\n",
       "      <th></th>\n",
       "      <th>timestamp</th>\n",
       "      <th>duration</th>\n",
       "      <th>iterations</th>\n",
       "      <th>step_size</th>\n",
       "      <th>objective</th>\n",
       "    </tr>\n",
       "  </thead>\n",
       "  <tbody>\n",
       "    <tr>\n",
       "      <th>0</th>\n",
       "      <td></td>\n",
       "      <td>2020-02-23 13:03:28</td>\n",
       "      <td>0.285 sec</td>\n",
       "      <td>0.0</td>\n",
       "      <td>0.666667</td>\n",
       "      <td>2.039808e-28</td>\n",
       "    </tr>\n",
       "    <tr>\n",
       "      <th>1</th>\n",
       "      <td></td>\n",
       "      <td>2020-02-23 13:03:28</td>\n",
       "      <td>0.291 sec</td>\n",
       "      <td>1.0</td>\n",
       "      <td>0.444444</td>\n",
       "      <td>2.039808e-28</td>\n",
       "    </tr>\n",
       "    <tr>\n",
       "      <th>2</th>\n",
       "      <td></td>\n",
       "      <td>2020-02-23 13:03:28</td>\n",
       "      <td>0.297 sec</td>\n",
       "      <td>2.0</td>\n",
       "      <td>0.222222</td>\n",
       "      <td>2.039808e-28</td>\n",
       "    </tr>\n",
       "    <tr>\n",
       "      <th>3</th>\n",
       "      <td></td>\n",
       "      <td>2020-02-23 13:03:28</td>\n",
       "      <td>0.303 sec</td>\n",
       "      <td>3.0</td>\n",
       "      <td>0.074074</td>\n",
       "      <td>2.039808e-28</td>\n",
       "    </tr>\n",
       "    <tr>\n",
       "      <th>4</th>\n",
       "      <td></td>\n",
       "      <td>2020-02-23 13:03:28</td>\n",
       "      <td>0.307 sec</td>\n",
       "      <td>4.0</td>\n",
       "      <td>0.018519</td>\n",
       "      <td>2.039808e-28</td>\n",
       "    </tr>\n",
       "    <tr>\n",
       "      <th>5</th>\n",
       "      <td></td>\n",
       "      <td>2020-02-23 13:03:28</td>\n",
       "      <td>0.318 sec</td>\n",
       "      <td>5.0</td>\n",
       "      <td>0.019444</td>\n",
       "      <td>1.070257e-28</td>\n",
       "    </tr>\n",
       "    <tr>\n",
       "      <th>6</th>\n",
       "      <td></td>\n",
       "      <td>2020-02-23 13:03:28</td>\n",
       "      <td>0.323 sec</td>\n",
       "      <td>6.0</td>\n",
       "      <td>0.020417</td>\n",
       "      <td>9.671211e-29</td>\n",
       "    </tr>\n",
       "    <tr>\n",
       "      <th>7</th>\n",
       "      <td></td>\n",
       "      <td>2020-02-23 13:03:28</td>\n",
       "      <td>0.328 sec</td>\n",
       "      <td>7.0</td>\n",
       "      <td>0.021438</td>\n",
       "      <td>7.960504e-29</td>\n",
       "    </tr>\n",
       "    <tr>\n",
       "      <th>8</th>\n",
       "      <td></td>\n",
       "      <td>2020-02-23 13:03:28</td>\n",
       "      <td>0.334 sec</td>\n",
       "      <td>8.0</td>\n",
       "      <td>0.022509</td>\n",
       "      <td>7.133047e-29</td>\n",
       "    </tr>\n",
       "    <tr>\n",
       "      <th>9</th>\n",
       "      <td></td>\n",
       "      <td>2020-02-23 13:03:28</td>\n",
       "      <td>0.338 sec</td>\n",
       "      <td>9.0</td>\n",
       "      <td>0.023635</td>\n",
       "      <td>6.845371e-29</td>\n",
       "    </tr>\n",
       "    <tr>\n",
       "      <th>10</th>\n",
       "      <td></td>\n",
       "      <td>2020-02-23 13:03:28</td>\n",
       "      <td>0.342 sec</td>\n",
       "      <td>10.0</td>\n",
       "      <td>0.015757</td>\n",
       "      <td>6.845371e-29</td>\n",
       "    </tr>\n",
       "    <tr>\n",
       "      <th>11</th>\n",
       "      <td></td>\n",
       "      <td>2020-02-23 13:03:28</td>\n",
       "      <td>0.346 sec</td>\n",
       "      <td>11.0</td>\n",
       "      <td>0.016544</td>\n",
       "      <td>6.746147e-29</td>\n",
       "    </tr>\n",
       "    <tr>\n",
       "      <th>12</th>\n",
       "      <td></td>\n",
       "      <td>2020-02-23 13:03:28</td>\n",
       "      <td>0.350 sec</td>\n",
       "      <td>12.0</td>\n",
       "      <td>0.017372</td>\n",
       "      <td>6.279533e-29</td>\n",
       "    </tr>\n",
       "    <tr>\n",
       "      <th>13</th>\n",
       "      <td></td>\n",
       "      <td>2020-02-23 13:03:28</td>\n",
       "      <td>0.354 sec</td>\n",
       "      <td>13.0</td>\n",
       "      <td>0.018240</td>\n",
       "      <td>6.232078e-29</td>\n",
       "    </tr>\n",
       "    <tr>\n",
       "      <th>14</th>\n",
       "      <td></td>\n",
       "      <td>2020-02-23 13:03:28</td>\n",
       "      <td>0.357 sec</td>\n",
       "      <td>14.0</td>\n",
       "      <td>0.012160</td>\n",
       "      <td>6.232078e-29</td>\n",
       "    </tr>\n",
       "    <tr>\n",
       "      <th>15</th>\n",
       "      <td></td>\n",
       "      <td>2020-02-23 13:03:28</td>\n",
       "      <td>0.362 sec</td>\n",
       "      <td>15.0</td>\n",
       "      <td>0.012768</td>\n",
       "      <td>6.066853e-29</td>\n",
       "    </tr>\n",
       "    <tr>\n",
       "      <th>16</th>\n",
       "      <td></td>\n",
       "      <td>2020-02-23 13:03:28</td>\n",
       "      <td>0.367 sec</td>\n",
       "      <td>16.0</td>\n",
       "      <td>0.008512</td>\n",
       "      <td>6.066853e-29</td>\n",
       "    </tr>\n",
       "    <tr>\n",
       "      <th>17</th>\n",
       "      <td></td>\n",
       "      <td>2020-02-23 13:03:28</td>\n",
       "      <td>0.369 sec</td>\n",
       "      <td>17.0</td>\n",
       "      <td>0.005675</td>\n",
       "      <td>6.066853e-29</td>\n",
       "    </tr>\n",
       "    <tr>\n",
       "      <th>18</th>\n",
       "      <td></td>\n",
       "      <td>2020-02-23 13:03:28</td>\n",
       "      <td>0.370 sec</td>\n",
       "      <td>18.0</td>\n",
       "      <td>0.003783</td>\n",
       "      <td>6.066853e-29</td>\n",
       "    </tr>\n",
       "    <tr>\n",
       "      <th>19</th>\n",
       "      <td></td>\n",
       "      <td>2020-02-23 13:03:28</td>\n",
       "      <td>0.373 sec</td>\n",
       "      <td>19.0</td>\n",
       "      <td>0.001892</td>\n",
       "      <td>6.066853e-29</td>\n",
       "    </tr>\n",
       "  </tbody>\n",
       "</table>\n",
       "</div>"
      ],
      "text/plain": [
       "                timestamp    duration  iterations  step_size     objective\n",
       "0     2020-02-23 13:03:28   0.285 sec         0.0   0.666667  2.039808e-28\n",
       "1     2020-02-23 13:03:28   0.291 sec         1.0   0.444444  2.039808e-28\n",
       "2     2020-02-23 13:03:28   0.297 sec         2.0   0.222222  2.039808e-28\n",
       "3     2020-02-23 13:03:28   0.303 sec         3.0   0.074074  2.039808e-28\n",
       "4     2020-02-23 13:03:28   0.307 sec         4.0   0.018519  2.039808e-28\n",
       "5     2020-02-23 13:03:28   0.318 sec         5.0   0.019444  1.070257e-28\n",
       "6     2020-02-23 13:03:28   0.323 sec         6.0   0.020417  9.671211e-29\n",
       "7     2020-02-23 13:03:28   0.328 sec         7.0   0.021438  7.960504e-29\n",
       "8     2020-02-23 13:03:28   0.334 sec         8.0   0.022509  7.133047e-29\n",
       "9     2020-02-23 13:03:28   0.338 sec         9.0   0.023635  6.845371e-29\n",
       "10    2020-02-23 13:03:28   0.342 sec        10.0   0.015757  6.845371e-29\n",
       "11    2020-02-23 13:03:28   0.346 sec        11.0   0.016544  6.746147e-29\n",
       "12    2020-02-23 13:03:28   0.350 sec        12.0   0.017372  6.279533e-29\n",
       "13    2020-02-23 13:03:28   0.354 sec        13.0   0.018240  6.232078e-29\n",
       "14    2020-02-23 13:03:28   0.357 sec        14.0   0.012160  6.232078e-29\n",
       "15    2020-02-23 13:03:28   0.362 sec        15.0   0.012768  6.066853e-29\n",
       "16    2020-02-23 13:03:28   0.367 sec        16.0   0.008512  6.066853e-29\n",
       "17    2020-02-23 13:03:28   0.369 sec        17.0   0.005675  6.066853e-29\n",
       "18    2020-02-23 13:03:28   0.370 sec        18.0   0.003783  6.066853e-29\n",
       "19    2020-02-23 13:03:28   0.373 sec        19.0   0.001892  6.066853e-29"
      ]
     },
     "metadata": {},
     "output_type": "display_data"
    },
    {
     "name": "stdout",
     "output_type": "stream",
     "text": [
      "\n",
      "See the whole table with table.as_data_frame()\n"
     ]
    },
    {
     "data": {
      "text/plain": []
     },
     "execution_count": 12,
     "metadata": {},
     "output_type": "execute_result"
    }
   ],
   "source": [
    "m_GLRM"
   ]
  },
  {
   "cell_type": "code",
   "execution_count": 13,
   "metadata": {},
   "outputs": [
    {
     "name": "stdout",
     "output_type": "stream",
     "text": [
      "pca prediction progress: |████████████████████████████████████████████████| 100%\n"
     ]
    }
   ],
   "source": [
    "p_GLRM = m_GLRM.predict(train)"
   ]
  },
  {
   "cell_type": "code",
   "execution_count": 14,
   "metadata": {},
   "outputs": [
    {
     "data": {
      "text/html": [
       "<table>\n",
       "<thead>\n",
       "<tr><th style=\"text-align: right;\">    PC1</th><th style=\"text-align: right;\">    PC2</th><th style=\"text-align: right;\">        PC3</th><th style=\"text-align: right;\">        PC4</th></tr>\n",
       "</thead>\n",
       "<tbody>\n",
       "<tr><td style=\"text-align: right;\">5.92388</td><td style=\"text-align: right;\">2.27321</td><td style=\"text-align: right;\"> 0.00906424</td><td style=\"text-align: right;\">-0.0102666 </td></tr>\n",
       "<tr><td style=\"text-align: right;\">5.58167</td><td style=\"text-align: right;\">1.9451 </td><td style=\"text-align: right;\"> 0.248911  </td><td style=\"text-align: right;\">-0.0980796 </td></tr>\n",
       "<tr><td style=\"text-align: right;\">5.45711</td><td style=\"text-align: right;\">2.06859</td><td style=\"text-align: right;\"> 0.0169814 </td><td style=\"text-align: right;\">-0.0242793 </td></tr>\n",
       "<tr><td style=\"text-align: right;\">5.44535</td><td style=\"text-align: right;\">1.84451</td><td style=\"text-align: right;\"> 0.0214509 </td><td style=\"text-align: right;\"> 0.073854  </td></tr>\n",
       "<tr><td style=\"text-align: right;\">5.88705</td><td style=\"text-align: right;\">2.29954</td><td style=\"text-align: right;\">-0.110143  </td><td style=\"text-align: right;\"> 0.0508871 </td></tr>\n",
       "<tr><td style=\"text-align: right;\">6.48928</td><td style=\"text-align: right;\">2.29213</td><td style=\"text-align: right;\">-0.234966  </td><td style=\"text-align: right;\"> 0.00990667</td></tr>\n",
       "<tr><td style=\"text-align: right;\">5.52638</td><td style=\"text-align: right;\">2.0433 </td><td style=\"text-align: right;\">-0.229002  </td><td style=\"text-align: right;\"> 0.0393949 </td></tr>\n",
       "<tr><td style=\"text-align: right;\">5.86122</td><td style=\"text-align: right;\">2.11994</td><td style=\"text-align: right;\"> 0.0200185 </td><td style=\"text-align: right;\"> 0.0393598 </td></tr>\n",
       "<tr><td style=\"text-align: right;\">6.27709</td><td style=\"text-align: right;\">2.39537</td><td style=\"text-align: right;\"> 0.018586  </td><td style=\"text-align: right;\"> 0.00486549</td></tr>\n",
       "<tr><td style=\"text-align: right;\">5.76174</td><td style=\"text-align: right;\">1.99301</td><td style=\"text-align: right;\">-0.0882346 </td><td style=\"text-align: right;\"> 0.15014   </td></tr>\n",
       "</tbody>\n",
       "</table>"
      ]
     },
     "metadata": {},
     "output_type": "display_data"
    },
    {
     "data": {
      "text/plain": []
     },
     "execution_count": 14,
     "metadata": {},
     "output_type": "execute_result"
    }
   ],
   "source": [
    "p_GLRM"
   ]
  },
  {
   "cell_type": "code",
   "execution_count": 15,
   "metadata": {},
   "outputs": [
    {
     "name": "stdout",
     "output_type": "stream",
     "text": [
      "pca Model Build progress: |███████████████████████████████████████████████| 100%\n"
     ]
    }
   ],
   "source": [
    "# GLRM can handle enum data as well\n",
    "x_all = ['sepal_len', 'sepal_wid', 'petal_len', 'petal_wid', 'class']\n",
    "m_GLRM3 = H2OPrincipalComponentAnalysisEstimator(\n",
    "    k=3,\n",
    "    impute_missing=True,\n",
    "    use_all_factor_levels=True,\n",
    "    pca_method='GLRM'\n",
    ")\n",
    "m_GLRM3.train(x_all, training_frame=train)"
   ]
  },
  {
   "cell_type": "code",
   "execution_count": 16,
   "metadata": {
    "scrolled": true
   },
   "outputs": [
    {
     "name": "stdout",
     "output_type": "stream",
     "text": [
      "Model Details\n",
      "=============\n",
      "H2OPrincipalComponentAnalysisEstimator :  Principal Components Analysis\n",
      "Model Key:  PCA_model_python_1582484604057_5\n",
      "\n",
      "\n",
      "Importance of components: \n"
     ]
    },
    {
     "data": {
      "text/html": [
       "<div>\n",
       "<style scoped>\n",
       "    .dataframe tbody tr th:only-of-type {\n",
       "        vertical-align: middle;\n",
       "    }\n",
       "\n",
       "    .dataframe tbody tr th {\n",
       "        vertical-align: top;\n",
       "    }\n",
       "\n",
       "    .dataframe thead th {\n",
       "        text-align: right;\n",
       "    }\n",
       "</style>\n",
       "<table border=\"1\" class=\"dataframe\">\n",
       "  <thead>\n",
       "    <tr style=\"text-align: right;\">\n",
       "      <th></th>\n",
       "      <th></th>\n",
       "      <th>pc1</th>\n",
       "      <th>pc2</th>\n",
       "      <th>pc3</th>\n",
       "    </tr>\n",
       "  </thead>\n",
       "  <tbody>\n",
       "    <tr>\n",
       "      <th>0</th>\n",
       "      <td>Standard deviation</td>\n",
       "      <td>7.651831</td>\n",
       "      <td>2.111849</td>\n",
       "      <td>1.342324</td>\n",
       "    </tr>\n",
       "    <tr>\n",
       "      <th>1</th>\n",
       "      <td>Proportion of Variance</td>\n",
       "      <td>0.903386</td>\n",
       "      <td>0.068813</td>\n",
       "      <td>0.027801</td>\n",
       "    </tr>\n",
       "    <tr>\n",
       "      <th>2</th>\n",
       "      <td>Cumulative Proportion</td>\n",
       "      <td>0.903386</td>\n",
       "      <td>0.972199</td>\n",
       "      <td>1.000000</td>\n",
       "    </tr>\n",
       "  </tbody>\n",
       "</table>\n",
       "</div>"
      ],
      "text/plain": [
       "                                pc1       pc2       pc3\n",
       "0      Standard deviation  7.651831  2.111849  1.342324\n",
       "1  Proportion of Variance  0.903386  0.068813  0.027801\n",
       "2   Cumulative Proportion  0.903386  0.972199  1.000000"
      ]
     },
     "metadata": {},
     "output_type": "display_data"
    },
    {
     "name": "stdout",
     "output_type": "stream",
     "text": [
      "\n",
      "\n",
      "ModelMetricsPCA: pca\n",
      "** Reported on train data. **\n",
      "\n",
      "MSE: NaN\n",
      "RMSE: NaN\n",
      "\n",
      "Scoring history from GLRM: \n"
     ]
    },
    {
     "data": {
      "text/html": [
       "<div>\n",
       "<style scoped>\n",
       "    .dataframe tbody tr th:only-of-type {\n",
       "        vertical-align: middle;\n",
       "    }\n",
       "\n",
       "    .dataframe tbody tr th {\n",
       "        vertical-align: top;\n",
       "    }\n",
       "\n",
       "    .dataframe thead th {\n",
       "        text-align: right;\n",
       "    }\n",
       "</style>\n",
       "<table border=\"1\" class=\"dataframe\">\n",
       "  <thead>\n",
       "    <tr style=\"text-align: right;\">\n",
       "      <th></th>\n",
       "      <th></th>\n",
       "      <th>timestamp</th>\n",
       "      <th>duration</th>\n",
       "      <th>iterations</th>\n",
       "      <th>step_size</th>\n",
       "      <th>objective</th>\n",
       "    </tr>\n",
       "  </thead>\n",
       "  <tbody>\n",
       "    <tr>\n",
       "      <th>0</th>\n",
       "      <td></td>\n",
       "      <td>2020-02-23 13:03:29</td>\n",
       "      <td>0.144 sec</td>\n",
       "      <td>0.0</td>\n",
       "      <td>0.666667</td>\n",
       "      <td>964.061937</td>\n",
       "    </tr>\n",
       "    <tr>\n",
       "      <th>1</th>\n",
       "      <td></td>\n",
       "      <td>2020-02-23 13:03:29</td>\n",
       "      <td>0.147 sec</td>\n",
       "      <td>1.0</td>\n",
       "      <td>0.444444</td>\n",
       "      <td>964.061937</td>\n",
       "    </tr>\n",
       "    <tr>\n",
       "      <th>2</th>\n",
       "      <td></td>\n",
       "      <td>2020-02-23 13:03:29</td>\n",
       "      <td>0.150 sec</td>\n",
       "      <td>2.0</td>\n",
       "      <td>0.222222</td>\n",
       "      <td>964.061937</td>\n",
       "    </tr>\n",
       "    <tr>\n",
       "      <th>3</th>\n",
       "      <td></td>\n",
       "      <td>2020-02-23 13:03:29</td>\n",
       "      <td>0.153 sec</td>\n",
       "      <td>3.0</td>\n",
       "      <td>0.074074</td>\n",
       "      <td>964.061937</td>\n",
       "    </tr>\n",
       "    <tr>\n",
       "      <th>4</th>\n",
       "      <td></td>\n",
       "      <td>2020-02-23 13:03:29</td>\n",
       "      <td>0.155 sec</td>\n",
       "      <td>4.0</td>\n",
       "      <td>0.018519</td>\n",
       "      <td>964.061937</td>\n",
       "    </tr>\n",
       "    <tr>\n",
       "      <th>5</th>\n",
       "      <td></td>\n",
       "      <td>2020-02-23 13:03:29</td>\n",
       "      <td>0.156 sec</td>\n",
       "      <td>5.0</td>\n",
       "      <td>0.019444</td>\n",
       "      <td>663.619635</td>\n",
       "    </tr>\n",
       "    <tr>\n",
       "      <th>6</th>\n",
       "      <td></td>\n",
       "      <td>2020-02-23 13:03:29</td>\n",
       "      <td>0.157 sec</td>\n",
       "      <td>6.0</td>\n",
       "      <td>0.020417</td>\n",
       "      <td>592.750066</td>\n",
       "    </tr>\n",
       "    <tr>\n",
       "      <th>7</th>\n",
       "      <td></td>\n",
       "      <td>2020-02-23 13:03:29</td>\n",
       "      <td>0.159 sec</td>\n",
       "      <td>7.0</td>\n",
       "      <td>0.021438</td>\n",
       "      <td>546.259785</td>\n",
       "    </tr>\n",
       "    <tr>\n",
       "      <th>8</th>\n",
       "      <td></td>\n",
       "      <td>2020-02-23 13:03:29</td>\n",
       "      <td>0.162 sec</td>\n",
       "      <td>8.0</td>\n",
       "      <td>0.022509</td>\n",
       "      <td>501.002290</td>\n",
       "    </tr>\n",
       "    <tr>\n",
       "      <th>9</th>\n",
       "      <td></td>\n",
       "      <td>2020-02-23 13:03:29</td>\n",
       "      <td>0.163 sec</td>\n",
       "      <td>9.0</td>\n",
       "      <td>0.023635</td>\n",
       "      <td>453.551159</td>\n",
       "    </tr>\n",
       "    <tr>\n",
       "      <th>10</th>\n",
       "      <td></td>\n",
       "      <td>2020-02-23 13:03:29</td>\n",
       "      <td>0.164 sec</td>\n",
       "      <td>10.0</td>\n",
       "      <td>0.024817</td>\n",
       "      <td>404.638156</td>\n",
       "    </tr>\n",
       "    <tr>\n",
       "      <th>11</th>\n",
       "      <td></td>\n",
       "      <td>2020-02-23 13:03:29</td>\n",
       "      <td>0.166 sec</td>\n",
       "      <td>11.0</td>\n",
       "      <td>0.026057</td>\n",
       "      <td>355.913225</td>\n",
       "    </tr>\n",
       "    <tr>\n",
       "      <th>12</th>\n",
       "      <td></td>\n",
       "      <td>2020-02-23 13:03:29</td>\n",
       "      <td>0.168 sec</td>\n",
       "      <td>12.0</td>\n",
       "      <td>0.027360</td>\n",
       "      <td>309.603533</td>\n",
       "    </tr>\n",
       "    <tr>\n",
       "      <th>13</th>\n",
       "      <td></td>\n",
       "      <td>2020-02-23 13:03:29</td>\n",
       "      <td>0.169 sec</td>\n",
       "      <td>13.0</td>\n",
       "      <td>0.028728</td>\n",
       "      <td>268.110171</td>\n",
       "    </tr>\n",
       "    <tr>\n",
       "      <th>14</th>\n",
       "      <td></td>\n",
       "      <td>2020-02-23 13:03:29</td>\n",
       "      <td>0.170 sec</td>\n",
       "      <td>14.0</td>\n",
       "      <td>0.030165</td>\n",
       "      <td>236.085409</td>\n",
       "    </tr>\n",
       "    <tr>\n",
       "      <th>15</th>\n",
       "      <td></td>\n",
       "      <td>2020-02-23 13:03:29</td>\n",
       "      <td>0.171 sec</td>\n",
       "      <td>15.0</td>\n",
       "      <td>0.031673</td>\n",
       "      <td>209.585477</td>\n",
       "    </tr>\n",
       "    <tr>\n",
       "      <th>16</th>\n",
       "      <td></td>\n",
       "      <td>2020-02-23 13:03:29</td>\n",
       "      <td>0.172 sec</td>\n",
       "      <td>16.0</td>\n",
       "      <td>0.033257</td>\n",
       "      <td>184.497751</td>\n",
       "    </tr>\n",
       "    <tr>\n",
       "      <th>17</th>\n",
       "      <td></td>\n",
       "      <td>2020-02-23 13:03:29</td>\n",
       "      <td>0.173 sec</td>\n",
       "      <td>17.0</td>\n",
       "      <td>0.034919</td>\n",
       "      <td>163.443741</td>\n",
       "    </tr>\n",
       "    <tr>\n",
       "      <th>18</th>\n",
       "      <td></td>\n",
       "      <td>2020-02-23 13:03:29</td>\n",
       "      <td>0.174 sec</td>\n",
       "      <td>18.0</td>\n",
       "      <td>0.036665</td>\n",
       "      <td>151.021080</td>\n",
       "    </tr>\n",
       "    <tr>\n",
       "      <th>19</th>\n",
       "      <td></td>\n",
       "      <td>2020-02-23 13:03:29</td>\n",
       "      <td>0.175 sec</td>\n",
       "      <td>19.0</td>\n",
       "      <td>0.038499</td>\n",
       "      <td>144.491914</td>\n",
       "    </tr>\n",
       "  </tbody>\n",
       "</table>\n",
       "</div>"
      ],
      "text/plain": [
       "                timestamp    duration  iterations  step_size   objective\n",
       "0     2020-02-23 13:03:29   0.144 sec         0.0   0.666667  964.061937\n",
       "1     2020-02-23 13:03:29   0.147 sec         1.0   0.444444  964.061937\n",
       "2     2020-02-23 13:03:29   0.150 sec         2.0   0.222222  964.061937\n",
       "3     2020-02-23 13:03:29   0.153 sec         3.0   0.074074  964.061937\n",
       "4     2020-02-23 13:03:29   0.155 sec         4.0   0.018519  964.061937\n",
       "5     2020-02-23 13:03:29   0.156 sec         5.0   0.019444  663.619635\n",
       "6     2020-02-23 13:03:29   0.157 sec         6.0   0.020417  592.750066\n",
       "7     2020-02-23 13:03:29   0.159 sec         7.0   0.021438  546.259785\n",
       "8     2020-02-23 13:03:29   0.162 sec         8.0   0.022509  501.002290\n",
       "9     2020-02-23 13:03:29   0.163 sec         9.0   0.023635  453.551159\n",
       "10    2020-02-23 13:03:29   0.164 sec        10.0   0.024817  404.638156\n",
       "11    2020-02-23 13:03:29   0.166 sec        11.0   0.026057  355.913225\n",
       "12    2020-02-23 13:03:29   0.168 sec        12.0   0.027360  309.603533\n",
       "13    2020-02-23 13:03:29   0.169 sec        13.0   0.028728  268.110171\n",
       "14    2020-02-23 13:03:29   0.170 sec        14.0   0.030165  236.085409\n",
       "15    2020-02-23 13:03:29   0.171 sec        15.0   0.031673  209.585477\n",
       "16    2020-02-23 13:03:29   0.172 sec        16.0   0.033257  184.497751\n",
       "17    2020-02-23 13:03:29   0.173 sec        17.0   0.034919  163.443741\n",
       "18    2020-02-23 13:03:29   0.174 sec        18.0   0.036665  151.021080\n",
       "19    2020-02-23 13:03:29   0.175 sec        19.0   0.038499  144.491914"
      ]
     },
     "metadata": {},
     "output_type": "display_data"
    },
    {
     "name": "stdout",
     "output_type": "stream",
     "text": [
      "\n",
      "See the whole table with table.as_data_frame()\n"
     ]
    },
    {
     "data": {
      "text/plain": []
     },
     "execution_count": 16,
     "metadata": {},
     "output_type": "execute_result"
    }
   ],
   "source": [
    "m_GLRM3"
   ]
  },
  {
   "cell_type": "code",
   "execution_count": 17,
   "metadata": {},
   "outputs": [
    {
     "name": "stdout",
     "output_type": "stream",
     "text": [
      "pca prediction progress: |████████████████████████████████████████████████| 100%\n"
     ]
    }
   ],
   "source": [
    "p_GLRM3 = m_GLRM3.predict(train)"
   ]
  },
  {
   "cell_type": "code",
   "execution_count": 18,
   "metadata": {},
   "outputs": [
    {
     "data": {
      "text/html": [
       "<table>\n",
       "<thead>\n",
       "<tr><th style=\"text-align: right;\">     PC1</th><th style=\"text-align: right;\">    PC2</th><th style=\"text-align: right;\">      PC3</th></tr>\n",
       "</thead>\n",
       "<tbody>\n",
       "<tr><td style=\"text-align: right;\">-5.76323</td><td style=\"text-align: right;\">2.32309</td><td style=\"text-align: right;\">-0.377017</td></tr>\n",
       "<tr><td style=\"text-align: right;\">-5.42444</td><td style=\"text-align: right;\">2.09054</td><td style=\"text-align: right;\">-0.334102</td></tr>\n",
       "<tr><td style=\"text-align: right;\">-5.30063</td><td style=\"text-align: right;\">2.16757</td><td style=\"text-align: right;\">-0.362701</td></tr>\n",
       "<tr><td style=\"text-align: right;\">-5.28943</td><td style=\"text-align: right;\">2.01705</td><td style=\"text-align: right;\">-0.345547</td></tr>\n",
       "<tr><td style=\"text-align: right;\">-5.72664</td><td style=\"text-align: right;\">2.33889</td><td style=\"text-align: right;\">-0.388828</td></tr>\n",
       "<tr><td style=\"text-align: right;\">-6.32406</td><td style=\"text-align: right;\">2.35713</td><td style=\"text-align: right;\">-0.403904</td></tr>\n",
       "<tr><td style=\"text-align: right;\">-5.3694 </td><td style=\"text-align: right;\">2.15246</td><td style=\"text-align: right;\">-0.384397</td></tr>\n",
       "<tr><td style=\"text-align: right;\">-5.70139</td><td style=\"text-align: right;\">2.218  </td><td style=\"text-align: right;\">-0.36484 </td></tr>\n",
       "<tr><td style=\"text-align: right;\">-6.11335</td><td style=\"text-align: right;\">2.41895</td><td style=\"text-align: right;\">-0.384134</td></tr>\n",
       "<tr><td style=\"text-align: right;\">-5.60296</td><td style=\"text-align: right;\">2.12871</td><td style=\"text-align: right;\">-0.364475</td></tr>\n",
       "</tbody>\n",
       "</table>"
      ]
     },
     "metadata": {},
     "output_type": "display_data"
    },
    {
     "data": {
      "text/plain": []
     },
     "execution_count": 18,
     "metadata": {},
     "output_type": "execute_result"
    }
   ],
   "source": [
    "p_GLRM3"
   ]
  },
  {
   "cell_type": "code",
   "execution_count": null,
   "metadata": {},
   "outputs": [],
   "source": []
  }
 ],
 "metadata": {
  "kernelspec": {
   "display_name": "h2oclass",
   "language": "python",
   "name": "h2oclass"
  },
  "language_info": {
   "codemirror_mode": {
    "name": "ipython",
    "version": 3
   },
   "file_extension": ".py",
   "mimetype": "text/x-python",
   "name": "python",
   "nbconvert_exporter": "python",
   "pygments_lexer": "ipython3",
   "version": "3.7.3"
  }
 },
 "nbformat": 4,
 "nbformat_minor": 4
}
