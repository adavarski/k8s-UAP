{
 "cells": [
  {
   "cell_type": "code",
   "execution_count": 1,
   "metadata": {},
   "outputs": [
    {
     "name": "stdout",
     "output_type": "stream",
     "text": [
      "Requirement already satisfied: requests in /opt/conda/lib/python3.7/site-packages (2.22.0)\n",
      "Requirement already satisfied: idna<2.9,>=2.5 in /opt/conda/lib/python3.7/site-packages (from requests) (2.8)\n",
      "Requirement already satisfied: chardet<3.1.0,>=3.0.2 in /opt/conda/lib/python3.7/site-packages (from requests) (3.0.4)\n",
      "Requirement already satisfied: certifi>=2017.4.17 in /opt/conda/lib/python3.7/site-packages (from requests) (2019.6.16)\n",
      "Requirement already satisfied: urllib3!=1.25.0,!=1.25.1,<1.26,>=1.21.1 in /opt/conda/lib/python3.7/site-packages (from requests) (1.25.3)\n",
      "Note: you may need to restart the kernel to use updated packages.\n"
     ]
    }
   ],
   "source": [
    "pip install requests"
   ]
  },
  {
   "cell_type": "code",
   "execution_count": 2,
   "metadata": {},
   "outputs": [
    {
     "name": "stdout",
     "output_type": "stream",
     "text": [
      "Collecting tabulate\n",
      "\u001b[33m  WARNING: Retrying (Retry(total=4, connect=None, read=None, redirect=None, status=None)) after connection broken by 'NewConnectionError('<pip._vendor.urllib3.connection.VerifiedHTTPSConnection object at 0x7facd9106860>: Failed to establish a new connection: [Errno -3] Temporary failure in name resolution')': /simple/tabulate/\u001b[0m\n",
      "\u001b[33m  WARNING: Retrying (Retry(total=3, connect=None, read=None, redirect=None, status=None)) after connection broken by 'NewConnectionError('<pip._vendor.urllib3.connection.VerifiedHTTPSConnection object at 0x7facd9106710>: Failed to establish a new connection: [Errno -3] Temporary failure in name resolution')': /simple/tabulate/\u001b[0m\n",
      "\u001b[33m  WARNING: Retrying (Retry(total=2, connect=None, read=None, redirect=None, status=None)) after connection broken by 'NewConnectionError('<pip._vendor.urllib3.connection.VerifiedHTTPSConnection object at 0x7facd91065f8>: Failed to establish a new connection: [Errno -3] Temporary failure in name resolution')': /simple/tabulate/\u001b[0m\n",
      "  Downloading https://files.pythonhosted.org/packages/ca/80/7c0cad11bd99985cfe7c09427ee0b4f9bd6b048bd13d4ffb32c6db237dfb/tabulate-0.8.9-py3-none-any.whl\n",
      "Installing collected packages: tabulate\n",
      "Successfully installed tabulate-0.8.9\n",
      "Note: you may need to restart the kernel to use updated packages.\n"
     ]
    }
   ],
   "source": [
    "pip install tabulate"
   ]
  },
  {
   "cell_type": "code",
   "execution_count": 3,
   "metadata": {},
   "outputs": [
    {
     "name": "stdout",
     "output_type": "stream",
     "text": [
      "Collecting colorama>=0.3.8\n",
      "  Downloading https://files.pythonhosted.org/packages/44/98/5b86278fbbf250d239ae0ecb724f8572af1c91f4a11edf4d36a206189440/colorama-0.4.4-py2.py3-none-any.whl\n",
      "Installing collected packages: colorama\n",
      "Successfully installed colorama-0.4.4\n",
      "Note: you may need to restart the kernel to use updated packages.\n"
     ]
    }
   ],
   "source": [
    "pip install \"colorama>=0.3.8\""
   ]
  },
  {
   "cell_type": "code",
   "execution_count": 4,
   "metadata": {},
   "outputs": [
    {
     "name": "stdout",
     "output_type": "stream",
     "text": [
      "Collecting future\n",
      "\u001b[33m  WARNING: Retrying (Retry(total=4, connect=None, read=None, redirect=None, status=None)) after connection broken by 'NewConnectionError('<pip._vendor.urllib3.connection.VerifiedHTTPSConnection object at 0x7fb604ac5b38>: Failed to establish a new connection: [Errno -3] Temporary failure in name resolution')': /packages/45/0b/38b06fd9b92dc2b68d58b75f900e97884c45bedd2ff83203d933cf5851c9/future-0.18.2.tar.gz\u001b[0m\n",
      "\u001b[?25l  Downloading https://files.pythonhosted.org/packages/45/0b/38b06fd9b92dc2b68d58b75f900e97884c45bedd2ff83203d933cf5851c9/future-0.18.2.tar.gz (829kB)\n",
      "\u001b[K     |████████████████████████████████| 829kB 404kB/s eta 0:00:01\n",
      "\u001b[?25hBuilding wheels for collected packages: future\n",
      "  Building wheel for future (setup.py) ... \u001b[?25ldone\n",
      "\u001b[?25h  Stored in directory: /home/jovyan/.cache/pip/wheels/8b/99/a0/81daf51dcd359a9377b110a8a886b3895921802d2fc1b2397e\n",
      "Successfully built future\n",
      "Installing collected packages: future\n",
      "Successfully installed future-0.18.2\n",
      "Note: you may need to restart the kernel to use updated packages.\n"
     ]
    }
   ],
   "source": [
    "pip install future"
   ]
  },
  {
   "cell_type": "code",
   "execution_count": 5,
   "metadata": {},
   "outputs": [
    {
     "name": "stdout",
     "output_type": "stream",
     "text": [
      "Looking in links: http://h2o-release.s3.amazonaws.com/h2o/latest_stable_Py.html\n",
      "Collecting h2o\n",
      "\u001b[33m  WARNING: The repository located at h2o-release.s3.amazonaws.com is not a trusted or secure host and is being ignored. If this repository is available via HTTPS we recommend you use HTTPS instead, otherwise you may silence this warning and allow it anyway with '--trusted-host h2o-release.s3.amazonaws.com'.\u001b[0m\n",
      "\u001b[?25l  Downloading https://files.pythonhosted.org/packages/56/ee/9a2c124bedad710b5e721641391b6a76783899e276dbee4ad2f2a7f71325/h2o-3.32.1.1.tar.gz (164.8MB)\n",
      "\u001b[K     |████████████████████████████████| 164.8MB 2.0MB/s eta 0:00:01    |████▏                           | 21.3MB 3.2MB/s eta 0:00:45     |█████████████████▍              | 89.7MB 3.7MB/s eta 0:00:21     |███████████████████▉            | 102.3MB 817kB/s eta 0:01:17\n",
      "\u001b[?25hRequirement already satisfied: requests in /opt/conda/lib/python3.7/site-packages (from h2o) (2.22.0)\n",
      "Requirement already satisfied: tabulate in /opt/conda/lib/python3.7/site-packages (from h2o) (0.8.9)\n",
      "Requirement already satisfied: future in /opt/conda/lib/python3.7/site-packages (from h2o) (0.18.2)\n",
      "Requirement already satisfied: colorama>=0.3.8 in /opt/conda/lib/python3.7/site-packages (from h2o) (0.4.4)\n",
      "Requirement already satisfied: urllib3!=1.25.0,!=1.25.1,<1.26,>=1.21.1 in /opt/conda/lib/python3.7/site-packages (from requests->h2o) (1.25.3)\n",
      "Requirement already satisfied: certifi>=2017.4.17 in /opt/conda/lib/python3.7/site-packages (from requests->h2o) (2019.6.16)\n",
      "Requirement already satisfied: chardet<3.1.0,>=3.0.2 in /opt/conda/lib/python3.7/site-packages (from requests->h2o) (3.0.4)\n",
      "Requirement already satisfied: idna<2.9,>=2.5 in /opt/conda/lib/python3.7/site-packages (from requests->h2o) (2.8)\n",
      "Building wheels for collected packages: h2o\n",
      "  Building wheel for h2o (setup.py) ... \u001b[?25ldone\n",
      "\u001b[?25h  Stored in directory: /home/jovyan/.cache/pip/wheels/4d/94/84/02ea21db1eebcef2da872861ce0db478788e27d24bcd5394fb\n",
      "Successfully built h2o\n",
      "Installing collected packages: h2o\n",
      "Successfully installed h2o-3.32.1.1\n",
      "Note: you may need to restart the kernel to use updated packages.\n"
     ]
    }
   ],
   "source": [
    "pip install -f http://h2o-release.s3.amazonaws.com/h2o/latest_stable_Py.html h2o"
   ]
  },
  {
   "cell_type": "code",
   "execution_count": 1,
   "metadata": {},
   "outputs": [],
   "source": [
    "import h2o\n"
   ]
  },
  {
   "cell_type": "code",
   "execution_count": 2,
   "metadata": {},
   "outputs": [],
   "source": [
    "import os\n"
   ]
  },
  {
   "cell_type": "code",
   "execution_count": 3,
   "metadata": {},
   "outputs": [
    {
     "name": "stdout",
     "output_type": "stream",
     "text": [
      "Checking whether there is an H2O instance running at http://h2o-service:54321 . connected.\n"
     ]
    },
    {
     "data": {
      "text/html": [
       "<div style=\"overflow:auto\"><table style=\"width:50%\"><tr><td>H2O_cluster_uptime:</td>\n",
       "<td>8 mins 28 secs</td></tr>\n",
       "<tr><td>H2O_cluster_timezone:</td>\n",
       "<td>Etc/GMT</td></tr>\n",
       "<tr><td>H2O_data_parsing_timezone:</td>\n",
       "<td>UTC</td></tr>\n",
       "<tr><td>H2O_cluster_version:</td>\n",
       "<td>3.32.1.1</td></tr>\n",
       "<tr><td>H2O_cluster_version_age:</td>\n",
       "<td>3 days </td></tr>\n",
       "<tr><td>H2O_cluster_name:</td>\n",
       "<td>root</td></tr>\n",
       "<tr><td>H2O_cluster_total_nodes:</td>\n",
       "<td>3</td></tr>\n",
       "<tr><td>H2O_cluster_free_memory:</td>\n",
       "<td>2.458 Gb</td></tr>\n",
       "<tr><td>H2O_cluster_total_cores:</td>\n",
       "<td>3</td></tr>\n",
       "<tr><td>H2O_cluster_allowed_cores:</td>\n",
       "<td>3</td></tr>\n",
       "<tr><td>H2O_cluster_status:</td>\n",
       "<td>accepting new members, healthy</td></tr>\n",
       "<tr><td>H2O_connection_url:</td>\n",
       "<td>http://h2o-service:54321</td></tr>\n",
       "<tr><td>H2O_connection_proxy:</td>\n",
       "<td>null</td></tr>\n",
       "<tr><td>H2O_internal_security:</td>\n",
       "<td>False</td></tr>\n",
       "<tr><td>H2O_API_Extensions:</td>\n",
       "<td>Amazon S3, XGBoost, Algos, AutoML, Core V3, TargetEncoder, Core V4</td></tr>\n",
       "<tr><td>Python_version:</td>\n",
       "<td>3.7.3 final</td></tr></table></div>"
      ],
      "text/plain": [
       "--------------------------  ------------------------------------------------------------------\n",
       "H2O_cluster_uptime:         8 mins 28 secs\n",
       "H2O_cluster_timezone:       Etc/GMT\n",
       "H2O_data_parsing_timezone:  UTC\n",
       "H2O_cluster_version:        3.32.1.1\n",
       "H2O_cluster_version_age:    3 days\n",
       "H2O_cluster_name:           root\n",
       "H2O_cluster_total_nodes:    3\n",
       "H2O_cluster_free_memory:    2.458 Gb\n",
       "H2O_cluster_total_cores:    3\n",
       "H2O_cluster_allowed_cores:  3\n",
       "H2O_cluster_status:         accepting new members, healthy\n",
       "H2O_connection_url:         http://h2o-service:54321\n",
       "H2O_connection_proxy:       null\n",
       "H2O_internal_security:      False\n",
       "H2O_API_Extensions:         Amazon S3, XGBoost, Algos, AutoML, Core V3, TargetEncoder, Core V4\n",
       "Python_version:             3.7.3 final\n",
       "--------------------------  ------------------------------------------------------------------"
      ]
     },
     "metadata": {},
     "output_type": "display_data"
    }
   ],
   "source": [
    "h2o.init(ip='h2o-service')\n"
   ]
  },
  {
   "cell_type": "code",
   "execution_count": 4,
   "metadata": {},
   "outputs": [],
   "source": [
    "from h2o.automl import H2OAutoML"
   ]
  },
  {
   "cell_type": "code",
   "execution_count": 5,
   "metadata": {},
   "outputs": [
    {
     "name": "stdout",
     "output_type": "stream",
     "text": [
      "Parse progress: |█████████████████████████████████████████████████████████| 100%\n"
     ]
    }
   ],
   "source": [
    "train = h2o.import_file(\"https://s3.amazonaws.com/erin-data/higgs/higgs_train_10k.csv\")"
   ]
  },
  {
   "cell_type": "code",
   "execution_count": 6,
   "metadata": {},
   "outputs": [
    {
     "name": "stdout",
     "output_type": "stream",
     "text": [
      "Parse progress: |█████████████████████████████████████████████████████████| 100%\n"
     ]
    }
   ],
   "source": [
    "test = h2o.import_file(\"https://s3.amazonaws.com/erin-data/higgs/higgs_test_5k.csv\")"
   ]
  },
  {
   "cell_type": "code",
   "execution_count": 7,
   "metadata": {},
   "outputs": [],
   "source": [
    "y = \"response\"\n"
   ]
  },
  {
   "cell_type": "code",
   "execution_count": 8,
   "metadata": {},
   "outputs": [],
   "source": [
    "x = list(train.columns)"
   ]
  },
  {
   "cell_type": "code",
   "execution_count": 9,
   "metadata": {},
   "outputs": [],
   "source": [
    "x.remove(y)"
   ]
  },
  {
   "cell_type": "code",
   "execution_count": 12,
   "metadata": {},
   "outputs": [],
   "source": [
    "train[y] = train[y].asfactor()"
   ]
  },
  {
   "cell_type": "code",
   "execution_count": 13,
   "metadata": {},
   "outputs": [],
   "source": [
    "test[y] = test[y].asfactor()"
   ]
  },
  {
   "cell_type": "code",
   "execution_count": 14,
   "metadata": {},
   "outputs": [],
   "source": [
    "aml = H2OAutoML(max_runtime_secs = 20*60)"
   ]
  },
  {
   "cell_type": "code",
   "execution_count": 15,
   "metadata": {},
   "outputs": [
    {
     "name": "stdout",
     "output_type": "stream",
     "text": [
      "AutoML progress: |████████████████████████████████████████████████████████| 100%\n"
     ]
    }
   ],
   "source": [
    "aml.train(x = x, y = y, training_frame = train)"
   ]
  },
  {
   "cell_type": "code",
   "execution_count": 16,
   "metadata": {},
   "outputs": [
    {
     "data": {
      "text/html": [
       "<table>\n",
       "<thead>\n",
       "<tr><th>model_id                                           </th><th style=\"text-align: right;\">     auc</th><th style=\"text-align: right;\">  logloss</th><th style=\"text-align: right;\">   aucpr</th><th style=\"text-align: right;\">  mean_per_class_error</th><th style=\"text-align: right;\">    rmse</th><th style=\"text-align: right;\">     mse</th></tr>\n",
       "</thead>\n",
       "<tbody>\n",
       "<tr><td>StackedEnsemble_AllModels_AutoML_20210329_143125   </td><td style=\"text-align: right;\">0.790788</td><td style=\"text-align: right;\"> 0.548433</td><td style=\"text-align: right;\">0.809131</td><td style=\"text-align: right;\">              0.326466</td><td style=\"text-align: right;\">0.431224</td><td style=\"text-align: right;\">0.185954</td></tr>\n",
       "<tr><td>StackedEnsemble_BestOfFamily_AutoML_20210329_143125</td><td style=\"text-align: right;\">0.788427</td><td style=\"text-align: right;\"> 0.551109</td><td style=\"text-align: right;\">0.806282</td><td style=\"text-align: right;\">              0.322437</td><td style=\"text-align: right;\">0.43235 </td><td style=\"text-align: right;\">0.186927</td></tr>\n",
       "<tr><td>GBM_grid__1_AutoML_20210329_143125_model_6         </td><td style=\"text-align: right;\">0.782095</td><td style=\"text-align: right;\"> 0.557682</td><td style=\"text-align: right;\">0.801321</td><td style=\"text-align: right;\">              0.312487</td><td style=\"text-align: right;\">0.435377</td><td style=\"text-align: right;\">0.189553</td></tr>\n",
       "<tr><td>GBM_5_AutoML_20210329_143125                       </td><td style=\"text-align: right;\">0.780859</td><td style=\"text-align: right;\"> 0.558658</td><td style=\"text-align: right;\">0.800162</td><td style=\"text-align: right;\">              0.336266</td><td style=\"text-align: right;\">0.435944</td><td style=\"text-align: right;\">0.190047</td></tr>\n",
       "<tr><td>XGBoost_grid__1_AutoML_20210329_143125_model_1     </td><td style=\"text-align: right;\">0.780509</td><td style=\"text-align: right;\"> 0.56016 </td><td style=\"text-align: right;\">0.797698</td><td style=\"text-align: right;\">              0.329557</td><td style=\"text-align: right;\">0.436258</td><td style=\"text-align: right;\">0.190321</td></tr>\n",
       "<tr><td>GBM_2_AutoML_20210329_143125                       </td><td style=\"text-align: right;\">0.780259</td><td style=\"text-align: right;\"> 0.559456</td><td style=\"text-align: right;\">0.800136</td><td style=\"text-align: right;\">              0.340635</td><td style=\"text-align: right;\">0.436301</td><td style=\"text-align: right;\">0.190358</td></tr>\n",
       "<tr><td>XGBoost_grid__1_AutoML_20210329_143125_model_6     </td><td style=\"text-align: right;\">0.777628</td><td style=\"text-align: right;\"> 0.561752</td><td style=\"text-align: right;\">0.799089</td><td style=\"text-align: right;\">              0.321299</td><td style=\"text-align: right;\">0.437557</td><td style=\"text-align: right;\">0.191456</td></tr>\n",
       "<tr><td>GBM_grid__1_AutoML_20210329_143125_model_4         </td><td style=\"text-align: right;\">0.77716 </td><td style=\"text-align: right;\"> 0.563501</td><td style=\"text-align: right;\">0.794376</td><td style=\"text-align: right;\">              0.325682</td><td style=\"text-align: right;\">0.437864</td><td style=\"text-align: right;\">0.191725</td></tr>\n",
       "<tr><td>GBM_grid__1_AutoML_20210329_143125_model_3         </td><td style=\"text-align: right;\">0.775416</td><td style=\"text-align: right;\"> 0.567236</td><td style=\"text-align: right;\">0.794879</td><td style=\"text-align: right;\">              0.330369</td><td style=\"text-align: right;\">0.439309</td><td style=\"text-align: right;\">0.192992</td></tr>\n",
       "<tr><td>XGBoost_grid__1_AutoML_20210329_143125_model_4     </td><td style=\"text-align: right;\">0.774893</td><td style=\"text-align: right;\"> 0.568132</td><td style=\"text-align: right;\">0.792591</td><td style=\"text-align: right;\">              0.324891</td><td style=\"text-align: right;\">0.439919</td><td style=\"text-align: right;\">0.193528</td></tr>\n",
       "</tbody>\n",
       "</table>"
      ]
     },
     "metadata": {},
     "output_type": "display_data"
    },
    {
     "data": {
      "text/plain": []
     },
     "execution_count": 16,
     "metadata": {},
     "output_type": "execute_result"
    }
   ],
   "source": [
    "aml.leaderboard\n"
   ]
  },
  {
   "cell_type": "code",
   "execution_count": 17,
   "metadata": {},
   "outputs": [
    {
     "data": {
      "text/plain": [
       "0.7951306956895962"
      ]
     },
     "execution_count": 17,
     "metadata": {},
     "output_type": "execute_result"
    }
   ],
   "source": [
    "perf = aml.leader.model_performance(test)\n",
    "perf.auc()"
   ]
  },
  {
   "cell_type": "code",
   "execution_count": null,
   "metadata": {},
   "outputs": [],
   "source": []
  }
 ],
 "metadata": {
  "kernelspec": {
   "display_name": "Python 3",
   "language": "python",
   "name": "python3"
  },
  "language_info": {
   "codemirror_mode": {
    "name": "ipython",
    "version": 3
   },
   "file_extension": ".py",
   "mimetype": "text/x-python",
   "name": "python",
   "nbconvert_exporter": "python",
   "pygments_lexer": "ipython3",
   "version": "3.7.3"
  }
 },
 "nbformat": 4,
 "nbformat_minor": 4
}
